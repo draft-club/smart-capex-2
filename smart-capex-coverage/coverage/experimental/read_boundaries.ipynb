{
  "nbformat": 4,
  "nbformat_minor": 0,
  "metadata": {
    "colab": {
      "name": "read_boundaries.ipynb",
      "provenance": [],
      "collapsed_sections": []
    },
    "kernelspec": {
      "name": "python3",
      "display_name": "Python 3"
    },
    "language_info": {
      "name": "python"
    }
  },
  "cells": [
    {
      "cell_type": "code",
      "execution_count": 23,
      "metadata": {
        "id": "xiRuD9oQBA6F"
      },
      "outputs": [],
      "source": [
        "# Pour contourner le proxy lancez ce code dans google collab\n",
        "import os\n",
        "import pickle\n",
        "import requests\n",
        "import pandas as pd\n",
        "\n",
        "\n",
        "country = \"Côte d'Ivoire\"\n",
        "filename = \"Données_menages_V20190213.xlsx\"\n",
        "url_start = \"https://nominatim.openstreetmap.org/search.php?q=\"\n",
        "url_end = \"&polygon_geojson=1&format=json\"\n",
        "\n",
        "filename = \"Données_menages_V20190213.xlsx\"\n",
        "menage_df = pd.read_excel(filename,header=1) \n",
        "\n",
        "\n",
        "def get_json(url):\n",
        "  data = requests.get(url).json()\n",
        "  return data \n",
        "\n",
        "list_sps = list(menage_df[\"Sous_Prefecture\"].unique())\n",
        "\n",
        "dic = {}\n",
        "for sp in list_sps:\n",
        "    sp_link = sp + \"+\" + country \n",
        "    url = os.path.join(url_start,sp_link,url_end)\n",
        "    dic[sp] = get_json(url)\n",
        "    \n",
        "\n",
        "\n",
        "# save it then download it in order to use it localy\n",
        "a_file = open(\"cities_info.pkl\", \"wb\")\n",
        "pickle.dump(dic, a_file)\n",
        "a_file.close()"
      ]
    }
  ]
}