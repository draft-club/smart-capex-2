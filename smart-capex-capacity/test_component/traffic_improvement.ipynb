{
 "cells": [
  {
   "cell_type": "markdown",
   "id": "cc69ba58",
   "metadata": {},
   "source": [
    "### Setup"
   ]
  },
  {
   "cell_type": "markdown",
   "id": "258e6d43",
   "metadata": {},
   "source": [
    "inputs:"
   ]
  },
  {
   "cell_type": "code",
   "execution_count": 1,
   "id": "26999719-5bb5-42dd-bd33-3912f686d2a4",
   "metadata": {},
   "outputs": [
    {
     "data": {
      "text/plain": [
       "'osn-smartcapex-404-sbx'"
      ]
     },
     "execution_count": 1,
     "metadata": {},
     "output_type": "execute_result"
    }
   ],
   "source": [
    "project = !gcloud config get-value project\n",
    "PROJECT_ID = project[0]\n",
    "PROJECT_ID"
   ]
  },
  {
   "cell_type": "code",
   "execution_count": 2,
   "id": "edc18b22-9ca3-4a19-9f14-1e38d187b800",
   "metadata": {},
   "outputs": [],
   "source": [
    "REGION = 'europe-west1'\n",
    "DATANAME = 'demo_vertex'\n",
    "NOTEBOOK = 'traffic_improvement'\n",
    "\n",
    "BASE_IMAGE = 'python:3.7-slim-buster'\n",
    "TRAIN_COMPUTE = 'n1-standard-8' ## Choose wisly the compute_machine depending to the task (ex : 64 vCPUs, 240 GB RAM)"
   ]
  },
  {
   "cell_type": "markdown",
   "id": "71811a61",
   "metadata": {},
   "source": [
    "packages:"
   ]
  },
  {
   "cell_type": "code",
   "execution_count": 3,
   "id": "2f14edb3-ae9a-4ff3-8574-69b4c5e7f562",
   "metadata": {},
   "outputs": [],
   "source": [
    "from google.cloud import bigquery\n",
    "from google.cloud import aiplatform\n",
    "\n",
    "import matplotlib.pyplot as plt\n",
    "from datetime import datetime\n",
    "import json"
   ]
  },
  {
   "cell_type": "markdown",
   "id": "8ae24b0b",
   "metadata": {},
   "source": [
    "clients:"
   ]
  },
  {
   "cell_type": "code",
   "execution_count": 4,
   "id": "dbb5f22d-717d-492f-ab65-5b6a71a01628",
   "metadata": {},
   "outputs": [],
   "source": [
    "aiplatform.init(project=PROJECT_ID, location=REGION)\n",
    "bq = bigquery.Client()\n",
    "\n",
    "# helper function for queries\n",
    "def bq_runner(query):\n",
    "    return bq.query(query = query)\n"
   ]
  },
  {
   "cell_type": "markdown",
   "id": "000ae899",
   "metadata": {},
   "source": [
    "parameters:"
   ]
  },
  {
   "cell_type": "code",
   "execution_count": 5,
   "id": "6836436e-3544-4573-a8ab-ab93df2de1aa",
   "metadata": {},
   "outputs": [],
   "source": [
    "TIMESTAMP = datetime.now().strftime(\"%Y%m%d%H%M%S\")\n",
    "BUCKET = \"osn-smartcapex-data-uploaded-sbx\"\n",
    "URI = f\"gs://{BUCKET}/{DATANAME}/{NOTEBOOK}\"\n",
    "DIR = f\"temp/{NOTEBOOK}\""
   ]
  },
  {
   "cell_type": "code",
   "execution_count": 6,
   "id": "df91e404-1395-4cdd-b764-b56d39c0e34d",
   "metadata": {},
   "outputs": [
    {
     "data": {
      "text/plain": [
       "'989544951348-compute@developer.gserviceaccount.com'"
      ]
     },
     "execution_count": 6,
     "metadata": {},
     "output_type": "execute_result"
    }
   ],
   "source": [
    "SERVICE_ACCOUNT = !gcloud config list --format='value(core.account)' \n",
    "SERVICE_ACCOUNT = SERVICE_ACCOUNT[0]\n",
    "SERVICE_ACCOUNT"
   ]
  },
  {
   "cell_type": "markdown",
   "id": "849241a8",
   "metadata": {},
   "source": [
    "List the service accounts current roles:"
   ]
  },
  {
   "cell_type": "code",
   "execution_count": 7,
   "id": "48702623-7b44-4c19-87c8-b74943c76d5f",
   "metadata": {},
   "outputs": [
    {
     "name": "stdout",
     "output_type": "stream",
     "text": [
      "ROLE\n",
      "roles/aiplatform.admin\n",
      "roles/bigquery.admin\n",
      "roles/bigquery.jobUser\n",
      "roles/dataflow.admin\n",
      "roles/dataflow.worker\n",
      "roles/editor\n",
      "roles/iam.serviceAccountUser\n",
      "roles/ml.admin\n",
      "roles/run.admin\n",
      "roles/storage.admin\n",
      "roles/storage.objectAdmin\n",
      "roles/storage.objectViewer\n",
      "roles/workflows.admin\n"
     ]
    }
   ],
   "source": [
    "!gcloud projects get-iam-policy $PROJECT_ID --filter=\"bindings.members:$SERVICE_ACCOUNT\" --format='table(bindings.role)' --flatten=\"bindings[].members\""
   ]
  },
  {
   "cell_type": "markdown",
   "id": "98a71d2f",
   "metadata": {},
   "source": [
    "environment:"
   ]
  },
  {
   "cell_type": "code",
   "execution_count": 8,
   "id": "884f3b2f-b2be-4bd6-b598-5144c15c2ce1",
   "metadata": {},
   "outputs": [],
   "source": [
    "#!rm -rf {DIR}\n",
    "#!mkdir -p {DIR}"
   ]
  },
  {
   "cell_type": "markdown",
   "id": "09a81876-0a47-47d9-b1e7-8b03dd8b1d1a",
   "metadata": {},
   "source": [
    "### Training"
   ]
  },
  {
   "cell_type": "markdown",
   "id": "2d78e09d-6070-41a1-a277-1731647fd6fb",
   "metadata": {},
   "source": [
    "#### Assemble Python File for Training"
   ]
  },
  {
   "cell_type": "markdown",
   "id": "aed2ed3a-5cde-415e-8181-7c19b5ecd417",
   "metadata": {},
   "source": [
    "Create the main python trainer file as /train.py:"
   ]
  },
  {
   "cell_type": "code",
   "execution_count": 9,
   "id": "56239a7e-d364-49ce-9362-ed1778a5b8c5",
   "metadata": {},
   "outputs": [],
   "source": [
    "!mkdir -p {DIR}/src"
   ]
  },
  {
   "cell_type": "code",
   "execution_count": 20,
   "id": "d0937050-956a-4c47-9d1b-4a62012b5e76",
   "metadata": {},
   "outputs": [
    {
     "name": "stdout",
     "output_type": "stream",
     "text": [
      "Overwriting temp/traffic_improvement/src/main.py\n"
     ]
    }
   ],
   "source": [
    "%%writefile  {DIR}/src/main.py\n",
    "\n",
    "from google.cloud import bigquery\n",
    "import pandas as pd\n",
    "from multiprocessing import Pool, cpu_count\n",
    "from tqdm import tqdm\n",
    "import argparse\n",
    "from src.conf import conf, conf_loader\n",
    "from src.activation_model import get_affected_cells_with_interactions_between_upgrades\n",
    "from src.cluster_selection import get_cluster_of_affected_sites\n",
    "from src.traffic_improvement import get_all_traffic_improvement_features, compute_traffic_after, train_traffic_improvement_model\n",
    "from src.traffic_improvement_trend import compute_traffic_by_region, train_trend_model_with_linear_regression\n",
    "\n",
    "\n",
    "conf_loader('OSN')\n",
    "\n",
    "# import parameters\n",
    "parser = argparse.ArgumentParser()\n",
    "parser.add_argument('--PROJECT_ID', dest = 'PROJECT_ID', type = str)\n",
    "parser.add_argument('--DATANAME', dest = 'DATANAME', type = str)\n",
    "parser.add_argument('--NOTEBOOK', dest = 'NOTEBOOK', type = str)\n",
    "\n",
    "args = parser.parse_args()\n",
    "PROJECT_ID = args.PROJECT_ID\n",
    "DATANAME = args.DATANAME\n",
    "NOTEBOOK = args.NOTEBOOK\n",
    "\n",
    "#my_arg = args.my_arg\n",
    "print(PROJECT_ID, DATANAME, NOTEBOOK)\n",
    "\n",
    "# client for BQ\n",
    "bq = bigquery.Client(project = PROJECT_ID)\n",
    "\n",
    "df_traffic_weekly_kpis = bq.query(query = f\"SELECT * FROM `osn-smartcapex-404-sbx.preprocessing.oss_counter_weekly`\" ).to_dataframe()\n",
    "df_distance = bq.query(query = f\"SELECT * FROM `osn-smartcapex-404-sbx.intermediate.df_distance`\" ).to_dataframe()\n",
    "df_sites = bq.query(query = f\"SELECT * FROM `osn-smartcapex-404-sbx.preprocessing.df_sites`\" ).to_dataframe()\n",
    "\n",
    "\n",
    "\n",
    "# Script\n",
    "df_traffic_weekly_kpis = df_traffic_weekly_kpis.replace({'cell_band': {'F2_U2100': 'U2100', 'F3_U2100': 'U2100', 'F1_U900': 'U900',\n",
    "                                                                           'F1_U2100':'U2100','F4_U2100':'U2100','F2_U900':'U900'}})\n",
    "    \n",
    "df_cell_affected = get_affected_cells_with_interactions_between_upgrades(df_traffic_weekly_kpis)\n",
    "\n",
    "list_of_upgrades, sites_to_remove = get_cluster_of_affected_sites(df_cell_affected,\n",
    "                                                                    df_distance,\n",
    "                                                                    max_neighbors=\n",
    "                                                                    conf['TRAFFIC_IMPROVEMENT'][\n",
    "                                                                    'MAX_NUMBER_OF_NEIGHBORS'])\n",
    "\n",
    "df_data_traffic_features = get_all_traffic_improvement_features(df_traffic_weekly_kpis,\n",
    "                                                                       df_cell_affected,\n",
    "                                                                       list_of_upgrades,\n",
    "                                                                       sites_to_remove,\n",
    "                                                                       upgraded_to_not_consider=[])\n",
    "df_data_traffic_features = compute_traffic_after(df_data_traffic_features, df_traffic_weekly_kpis, 'total_data_traffic_dl_gb')\n",
    "df_voice_traffic_features = get_all_traffic_improvement_features(df_traffic_weekly_kpis,\n",
    "                                                                       df_cell_affected,\n",
    "                                                                       list_of_upgrades,\n",
    "                                                                       sites_to_remove,\n",
    "                                                                       type_of_traffic='voice',\n",
    "                                                                       kpi_to_compute_upgrade_effect=[\n",
    "                                                                           \"total_voice_traffic_kerlands\"],\n",
    "                                                                       upgraded_to_not_consider=[])\n",
    "df_voice_traffic_features = compute_traffic_after(df_voice_traffic_features, df_traffic_weekly_kpis,'total_voice_traffic_kerlands')\n",
    "                                                                    \n",
    "model_rf_data = train_traffic_improvement_model(df_data_traffic_features,\n",
    "                                type_of_traffic='data',\n",
    "                                remove_samples_with_target_variable_lower=True,\n",
    "                                bands_to_consider=['G900', 'G1800','L2600', 'L1800', 'L800', 'U2100', 'U900'])\n",
    "model_rf_voice = train_traffic_improvement_model(df_voice_traffic_features,\n",
    "                                type_of_traffic='voice',\n",
    "                                remove_samples_with_target_variable_lower=True,\n",
    "                                bands_to_consider=['G900', 'G1800','L2600', 'L1800', 'L800', 'U2100', 'U900'])\n",
    "\n",
    "df_traffic_by_region = compute_traffic_by_region(df_sites,\n",
    "                                                 df_traffic_weekly_kpis,\n",
    "                                                 kpi_to_compute_trend=[\n",
    "                                                 'total_data_traffic_dl_gb',\n",
    "                                                 'total_voice_traffic_kerlands'])\n",
    "\n",
    "train_trend_model_with_linear_regression(df_traffic_by_region,\n",
    "                                         variable_to_group_by=['site_region'],\n",
    "                                         kpi_to_compute_trend=['total_data_traffic_dl_gb'])\n",
    "train_trend_model_with_linear_regression(df_traffic_by_region,\n",
    "                                         variable_to_group_by=['site_region'],\n",
    "                                         kpi_to_compute_trend=['total_voice_traffic_kerlands'])\n",
    "\n",
    "\n",
    "\n",
    "# output data - to BQ\n",
    "df_cell_affected.to_gbq(f\"{PROJECT_ID}.{DATANAME}.df_cell_affected\", f'{PROJECT_ID}', if_exists = 'replace')\n",
    "list_of_upgrades.to_gbq(f\"{PROJECT_ID}.{DATANAME}.list_of_upgrades\", f'{PROJECT_ID}', if_exists = 'replace')\n",
    "print(sites_to_remove)\n",
    "df_data_traffic_features.to_gbq(f\"{PROJECT_ID}.{DATANAME}.df_data_traffic_features\", f'{PROJECT_ID}', if_exists = 'replace')\n",
    "df_voice_traffic_features.to_gbq(f\"{PROJECT_ID}.{DATANAME}.df_voice_traffic_features\", f'{PROJECT_ID}', if_exists = 'replace')\n",
    "df_traffic_by_region.to_gbq(f\"{PROJECT_ID}.{DATANAME}.df_traffic_by_region\", f'{PROJECT_ID}', if_exists = 'replace')\n",
    "\n"
   ]
  },
  {
   "cell_type": "markdown",
   "id": "bec983c8",
   "metadata": {},
   "source": [
    "### Create Custom Container"
   ]
  },
  {
   "cell_type": "markdown",
   "id": "5a8f2ee1",
   "metadata": {},
   "source": [
    "* https://cloud.google.com/vertex-ai/docs/training/create-custom-container\n",
    "* https://cloud.google.com/vertex-ai/docs/training/pre-built-containers\n",
    "* https://cloud.google.com/vertex-ai/docs/general/deep-learning\n",
    "* https://cloud.google.com/deep-learning-containers/docs/choosing-container"
   ]
  },
  {
   "cell_type": "markdown",
   "id": "9f85aea1",
   "metadata": {},
   "source": [
    "Choose a Base Image"
   ]
  },
  {
   "cell_type": "code",
   "execution_count": 21,
   "id": "54dea1a5-2840-4d54-a932-5da271617e82",
   "metadata": {},
   "outputs": [
    {
     "data": {
      "text/plain": [
       "'python:3.7-slim-buster'"
      ]
     },
     "execution_count": 21,
     "metadata": {},
     "output_type": "execute_result"
    }
   ],
   "source": [
    "BASE_IMAGE # Defined above in Setup"
   ]
  },
  {
   "cell_type": "markdown",
   "id": "f0976d65-d356-4915-b4eb-45da60c237c5",
   "metadata": {},
   "source": [
    "#### Create the Dockerfile"
   ]
  },
  {
   "cell_type": "markdown",
   "id": "0fbfd3cc-1a42-4e23-9b6d-f5075c3799e5",
   "metadata": {},
   "source": [
    "A basic dockerfile thats take the base image and copies the code in and define an entrypoint - what python script to run first in this case. Add RUN entries to pip install additional packages."
   ]
  },
  {
   "cell_type": "code",
   "execution_count": 22,
   "id": "c4006392",
   "metadata": {},
   "outputs": [],
   "source": [
    "requirements = f\"\"\"\n",
    "pandas\n",
    "pystan==2.19.1.1\n",
    "holidays==0.24\n",
    "prophet==1.1.1\n",
    "pandas-gbq\n",
    "google-cloud-bigquery\n",
    "pyarrow==0.13.0\n",
    "scipy\n",
    "tqdm\n",
    "haversine==2.3.0\n",
    "scikit-learn==0.24.1\n",
    "sqlalchemy==1.4.2\n",
    "\"\"\"\n",
    "with open(f'{DIR}/requirements.txt', 'w') as f:\n",
    "    f.write(requirements)"
   ]
  },
  {
   "cell_type": "code",
   "execution_count": 23,
   "id": "11b7941c-e9ed-4401-a1f5-3ecc0c4484e9",
   "metadata": {},
   "outputs": [],
   "source": [
    "dockerfile = f\"\"\"\n",
    "FROM {BASE_IMAGE}\n",
    "WORKDIR /\n",
    "## Install dependencies\n",
    "COPY requirements.txt .\n",
    "RUN pip install -r requirements.txt\n",
    "COPY src /src\n",
    "## Sets up the entry point to invoke the trainer\n",
    "ENTRYPOINT [\"python\", \"-m\", \"src.main\"]\n",
    "\"\"\"\n",
    "with open(f'{DIR}/Dockerfile', 'w') as f:\n",
    "    f.write(dockerfile)"
   ]
  },
  {
   "cell_type": "markdown",
   "id": "9ada6c48-f0c4-4f8f-9272-ac4846ed71f5",
   "metadata": {},
   "source": [
    "#### Setup Artifact Registry"
   ]
  },
  {
   "cell_type": "markdown",
   "id": "2e0beb5b",
   "metadata": {},
   "source": [
    "The container will need to be stored in Artifact Registry, Container Registry or Docker Hub in order to be used by Vertex AI Training jobs. This notebook will setup Artifact registry and push a local (to this notebook) built container to it.\n",
    "\n",
    "* https://cloud.google.com/artifact-registry/docs/docker/store-docker-container-images#gcloud"
   ]
  },
  {
   "cell_type": "markdown",
   "id": "52c82e8a",
   "metadata": {},
   "source": [
    "Enable Artifact Registry API:"
   ]
  },
  {
   "cell_type": "markdown",
   "id": "ed2e8ca4",
   "metadata": {},
   "source": [
    "Check to see if the api is enabled, if not then enable it:"
   ]
  },
  {
   "cell_type": "code",
   "execution_count": 24,
   "id": "f6d0a151-31d4-4fa0-b008-c084433ed00c",
   "metadata": {},
   "outputs": [
    {
     "name": "stdout",
     "output_type": "stream",
     "text": [
      "Artifact Registry is Enabled for This Project: osn-smartcapex-404-sbx\n"
     ]
    }
   ],
   "source": [
    "services = !gcloud services list --format=\"json\" --available --filter=name:artifactregistry.googleapis.com\n",
    "services = json.loads(\"\".join(services))\n",
    "\n",
    "if (services[0]['config']['name'] == 'artifactregistry.googleapis.com') & (services[0]['state'] == 'ENABLED'):\n",
    "    print(f\"Artifact Registry is Enabled for This Project: {PROJECT_ID}\")\n",
    "else:\n",
    "    print(f\"Enabeling Artifact Registry for this Project: {PROJECT_ID}\")\n",
    "    !gcloud services enable artifactregistry.googleapis.com"
   ]
  },
  {
   "cell_type": "markdown",
   "id": "9a738aa8",
   "metadata": {},
   "source": [
    "Create A Repository"
   ]
  },
  {
   "cell_type": "markdown",
   "id": "95e54531",
   "metadata": {},
   "source": [
    "Check to see if the registry is already created, if not then create it"
   ]
  },
  {
   "cell_type": "code",
   "execution_count": 25,
   "id": "9edf0f8c-5a32-404d-a736-8ca3528daf65",
   "metadata": {},
   "outputs": [
    {
     "name": "stdout",
     "output_type": "stream",
     "text": [
      "There is already a repository named osn-smartcapex-404-sbx\n"
     ]
    }
   ],
   "source": [
    "check_for_repo = !gcloud artifacts repositories describe {PROJECT_ID} --location={REGION}\n",
    "\n",
    "if check_for_repo[0].startswith('ERROR'):\n",
    "    print(f'Creating a repository named {PROJECT_ID}')\n",
    "    !gcloud  artifacts repositories create {PROJECT_ID} --repository-format=docker --location={REGION} --description=\"Vertex AI Training Custom Containers\"\n",
    "else:\n",
    "    print(f'There is already a repository named {PROJECT_ID}')"
   ]
  },
  {
   "cell_type": "markdown",
   "id": "1d039140",
   "metadata": {},
   "source": [
    "Configure Local Docker to Use GCLOUD CLI"
   ]
  },
  {
   "cell_type": "code",
   "execution_count": 26,
   "id": "bf549380-d6f0-4448-976a-6fd15aeb4795",
   "metadata": {},
   "outputs": [
    {
     "name": "stdout",
     "output_type": "stream",
     "text": [
      "\u001b[1;33mWARNING:\u001b[0m Your config file at [/home/jupyter/.docker/config.json] contains these credential helper entries:\n",
      "\n",
      "{\n",
      "  \"credHelpers\": {\n",
      "    \"gcr.io\": \"gcloud\",\n",
      "    \"us.gcr.io\": \"gcloud\",\n",
      "    \"eu.gcr.io\": \"gcloud\",\n",
      "    \"asia.gcr.io\": \"gcloud\",\n",
      "    \"staging-k8s.gcr.io\": \"gcloud\",\n",
      "    \"marketplace.gcr.io\": \"gcloud\",\n",
      "    \"europe-west1-docker.pkg.dev\": \"gcloud\"\n",
      "  }\n",
      "}\n",
      "Adding credentials for: europe-west1-docker.pkg.dev\n",
      "gcloud credential helpers already registered correctly.\n"
     ]
    }
   ],
   "source": [
    "!gcloud auth configure-docker {REGION}-docker.pkg.dev --quiet"
   ]
  },
  {
   "cell_type": "markdown",
   "id": "29ed6d7a-57e3-422b-ab94-9a65fe7e2721",
   "metadata": {},
   "source": [
    "Build The Custom Container (local to notebook)"
   ]
  },
  {
   "cell_type": "code",
   "execution_count": 27,
   "id": "7768fd28-87c9-456d-8144-3e751181a3ea",
   "metadata": {},
   "outputs": [
    {
     "data": {
      "text/plain": [
       "'europe-west1-docker.pkg.dev/osn-smartcapex-404-sbx/osn-smartcapex-404-sbx/traffic_improvement:latest'"
      ]
     },
     "execution_count": 27,
     "metadata": {},
     "output_type": "execute_result"
    }
   ],
   "source": [
    "IMAGE_URI=f\"{REGION}-docker.pkg.dev/{PROJECT_ID}/{PROJECT_ID}/{NOTEBOOK}:latest\"\n",
    "IMAGE_URI"
   ]
  },
  {
   "cell_type": "code",
   "execution_count": 28,
   "id": "7e3a9998-7b78-4687-b851-cc5fbc6d4920",
   "metadata": {},
   "outputs": [
    {
     "name": "stdout",
     "output_type": "stream",
     "text": [
      "Sending build context to Docker daemon  285.2kB\n",
      "Step 1/6 : FROM python:3.7-slim-buster\n",
      " ---> 099f4583c701\n",
      "Step 2/6 : WORKDIR /\n",
      " ---> Using cache\n",
      " ---> 62707eba35c7\n",
      "Step 3/6 : COPY requirements.txt .\n",
      " ---> Using cache\n",
      " ---> 2ce4f97f4d99\n",
      "Step 4/6 : RUN pip install -r requirements.txt\n",
      " ---> Using cache\n",
      " ---> 42986c257c72\n",
      "Step 5/6 : COPY src /src\n",
      " ---> 4a311cdbaafa\n",
      "Step 6/6 : ENTRYPOINT [\"python\", \"-m\", \"src.main\"]\n",
      " ---> Running in 9dcadce342d6\n",
      "Removing intermediate container 9dcadce342d6\n",
      " ---> 198a6cea813f\n",
      "Successfully built 198a6cea813f\n",
      "Successfully tagged europe-west1-docker.pkg.dev/osn-smartcapex-404-sbx/osn-smartcapex-404-sbx/traffic_improvement:latest\n"
     ]
    }
   ],
   "source": [
    "!docker build {DIR}/. -t $IMAGE_URI"
   ]
  },
  {
   "cell_type": "markdown",
   "id": "b0275f54",
   "metadata": {},
   "source": [
    "Test The Custom Container (local to notebook)"
   ]
  },
  {
   "cell_type": "code",
   "execution_count": 29,
   "id": "83d391e6-88c3-46af-9f0c-07879a299558",
   "metadata": {
    "tags": []
   },
   "outputs": [
    {
     "name": "stdout",
     "output_type": "stream",
     "text": [
      "osn-smartcapex-404-sbx demo_vertex traffic_improvement\n",
      "1764\n",
      "1764\n",
      "8\n",
      "44\n",
      "              site_id  bands_upgraded\n",
      "0    AUTOROUTE_THICKY               1\n",
      "1  KEUR_THIEME_SAWARE               1\n",
      "2         NDIASSANE02               1\n",
      "3     NDIEYENE_SIRAKH               1\n",
      "4       THS05_SNT_E10               1\n",
      "Empty DataFrame\n",
      "Columns: [cell_id, cell_name, site_id, cell_band, cell_tech, cell_sector, year, week, week_period, total_data_traffic_dl_gb, total_voice_traffic_kerlands, total_data_traffic_ul_gb, average_throughput_user_dl_kbps, average_throughput_user_ul_kbps, average_number_of_users_dl, average_number_of_users_ul, cell_occupation_dl_percentage, cell_occupation_ul_percentage, average_number_of_users_in_queue, tch_congestion, trx_900, trx_1800, U21_nbr_porteuse, U09_nbr_porteuse, total_nbr_porteuse, date, starting_week_site, starting_week_cell, is_upgrade]\n",
      "Index: []\n",
      "Index(['cell_id', 'cell_name', 'site_id', 'cell_band', 'cell_tech',\n",
      "       'cell_sector', 'year', 'week', 'week_period',\n",
      "       'total_data_traffic_dl_gb', 'total_voice_traffic_kerlands',\n",
      "       'total_data_traffic_ul_gb', 'average_throughput_user_dl_kbps',\n",
      "       'average_throughput_user_ul_kbps', 'average_number_of_users_dl',\n",
      "       'average_number_of_users_ul', 'cell_occupation_dl_percentage',\n",
      "       'cell_occupation_ul_percentage', 'average_number_of_users_in_queue',\n",
      "       'tch_congestion', 'trx_900', 'trx_1800', 'U21_nbr_porteuse',\n",
      "       'U09_nbr_porteuse', 'total_nbr_porteuse', 'date', 'starting_week_site',\n",
      "       'starting_week_cell', 'is_upgrade', 'week_of_the_upgrade',\n",
      "       'bands_upgraded', 'is_affected', 'tech_upgraded'],\n",
      "      dtype='object')\n",
      "   cell_id              cell_name  ... is_affected tech_upgraded\n",
      "0     16.0  BVUPSPVUF_UIJDLZ_T_F2  ...           1      2G-4G-3G\n",
      "1     17.0  BVUPSPVUF_UIJDLZ_T_F5  ...           1      2G-4G-3G\n",
      "2     16.0  BVUPSPVUF_UIJDLZ_T_F2  ...           1      2G-4G-3G\n",
      "3     17.0  BVUPSPVUF_UIJDLZ_T_F5  ...           1      2G-4G-3G\n",
      "4     16.0  BVUPSPVUF_UIJDLZ_T_F2  ...           1      2G-4G-3G\n",
      "\n",
      "[5 rows x 33 columns]\n",
      "Index(['cell_id', 'cell_name', 'site_id', 'cell_band', 'cell_tech',\n",
      "       'cell_sector', 'year', 'week', 'week_period',\n",
      "       'total_data_traffic_dl_gb', 'total_voice_traffic_kerlands',\n",
      "       'total_data_traffic_ul_gb', 'average_throughput_user_dl_kbps',\n",
      "       'average_throughput_user_ul_kbps', 'average_number_of_users_dl',\n",
      "       'average_number_of_users_ul', 'cell_occupation_dl_percentage',\n",
      "       'cell_occupation_ul_percentage', 'average_number_of_users_in_queue',\n",
      "       'tch_congestion', 'trx_900', 'trx_1800', 'U21_nbr_porteuse',\n",
      "       'U09_nbr_porteuse', 'total_nbr_porteuse', 'date', 'starting_week_site',\n",
      "       'starting_week_cell', 'is_upgrade', 'week_of_the_upgrade',\n",
      "       'bands_upgraded', 'is_affected', 'tech_upgraded'],\n",
      "      dtype='object')\n",
      "   cell_id              cell_name  ... is_affected tech_upgraded\n",
      "0     16.0  BVUPSPVUF_UIJDLZ_T_F2  ...           1      2G-4G-3G\n",
      "1     17.0  BVUPSPVUF_UIJDLZ_T_F5  ...           1      2G-4G-3G\n",
      "2     16.0  BVUPSPVUF_UIJDLZ_T_F2  ...           1      2G-4G-3G\n",
      "3     17.0  BVUPSPVUF_UIJDLZ_T_F5  ...           1      2G-4G-3G\n",
      "4     16.0  BVUPSPVUF_UIJDLZ_T_F2  ...           1      2G-4G-3G\n",
      "\n",
      "[5 rows x 33 columns]\n",
      "band_to_repalce\n",
      "Removed 0.15384615384615385 samples\n",
      "#########################\n",
      "cols dispo :\n",
      "Index(['3G_site', 'target_variable_old', 'site_id',\n",
      "       'total_data_traffic_dl_gb_median', 'total_data_traffic_dl_gb_mean',\n",
      "       'number_of_sites_on_the_cluster', 'total_data_traffic_dl_gb_min',\n",
      "       '4G_site', 'total_data_traffic_dl_gb_std',\n",
      "       'cell_occupation_dl_percentage4G', 'week_period', '2G_site',\n",
      "       'cluster_key', 'total_data_traffic_dl_gb_max', 'target_variable',\n",
      "       'tech_upgraded_2G', 'tech_upgraded_3G', 'tech_upgraded_4G',\n",
      "       'bands_upgraded_G1800', 'bands_upgraded_G900', 'bands_upgraded_L1800',\n",
      "       'bands_upgraded_L2600', 'bands_upgraded_L800', 'bands_upgraded_U2100',\n",
      "       'bands_upgraded_U900'],\n",
      "      dtype='object')\n",
      "cols for Random Forest : \n",
      "['number_of_sites_on_the_cluster', '4G_site', 'total_data_traffic_dl_gb_mean', 'total_data_traffic_dl_gb_std', 'cell_occupation_dl_percentage4G', 'tech_upgraded_3G', 'tech_upgraded_4G', 'bands_upgraded_L800', 'bands_upgraded_L1800', 'bands_upgraded_L2600', 'bands_upgraded_U900', 'bands_upgraded_U2100']\n",
      "(9, 13) (2, 13) (9,) (2,)\n",
      "                            VarName  Importance\n",
      "0    number_of_sites_on_the_cluster    0.000000\n",
      "1                           4G_site    0.209820\n",
      "2     total_data_traffic_dl_gb_mean    0.256914\n",
      "3      total_data_traffic_dl_gb_std    0.244350\n",
      "4   cell_occupation_dl_percentage4G    0.064056\n",
      "5                  tech_upgraded_3G    0.022098\n",
      "6                  tech_upgraded_4G    0.092126\n",
      "7               bands_upgraded_L800    0.000000\n",
      "8              bands_upgraded_L1800    0.000000\n",
      "9              bands_upgraded_L2600    0.110635\n",
      "10              bands_upgraded_U900    0.000000\n",
      "11             bands_upgraded_U2100    0.000000\n",
      "12  cell_occupation_dl_percentage3G    0.000000\n",
      "predictions_train:  [1801.46508714 1255.3024141  1847.51909328 5717.29555877 1255.3024141\n",
      " 3403.69542082 1230.23199364 5862.59509081 1230.23199364]\n",
      "y_train:  [ 1803.75584329  1167.59487246  1194.12334965  5268.60240643\n",
      "  1444.78007859   985.19214948  1026.09295725 12037.4443597\n",
      "  1027.74327475]\n",
      "predictions_test:  [1999.83237895 1999.83237895]\n",
      "y_test:  [1922.90637793 2008.48508965]\n",
      "Mean Absolute error train: 1153.51\n",
      "Mean Absolute error test: 42.79\n",
      "Accuracy: 97.78 %.\n",
      "train R² :  0.5896665253516893\n",
      "test R² :  -0.6364586279859417\n",
      "band_to_repalce\n",
      "Removed 0.3076923076923077 samples\n",
      "#########################\n",
      "cols dispo :\n",
      "Index(['3G_site', 'target_variable_old', 'site_id',\n",
      "       'total_voice_traffic_kerlands_max', 'total_voice_traffic_kerlands_std',\n",
      "       'total_voice_traffic_kerlands_mean', 'number_of_sites_on_the_cluster',\n",
      "       'total_voice_traffic_kerlands_min', '4G_site',\n",
      "       'cell_occupation_dl_percentage4G', 'week_period', '2G_site',\n",
      "       'cluster_key', 'total_voice_traffic_kerlands_median', 'target_variable',\n",
      "       'tech_upgraded_2G', 'tech_upgraded_3G', 'tech_upgraded_4G',\n",
      "       'bands_upgraded_G1800', 'bands_upgraded_G900', 'bands_upgraded_L1800',\n",
      "       'bands_upgraded_L2600', 'bands_upgraded_L800', 'bands_upgraded_U2100',\n",
      "       'bands_upgraded_U900'],\n",
      "      dtype='object')\n",
      "cols for Random Forest : \n",
      "['number_of_sites_on_the_cluster', '2G_site', '3G_site', '4G_site', 'total_voice_traffic_kerlands_mean', 'total_voice_traffic_kerlands_std', 'tech_upgraded_2G', 'tech_upgraded_3G', 'bands_upgraded_G900', 'bands_upgraded_G1800', 'bands_upgraded_L800', 'bands_upgraded_L1800', 'bands_upgraded_L2600', 'bands_upgraded_U900', 'bands_upgraded_U2100']\n",
      "(8, 17) (1, 17) (8,) (1,)\n",
      "                              VarName  Importance\n",
      "0      number_of_sites_on_the_cluster    0.000000\n",
      "1                             2G_site    0.116804\n",
      "2                             3G_site    0.103077\n",
      "3                             4G_site    0.106928\n",
      "4   total_voice_traffic_kerlands_mean    0.303345\n",
      "5    total_voice_traffic_kerlands_std    0.268538\n",
      "6                    tech_upgraded_2G    0.045321\n",
      "7                    tech_upgraded_3G    0.000000\n",
      "8                 bands_upgraded_G900    0.000000\n",
      "9                bands_upgraded_G1800    0.000000\n",
      "10                bands_upgraded_L800    0.000000\n",
      "11               bands_upgraded_L1800    0.000000\n",
      "12               bands_upgraded_L2600    0.055986\n",
      "13                bands_upgraded_U900    0.000000\n",
      "14               bands_upgraded_U2100    0.000000\n",
      "15    cell_occupation_dl_percentage2G    0.000000\n",
      "16    cell_occupation_dl_percentage3G    0.000000\n",
      "predictions_train:  [1.8653238  3.12550456 0.69663451 0.43572148 4.52272998 0.54976112\n",
      " 4.63574327 0.43572148]\n",
      "y_train:  [0.75951833 2.9979573  0.         0.30198137 4.65669064 0.13279863\n",
      " 7.63157368 0.29454329]\n",
      "predictions_test:  [0.54976112]\n",
      "y_test:  [0.70861664]\n",
      "Mean Absolute error train: 0.72\n",
      "Mean Absolute error test: 0.16\n",
      "Accuracy: 77.58 %.\n",
      "train R² :  0.7995067715900931\n",
      "test R² :  nan\n",
      "Thies  | coef :  [[6034.10064598]]  | intercept :  [1045859.69546066]  | R² :  0.19888437025976669\n",
      "GLOBAL  | coef :  [[6034.10064598]]  | intercept :  [1045859.69546066]  | R² :  0.19888437025976669\n",
      "Thies  | coef :  [[5.83528353]]  | intercept :  [1057.72925774]  | R² :  0.11507484967990067\n",
      "GLOBAL  | coef :  [[5.83528353]]  | intercept :  [1057.72925774]  | R² :  0.11507484967990067\n",
      "/usr/local/lib/python3.7/site-packages/pandas/core/frame.py:5182: SettingWithCopyWarning: \n",
      "A value is trying to be set on a copy of a slice from a DataFrame\n",
      "\n",
      "See the caveats in the documentation: https://pandas.pydata.org/pandas-docs/stable/user_guide/indexing.html#returning-a-view-versus-a-copy\n",
      "  downcast=downcast,\n",
      "/usr/local/lib/python3.7/site-packages/pandas/core/frame.py:5182: SettingWithCopyWarning: \n",
      "A value is trying to be set on a copy of a slice from a DataFrame\n",
      "\n",
      "See the caveats in the documentation: https://pandas.pydata.org/pandas-docs/stable/user_guide/indexing.html#returning-a-view-versus-a-copy\n",
      "  downcast=downcast,\n",
      "/usr/local/lib/python3.7/site-packages/sklearn/metrics/_regression.py:682: UndefinedMetricWarning: R^2 score is not well-defined with less than two samples.\n",
      "  warnings.warn(msg, UndefinedMetricWarning)\n",
      "1it [00:07,  7.45s/it]\n",
      "1it [00:04,  4.79s/it]\n",
      "0it [00:00, ?it/s][]\n",
      "1it [00:09,  9.32s/it]\n",
      "1it [00:04,  4.04s/it]\n",
      "1it [00:04,  4.33s/it]\n"
     ]
    }
   ],
   "source": [
    "!docker run {IMAGE_URI} --PROJECT_ID {PROJECT_ID} --DATANAME {DATANAME} --NOTEBOOK {NOTEBOOK} # add all your argument"
   ]
  },
  {
   "cell_type": "markdown",
   "id": "01c46ea8",
   "metadata": {},
   "source": [
    "Push The Custom Container To Artifact Registry"
   ]
  },
  {
   "cell_type": "code",
   "execution_count": 19,
   "id": "fdd759bd-8828-4a6c-a537-c079a9e7af75",
   "metadata": {},
   "outputs": [
    {
     "name": "stdout",
     "output_type": "stream",
     "text": [
      "The push refers to repository [europe-west1-docker.pkg.dev/osn-smartcapex-404-sbx/osn-smartcapex-404-sbx/traffic_improvement]\n",
      "\n",
      "\u001b[1Bf7edfc46: Preparing \n",
      "\u001b[1B3b7d092a: Preparing \n",
      "\u001b[1B5d625801: Preparing \n",
      "\u001b[1B8d012914: Preparing \n",
      "\u001b[1Bd30bdfa9: Preparing \n",
      "\u001b[1B9f968310: Preparing \n",
      "\u001b[1B55769c5e: Preparing \n",
      "\u001b[8Bf7edfc46: Pushed lready exists 2kB\u001b[8A\u001b[2K\u001b[7A\u001b[2K\u001b[2A\u001b[2K\u001b[1A\u001b[2K\u001b[8A\u001b[2Klatest: digest: sha256:2deaeebeaac3b6a5d947997bc423d2c17eaf333ed2a9eaa4391029be2fcc87d3 size: 1999\n"
     ]
    }
   ],
   "source": [
    "!docker push $IMAGE_URI"
   ]
  },
  {
   "cell_type": "markdown",
   "id": "4df9d75f",
   "metadata": {},
   "source": [
    "#### Setup Training Job"
   ]
  },
  {
   "cell_type": "code",
   "execution_count": 20,
   "id": "a6271800-8ece-4b73-9cb1-9b6b058aa78e",
   "metadata": {},
   "outputs": [],
   "source": [
    "CMDARGS = [\n",
    "    \"--PROJECT_ID=\" + PROJECT_ID,\n",
    "    \"--DATANAME=\" + DATANAME,\n",
    "    \"--NOTEBOOK=\" + NOTEBOOK\n",
    "] # add your arg here\n",
    "\n",
    "MACHINE_SPEC = {\n",
    "    \"machine_type\": TRAIN_COMPUTE,\n",
    "    \"accelerator_count\": 0\n",
    "}\n",
    "\n",
    "WORKER_POOL_SPEC = [\n",
    "    {\n",
    "        \"replica_count\": 1,\n",
    "        \"machine_spec\": MACHINE_SPEC,\n",
    "        \"container_spec\": {\n",
    "            \"image_uri\": IMAGE_URI,\n",
    "            \"command\": [],\n",
    "            \"args\": CMDARGS\n",
    "        }\n",
    "    }\n",
    "]"
   ]
  },
  {
   "cell_type": "code",
   "execution_count": 21,
   "id": "620b5c4d",
   "metadata": {},
   "outputs": [],
   "source": [
    "customJob = aiplatform.CustomJob(\n",
    "    location= 'europe-west1',\n",
    "    display_name = f'{NOTEBOOK}_{DATANAME}',\n",
    "    worker_pool_specs = WORKER_POOL_SPEC,\n",
    "    base_output_dir = f\"{URI}/{TIMESTAMP}\",\n",
    "    staging_bucket = f\"{URI}/{TIMESTAMP}\",\n",
    "    labels = {'notebook':f'{NOTEBOOK}'}\n",
    ")"
   ]
  },
  {
   "cell_type": "markdown",
   "id": "baa4a8ac",
   "metadata": {},
   "source": [
    "#### Run Training Job"
   ]
  },
  {
   "cell_type": "code",
   "execution_count": 22,
   "id": "686b0e8a-ed23-487b-8c3f-32e94b9e553e",
   "metadata": {},
   "outputs": [
    {
     "name": "stdout",
     "output_type": "stream",
     "text": [
      "Creating CustomJob\n",
      "CustomJob created. Resource name: projects/989544951348/locations/europe-west1/customJobs/4021832389863931904\n",
      "To use this CustomJob in another session:\n",
      "custom_job = aiplatform.CustomJob.get('projects/989544951348/locations/europe-west1/customJobs/4021832389863931904')\n",
      "View Custom Job:\n",
      "https://console.cloud.google.com/ai/platform/locations/europe-west1/training/4021832389863931904?project=989544951348\n",
      "CustomJob projects/989544951348/locations/europe-west1/customJobs/4021832389863931904 current state:\n",
      "JobState.JOB_STATE_PENDING\n",
      "CustomJob projects/989544951348/locations/europe-west1/customJobs/4021832389863931904 current state:\n",
      "JobState.JOB_STATE_PENDING\n",
      "CustomJob projects/989544951348/locations/europe-west1/customJobs/4021832389863931904 current state:\n",
      "JobState.JOB_STATE_PENDING\n",
      "CustomJob projects/989544951348/locations/europe-west1/customJobs/4021832389863931904 current state:\n",
      "JobState.JOB_STATE_PENDING\n",
      "CustomJob projects/989544951348/locations/europe-west1/customJobs/4021832389863931904 current state:\n",
      "JobState.JOB_STATE_PENDING\n",
      "CustomJob projects/989544951348/locations/europe-west1/customJobs/4021832389863931904 current state:\n",
      "JobState.JOB_STATE_PENDING\n",
      "CustomJob projects/989544951348/locations/europe-west1/customJobs/4021832389863931904 current state:\n",
      "JobState.JOB_STATE_PENDING\n",
      "CustomJob projects/989544951348/locations/europe-west1/customJobs/4021832389863931904 current state:\n",
      "JobState.JOB_STATE_PENDING\n",
      "CustomJob projects/989544951348/locations/europe-west1/customJobs/4021832389863931904 current state:\n",
      "JobState.JOB_STATE_PENDING\n",
      "CustomJob projects/989544951348/locations/europe-west1/customJobs/4021832389863931904 current state:\n",
      "JobState.JOB_STATE_PENDING\n",
      "CustomJob projects/989544951348/locations/europe-west1/customJobs/4021832389863931904 current state:\n",
      "JobState.JOB_STATE_PENDING\n",
      "CustomJob projects/989544951348/locations/europe-west1/customJobs/4021832389863931904 current state:\n",
      "JobState.JOB_STATE_PENDING\n",
      "CustomJob projects/989544951348/locations/europe-west1/customJobs/4021832389863931904 current state:\n",
      "JobState.JOB_STATE_PENDING\n",
      "CustomJob projects/989544951348/locations/europe-west1/customJobs/4021832389863931904 current state:\n",
      "JobState.JOB_STATE_PENDING\n",
      "CustomJob projects/989544951348/locations/europe-west1/customJobs/4021832389863931904 current state:\n",
      "JobState.JOB_STATE_RUNNING\n",
      "CustomJob projects/989544951348/locations/europe-west1/customJobs/4021832389863931904 current state:\n",
      "JobState.JOB_STATE_RUNNING\n",
      "CustomJob projects/989544951348/locations/europe-west1/customJobs/4021832389863931904 current state:\n",
      "JobState.JOB_STATE_RUNNING\n",
      "CustomJob projects/989544951348/locations/europe-west1/customJobs/4021832389863931904 current state:\n",
      "JobState.JOB_STATE_RUNNING\n",
      "CustomJob projects/989544951348/locations/europe-west1/customJobs/4021832389863931904 current state:\n",
      "JobState.JOB_STATE_RUNNING\n",
      "CustomJob projects/989544951348/locations/europe-west1/customJobs/4021832389863931904 current state:\n",
      "JobState.JOB_STATE_RUNNING\n",
      "CustomJob projects/989544951348/locations/europe-west1/customJobs/4021832389863931904 current state:\n",
      "JobState.JOB_STATE_RUNNING\n",
      "CustomJob projects/989544951348/locations/europe-west1/customJobs/4021832389863931904 current state:\n",
      "JobState.JOB_STATE_RUNNING\n",
      "CustomJob projects/989544951348/locations/europe-west1/customJobs/4021832389863931904 current state:\n",
      "JobState.JOB_STATE_RUNNING\n",
      "CustomJob projects/989544951348/locations/europe-west1/customJobs/4021832389863931904 current state:\n",
      "JobState.JOB_STATE_RUNNING\n",
      "CustomJob projects/989544951348/locations/europe-west1/customJobs/4021832389863931904 current state:\n",
      "JobState.JOB_STATE_RUNNING\n",
      "CustomJob projects/989544951348/locations/europe-west1/customJobs/4021832389863931904 current state:\n",
      "JobState.JOB_STATE_RUNNING\n",
      "CustomJob projects/989544951348/locations/europe-west1/customJobs/4021832389863931904 current state:\n",
      "JobState.JOB_STATE_RUNNING\n",
      "CustomJob projects/989544951348/locations/europe-west1/customJobs/4021832389863931904 current state:\n",
      "JobState.JOB_STATE_RUNNING\n",
      "CustomJob projects/989544951348/locations/europe-west1/customJobs/4021832389863931904 current state:\n",
      "JobState.JOB_STATE_RUNNING\n",
      "CustomJob projects/989544951348/locations/europe-west1/customJobs/4021832389863931904 current state:\n",
      "JobState.JOB_STATE_RUNNING\n",
      "CustomJob projects/989544951348/locations/europe-west1/customJobs/4021832389863931904 current state:\n",
      "JobState.JOB_STATE_RUNNING\n",
      "CustomJob projects/989544951348/locations/europe-west1/customJobs/4021832389863931904 current state:\n",
      "JobState.JOB_STATE_RUNNING\n",
      "CustomJob projects/989544951348/locations/europe-west1/customJobs/4021832389863931904 current state:\n",
      "JobState.JOB_STATE_RUNNING\n",
      "CustomJob projects/989544951348/locations/europe-west1/customJobs/4021832389863931904 current state:\n",
      "JobState.JOB_STATE_RUNNING\n",
      "CustomJob projects/989544951348/locations/europe-west1/customJobs/4021832389863931904 current state:\n",
      "JobState.JOB_STATE_RUNNING\n",
      "CustomJob projects/989544951348/locations/europe-west1/customJobs/4021832389863931904 current state:\n",
      "JobState.JOB_STATE_RUNNING\n",
      "CustomJob projects/989544951348/locations/europe-west1/customJobs/4021832389863931904 current state:\n",
      "JobState.JOB_STATE_RUNNING\n",
      "CustomJob projects/989544951348/locations/europe-west1/customJobs/4021832389863931904 current state:\n",
      "JobState.JOB_STATE_RUNNING\n",
      "CustomJob projects/989544951348/locations/europe-west1/customJobs/4021832389863931904 current state:\n",
      "JobState.JOB_STATE_RUNNING\n",
      "CustomJob projects/989544951348/locations/europe-west1/customJobs/4021832389863931904 current state:\n",
      "JobState.JOB_STATE_RUNNING\n",
      "CustomJob projects/989544951348/locations/europe-west1/customJobs/4021832389863931904 current state:\n",
      "JobState.JOB_STATE_RUNNING\n",
      "CustomJob projects/989544951348/locations/europe-west1/customJobs/4021832389863931904 current state:\n",
      "JobState.JOB_STATE_RUNNING\n",
      "CustomJob projects/989544951348/locations/europe-west1/customJobs/4021832389863931904 current state:\n",
      "JobState.JOB_STATE_RUNNING\n",
      "CustomJob projects/989544951348/locations/europe-west1/customJobs/4021832389863931904 current state:\n",
      "JobState.JOB_STATE_RUNNING\n",
      "CustomJob projects/989544951348/locations/europe-west1/customJobs/4021832389863931904 current state:\n",
      "JobState.JOB_STATE_RUNNING\n",
      "CustomJob projects/989544951348/locations/europe-west1/customJobs/4021832389863931904 current state:\n",
      "JobState.JOB_STATE_RUNNING\n",
      "CustomJob projects/989544951348/locations/europe-west1/customJobs/4021832389863931904 current state:\n",
      "JobState.JOB_STATE_RUNNING\n",
      "CustomJob projects/989544951348/locations/europe-west1/customJobs/4021832389863931904 current state:\n",
      "JobState.JOB_STATE_RUNNING\n",
      "CustomJob projects/989544951348/locations/europe-west1/customJobs/4021832389863931904 current state:\n",
      "JobState.JOB_STATE_RUNNING\n",
      "CustomJob projects/989544951348/locations/europe-west1/customJobs/4021832389863931904 current state:\n",
      "JobState.JOB_STATE_RUNNING\n",
      "CustomJob projects/989544951348/locations/europe-west1/customJobs/4021832389863931904 current state:\n",
      "JobState.JOB_STATE_RUNNING\n",
      "CustomJob projects/989544951348/locations/europe-west1/customJobs/4021832389863931904 current state:\n",
      "JobState.JOB_STATE_RUNNING\n",
      "CustomJob projects/989544951348/locations/europe-west1/customJobs/4021832389863931904 current state:\n",
      "JobState.JOB_STATE_RUNNING\n",
      "CustomJob projects/989544951348/locations/europe-west1/customJobs/4021832389863931904 current state:\n",
      "JobState.JOB_STATE_RUNNING\n",
      "CustomJob projects/989544951348/locations/europe-west1/customJobs/4021832389863931904 current state:\n",
      "JobState.JOB_STATE_RUNNING\n",
      "CustomJob projects/989544951348/locations/europe-west1/customJobs/4021832389863931904 current state:\n",
      "JobState.JOB_STATE_SUCCEEDED\n",
      "CustomJob run completed. Resource name: projects/989544951348/locations/europe-west1/customJobs/4021832389863931904\n"
     ]
    }
   ],
   "source": [
    "customJob.run(\n",
    "    service_account = SERVICE_ACCOUNT,\n",
    "    sync = False\n",
    ")"
   ]
  },
  {
   "cell_type": "code",
   "execution_count": null,
   "id": "901e32bf",
   "metadata": {},
   "outputs": [],
   "source": [
    "customJob.display_name"
   ]
  },
  {
   "cell_type": "markdown",
   "id": "445913cb",
   "metadata": {},
   "source": []
  }
 ],
 "metadata": {
  "environment": {
   "kernel": "python3",
   "name": "common-cpu.m109",
   "type": "gcloud",
   "uri": "gcr.io/deeplearning-platform-release/base-cpu:m109"
  },
  "kernelspec": {
   "display_name": "Python 3",
   "language": "python",
   "name": "python3"
  },
  "language_info": {
   "codemirror_mode": {
    "name": "ipython",
    "version": 3
   },
   "file_extension": ".py",
   "mimetype": "text/x-python",
   "name": "python",
   "nbconvert_exporter": "python",
   "pygments_lexer": "ipython3",
   "version": "3.7.12"
  },
  "vscode": {
   "interpreter": {
    "hash": "b8fee352ef7dcb16d5072e9aac0e7151863ed30fbf8cf0abf792e1c8e6c3c218"
   }
  }
 },
 "nbformat": 4,
 "nbformat_minor": 5
}
