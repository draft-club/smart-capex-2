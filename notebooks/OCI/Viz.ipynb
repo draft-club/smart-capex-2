{
 "cells": [
  {
   "cell_type": "code",
   "execution_count": 1,
   "id": "946663ac",
   "metadata": {},
   "outputs": [],
   "source": [
    "import pandas as pd"
   ]
  },
  {
   "cell_type": "code",
   "execution_count": 5,
   "id": "7247c32e",
   "metadata": {},
   "outputs": [],
   "source": [
    "anomalies = pd.read_csv('anomalies.csv').rename(columns={\"Unnamed: 0\":\"column\"})"
   ]
  },
  {
   "cell_type": "code",
   "execution_count": 13,
   "id": "ea24a2d7",
   "metadata": {},
   "outputs": [
    {
     "data": {
      "text/html": [
       "<div>\n",
       "<style scoped>\n",
       "    .dataframe tbody tr th:only-of-type {\n",
       "        vertical-align: middle;\n",
       "    }\n",
       "\n",
       "    .dataframe tbody tr th {\n",
       "        vertical-align: top;\n",
       "    }\n",
       "\n",
       "    .dataframe thead th {\n",
       "        text-align: right;\n",
       "    }\n",
       "</style>\n",
       "<table border=\"1\" class=\"dataframe\">\n",
       "  <thead>\n",
       "    <tr style=\"text-align: right;\">\n",
       "      <th></th>\n",
       "      <th>column</th>\n",
       "      <th>Anomaly short description</th>\n",
       "      <th>Anomaly long description</th>\n",
       "    </tr>\n",
       "  </thead>\n",
       "  <tbody>\n",
       "    <tr>\n",
       "      <th>5</th>\n",
       "      <td>total_data_traffic_dl_gb</td>\n",
       "      <td>Outlier anomaly</td>\n",
       "      <td>value 0.654 for cell OCI2298_KOUDOUGOU_PK8_G18...</td>\n",
       "    </tr>\n",
       "    <tr>\n",
       "      <th>6</th>\n",
       "      <td>total_data_traffic_dl_gb</td>\n",
       "      <td>Outlier anomaly</td>\n",
       "      <td>value 0.3379999999999999 for cell OCI2298_KOUD...</td>\n",
       "    </tr>\n",
       "    <tr>\n",
       "      <th>7</th>\n",
       "      <td>total_data_traffic_dl_gb</td>\n",
       "      <td>Outlier anomaly</td>\n",
       "      <td>value 19.487621 for cell OCI3193_MOVENPICK_MIC...</td>\n",
       "    </tr>\n",
       "    <tr>\n",
       "      <th>11</th>\n",
       "      <td>lost_traffic_kerlands</td>\n",
       "      <td>Outlier anomaly</td>\n",
       "      <td>value 0.0 for cell OCI0036_AFFERY_G9-2 is cons...</td>\n",
       "    </tr>\n",
       "    <tr>\n",
       "      <th>12</th>\n",
       "      <td>lost_traffic_kerlands</td>\n",
       "      <td>Outlier anomaly</td>\n",
       "      <td>value 0.0 for cell OCI0066_AKRESSI_G9-1 is con...</td>\n",
       "    </tr>\n",
       "    <tr>\n",
       "      <th>...</th>\n",
       "      <td>...</td>\n",
       "      <td>...</td>\n",
       "      <td>...</td>\n",
       "    </tr>\n",
       "    <tr>\n",
       "      <th>488</th>\n",
       "      <td>traffic_loss_rate</td>\n",
       "      <td>Outlier anomaly</td>\n",
       "      <td>value 0.0204081632690318 for cell OCI3174_EPP_...</td>\n",
       "    </tr>\n",
       "    <tr>\n",
       "      <th>489</th>\n",
       "      <td>traffic_loss_rate</td>\n",
       "      <td>Outlier anomaly</td>\n",
       "      <td>value 0.0416666666701542 for cell OCI3202_DALO...</td>\n",
       "    </tr>\n",
       "    <tr>\n",
       "      <th>490</th>\n",
       "      <td>traffic_loss_rate</td>\n",
       "      <td>Outlier anomaly</td>\n",
       "      <td>value 0.428571428468216 for cell OCI3218_SELME...</td>\n",
       "    </tr>\n",
       "    <tr>\n",
       "      <th>491</th>\n",
       "      <td>traffic_loss_rate</td>\n",
       "      <td>Outlier anomaly</td>\n",
       "      <td>value 0.4285714286695687 for cell OCI3218_SELM...</td>\n",
       "    </tr>\n",
       "    <tr>\n",
       "      <th>492</th>\n",
       "      <td>traffic_loss_rate</td>\n",
       "      <td>Outlier anomaly</td>\n",
       "      <td>value 0.0989010988982893 for cell OCI3257_CTCI...</td>\n",
       "    </tr>\n",
       "  </tbody>\n",
       "</table>\n",
       "<p>484 rows × 3 columns</p>\n",
       "</div>"
      ],
      "text/plain": [
       "                       column Anomaly short description  \\\n",
       "5    total_data_traffic_dl_gb           Outlier anomaly   \n",
       "6    total_data_traffic_dl_gb           Outlier anomaly   \n",
       "7    total_data_traffic_dl_gb           Outlier anomaly   \n",
       "11      lost_traffic_kerlands           Outlier anomaly   \n",
       "12      lost_traffic_kerlands           Outlier anomaly   \n",
       "..                        ...                       ...   \n",
       "488         traffic_loss_rate           Outlier anomaly   \n",
       "489         traffic_loss_rate           Outlier anomaly   \n",
       "490         traffic_loss_rate           Outlier anomaly   \n",
       "491         traffic_loss_rate           Outlier anomaly   \n",
       "492         traffic_loss_rate           Outlier anomaly   \n",
       "\n",
       "                              Anomaly long description  \n",
       "5    value 0.654 for cell OCI2298_KOUDOUGOU_PK8_G18...  \n",
       "6    value 0.3379999999999999 for cell OCI2298_KOUD...  \n",
       "7    value 19.487621 for cell OCI3193_MOVENPICK_MIC...  \n",
       "11   value 0.0 for cell OCI0036_AFFERY_G9-2 is cons...  \n",
       "12   value 0.0 for cell OCI0066_AKRESSI_G9-1 is con...  \n",
       "..                                                 ...  \n",
       "488  value 0.0204081632690318 for cell OCI3174_EPP_...  \n",
       "489  value 0.0416666666701542 for cell OCI3202_DALO...  \n",
       "490  value 0.428571428468216 for cell OCI3218_SELME...  \n",
       "491  value 0.4285714286695687 for cell OCI3218_SELM...  \n",
       "492  value 0.0989010988982893 for cell OCI3257_CTCI...  \n",
       "\n",
       "[484 rows x 3 columns]"
      ]
     },
     "execution_count": 13,
     "metadata": {},
     "output_type": "execute_result"
    }
   ],
   "source": [
    "outliers_anomalies = anomalies[anomalies['Anomaly short description'] == 'Outlier anomaly']\n",
    "outliers_anomalies"
   ]
  },
  {
   "cell_type": "code",
   "execution_count": 17,
   "id": "8f6c9d63",
   "metadata": {},
   "outputs": [
    {
     "data": {
      "text/plain": [
       "<AxesSubplot:xlabel='column'>"
      ]
     },
     "execution_count": 17,
     "metadata": {},
     "output_type": "execute_result"
    },
    {
     "data": {
      "image/png": "[encoded data removed]",
      "text/plain": [
       "<Figure size 432x288 with 1 Axes>"
      ]
     },
     "metadata": {
      "needs_background": "light"
     },
     "output_type": "display_data"
    }
   ],
   "source": [
    "outliers_anomalies.groupby('column').size().plot(kind='bar')"
   ]
  },
  {
   "cell_type": "code",
   "execution_count": 15,
   "id": "8a9692e5",
   "metadata": {},
   "outputs": [
    {
     "data": {
      "text/html": [
       "<div>\n",
       "<style scoped>\n",
       "    .dataframe tbody tr th:only-of-type {\n",
       "        vertical-align: middle;\n",
       "    }\n",
       "\n",
       "    .dataframe tbody tr th {\n",
       "        vertical-align: top;\n",
       "    }\n",
       "\n",
       "    .dataframe thead th {\n",
       "        text-align: right;\n",
       "    }\n",
       "</style>\n",
       "<table border=\"1\" class=\"dataframe\">\n",
       "  <thead>\n",
       "    <tr style=\"text-align: right;\">\n",
       "      <th></th>\n",
       "      <th>column</th>\n",
       "      <th>Anomaly short description</th>\n",
       "      <th>Anomaly long description</th>\n",
       "    </tr>\n",
       "  </thead>\n",
       "  <tbody>\n",
       "    <tr>\n",
       "      <th>0</th>\n",
       "      <td>Unnamed: 0</td>\n",
       "      <td>New column</td>\n",
       "      <td>New column (column in data but not in schema)</td>\n",
       "    </tr>\n",
       "    <tr>\n",
       "      <th>1</th>\n",
       "      <td>index</td>\n",
       "      <td>Distinctness anomaly</td>\n",
       "      <td>Actual distinctness value: 0.9934751733157088 ...</td>\n",
       "    </tr>\n",
       "    <tr>\n",
       "      <th>2</th>\n",
       "      <td>cell_name</td>\n",
       "      <td>Distinctness anomaly</td>\n",
       "      <td>Actual distinctness value: 0.6421188812172177 ...</td>\n",
       "    </tr>\n",
       "    <tr>\n",
       "      <th>3</th>\n",
       "      <td>cell_name</td>\n",
       "      <td>Pattern anomaly</td>\n",
       "      <td>At least one value: OCI0168_BARADJI_G18-1_dism...</td>\n",
       "    </tr>\n",
       "    <tr>\n",
       "      <th>4</th>\n",
       "      <td>site_id</td>\n",
       "      <td>Distinctness anomaly</td>\n",
       "      <td>Actual distinctness value: 0.03843179165553415...</td>\n",
       "    </tr>\n",
       "    <tr>\n",
       "      <th>8</th>\n",
       "      <td>average_number_of_users_ul</td>\n",
       "      <td>Distinctness anomaly</td>\n",
       "      <td>Actual distinctness value: 0.00068904419726351...</td>\n",
       "    </tr>\n",
       "    <tr>\n",
       "      <th>9</th>\n",
       "      <td>cell_occupation_ul_percentage</td>\n",
       "      <td>Distinctness anomaly</td>\n",
       "      <td>Actual distinctness value: 0.03501469492216613...</td>\n",
       "    </tr>\n",
       "    <tr>\n",
       "      <th>10</th>\n",
       "      <td>lost_traffic_kerlands</td>\n",
       "      <td>Distinctness anomaly</td>\n",
       "      <td>Actual distinctness value: 0.02466496983673871...</td>\n",
       "    </tr>\n",
       "    <tr>\n",
       "      <th>260</th>\n",
       "      <td>traffic_loss_rate</td>\n",
       "      <td>Distinctness anomaly</td>\n",
       "      <td>Actual distinctness value: 0.03938801625581820...</td>\n",
       "    </tr>\n",
       "    <tr>\n",
       "      <th>493</th>\n",
       "      <td>average_number_of_users_in_queue</td>\n",
       "      <td>Distinctness anomaly</td>\n",
       "      <td>Actual distinctness value: 0.01392150521001786...</td>\n",
       "    </tr>\n",
       "    <tr>\n",
       "      <th>494</th>\n",
       "      <td>cell_occupation_ul_percentage</td>\n",
       "      <td>Presence anomaly</td>\n",
       "      <td>The column is not completely missing for non-4...</td>\n",
       "    </tr>\n",
       "    <tr>\n",
       "      <th>495</th>\n",
       "      <td>site_id</td>\n",
       "      <td>Cell per site anomaly</td>\n",
       "      <td>there is 103 cell for the site: OCI0732 which ...</td>\n",
       "    </tr>\n",
       "  </tbody>\n",
       "</table>\n",
       "</div>"
      ],
      "text/plain": [
       "                               column Anomaly short description  \\\n",
       "0                          Unnamed: 0                New column   \n",
       "1                               index      Distinctness anomaly   \n",
       "2                           cell_name      Distinctness anomaly   \n",
       "3                           cell_name           Pattern anomaly   \n",
       "4                             site_id      Distinctness anomaly   \n",
       "8          average_number_of_users_ul      Distinctness anomaly   \n",
       "9       cell_occupation_ul_percentage      Distinctness anomaly   \n",
       "10              lost_traffic_kerlands      Distinctness anomaly   \n",
       "260                 traffic_loss_rate      Distinctness anomaly   \n",
       "493  average_number_of_users_in_queue      Distinctness anomaly   \n",
       "494     cell_occupation_ul_percentage          Presence anomaly   \n",
       "495                           site_id     Cell per site anomaly   \n",
       "\n",
       "                              Anomaly long description  \n",
       "0        New column (column in data but not in schema)  \n",
       "1    Actual distinctness value: 0.9934751733157088 ...  \n",
       "2    Actual distinctness value: 0.6421188812172177 ...  \n",
       "3    At least one value: OCI0168_BARADJI_G18-1_dism...  \n",
       "4    Actual distinctness value: 0.03843179165553415...  \n",
       "8    Actual distinctness value: 0.00068904419726351...  \n",
       "9    Actual distinctness value: 0.03501469492216613...  \n",
       "10   Actual distinctness value: 0.02466496983673871...  \n",
       "260  Actual distinctness value: 0.03938801625581820...  \n",
       "493  Actual distinctness value: 0.01392150521001786...  \n",
       "494  The column is not completely missing for non-4...  \n",
       "495  there is 103 cell for the site: OCI0732 which ...  "
      ]
     },
     "execution_count": 15,
     "metadata": {},
     "output_type": "execute_result"
    }
   ],
   "source": [
    "other_anomalies = anomalies[anomalies['Anomaly short description'] != 'Outlier anomaly']\n",
    "other_anomalies"
   ]
  },
  {
   "cell_type": "code",
   "execution_count": 18,
   "id": "96cb8f33",
   "metadata": {},
   "outputs": [
    {
     "data": {
      "text/plain": [
       "<AxesSubplot:xlabel='column'>"
      ]
     },
     "execution_count": 18,
     "metadata": {},
     "output_type": "execute_result"
    },
    {
     "data": {
      "image/png": "[encoded data removed]",
      "text/plain": [
       "<Figure size 432x288 with 1 Axes>"
      ]
     },
     "metadata": {
      "needs_background": "light"
     },
     "output_type": "display_data"
    }
   ],
   "source": [
    "other_anomalies.groupby('column').size().plot(kind='bar')"
   ]
  },
  {
   "cell_type": "code",
   "execution_count": 22,
   "id": "5f47696f",
   "metadata": {},
   "outputs": [
    {
     "data": {
      "text/plain": [
       "<AxesSubplot:ylabel='None'>"
      ]
     },
     "execution_count": 22,
     "metadata": {},
     "output_type": "execute_result"
    },
    {
     "data": {
      "image/png": "[encoded data removed]",
      "text/plain": [
       "<Figure size 432x288 with 1 Axes>"
      ]
     },
     "metadata": {},
     "output_type": "display_data"
    }
   ],
   "source": [
    "other_anomalies.groupby('Anomaly short description').size().plot(kind='pie')"
   ]
  }
 ],
 "metadata": {
  "kernelspec": {
   "display_name": "Python 3 (ipykernel)",
   "language": "python",
   "name": "python3"
  },
  "language_info": {
   "codemirror_mode": {
    "name": "ipython",
    "version": 3
   },
   "file_extension": ".py",
   "mimetype": "text/x-python",
   "name": "python",
   "nbconvert_exporter": "python",
   "pygments_lexer": "ipython3",
   "version": "3.7.12"
  }
 },
 "nbformat": 4,
 "nbformat_minor": 5
}
