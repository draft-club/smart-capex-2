{
 "cells": [
  {
   "cell_type": "code",
   "execution_count": 1,
   "id": "587bb326",
   "metadata": {},
   "outputs": [
    {
     "name": "stderr",
     "output_type": "stream",
     "text": [
      "2022-03-08 10:25:28.235446: W tensorflow/stream_executor/platform/default/dso_loader.cc:64] Could not load dynamic library 'libcudart.so.11.0'; dlerror: libcudart.so.11.0: cannot open shared object file: No such file or directory\n",
      "2022-03-08 10:25:28.235537: I tensorflow/stream_executor/cuda/cudart_stub.cc:29] Ignore above cudart dlerror if you do not have a GPU set up on your machine.\n"
     ]
    }
   ],
   "source": [
    "import pandas as pd\n",
    "import sys\n",
    "sys.path.insert(1, '..')\n",
    "import os \n",
    "os.chdir('../..')\n",
    "import src.validation as validation\n",
    "pd.set_option('display.max_columns',None)"
   ]
  },
  {
   "cell_type": "code",
   "execution_count": 8,
   "id": "1ab51fb6",
   "metadata": {},
   "outputs": [],
   "source": [
    "data = pd.read_csv('/mnt/NFS_SQUAD_HISTO/OCI_DATA/02_intermediate/preprocessed_oss_counter_all_v3_new.csv',\n",
    "                    delimiter = '|')"
   ]
  },
  {
   "cell_type": "code",
   "execution_count": 9,
   "id": "d5e3c8a2",
   "metadata": {},
   "outputs": [
    {
     "data": {
      "text/plain": [
       "76"
      ]
     },
     "execution_count": 9,
     "metadata": {},
     "output_type": "execute_result"
    }
   ],
   "source": [
    "dates = data.date.unique()\n",
    "dates.sort()\n",
    "dfs = []\n",
    "for date in dates :\n",
    "    dfs += [data.groupby('date').get_group(date)]\n",
    "len(dfs)"
   ]
  },
  {
   "cell_type": "code",
   "execution_count": 11,
   "id": "662c07fe",
   "metadata": {},
   "outputs": [
    {
     "data": {
      "text/html": [
       "<div>\n",
       "<style scoped>\n",
       "    .dataframe tbody tr th:only-of-type {\n",
       "        vertical-align: middle;\n",
       "    }\n",
       "\n",
       "    .dataframe tbody tr th {\n",
       "        vertical-align: top;\n",
       "    }\n",
       "\n",
       "    .dataframe thead th {\n",
       "        text-align: right;\n",
       "    }\n",
       "</style>\n",
       "<table border=\"1\" class=\"dataframe\">\n",
       "  <thead>\n",
       "    <tr style=\"text-align: right;\">\n",
       "      <th></th>\n",
       "      <th>Unnamed: 0</th>\n",
       "      <th>index</th>\n",
       "      <th>cell_name</th>\n",
       "      <th>date</th>\n",
       "      <th>cell_band</th>\n",
       "      <th>cell_tech</th>\n",
       "      <th>cell_sector</th>\n",
       "      <th>year</th>\n",
       "      <th>week</th>\n",
       "      <th>week_period</th>\n",
       "      <th>site_id</th>\n",
       "      <th>total_data_traffic_dl_gb</th>\n",
       "      <th>total_voice_traffic_kerlands</th>\n",
       "      <th>average_throughput_user_dl_kbps</th>\n",
       "      <th>average_throughput_user_ul_kbps</th>\n",
       "      <th>cell_occupation_dl_percentage</th>\n",
       "      <th>average_number_of_users_dl</th>\n",
       "      <th>average_number_of_users_ul</th>\n",
       "      <th>cell_occupation_ul_percentage</th>\n",
       "      <th>total_data_traffic_ul_gb</th>\n",
       "      <th>lost_traffic_kerlands</th>\n",
       "      <th>traffic_loss_rate</th>\n",
       "      <th>average_number_of_users_in_queue</th>\n",
       "    </tr>\n",
       "  </thead>\n",
       "  <tbody>\n",
       "    <tr>\n",
       "      <th>3103236</th>\n",
       "      <td>3103236</td>\n",
       "      <td>1957679</td>\n",
       "      <td>OCI2694_GREEN_VALLEY_U9-1</td>\n",
       "      <td>2020-03-09</td>\n",
       "      <td>U9</td>\n",
       "      <td>3G</td>\n",
       "      <td>1</td>\n",
       "      <td>2020</td>\n",
       "      <td>11</td>\n",
       "      <td>202011</td>\n",
       "      <td>OCI2694</td>\n",
       "      <td>0.490000</td>\n",
       "      <td>5.52</td>\n",
       "      <td>2847.87</td>\n",
       "      <td>179.00</td>\n",
       "      <td>44.42</td>\n",
       "      <td>NaN</td>\n",
       "      <td>NaN</td>\n",
       "      <td>NaN</td>\n",
       "      <td>0.000000</td>\n",
       "      <td>0.0</td>\n",
       "      <td>0.0</td>\n",
       "      <td>1.00</td>\n",
       "    </tr>\n",
       "    <tr>\n",
       "      <th>2437553</th>\n",
       "      <td>2437553</td>\n",
       "      <td>1280713</td>\n",
       "      <td>OCI1659_RANCH_SIPILOU_G9-1</td>\n",
       "      <td>2020-03-09</td>\n",
       "      <td>G9</td>\n",
       "      <td>2G</td>\n",
       "      <td>1</td>\n",
       "      <td>2020</td>\n",
       "      <td>11</td>\n",
       "      <td>202011</td>\n",
       "      <td>OCI1659</td>\n",
       "      <td>1.747000</td>\n",
       "      <td>1555.03</td>\n",
       "      <td>23.10</td>\n",
       "      <td>17.01</td>\n",
       "      <td>25.62</td>\n",
       "      <td>NaN</td>\n",
       "      <td>NaN</td>\n",
       "      <td>NaN</td>\n",
       "      <td>0.000000</td>\n",
       "      <td>0.0</td>\n",
       "      <td>0.0</td>\n",
       "      <td>NaN</td>\n",
       "    </tr>\n",
       "    <tr>\n",
       "      <th>2792828</th>\n",
       "      <td>2792828</td>\n",
       "      <td>1641991</td>\n",
       "      <td>OCI2144_CIERA_U21-21</td>\n",
       "      <td>2020-03-09</td>\n",
       "      <td>U21</td>\n",
       "      <td>3G</td>\n",
       "      <td>2</td>\n",
       "      <td>2020</td>\n",
       "      <td>11</td>\n",
       "      <td>202011</td>\n",
       "      <td>OCI2144</td>\n",
       "      <td>33.070000</td>\n",
       "      <td>185.16</td>\n",
       "      <td>3299.99</td>\n",
       "      <td>334.00</td>\n",
       "      <td>91.23</td>\n",
       "      <td>NaN</td>\n",
       "      <td>NaN</td>\n",
       "      <td>NaN</td>\n",
       "      <td>0.000000</td>\n",
       "      <td>0.0</td>\n",
       "      <td>0.0</td>\n",
       "      <td>1.00</td>\n",
       "    </tr>\n",
       "    <tr>\n",
       "      <th>2412289</th>\n",
       "      <td>2412289</td>\n",
       "      <td>1255071</td>\n",
       "      <td>OCI1614_WILLI_COMPLEXE_L26-3</td>\n",
       "      <td>2020-03-09</td>\n",
       "      <td>L26</td>\n",
       "      <td>4G</td>\n",
       "      <td>3</td>\n",
       "      <td>2020</td>\n",
       "      <td>11</td>\n",
       "      <td>202011</td>\n",
       "      <td>OCI1614</td>\n",
       "      <td>930.323075</td>\n",
       "      <td>0.00</td>\n",
       "      <td>10024.75</td>\n",
       "      <td>1260.44</td>\n",
       "      <td>50.38</td>\n",
       "      <td>60.49</td>\n",
       "      <td>NaN</td>\n",
       "      <td>20.06</td>\n",
       "      <td>89.881633</td>\n",
       "      <td>0.0</td>\n",
       "      <td>NaN</td>\n",
       "      <td>3.32</td>\n",
       "    </tr>\n",
       "    <tr>\n",
       "      <th>2189592</th>\n",
       "      <td>2189592</td>\n",
       "      <td>1028683</td>\n",
       "      <td>OCI1277_MICRO_IBIS_PLATEAU_U21-12</td>\n",
       "      <td>2020-03-09</td>\n",
       "      <td>U21</td>\n",
       "      <td>3G</td>\n",
       "      <td>1</td>\n",
       "      <td>2020</td>\n",
       "      <td>11</td>\n",
       "      <td>202011</td>\n",
       "      <td>OCI1277</td>\n",
       "      <td>6.780000</td>\n",
       "      <td>38.53</td>\n",
       "      <td>2624.51</td>\n",
       "      <td>223.00</td>\n",
       "      <td>68.42</td>\n",
       "      <td>NaN</td>\n",
       "      <td>NaN</td>\n",
       "      <td>NaN</td>\n",
       "      <td>0.000000</td>\n",
       "      <td>0.0</td>\n",
       "      <td>0.0</td>\n",
       "      <td>1.00</td>\n",
       "    </tr>\n",
       "    <tr>\n",
       "      <th>...</th>\n",
       "      <td>...</td>\n",
       "      <td>...</td>\n",
       "      <td>...</td>\n",
       "      <td>...</td>\n",
       "      <td>...</td>\n",
       "      <td>...</td>\n",
       "      <td>...</td>\n",
       "      <td>...</td>\n",
       "      <td>...</td>\n",
       "      <td>...</td>\n",
       "      <td>...</td>\n",
       "      <td>...</td>\n",
       "      <td>...</td>\n",
       "      <td>...</td>\n",
       "      <td>...</td>\n",
       "      <td>...</td>\n",
       "      <td>...</td>\n",
       "      <td>...</td>\n",
       "      <td>...</td>\n",
       "      <td>...</td>\n",
       "      <td>...</td>\n",
       "      <td>...</td>\n",
       "      <td>...</td>\n",
       "    </tr>\n",
       "    <tr>\n",
       "      <th>1883031</th>\n",
       "      <td>1883031</td>\n",
       "      <td>716894</td>\n",
       "      <td>OCI0882_PETROCI_G18-1</td>\n",
       "      <td>2020-03-09</td>\n",
       "      <td>G18</td>\n",
       "      <td>2G</td>\n",
       "      <td>1</td>\n",
       "      <td>2020</td>\n",
       "      <td>11</td>\n",
       "      <td>202011</td>\n",
       "      <td>OCI0882</td>\n",
       "      <td>2.211000</td>\n",
       "      <td>525.96</td>\n",
       "      <td>47.40</td>\n",
       "      <td>24.15</td>\n",
       "      <td>12.93</td>\n",
       "      <td>NaN</td>\n",
       "      <td>NaN</td>\n",
       "      <td>NaN</td>\n",
       "      <td>0.000000</td>\n",
       "      <td>0.0</td>\n",
       "      <td>0.0</td>\n",
       "      <td>NaN</td>\n",
       "    </tr>\n",
       "    <tr>\n",
       "      <th>2712964</th>\n",
       "      <td>2712964</td>\n",
       "      <td>1560778</td>\n",
       "      <td>OCI2034_MADRIZE_L23-3</td>\n",
       "      <td>2020-03-09</td>\n",
       "      <td>L23</td>\n",
       "      <td>4G</td>\n",
       "      <td>3</td>\n",
       "      <td>2020</td>\n",
       "      <td>11</td>\n",
       "      <td>202011</td>\n",
       "      <td>OCI2034</td>\n",
       "      <td>495.499643</td>\n",
       "      <td>0.00</td>\n",
       "      <td>11861.96</td>\n",
       "      <td>2638.45</td>\n",
       "      <td>35.33</td>\n",
       "      <td>10.85</td>\n",
       "      <td>NaN</td>\n",
       "      <td>35.65</td>\n",
       "      <td>55.970621</td>\n",
       "      <td>0.0</td>\n",
       "      <td>NaN</td>\n",
       "      <td>0.41</td>\n",
       "    </tr>\n",
       "    <tr>\n",
       "      <th>2906373</th>\n",
       "      <td>2906373</td>\n",
       "      <td>1757334</td>\n",
       "      <td>OCI2257_KORHOGO_KASSIRIME_G9-1</td>\n",
       "      <td>2020-03-09</td>\n",
       "      <td>G9</td>\n",
       "      <td>2G</td>\n",
       "      <td>1</td>\n",
       "      <td>2020</td>\n",
       "      <td>11</td>\n",
       "      <td>202011</td>\n",
       "      <td>OCI2257</td>\n",
       "      <td>0.107000</td>\n",
       "      <td>99.36</td>\n",
       "      <td>39.07</td>\n",
       "      <td>20.04</td>\n",
       "      <td>3.69</td>\n",
       "      <td>NaN</td>\n",
       "      <td>NaN</td>\n",
       "      <td>NaN</td>\n",
       "      <td>0.000000</td>\n",
       "      <td>0.0</td>\n",
       "      <td>0.0</td>\n",
       "      <td>NaN</td>\n",
       "    </tr>\n",
       "    <tr>\n",
       "      <th>2450594</th>\n",
       "      <td>2450594</td>\n",
       "      <td>1293934</td>\n",
       "      <td>OCI1681_GUINKIN_U21-31</td>\n",
       "      <td>2020-03-09</td>\n",
       "      <td>U21</td>\n",
       "      <td>3G</td>\n",
       "      <td>3</td>\n",
       "      <td>2020</td>\n",
       "      <td>11</td>\n",
       "      <td>202011</td>\n",
       "      <td>OCI1681</td>\n",
       "      <td>5.620000</td>\n",
       "      <td>19.12</td>\n",
       "      <td>3168.34</td>\n",
       "      <td>73.00</td>\n",
       "      <td>77.37</td>\n",
       "      <td>NaN</td>\n",
       "      <td>NaN</td>\n",
       "      <td>NaN</td>\n",
       "      <td>0.000000</td>\n",
       "      <td>0.0</td>\n",
       "      <td>0.0</td>\n",
       "      <td>1.00</td>\n",
       "    </tr>\n",
       "    <tr>\n",
       "      <th>2575699</th>\n",
       "      <td>2575699</td>\n",
       "      <td>1421079</td>\n",
       "      <td>OCI1854_BKE_SOURCE_U21-11</td>\n",
       "      <td>2020-03-09</td>\n",
       "      <td>U21</td>\n",
       "      <td>3G</td>\n",
       "      <td>1</td>\n",
       "      <td>2020</td>\n",
       "      <td>11</td>\n",
       "      <td>202011</td>\n",
       "      <td>OCI1854</td>\n",
       "      <td>65.130000</td>\n",
       "      <td>682.50</td>\n",
       "      <td>2095.86</td>\n",
       "      <td>284.00</td>\n",
       "      <td>88.83</td>\n",
       "      <td>NaN</td>\n",
       "      <td>NaN</td>\n",
       "      <td>NaN</td>\n",
       "      <td>0.000000</td>\n",
       "      <td>0.0</td>\n",
       "      <td>0.0</td>\n",
       "      <td>1.00</td>\n",
       "    </tr>\n",
       "  </tbody>\n",
       "</table>\n",
       "<p>1000 rows × 23 columns</p>\n",
       "</div>"
      ],
      "text/plain": [
       "         Unnamed: 0    index                          cell_name        date  \\\n",
       "3103236     3103236  1957679          OCI2694_GREEN_VALLEY_U9-1  2020-03-09   \n",
       "2437553     2437553  1280713         OCI1659_RANCH_SIPILOU_G9-1  2020-03-09   \n",
       "2792828     2792828  1641991               OCI2144_CIERA_U21-21  2020-03-09   \n",
       "2412289     2412289  1255071       OCI1614_WILLI_COMPLEXE_L26-3  2020-03-09   \n",
       "2189592     2189592  1028683  OCI1277_MICRO_IBIS_PLATEAU_U21-12  2020-03-09   \n",
       "...             ...      ...                                ...         ...   \n",
       "1883031     1883031   716894              OCI0882_PETROCI_G18-1  2020-03-09   \n",
       "2712964     2712964  1560778              OCI2034_MADRIZE_L23-3  2020-03-09   \n",
       "2906373     2906373  1757334     OCI2257_KORHOGO_KASSIRIME_G9-1  2020-03-09   \n",
       "2450594     2450594  1293934             OCI1681_GUINKIN_U21-31  2020-03-09   \n",
       "2575699     2575699  1421079          OCI1854_BKE_SOURCE_U21-11  2020-03-09   \n",
       "\n",
       "        cell_band cell_tech  cell_sector  year  week  week_period  site_id  \\\n",
       "3103236        U9        3G            1  2020    11       202011  OCI2694   \n",
       "2437553        G9        2G            1  2020    11       202011  OCI1659   \n",
       "2792828       U21        3G            2  2020    11       202011  OCI2144   \n",
       "2412289       L26        4G            3  2020    11       202011  OCI1614   \n",
       "2189592       U21        3G            1  2020    11       202011  OCI1277   \n",
       "...           ...       ...          ...   ...   ...          ...      ...   \n",
       "1883031       G18        2G            1  2020    11       202011  OCI0882   \n",
       "2712964       L23        4G            3  2020    11       202011  OCI2034   \n",
       "2906373        G9        2G            1  2020    11       202011  OCI2257   \n",
       "2450594       U21        3G            3  2020    11       202011  OCI1681   \n",
       "2575699       U21        3G            1  2020    11       202011  OCI1854   \n",
       "\n",
       "         total_data_traffic_dl_gb  total_voice_traffic_kerlands  \\\n",
       "3103236                  0.490000                          5.52   \n",
       "2437553                  1.747000                       1555.03   \n",
       "2792828                 33.070000                        185.16   \n",
       "2412289                930.323075                          0.00   \n",
       "2189592                  6.780000                         38.53   \n",
       "...                           ...                           ...   \n",
       "1883031                  2.211000                        525.96   \n",
       "2712964                495.499643                          0.00   \n",
       "2906373                  0.107000                         99.36   \n",
       "2450594                  5.620000                         19.12   \n",
       "2575699                 65.130000                        682.50   \n",
       "\n",
       "         average_throughput_user_dl_kbps  average_throughput_user_ul_kbps  \\\n",
       "3103236                          2847.87                           179.00   \n",
       "2437553                            23.10                            17.01   \n",
       "2792828                          3299.99                           334.00   \n",
       "2412289                         10024.75                          1260.44   \n",
       "2189592                          2624.51                           223.00   \n",
       "...                                  ...                              ...   \n",
       "1883031                            47.40                            24.15   \n",
       "2712964                         11861.96                          2638.45   \n",
       "2906373                            39.07                            20.04   \n",
       "2450594                          3168.34                            73.00   \n",
       "2575699                          2095.86                           284.00   \n",
       "\n",
       "         cell_occupation_dl_percentage  average_number_of_users_dl  \\\n",
       "3103236                          44.42                         NaN   \n",
       "2437553                          25.62                         NaN   \n",
       "2792828                          91.23                         NaN   \n",
       "2412289                          50.38                       60.49   \n",
       "2189592                          68.42                         NaN   \n",
       "...                                ...                         ...   \n",
       "1883031                          12.93                         NaN   \n",
       "2712964                          35.33                       10.85   \n",
       "2906373                           3.69                         NaN   \n",
       "2450594                          77.37                         NaN   \n",
       "2575699                          88.83                         NaN   \n",
       "\n",
       "         average_number_of_users_ul  cell_occupation_ul_percentage  \\\n",
       "3103236                         NaN                            NaN   \n",
       "2437553                         NaN                            NaN   \n",
       "2792828                         NaN                            NaN   \n",
       "2412289                         NaN                          20.06   \n",
       "2189592                         NaN                            NaN   \n",
       "...                             ...                            ...   \n",
       "1883031                         NaN                            NaN   \n",
       "2712964                         NaN                          35.65   \n",
       "2906373                         NaN                            NaN   \n",
       "2450594                         NaN                            NaN   \n",
       "2575699                         NaN                            NaN   \n",
       "\n",
       "         total_data_traffic_ul_gb  lost_traffic_kerlands  traffic_loss_rate  \\\n",
       "3103236                  0.000000                    0.0                0.0   \n",
       "2437553                  0.000000                    0.0                0.0   \n",
       "2792828                  0.000000                    0.0                0.0   \n",
       "2412289                 89.881633                    0.0                NaN   \n",
       "2189592                  0.000000                    0.0                0.0   \n",
       "...                           ...                    ...                ...   \n",
       "1883031                  0.000000                    0.0                0.0   \n",
       "2712964                 55.970621                    0.0                NaN   \n",
       "2906373                  0.000000                    0.0                0.0   \n",
       "2450594                  0.000000                    0.0                0.0   \n",
       "2575699                  0.000000                    0.0                0.0   \n",
       "\n",
       "         average_number_of_users_in_queue  \n",
       "3103236                              1.00  \n",
       "2437553                               NaN  \n",
       "2792828                              1.00  \n",
       "2412289                              3.32  \n",
       "2189592                              1.00  \n",
       "...                                   ...  \n",
       "1883031                               NaN  \n",
       "2712964                              0.41  \n",
       "2906373                               NaN  \n",
       "2450594                              1.00  \n",
       "2575699                              1.00  \n",
       "\n",
       "[1000 rows x 23 columns]"
      ]
     },
     "execution_count": 11,
     "metadata": {},
     "output_type": "execute_result"
    }
   ],
   "source": [
    "data = dfs[4].sample(1000)\n",
    "data"
   ]
  },
  {
   "cell_type": "code",
   "execution_count": 17,
   "id": "690e3737",
   "metadata": {},
   "outputs": [
    {
     "name": "stderr",
     "output_type": "stream",
     "text": [
      "WARNING:root:Replacing existing domain of feature \"cell_band\".\n",
      "WARNING:root:Replacing existing domain of feature \"cell_tech\".\n",
      "WARNING:root:Replacing existing domain of feature \"cell_sector\".\n"
     ]
    },
    {
     "name": "stdout",
     "output_type": "stream",
     "text": [
      "Iteration 1\n",
      "0:00:15.898204\n",
      "-------------\n"
     ]
    },
    {
     "name": "stderr",
     "output_type": "stream",
     "text": [
      "WARNING:root:Replacing existing domain of feature \"cell_band\".\n",
      "WARNING:root:Replacing existing domain of feature \"cell_tech\".\n",
      "WARNING:root:Replacing existing domain of feature \"cell_sector\".\n"
     ]
    },
    {
     "name": "stdout",
     "output_type": "stream",
     "text": [
      "Iteration 2\n",
      "0:00:15.516182\n",
      "-------------\n"
     ]
    },
    {
     "name": "stderr",
     "output_type": "stream",
     "text": [
      "WARNING:root:Replacing existing domain of feature \"cell_band\".\n",
      "WARNING:root:Replacing existing domain of feature \"cell_tech\".\n",
      "WARNING:root:Replacing existing domain of feature \"cell_sector\".\n",
      "/home/smartcapex-dv/src/custom_validation.py:109: RuntimeWarning: invalid value encountered in double_scalars\n",
      "  measure['std'] = (measure['squared_sum'] / measure['nbr'] - measure['mean'] ** 2) ** 0.5\n"
     ]
    },
    {
     "name": "stdout",
     "output_type": "stream",
     "text": [
      "Iteration 3\n",
      "0:00:15.317792\n",
      "-------------\n"
     ]
    },
    {
     "name": "stderr",
     "output_type": "stream",
     "text": [
      "WARNING:root:Replacing existing domain of feature \"cell_band\".\n",
      "WARNING:root:Replacing existing domain of feature \"cell_tech\".\n",
      "WARNING:root:Replacing existing domain of feature \"cell_sector\".\n"
     ]
    },
    {
     "name": "stdout",
     "output_type": "stream",
     "text": [
      "Iteration 4\n",
      "0:00:15.388799\n",
      "-------------\n"
     ]
    },
    {
     "name": "stderr",
     "output_type": "stream",
     "text": [
      "WARNING:root:Replacing existing domain of feature \"cell_band\".\n",
      "WARNING:root:Replacing existing domain of feature \"cell_tech\".\n",
      "WARNING:root:Replacing existing domain of feature \"cell_sector\".\n"
     ]
    },
    {
     "name": "stdout",
     "output_type": "stream",
     "text": [
      "Iteration 5\n",
      "0:00:15.351971\n",
      "-------------\n"
     ]
    },
    {
     "name": "stderr",
     "output_type": "stream",
     "text": [
      "WARNING:root:Replacing existing domain of feature \"cell_band\".\n",
      "WARNING:root:Replacing existing domain of feature \"cell_tech\".\n",
      "WARNING:root:Replacing existing domain of feature \"cell_sector\".\n"
     ]
    },
    {
     "name": "stdout",
     "output_type": "stream",
     "text": [
      "Iteration 6\n",
      "0:00:15.367765\n",
      "-------------\n"
     ]
    },
    {
     "name": "stderr",
     "output_type": "stream",
     "text": [
      "WARNING:root:Replacing existing domain of feature \"cell_band\".\n",
      "WARNING:root:Replacing existing domain of feature \"cell_tech\".\n",
      "WARNING:root:Replacing existing domain of feature \"cell_sector\".\n"
     ]
    },
    {
     "name": "stdout",
     "output_type": "stream",
     "text": [
      "Iteration 7\n",
      "0:00:15.418537\n",
      "-------------\n"
     ]
    },
    {
     "name": "stderr",
     "output_type": "stream",
     "text": [
      "WARNING:root:Replacing existing domain of feature \"cell_band\".\n",
      "WARNING:root:Replacing existing domain of feature \"cell_tech\".\n",
      "WARNING:root:Replacing existing domain of feature \"cell_sector\".\n"
     ]
    },
    {
     "name": "stdout",
     "output_type": "stream",
     "text": [
      "Iteration 8\n",
      "0:00:15.335796\n",
      "-------------\n"
     ]
    },
    {
     "name": "stderr",
     "output_type": "stream",
     "text": [
      "WARNING:root:Replacing existing domain of feature \"cell_band\".\n",
      "WARNING:root:Replacing existing domain of feature \"cell_tech\".\n",
      "WARNING:root:Replacing existing domain of feature \"cell_sector\".\n"
     ]
    },
    {
     "name": "stdout",
     "output_type": "stream",
     "text": [
      "Iteration 9\n",
      "0:00:15.410057\n",
      "-------------\n"
     ]
    },
    {
     "name": "stderr",
     "output_type": "stream",
     "text": [
      "WARNING:root:Replacing existing domain of feature \"cell_band\".\n",
      "WARNING:root:Replacing existing domain of feature \"cell_tech\".\n",
      "WARNING:root:Replacing existing domain of feature \"cell_sector\".\n"
     ]
    },
    {
     "name": "stdout",
     "output_type": "stream",
     "text": [
      "Iteration 10\n",
      "0:00:15.622900\n",
      "-------------\n"
     ]
    },
    {
     "name": "stderr",
     "output_type": "stream",
     "text": [
      "WARNING:root:Replacing existing domain of feature \"cell_band\".\n",
      "WARNING:root:Replacing existing domain of feature \"cell_tech\".\n",
      "WARNING:root:Replacing existing domain of feature \"cell_sector\".\n"
     ]
    },
    {
     "name": "stdout",
     "output_type": "stream",
     "text": [
      "Iteration 11\n",
      "0:00:15.907715\n",
      "-------------\n"
     ]
    },
    {
     "name": "stderr",
     "output_type": "stream",
     "text": [
      "WARNING:root:Replacing existing domain of feature \"cell_band\".\n",
      "WARNING:root:Replacing existing domain of feature \"cell_tech\".\n",
      "WARNING:root:Replacing existing domain of feature \"cell_sector\".\n"
     ]
    },
    {
     "name": "stdout",
     "output_type": "stream",
     "text": [
      "Iteration 12\n",
      "0:00:15.885981\n",
      "-------------\n"
     ]
    },
    {
     "name": "stderr",
     "output_type": "stream",
     "text": [
      "WARNING:root:Replacing existing domain of feature \"cell_band\".\n",
      "WARNING:root:Replacing existing domain of feature \"cell_tech\".\n",
      "WARNING:root:Replacing existing domain of feature \"cell_sector\".\n"
     ]
    },
    {
     "name": "stdout",
     "output_type": "stream",
     "text": [
      "Iteration 13\n",
      "0:00:15.717179\n",
      "-------------\n"
     ]
    },
    {
     "name": "stderr",
     "output_type": "stream",
     "text": [
      "WARNING:root:Replacing existing domain of feature \"cell_band\".\n",
      "WARNING:root:Replacing existing domain of feature \"cell_tech\".\n",
      "WARNING:root:Replacing existing domain of feature \"cell_sector\".\n"
     ]
    },
    {
     "name": "stdout",
     "output_type": "stream",
     "text": [
      "Iteration 14\n",
      "0:00:15.870166\n",
      "-------------\n"
     ]
    },
    {
     "name": "stderr",
     "output_type": "stream",
     "text": [
      "WARNING:root:Replacing existing domain of feature \"cell_band\".\n",
      "WARNING:root:Replacing existing domain of feature \"cell_tech\".\n",
      "WARNING:root:Replacing existing domain of feature \"cell_sector\".\n"
     ]
    },
    {
     "name": "stdout",
     "output_type": "stream",
     "text": [
      "Iteration 15\n",
      "0:00:15.557613\n",
      "-------------\n"
     ]
    },
    {
     "name": "stderr",
     "output_type": "stream",
     "text": [
      "WARNING:root:Replacing existing domain of feature \"cell_band\".\n",
      "WARNING:root:Replacing existing domain of feature \"cell_tech\".\n",
      "WARNING:root:Replacing existing domain of feature \"cell_sector\".\n"
     ]
    },
    {
     "name": "stdout",
     "output_type": "stream",
     "text": [
      "Iteration 16\n",
      "0:00:15.552956\n",
      "-------------\n"
     ]
    },
    {
     "name": "stderr",
     "output_type": "stream",
     "text": [
      "WARNING:root:Replacing existing domain of feature \"cell_band\".\n",
      "WARNING:root:Replacing existing domain of feature \"cell_tech\".\n",
      "WARNING:root:Replacing existing domain of feature \"cell_sector\".\n"
     ]
    },
    {
     "name": "stdout",
     "output_type": "stream",
     "text": [
      "Iteration 17\n",
      "0:00:15.679335\n",
      "-------------\n"
     ]
    },
    {
     "name": "stderr",
     "output_type": "stream",
     "text": [
      "WARNING:root:Replacing existing domain of feature \"cell_band\".\n",
      "WARNING:root:Replacing existing domain of feature \"cell_tech\".\n",
      "WARNING:root:Replacing existing domain of feature \"cell_sector\".\n"
     ]
    },
    {
     "name": "stdout",
     "output_type": "stream",
     "text": [
      "Iteration 18\n",
      "0:00:15.836897\n",
      "-------------\n"
     ]
    }
   ],
   "source": [
    "from datetime import datetime\n",
    "\n",
    "for i in range(0,18) :\n",
    "    data = dfs[i].sort_values('cell_name').head(1000)\n",
    "\n",
    "    start = datetime.now()\n",
    "    #validation.init()\n",
    "    report = validation.validate_data(data)\n",
    "\n",
    "    end = datetime.now()\n",
    "    print('Iteration '+str(i+1))\n",
    "    print(datetime.now() - start)\n",
    "    print('-------------')"
   ]
  },
  {
   "cell_type": "code",
   "execution_count": 21,
   "id": "1608bd54",
   "metadata": {},
   "outputs": [
    {
     "data": {
      "text/html": [
       "<div>\n",
       "<style scoped>\n",
       "    .dataframe tbody tr th:only-of-type {\n",
       "        vertical-align: middle;\n",
       "    }\n",
       "\n",
       "    .dataframe tbody tr th {\n",
       "        vertical-align: top;\n",
       "    }\n",
       "\n",
       "    .dataframe thead th {\n",
       "        text-align: right;\n",
       "    }\n",
       "</style>\n",
       "<table border=\"1\" class=\"dataframe\">\n",
       "  <thead>\n",
       "    <tr style=\"text-align: right;\">\n",
       "      <th></th>\n",
       "      <th>anomaly_short_description</th>\n",
       "      <th>anomaly_long_description</th>\n",
       "      <th>feature_name</th>\n",
       "      <th>date</th>\n",
       "    </tr>\n",
       "  </thead>\n",
       "  <tbody>\n",
       "    <tr>\n",
       "      <th>0</th>\n",
       "      <td>Presence anomaly</td>\n",
       "      <td>The feature was not present in any examples.</td>\n",
       "      <td>average_number_of_users_ul</td>\n",
       "      <td>2022-03-08</td>\n",
       "    </tr>\n",
       "    <tr>\n",
       "      <th>0</th>\n",
       "      <td>Distinctness anomaly</td>\n",
       "      <td>Actual distinctness value: 0 is below threshol...</td>\n",
       "      <td>average_number_of_users_ul</td>\n",
       "      <td>2022-03-08</td>\n",
       "    </tr>\n",
       "    <tr>\n",
       "      <th>1</th>\n",
       "      <td>Distinctness anomaly</td>\n",
       "      <td>Actual distinctness value: 0.05 is below thres...</td>\n",
       "      <td>lost_traffic_kerlands</td>\n",
       "      <td>2022-03-08</td>\n",
       "    </tr>\n",
       "    <tr>\n",
       "      <th>2</th>\n",
       "      <td>Distinctness anomaly</td>\n",
       "      <td>Actual distinctness value: 0.05 is below thres...</td>\n",
       "      <td>traffic_loss_rate</td>\n",
       "      <td>2022-03-08</td>\n",
       "    </tr>\n",
       "    <tr>\n",
       "      <th>3</th>\n",
       "      <td>Cell per site anomaly</td>\n",
       "      <td>there is 27 cell for the site: OCI0044 which i...</td>\n",
       "      <td>site_id</td>\n",
       "      <td>2022-03-08</td>\n",
       "    </tr>\n",
       "    <tr>\n",
       "      <th>4</th>\n",
       "      <td>Outlier anomaly</td>\n",
       "      <td>Value 11.77877551 for cell OCI0010_ABOBO_ND_G9...</td>\n",
       "      <td>lost_traffic_kerlands</td>\n",
       "      <td>2022-03-08</td>\n",
       "    </tr>\n",
       "    <tr>\n",
       "      <th>5</th>\n",
       "      <td>Outlier anomaly</td>\n",
       "      <td>Value 25.11574468 for cell OCI0048_AHIZABRE_G9...</td>\n",
       "      <td>lost_traffic_kerlands</td>\n",
       "      <td>2022-03-08</td>\n",
       "    </tr>\n",
       "    <tr>\n",
       "      <th>6</th>\n",
       "      <td>Outlier anomaly</td>\n",
       "      <td>Value 0.0204081632649525 for cell OCI0010_ABOB...</td>\n",
       "      <td>traffic_loss_rate</td>\n",
       "      <td>2022-03-08</td>\n",
       "    </tr>\n",
       "    <tr>\n",
       "      <th>7</th>\n",
       "      <td>Outlier anomaly</td>\n",
       "      <td>Value 0.0638297872318796 for cell OCI0048_AHIZ...</td>\n",
       "      <td>traffic_loss_rate</td>\n",
       "      <td>2022-03-08</td>\n",
       "    </tr>\n",
       "  </tbody>\n",
       "</table>\n",
       "</div>"
      ],
      "text/plain": [
       "  anomaly_short_description  \\\n",
       "0          Presence anomaly   \n",
       "0      Distinctness anomaly   \n",
       "1      Distinctness anomaly   \n",
       "2      Distinctness anomaly   \n",
       "3     Cell per site anomaly   \n",
       "4           Outlier anomaly   \n",
       "5           Outlier anomaly   \n",
       "6           Outlier anomaly   \n",
       "7           Outlier anomaly   \n",
       "\n",
       "                            anomaly_long_description  \\\n",
       "0       The feature was not present in any examples.   \n",
       "0  Actual distinctness value: 0 is below threshol...   \n",
       "1  Actual distinctness value: 0.05 is below thres...   \n",
       "2  Actual distinctness value: 0.05 is below thres...   \n",
       "3  there is 27 cell for the site: OCI0044 which i...   \n",
       "4  Value 11.77877551 for cell OCI0010_ABOBO_ND_G9...   \n",
       "5  Value 25.11574468 for cell OCI0048_AHIZABRE_G9...   \n",
       "6  Value 0.0204081632649525 for cell OCI0010_ABOB...   \n",
       "7  Value 0.0638297872318796 for cell OCI0048_AHIZ...   \n",
       "\n",
       "                 feature_name        date  \n",
       "0  average_number_of_users_ul  2022-03-08  \n",
       "0  average_number_of_users_ul  2022-03-08  \n",
       "1       lost_traffic_kerlands  2022-03-08  \n",
       "2           traffic_loss_rate  2022-03-08  \n",
       "3                     site_id  2022-03-08  \n",
       "4       lost_traffic_kerlands  2022-03-08  \n",
       "5       lost_traffic_kerlands  2022-03-08  \n",
       "6           traffic_loss_rate  2022-03-08  \n",
       "7           traffic_loss_rate  2022-03-08  "
      ]
     },
     "execution_count": 21,
     "metadata": {},
     "output_type": "execute_result"
    }
   ],
   "source": [
    "report"
   ]
  },
  {
   "cell_type": "code",
   "execution_count": 4,
   "id": "bd26d71f",
   "metadata": {},
   "outputs": [
    {
     "data": {
      "text/plain": [
       "2682741    None\n",
       "1316770    None\n",
       "2846044    None\n",
       "2811307    None\n",
       "1543244    None\n",
       "           ... \n",
       "3093944    None\n",
       "2440709    None\n",
       "1673348    None\n",
       "2577092    None\n",
       "3213471    None\n",
       "Name: cell_occupation_ul_percentage, Length: 1000, dtype: object"
      ]
     },
     "execution_count": 4,
     "metadata": {},
     "output_type": "execute_result"
    }
   ],
   "source": [
    "data = dfs[0].sample(1000)\n",
    "data.cell_occupation_ul_percentage = None\n",
    "data.cell_occupation_ul_percentage"
   ]
  },
  {
   "cell_type": "code",
   "execution_count": 14,
   "id": "c1273263",
   "metadata": {},
   "outputs": [],
   "source": [
    "schema = validation.load_schema(validation.config.schema_path)"
   ]
  },
  {
   "cell_type": "code",
   "execution_count": 16,
   "id": "c9df6ecf",
   "metadata": {},
   "outputs": [
    {
     "data": {
      "text/plain": [
       "str"
      ]
     },
     "execution_count": 16,
     "metadata": {},
     "output_type": "execute_result"
    }
   ],
   "source": [
    "type(schema.custom_constraint.max_new_cells)"
   ]
  },
  {
   "cell_type": "code",
   "execution_count": null,
   "id": "7ef063dc",
   "metadata": {},
   "outputs": [],
   "source": []
  }
 ],
 "metadata": {
  "kernelspec": {
   "display_name": "Python 3 (ipykernel)",
   "language": "python",
   "name": "python3"
  },
  "language_info": {
   "codemirror_mode": {
    "name": "ipython",
    "version": 3
   },
   "file_extension": ".py",
   "mimetype": "text/x-python",
   "name": "python",
   "nbconvert_exporter": "python",
   "pygments_lexer": "ipython3",
   "version": "3.7.12"
  }
 },
 "nbformat": 4,
 "nbformat_minor": 5
}
