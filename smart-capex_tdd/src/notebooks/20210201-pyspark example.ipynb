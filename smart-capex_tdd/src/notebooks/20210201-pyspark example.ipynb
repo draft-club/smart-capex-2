{
 "cells": [
  {
   "cell_type": "code",
   "execution_count": 6,
   "metadata": {},
   "outputs": [],
   "source": [
    "import findspark\n",
    "findspark.init('/usr/local/Cellar/apache-spark/3.0.1/libexec')\n",
    "\n",
    "import pyspark\n",
    "from pyspark.sql.session import SparkSession\n",
    "spark = SparkSession.builder.appName(\"spark test\").getOrCreate()"
   ]
  },
  {
   "cell_type": "code",
   "execution_count": 9,
   "metadata": {},
   "outputs": [],
   "source": [
    "from pyspark.sql.types import *\n",
    "import pandas as pd\n",
    "pd.options.display.max_columns = None\n",
    "from pyspark.sql.functions import *\n",
    "import pandas as pd\n",
    "import numpy as np\n",
    "from pyspark.sql.types import *\n"
   ]
  },
  {
   "cell_type": "code",
   "execution_count": 10,
   "metadata": {},
   "outputs": [],
   "source": [
    "timeslot_2G = [StructField(\"PERIOD_START_TIME\", StringType(), True),\n",
    "                StructField(\"BSC name\", StringType(), True),\n",
    "                StructField(\"BCF name\", StringType(), True),\n",
    "                StructField(\"BTS name\", StringType(), True),\n",
    "                StructField(\"Timeslot Util\", DoubleType(), True)]\n",
    "\n",
    "timeslot2GSchema = StructType(timeslot_2G)"
   ]
  },
  {
   "cell_type": "code",
   "execution_count": 11,
   "metadata": {},
   "outputs": [],
   "source": [
    "df_timeslot_2G = spark.read.format(\"csv\") \\\n",
    "    .option(\"header\", \"true\") \\\n",
    "    .option(\"delimiter\", \";\") \\\n",
    "    .schema(timeslot2GSchema) \\\n",
    "    .load(\"Timeslot occupancy 2G_Hourly.csv\")"
   ]
  },
  {
   "cell_type": "code",
   "execution_count": 12,
   "metadata": {},
   "outputs": [],
   "source": [
    "from datetime import datetime\n"
   ]
  },
  {
   "cell_type": "code",
   "execution_count": 13,
   "metadata": {},
   "outputs": [
    {
     "name": "stdout",
     "output_type": "stream",
     "text": [
      "+-------------------+----------------+--------------------+--------------------+-------------+\n",
      "|  PERIOD_START_TIME|        BSC name|            BCF name|            BTS name|Timeslot Util|\n",
      "+-------------------+----------------+--------------------+--------------------+-------------+\n",
      "|09.19.2020 16:00:00|BSC_ABENGOUROU_1|  OCI0005_ABENGOUROU|OCI0005_ABENGOURO...|        36.07|\n",
      "|09.19.2020 16:00:00|BSC_ABENGOUROU_1|  OCI0005_ABENGOUROU|OCI0005_ABENGOURO...|        46.43|\n",
      "|09.19.2020 16:00:00|BSC_ABENGOUROU_1|  OCI0005_ABENGOUROU|OCI0005_ABENGOURO...|        30.96|\n",
      "|09.19.2020 16:00:00|BSC_ABENGOUROU_1|  OCI0005_ABENGOUROU|OCI0005_ABENGOURO...|        10.11|\n",
      "|09.19.2020 16:00:00|BSC_ABENGOUROU_1|  OCI0005_ABENGOUROU|OCI0005_ABENGOURO...|        22.11|\n",
      "|09.19.2020 16:00:00|BSC_ABENGOUROU_1|  OCI0005_ABENGOUROU|OCI0005_ABENGOURO...|        23.06|\n",
      "|09.19.2020 16:00:00|BSC_ABENGOUROU_1|OCI0006_S_ABENGOU...|OCI0006_S_ABENGOU...|        46.21|\n",
      "|09.19.2020 16:00:00|BSC_ABENGOUROU_1|OCI0006_S_ABENGOU...|OCI0006_S_ABENGOU...|        18.29|\n",
      "|09.19.2020 16:00:00|BSC_ABENGOUROU_1|OCI0006_S_ABENGOU...|OCI0006_S_ABENGOU...|        23.23|\n",
      "|09.19.2020 16:00:00|BSC_ABENGOUROU_1|OCI0006_S_ABENGOU...|OCI0006_S_ABENGOU...|        19.16|\n",
      "|09.19.2020 16:00:00|BSC_ABENGOUROU_1|OCI0006_S_ABENGOU...|OCI0006_S_ABENGOU...|         9.27|\n",
      "|09.19.2020 16:00:00|BSC_ABENGOUROU_1|OCI0006_S_ABENGOU...|OCI0006_S_ABENGOU...|        20.96|\n",
      "|09.19.2020 16:00:00|BSC_ABENGOUROU_1|  OCI0016_S_ABONGOUA|OCI0016_S_ABONGOU...|        19.89|\n",
      "|09.19.2020 16:00:00|BSC_ABENGOUROU_1|  OCI0016_S_ABONGOUA|OCI0016_S_ABONGOU...|          5.8|\n",
      "|09.19.2020 16:00:00|BSC_ABENGOUROU_1|  OCI0016_S_ABONGOUA|OCI0016_S_ABONGOU...|        49.95|\n",
      "|09.19.2020 16:00:00|BSC_ABENGOUROU_1|  OCI0016_S_ABONGOUA|OCI0016_S_ABONGOU...|         19.8|\n",
      "|09.19.2020 16:00:00|BSC_ABENGOUROU_1|  OCI0016_S_ABONGOUA|OCI0016_S_ABONGOU...|        32.32|\n",
      "|09.19.2020 16:00:00|BSC_ABENGOUROU_1|  OCI0016_S_ABONGOUA|OCI0016_S_ABONGOU...|        14.19|\n",
      "|09.19.2020 16:00:00|BSC_ABENGOUROU_1|OCI0017_S_ABONGOU...|OCI0017_S_ABONGOU...|        35.06|\n",
      "|09.19.2020 16:00:00|BSC_ABENGOUROU_1|OCI0017_S_ABONGOU...|OCI0017_S_ABONGOU...|        14.23|\n",
      "+-------------------+----------------+--------------------+--------------------+-------------+\n",
      "only showing top 20 rows\n",
      "\n"
     ]
    }
   ],
   "source": [
    "df_timeslot_2G.show()"
   ]
  },
  {
   "cell_type": "code",
   "execution_count": 15,
   "metadata": {},
   "outputs": [],
   "source": [
    "## Convert to timestap\n",
    "df_timeslot_2G = df_timeslot_2G.withColumn('PERIOD_START_TIME',to_timestamp(df_timeslot_2G.PERIOD_START_TIME, 'MM.dd.yyyy HH:mm:ss').cast(\"timestamp\"))"
   ]
  },
  {
   "cell_type": "code",
   "execution_count": 16,
   "metadata": {},
   "outputs": [
    {
     "data": {
      "text/plain": [
       "['PERIOD_START_TIME', 'BSC name', 'BCF name', 'BTS name', 'Timeslot Util']"
      ]
     },
     "execution_count": 16,
     "metadata": {},
     "output_type": "execute_result"
    }
   ],
   "source": [
    "oldColumns = df_timeslot_2G.schema.names\n",
    "oldColumns"
   ]
  },
  {
   "cell_type": "code",
   "execution_count": 17,
   "metadata": {},
   "outputs": [],
   "source": [
    "from functools import reduce\n",
    "\n",
    "oldColumns = df_timeslot_2G.schema.names\n",
    "newColumns = ['date', 'BSC_name', 'BCF_name', 'BTS_name', 'timeslot_util']\n",
    "\n",
    "df_timeslot_2G = reduce(lambda df_timeslot_2G, idx: df_timeslot_2G.withColumnRenamed(oldColumns[idx], newColumns[idx]), range(len(oldColumns)), df_timeslot_2G)\n"
   ]
  },
  {
   "cell_type": "code",
   "execution_count": 111,
   "metadata": {},
   "outputs": [],
   "source": [
    "## Save as parquet\n",
    "#df_timeslot_2G.write.parquet(\"timeslot2G.parquet\")"
   ]
  },
  {
   "cell_type": "code",
   "execution_count": 18,
   "metadata": {},
   "outputs": [
    {
     "name": "stdout",
     "output_type": "stream",
     "text": [
      "+-------------------+----------------+--------------------+--------------------+-------------+\n",
      "|               date|        BSC_name|            BCF_name|            BTS_name|timeslot_util|\n",
      "+-------------------+----------------+--------------------+--------------------+-------------+\n",
      "|2020-09-19 16:00:00|BSC_ABENGOUROU_1|  OCI0005_ABENGOUROU|OCI0005_ABENGOURO...|        36.07|\n",
      "|2020-09-19 16:00:00|BSC_ABENGOUROU_1|  OCI0005_ABENGOUROU|OCI0005_ABENGOURO...|        46.43|\n",
      "|2020-09-19 16:00:00|BSC_ABENGOUROU_1|  OCI0005_ABENGOUROU|OCI0005_ABENGOURO...|        30.96|\n",
      "|2020-09-19 16:00:00|BSC_ABENGOUROU_1|  OCI0005_ABENGOUROU|OCI0005_ABENGOURO...|        10.11|\n",
      "|2020-09-19 16:00:00|BSC_ABENGOUROU_1|  OCI0005_ABENGOUROU|OCI0005_ABENGOURO...|        22.11|\n",
      "|2020-09-19 16:00:00|BSC_ABENGOUROU_1|  OCI0005_ABENGOUROU|OCI0005_ABENGOURO...|        23.06|\n",
      "|2020-09-19 16:00:00|BSC_ABENGOUROU_1|OCI0006_S_ABENGOU...|OCI0006_S_ABENGOU...|        46.21|\n",
      "|2020-09-19 16:00:00|BSC_ABENGOUROU_1|OCI0006_S_ABENGOU...|OCI0006_S_ABENGOU...|        18.29|\n",
      "|2020-09-19 16:00:00|BSC_ABENGOUROU_1|OCI0006_S_ABENGOU...|OCI0006_S_ABENGOU...|        23.23|\n",
      "|2020-09-19 16:00:00|BSC_ABENGOUROU_1|OCI0006_S_ABENGOU...|OCI0006_S_ABENGOU...|        19.16|\n",
      "|2020-09-19 16:00:00|BSC_ABENGOUROU_1|OCI0006_S_ABENGOU...|OCI0006_S_ABENGOU...|         9.27|\n",
      "|2020-09-19 16:00:00|BSC_ABENGOUROU_1|OCI0006_S_ABENGOU...|OCI0006_S_ABENGOU...|        20.96|\n",
      "|2020-09-19 16:00:00|BSC_ABENGOUROU_1|  OCI0016_S_ABONGOUA|OCI0016_S_ABONGOU...|        19.89|\n",
      "|2020-09-19 16:00:00|BSC_ABENGOUROU_1|  OCI0016_S_ABONGOUA|OCI0016_S_ABONGOU...|          5.8|\n",
      "|2020-09-19 16:00:00|BSC_ABENGOUROU_1|  OCI0016_S_ABONGOUA|OCI0016_S_ABONGOU...|        49.95|\n",
      "|2020-09-19 16:00:00|BSC_ABENGOUROU_1|  OCI0016_S_ABONGOUA|OCI0016_S_ABONGOU...|         19.8|\n",
      "|2020-09-19 16:00:00|BSC_ABENGOUROU_1|  OCI0016_S_ABONGOUA|OCI0016_S_ABONGOU...|        32.32|\n",
      "|2020-09-19 16:00:00|BSC_ABENGOUROU_1|  OCI0016_S_ABONGOUA|OCI0016_S_ABONGOU...|        14.19|\n",
      "|2020-09-19 16:00:00|BSC_ABENGOUROU_1|OCI0017_S_ABONGOU...|OCI0017_S_ABONGOU...|        35.06|\n",
      "|2020-09-19 16:00:00|BSC_ABENGOUROU_1|OCI0017_S_ABONGOU...|OCI0017_S_ABONGOU...|        14.23|\n",
      "+-------------------+----------------+--------------------+--------------------+-------------+\n",
      "only showing top 20 rows\n",
      "\n"
     ]
    }
   ],
   "source": [
    "df_timeslot_2G.show()"
   ]
  },
  {
   "cell_type": "code",
   "execution_count": 19,
   "metadata": {},
   "outputs": [
    {
     "name": "stdout",
     "output_type": "stream",
     "text": [
      "+-------------------+-----+\n",
      "|date               |count|\n",
      "+-------------------+-----+\n",
      "|2020-10-05 10:00:00|1208 |\n",
      "|2020-10-08 03:00:00|1208 |\n",
      "|2020-10-10 15:00:00|1208 |\n",
      "|2020-10-16 11:00:00|1208 |\n",
      "|2020-09-23 19:00:00|2181 |\n",
      "|2020-09-29 13:00:00|1199 |\n",
      "|2020-10-18 01:00:00|1208 |\n",
      "|2020-10-07 01:00:00|1208 |\n",
      "|2020-10-12 09:00:00|1208 |\n",
      "|2020-10-18 21:00:00|1208 |\n",
      "+-------------------+-----+\n",
      "only showing top 10 rows\n",
      "\n"
     ]
    }
   ],
   "source": [
    "## Save as parquet\n",
    "df_timeslot_2G.groupBy([\"date\"]).count().show(10, False)"
   ]
  },
  {
   "cell_type": "code",
   "execution_count": 20,
   "metadata": {},
   "outputs": [
    {
     "name": "stdout",
     "output_type": "stream",
     "text": [
      "+-------------------+----------------+--------------------+--------------------+-------------+\n",
      "|               date|        BSC_name|            BCF_name|            BTS_name|timeslot_util|\n",
      "+-------------------+----------------+--------------------+--------------------+-------------+\n",
      "|2020-09-19 16:00:00|BSC_ABENGOUROU_1|  OCI0005_ABENGOUROU|OCI0005_ABENGOURO...|        36.07|\n",
      "|2020-09-19 16:00:00|BSC_ABENGOUROU_1|  OCI0005_ABENGOUROU|OCI0005_ABENGOURO...|        46.43|\n",
      "|2020-09-19 16:00:00|BSC_ABENGOUROU_1|  OCI0005_ABENGOUROU|OCI0005_ABENGOURO...|        30.96|\n",
      "|2020-09-19 16:00:00|BSC_ABENGOUROU_1|  OCI0005_ABENGOUROU|OCI0005_ABENGOURO...|        10.11|\n",
      "|2020-09-19 16:00:00|BSC_ABENGOUROU_1|  OCI0005_ABENGOUROU|OCI0005_ABENGOURO...|        22.11|\n",
      "|2020-09-19 16:00:00|BSC_ABENGOUROU_1|  OCI0005_ABENGOUROU|OCI0005_ABENGOURO...|        23.06|\n",
      "|2020-09-19 16:00:00|BSC_ABENGOUROU_1|OCI0006_S_ABENGOU...|OCI0006_S_ABENGOU...|        46.21|\n",
      "|2020-09-19 16:00:00|BSC_ABENGOUROU_1|OCI0006_S_ABENGOU...|OCI0006_S_ABENGOU...|        18.29|\n",
      "|2020-09-19 16:00:00|BSC_ABENGOUROU_1|OCI0006_S_ABENGOU...|OCI0006_S_ABENGOU...|        23.23|\n",
      "|2020-09-19 16:00:00|BSC_ABENGOUROU_1|OCI0006_S_ABENGOU...|OCI0006_S_ABENGOU...|        19.16|\n",
      "|2020-09-19 16:00:00|BSC_ABENGOUROU_1|OCI0006_S_ABENGOU...|OCI0006_S_ABENGOU...|         9.27|\n",
      "|2020-09-19 16:00:00|BSC_ABENGOUROU_1|OCI0006_S_ABENGOU...|OCI0006_S_ABENGOU...|        20.96|\n",
      "|2020-09-19 16:00:00|BSC_ABENGOUROU_1|  OCI0016_S_ABONGOUA|OCI0016_S_ABONGOU...|        19.89|\n",
      "|2020-09-19 16:00:00|BSC_ABENGOUROU_1|  OCI0016_S_ABONGOUA|OCI0016_S_ABONGOU...|          5.8|\n",
      "|2020-09-19 16:00:00|BSC_ABENGOUROU_1|  OCI0016_S_ABONGOUA|OCI0016_S_ABONGOU...|        49.95|\n",
      "|2020-09-19 16:00:00|BSC_ABENGOUROU_1|  OCI0016_S_ABONGOUA|OCI0016_S_ABONGOU...|         19.8|\n",
      "|2020-09-19 16:00:00|BSC_ABENGOUROU_1|  OCI0016_S_ABONGOUA|OCI0016_S_ABONGOU...|        32.32|\n",
      "|2020-09-19 16:00:00|BSC_ABENGOUROU_1|  OCI0016_S_ABONGOUA|OCI0016_S_ABONGOU...|        14.19|\n",
      "|2020-09-19 16:00:00|BSC_ABENGOUROU_1|OCI0017_S_ABONGOU...|OCI0017_S_ABONGOU...|        35.06|\n",
      "|2020-09-19 16:00:00|BSC_ABENGOUROU_1|OCI0017_S_ABONGOU...|OCI0017_S_ABONGOU...|        14.23|\n",
      "+-------------------+----------------+--------------------+--------------------+-------------+\n",
      "only showing top 20 rows\n",
      "\n"
     ]
    }
   ],
   "source": [
    "df_timeslot_2G.show()"
   ]
  },
  {
   "cell_type": "code",
   "execution_count": 21,
   "metadata": {},
   "outputs": [
    {
     "name": "stdout",
     "output_type": "stream",
     "text": [
      "+-------------------+----------------+--------------------+--------------------+-------------+----+-----+----------+----------+----+\n",
      "|               date|        BSC_name|            BCF_name|            BTS_name|timeslot_util|hour|month|dayofmonth|weekofyear|year|\n",
      "+-------------------+----------------+--------------------+--------------------+-------------+----+-----+----------+----------+----+\n",
      "|2020-09-19 16:00:00|BSC_ABENGOUROU_1|  OCI0005_ABENGOUROU|OCI0005_ABENGOURO...|        36.07|  16|    9|        19|        38|2020|\n",
      "|2020-09-19 16:00:00|BSC_ABENGOUROU_1|  OCI0005_ABENGOUROU|OCI0005_ABENGOURO...|        46.43|  16|    9|        19|        38|2020|\n",
      "|2020-09-19 16:00:00|BSC_ABENGOUROU_1|  OCI0005_ABENGOUROU|OCI0005_ABENGOURO...|        30.96|  16|    9|        19|        38|2020|\n",
      "|2020-09-19 16:00:00|BSC_ABENGOUROU_1|  OCI0005_ABENGOUROU|OCI0005_ABENGOURO...|        10.11|  16|    9|        19|        38|2020|\n",
      "|2020-09-19 16:00:00|BSC_ABENGOUROU_1|  OCI0005_ABENGOUROU|OCI0005_ABENGOURO...|        22.11|  16|    9|        19|        38|2020|\n",
      "|2020-09-19 16:00:00|BSC_ABENGOUROU_1|  OCI0005_ABENGOUROU|OCI0005_ABENGOURO...|        23.06|  16|    9|        19|        38|2020|\n",
      "|2020-09-19 16:00:00|BSC_ABENGOUROU_1|OCI0006_S_ABENGOU...|OCI0006_S_ABENGOU...|        46.21|  16|    9|        19|        38|2020|\n",
      "|2020-09-19 16:00:00|BSC_ABENGOUROU_1|OCI0006_S_ABENGOU...|OCI0006_S_ABENGOU...|        18.29|  16|    9|        19|        38|2020|\n",
      "|2020-09-19 16:00:00|BSC_ABENGOUROU_1|OCI0006_S_ABENGOU...|OCI0006_S_ABENGOU...|        23.23|  16|    9|        19|        38|2020|\n",
      "|2020-09-19 16:00:00|BSC_ABENGOUROU_1|OCI0006_S_ABENGOU...|OCI0006_S_ABENGOU...|        19.16|  16|    9|        19|        38|2020|\n",
      "|2020-09-19 16:00:00|BSC_ABENGOUROU_1|OCI0006_S_ABENGOU...|OCI0006_S_ABENGOU...|         9.27|  16|    9|        19|        38|2020|\n",
      "|2020-09-19 16:00:00|BSC_ABENGOUROU_1|OCI0006_S_ABENGOU...|OCI0006_S_ABENGOU...|        20.96|  16|    9|        19|        38|2020|\n",
      "|2020-09-19 16:00:00|BSC_ABENGOUROU_1|  OCI0016_S_ABONGOUA|OCI0016_S_ABONGOU...|        19.89|  16|    9|        19|        38|2020|\n",
      "|2020-09-19 16:00:00|BSC_ABENGOUROU_1|  OCI0016_S_ABONGOUA|OCI0016_S_ABONGOU...|          5.8|  16|    9|        19|        38|2020|\n",
      "|2020-09-19 16:00:00|BSC_ABENGOUROU_1|  OCI0016_S_ABONGOUA|OCI0016_S_ABONGOU...|        49.95|  16|    9|        19|        38|2020|\n",
      "|2020-09-19 16:00:00|BSC_ABENGOUROU_1|  OCI0016_S_ABONGOUA|OCI0016_S_ABONGOU...|         19.8|  16|    9|        19|        38|2020|\n",
      "|2020-09-19 16:00:00|BSC_ABENGOUROU_1|  OCI0016_S_ABONGOUA|OCI0016_S_ABONGOU...|        32.32|  16|    9|        19|        38|2020|\n",
      "|2020-09-19 16:00:00|BSC_ABENGOUROU_1|  OCI0016_S_ABONGOUA|OCI0016_S_ABONGOU...|        14.19|  16|    9|        19|        38|2020|\n",
      "|2020-09-19 16:00:00|BSC_ABENGOUROU_1|OCI0017_S_ABONGOU...|OCI0017_S_ABONGOU...|        35.06|  16|    9|        19|        38|2020|\n",
      "|2020-09-19 16:00:00|BSC_ABENGOUROU_1|OCI0017_S_ABONGOU...|OCI0017_S_ABONGOU...|        14.23|  16|    9|        19|        38|2020|\n",
      "+-------------------+----------------+--------------------+--------------------+-------------+----+-----+----------+----------+----+\n",
      "only showing top 20 rows\n",
      "\n"
     ]
    }
   ],
   "source": [
    "from pyspark.sql.functions import hour,month,dayofmonth,weekofyear,year,date_format\n",
    "df_timeslot_2G = df_timeslot_2G.withColumn('hour',hour(df_timeslot_2G.date))\n",
    "df_timeslot_2G = df_timeslot_2G.withColumn('month',month(df_timeslot_2G.date))\n",
    "df_timeslot_2G = df_timeslot_2G.withColumn('dayofmonth',dayofmonth(df_timeslot_2G.date))\n",
    "df_timeslot_2G = df_timeslot_2G.withColumn('weekofyear',weekofyear(df_timeslot_2G.date))\n",
    "df_timeslot_2G = df_timeslot_2G.withColumn('year',year(df_timeslot_2G.date))\n",
    "df_timeslot_2G = df_timeslot_2G.withColumn('weekday',date_format(df_timeslot_2G.date,'E'))\n",
    "df_timeslot_2G.show()\n"
   ]
  },
  {
   "cell_type": "code",
   "execution_count": 31,
   "metadata": {},
   "outputs": [
    {
     "name": "stdout",
     "output_type": "stream",
     "text": [
      "+-------------------+----------------+--------------------+--------------------+-------------+----+-----+----------+----------+----+------+\n",
      "|               date|        BSC_name|            BCF_name|            BTS_name|timeslot_util|hour|month|dayofmonth|weekofyear|year|period|\n",
      "+-------------------+----------------+--------------------+--------------------+-------------+----+-----+----------+----------+----+------+\n",
      "|2020-09-19 16:00:00|BSC_ABENGOUROU_1|  OCI0005_ABENGOUROU|OCI0005_ABENGOURO...|        36.07|  16|    9|        19|        38|2020|202009|\n",
      "|2020-09-19 16:00:00|BSC_ABENGOUROU_1|  OCI0005_ABENGOUROU|OCI0005_ABENGOURO...|        46.43|  16|    9|        19|        38|2020|202009|\n",
      "|2020-09-19 16:00:00|BSC_ABENGOUROU_1|  OCI0005_ABENGOUROU|OCI0005_ABENGOURO...|        30.96|  16|    9|        19|        38|2020|202009|\n",
      "|2020-09-19 16:00:00|BSC_ABENGOUROU_1|  OCI0005_ABENGOUROU|OCI0005_ABENGOURO...|        10.11|  16|    9|        19|        38|2020|202009|\n",
      "|2020-09-19 16:00:00|BSC_ABENGOUROU_1|  OCI0005_ABENGOUROU|OCI0005_ABENGOURO...|        22.11|  16|    9|        19|        38|2020|202009|\n",
      "|2020-09-19 16:00:00|BSC_ABENGOUROU_1|  OCI0005_ABENGOUROU|OCI0005_ABENGOURO...|        23.06|  16|    9|        19|        38|2020|202009|\n",
      "|2020-09-19 16:00:00|BSC_ABENGOUROU_1|OCI0006_S_ABENGOU...|OCI0006_S_ABENGOU...|        46.21|  16|    9|        19|        38|2020|202009|\n",
      "|2020-09-19 16:00:00|BSC_ABENGOUROU_1|OCI0006_S_ABENGOU...|OCI0006_S_ABENGOU...|        18.29|  16|    9|        19|        38|2020|202009|\n",
      "|2020-09-19 16:00:00|BSC_ABENGOUROU_1|OCI0006_S_ABENGOU...|OCI0006_S_ABENGOU...|        23.23|  16|    9|        19|        38|2020|202009|\n",
      "|2020-09-19 16:00:00|BSC_ABENGOUROU_1|OCI0006_S_ABENGOU...|OCI0006_S_ABENGOU...|        19.16|  16|    9|        19|        38|2020|202009|\n",
      "|2020-09-19 16:00:00|BSC_ABENGOUROU_1|OCI0006_S_ABENGOU...|OCI0006_S_ABENGOU...|         9.27|  16|    9|        19|        38|2020|202009|\n",
      "|2020-09-19 16:00:00|BSC_ABENGOUROU_1|OCI0006_S_ABENGOU...|OCI0006_S_ABENGOU...|        20.96|  16|    9|        19|        38|2020|202009|\n",
      "|2020-09-19 16:00:00|BSC_ABENGOUROU_1|  OCI0016_S_ABONGOUA|OCI0016_S_ABONGOU...|        19.89|  16|    9|        19|        38|2020|202009|\n",
      "|2020-09-19 16:00:00|BSC_ABENGOUROU_1|  OCI0016_S_ABONGOUA|OCI0016_S_ABONGOU...|          5.8|  16|    9|        19|        38|2020|202009|\n",
      "|2020-09-19 16:00:00|BSC_ABENGOUROU_1|  OCI0016_S_ABONGOUA|OCI0016_S_ABONGOU...|        49.95|  16|    9|        19|        38|2020|202009|\n",
      "|2020-09-19 16:00:00|BSC_ABENGOUROU_1|  OCI0016_S_ABONGOUA|OCI0016_S_ABONGOU...|         19.8|  16|    9|        19|        38|2020|202009|\n",
      "|2020-09-19 16:00:00|BSC_ABENGOUROU_1|  OCI0016_S_ABONGOUA|OCI0016_S_ABONGOU...|        32.32|  16|    9|        19|        38|2020|202009|\n",
      "|2020-09-19 16:00:00|BSC_ABENGOUROU_1|  OCI0016_S_ABONGOUA|OCI0016_S_ABONGOU...|        14.19|  16|    9|        19|        38|2020|202009|\n",
      "|2020-09-19 16:00:00|BSC_ABENGOUROU_1|OCI0017_S_ABONGOU...|OCI0017_S_ABONGOU...|        35.06|  16|    9|        19|        38|2020|202009|\n",
      "|2020-09-19 16:00:00|BSC_ABENGOUROU_1|OCI0017_S_ABONGOU...|OCI0017_S_ABONGOU...|        14.23|  16|    9|        19|        38|2020|202009|\n",
      "+-------------------+----------------+--------------------+--------------------+-------------+----+-----+----------+----------+----+------+\n",
      "only showing top 20 rows\n",
      "\n"
     ]
    }
   ],
   "source": [
    "## Add period to the dataframe\n",
    "def getPeriodo(month, year):\n",
    "    if int(month) <10:\n",
    "        month = \"0\" + str(month)\n",
    "    return [str(year) + str(month)]\n",
    "getPeriodo = udf(getPeriodo, ArrayType(StringType()))\n",
    "\n",
    "df_timeslot_2G = df_timeslot_2G.withColumn(\"period\",*[getPeriodo('month', 'year')[i] for i in range(0, 1)])\n",
    "df_timeslot_2G.show()"
   ]
  },
  {
   "cell_type": "code",
   "execution_count": 32,
   "metadata": {},
   "outputs": [
    {
     "name": "stdout",
     "output_type": "stream",
     "text": [
      "+----+-----+------+\n",
      "|hour|month|period|\n",
      "+----+-----+------+\n",
      "|  16|    9|202009|\n",
      "|  16|    9|202009|\n",
      "|  16|    9|202009|\n",
      "|  16|    9|202009|\n",
      "|  16|    9|202009|\n",
      "|  16|    9|202009|\n",
      "|  16|    9|202009|\n",
      "|  16|    9|202009|\n",
      "|  16|    9|202009|\n",
      "|  16|    9|202009|\n",
      "|  16|    9|202009|\n",
      "|  16|    9|202009|\n",
      "|  16|    9|202009|\n",
      "|  16|    9|202009|\n",
      "|  16|    9|202009|\n",
      "|  16|    9|202009|\n",
      "|  16|    9|202009|\n",
      "|  16|    9|202009|\n",
      "|  16|    9|202009|\n",
      "|  16|    9|202009|\n",
      "+----+-----+------+\n",
      "only showing top 20 rows\n",
      "\n"
     ]
    }
   ],
   "source": [
    "df_timeslot_2G.select('hour', 'month', *[getPeriodo('month', 'year')[i] for i in range(0, 1)]) \\\n",
    "                  .toDF('hour', 'month', 'period').show()"
   ]
  },
  {
   "cell_type": "code",
   "execution_count": 43,
   "metadata": {},
   "outputs": [
    {
     "name": "stdout",
     "output_type": "stream",
     "text": [
      "+-------------------+----------------+------------------+--------------------+-------------+----+-----+----------+----------+----+------+-----------+-------+\n",
      "|               date|        BSC_name|          BCF_name|            BTS_name|timeslot_util|hour|month|dayofmonth|weekofyear|year|period|week_period|weekday|\n",
      "+-------------------+----------------+------------------+--------------------+-------------+----+-----+----------+----------+----+------+-----------+-------+\n",
      "|2020-09-19 16:00:00|BSC_ABENGOUROU_1|OCI0005_ABENGOUROU|OCI0005_ABENGOURO...|        36.07|  16|    9|        19|        38|2020|202009|     202038|    Sat|\n",
      "|2020-09-19 16:00:00|BSC_ABENGOUROU_1|OCI0005_ABENGOUROU|OCI0005_ABENGOURO...|        46.43|  16|    9|        19|        38|2020|202009|     202038|    Sat|\n",
      "|2020-09-19 16:00:00|BSC_ABENGOUROU_1|OCI0005_ABENGOUROU|OCI0005_ABENGOURO...|        30.96|  16|    9|        19|        38|2020|202009|     202038|    Sat|\n",
      "+-------------------+----------------+------------------+--------------------+-------------+----+-----+----------+----------+----+------+-----------+-------+\n",
      "only showing top 3 rows\n",
      "\n"
     ]
    }
   ],
   "source": [
    "df_timeslot_2G = df_timeslot_2G.withColumn(\"week_period\",*[getPeriodo('weekofyear', 'year')[i] for i in range(0, 1)])\n",
    "df_timeslot_2G.show(3)"
   ]
  },
  {
   "cell_type": "code",
   "execution_count": 64,
   "metadata": {},
   "outputs": [
    {
     "name": "stdout",
     "output_type": "stream",
     "text": [
      "+----------------+-----------+-----------------+-----------------+------------------+\n",
      "|        BSC_name|week_period|min_time_slot_all|max_time_slot_all| avg_time_slot_all|\n",
      "+----------------+-----------+-----------------+-----------------+------------------+\n",
      "|BSC_ABENGOUROU_1|     202040|              0.0|             98.7|21.636957161106604|\n",
      "|BSC_ABENGOUROU_1|     202042|              0.0|            99.95|21.620607014743126|\n",
      "|BSC_ABENGOUROU_1|     202039|              0.0|            97.55|21.195860754554857|\n",
      "+----------------+-----------+-----------------+-----------------+------------------+\n",
      "only showing top 3 rows\n",
      "\n"
     ]
    }
   ],
   "source": [
    "\n",
    "from pyspark.sql import functions as F\n",
    "\n",
    "df_timeslot_2G_agg = df_timeslot_2G.groupBy(['BSC_name','week_period']).agg(F.min('timeslot_util'), F.max('timeslot_util'), F.mean('timeslot_util'))\n",
    "\n",
    "## Change name columns\n",
    "oldColumns = ['BSC_name', 'week_period', 'min(timeslot_util)', 'max(timeslot_util)','avg(timeslot_util)']\n",
    "newColumns = ['BSC_name', 'week_period', 'min_time_slot_all', 'max_time_slot_all','avg_time_slot_all']\n",
    "df_timeslot_2G_agg = reduce(lambda df_timeslot_2G_agg, idx: df_timeslot_2G_agg.withColumnRenamed(oldColumns[idx], newColumns[idx]), range(len(oldColumns)), df_timeslot_2G_agg)\n",
    "\n",
    "df_timeslot_2G_agg.show(3)"
   ]
  },
  {
   "cell_type": "code",
   "execution_count": 65,
   "metadata": {},
   "outputs": [
    {
     "name": "stdout",
     "output_type": "stream",
     "text": [
      "+----------------+-----------+---------------------+---------------------+---------------------+\n",
      "|        BSC_name|week_period|min_time_slot_weekend|max_time_slot_weekend|avg_time_slot_weekend|\n",
      "+----------------+-----------+---------------------+---------------------+---------------------+\n",
      "|BSC_ABENGOUROU_1|     202040|                  0.0|                 98.7|    22.06136031866641|\n",
      "|BSC_ABENGOUROU_1|     202042|                  0.0|                99.95|   22.248899696467866|\n",
      "|BSC_ABENGOUROU_1|     202039|                  0.0|                97.25|   21.406300326820187|\n",
      "|BSC_ABENGOUROU_1|     202041|                  0.0|                98.54|    20.81176427980175|\n",
      "|BSC_ABENGOUROU_1|     202038|                  0.0|                96.94|   22.474968906772457|\n",
      "|    BSC_BOUAKE_1|     202039|                  0.0|                99.13|   12.940757931542676|\n",
      "|    BSC_BOUAKE_1|     202038|                  0.0|                99.15|   15.095980012690527|\n",
      "+----------------+-----------+---------------------+---------------------+---------------------+\n",
      "\n"
     ]
    }
   ],
   "source": [
    "## Get info of weekend\n",
    "df_timeslot_2G_weekend = df_timeslot_2G.filter((df_timeslot_2G.weekday.isin(['Sat','Sun','Fri'])))\n",
    "df_timeslot_2G_weekend_agg = df_timeslot_2G_weekend.groupBy(['BSC_name','week_period']).agg(F.min('timeslot_util'), F.max('timeslot_util'), F.mean('timeslot_util'))\n",
    "\n",
    "## Change name columns\n",
    "oldColumns = ['BSC_name', 'week_period', 'min(timeslot_util)', 'max(timeslot_util)','avg(timeslot_util)']\n",
    "newColumns = ['BSC_name', 'week_period', 'min_time_slot_weekend', 'max_time_slot_weekend','avg_time_slot_weekend']\n",
    "df_timeslot_2G_weekend_agg = reduce(lambda df_timeslot_2G_weekend_agg, idx: df_timeslot_2G_weekend_agg.withColumnRenamed(oldColumns[idx], newColumns[idx]), range(len(oldColumns)), df_timeslot_2G_weekend_agg)\n",
    "\n",
    "df_timeslot_2G_weekend_agg.show()"
   ]
  },
  {
   "cell_type": "code",
   "execution_count": 66,
   "metadata": {},
   "outputs": [
    {
     "name": "stdout",
     "output_type": "stream",
     "text": [
      "+----------------+-----------+-------------------------+-------------------------+-------------------------+\n",
      "|        BSC_name|week_period|min_time_slot_not_weekend|max_time_slot_not_weekend|avg_time_slot_not_weekend|\n",
      "+----------------+-----------+-------------------------+-------------------------+-------------------------+\n",
      "|BSC_ABENGOUROU_1|     202040|                      0.0|                    97.58|        21.31668586669481|\n",
      "|BSC_ABENGOUROU_1|     202042|                      0.0|                    99.44|       21.149387503449365|\n",
      "|BSC_ABENGOUROU_1|     202039|                      0.0|                    97.55|        21.03604743883108|\n",
      "|BSC_ABENGOUROU_1|     202041|                      0.0|                    98.07|        21.62855770557422|\n",
      "|    BSC_BOUAKE_1|     202039|                      0.0|                    99.42|       14.458623942470487|\n",
      "|BSC_ABENGOUROU_1|     202043|                      0.0|                     97.1|        16.97109437086095|\n",
      "+----------------+-----------+-------------------------+-------------------------+-------------------------+\n",
      "\n"
     ]
    }
   ],
   "source": [
    "df_timeslot_2G_not_weekend = df_timeslot_2G.filter((df_timeslot_2G.weekday.isin(['Mon','Tue','Wed','Thu'])))\n",
    "df_timeslot_2G_not_weekend_agg = df_timeslot_2G_not_weekend.groupBy(['BSC_name','week_period']).agg(F.min('timeslot_util'), F.max('timeslot_util'), F.mean('timeslot_util'))\n",
    "\n",
    "## Change name columns\n",
    "oldColumns = ['BSC_name', 'week_period', 'min(timeslot_util)', 'max(timeslot_util)','avg(timeslot_util)']\n",
    "newColumns = ['BSC_name', 'week_period', 'min_time_slot_not_weekend', 'max_time_slot_not_weekend','avg_time_slot_not_weekend']\n",
    "df_timeslot_2G_not_weekend_agg = reduce(lambda df_timeslot_2G_not_weekend_agg, idx: df_timeslot_2G_not_weekend_agg.withColumnRenamed(oldColumns[idx], newColumns[idx]), range(len(oldColumns)), df_timeslot_2G_not_weekend_agg)\n",
    "\n",
    "df_timeslot_2G_not_weekend_agg.show()"
   ]
  },
  {
   "cell_type": "code",
   "execution_count": 69,
   "metadata": {},
   "outputs": [],
   "source": [
    "## Merge dataset \n",
    "\n",
    "final_df = df_timeslot_2G_agg.join(df_timeslot_2G_weekend_agg,\n",
    "                                  on = ['BSC_name','week_period'],\n",
    "                                  how = 'left')\n",
    "final_df = final_df.join(df_timeslot_2G_not_weekend_agg,\n",
    "                         on = ['BSC_name','week_period'],\n",
    "                                  how = 'left')"
   ]
  },
  {
   "cell_type": "code",
   "execution_count": 70,
   "metadata": {},
   "outputs": [
    {
     "name": "stdout",
     "output_type": "stream",
     "text": [
      "+----------------+-----------+-----------------+-----------------+------------------+---------------------+---------------------+---------------------+-------------------------+-------------------------+-------------------------+\n",
      "|        BSC_name|week_period|min_time_slot_all|max_time_slot_all| avg_time_slot_all|min_time_slot_weekend|max_time_slot_weekend|avg_time_slot_weekend|min_time_slot_not_weekend|max_time_slot_not_weekend|avg_time_slot_not_weekend|\n",
      "+----------------+-----------+-----------------+-----------------+------------------+---------------------+---------------------+---------------------+-------------------------+-------------------------+-------------------------+\n",
      "|BSC_ABENGOUROU_1|     202040|              0.0|             98.7|21.636957161106604|                  0.0|                 98.7|    22.06136031866641|                      0.0|                    97.58|        21.31668586669481|\n",
      "|BSC_ABENGOUROU_1|     202042|              0.0|            99.95|21.620607014743126|                  0.0|                99.95|   22.248899696467866|                      0.0|                    99.44|       21.149387503449365|\n",
      "|BSC_ABENGOUROU_1|     202039|              0.0|            97.55|21.195860754554857|                  0.0|                97.25|   21.406300326820187|                      0.0|                    97.55|        21.03604743883108|\n",
      "|BSC_ABENGOUROU_1|     202041|              0.0|            98.54| 21.27850338024308|                  0.0|                98.54|    20.81176427980175|                      0.0|                    98.07|        21.62855770557422|\n",
      "|BSC_ABENGOUROU_1|     202038|              0.0|            96.94|22.474968906772457|                  0.0|                96.94|   22.474968906772457|                     null|                     null|                     null|\n",
      "|    BSC_BOUAKE_1|     202039|              0.0|            99.42|13.879453771345434|                  0.0|                99.13|   12.940757931542676|                      0.0|                    99.42|       14.458623942470487|\n",
      "|BSC_ABENGOUROU_1|     202043|              0.0|             97.1| 16.97109437086095|                 null|                 null|                 null|                      0.0|                     97.1|        16.97109437086095|\n",
      "|    BSC_BOUAKE_1|     202038|              0.0|            99.15|15.095980012690527|                  0.0|                99.15|   15.095980012690527|                     null|                     null|                     null|\n",
      "+----------------+-----------+-----------------+-----------------+------------------+---------------------+---------------------+---------------------+-------------------------+-------------------------+-------------------------+\n",
      "\n"
     ]
    }
   ],
   "source": [
    "final_df.show()"
   ]
  },
  {
   "cell_type": "code",
   "execution_count": null,
   "metadata": {},
   "outputs": [],
   "source": []
  }
 ],
 "metadata": {
  "kernelspec": {
   "display_name": "Python 3",
   "language": "python",
   "name": "python3"
  },
  "language_info": {
   "codemirror_mode": {
    "name": "ipython",
    "version": 3
   },
   "file_extension": ".py",
   "mimetype": "text/x-python",
   "name": "python",
   "nbconvert_exporter": "python",
   "pygments_lexer": "ipython3",
   "version": "3.8.3"
  }
 },
 "nbformat": 4,
 "nbformat_minor": 4
}
