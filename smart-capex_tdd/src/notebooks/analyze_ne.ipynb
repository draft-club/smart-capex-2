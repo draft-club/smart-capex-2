{
 "cells": [
  {
   "cell_type": "code",
   "execution_count": 1,
   "id": "initial_id",
   "metadata": {
    "collapsed": true,
    "ExecuteTime": {
     "end_time": "2024-07-12T08:50:32.070068300Z",
     "start_time": "2024-07-12T08:50:32.061896Z"
    }
   },
   "outputs": [],
   "source": [
    "import os"
   ]
  },
  {
   "cell_type": "code",
   "execution_count": 1,
   "outputs": [],
   "source": [],
   "metadata": {
    "collapsed": false,
    "ExecuteTime": {
     "end_time": "2024-07-12T08:50:32.967034300Z",
     "start_time": "2024-07-12T08:50:32.951404800Z"
    }
   },
   "id": "d4db7052fc07cb32"
  },
  {
   "cell_type": "code",
   "execution_count": 1,
   "outputs": [],
   "source": [],
   "metadata": {
    "collapsed": false,
    "ExecuteTime": {
     "end_time": "2024-07-12T08:50:33.259000900Z",
     "start_time": "2024-07-12T08:50:33.253258200Z"
    }
   },
   "id": "ea3af07b6beaafc6"
  },
  {
   "cell_type": "code",
   "execution_count": 7,
   "outputs": [],
   "source": [
    "def generate_tree_structure(startpath, exclude=None, file_out='README_test.md'):\n",
    "    exclude = set(exclude) if exclude else set()\n",
    "    with open(file_out, 'w', encoding='utf-8') as f:\n",
    "        for root, dirs, files in os.walk(startpath):\n",
    "            # Exclude directories\n",
    "            dirs[:] = [d for d in dirs if d not in exclude]\n",
    "            level = root.replace(startpath, '').count(os.sep)\n",
    "            indent = ' ' * 4 * (level - 1) if level > 0 else ''\n",
    "            f.write(f'{indent}├── {os.path.basename(root)}/\\n')\n",
    "            subindent = ' ' * 4 * level\n",
    "            for file in files:\n",
    "                if file not in exclude:\n",
    "                    f.write(f'{subindent}    ├── {file}\\n')"
   ],
   "metadata": {
    "collapsed": false,
    "ExecuteTime": {
     "end_time": "2024-07-12T08:59:26.122889800Z",
     "start_time": "2024-07-12T08:59:26.109528200Z"
    }
   },
   "id": "3836254eff57fe72"
  },
  {
   "cell_type": "code",
   "execution_count": 8,
   "outputs": [],
   "source": [
    "generate_tree_structure('.', exclude={'build', 'doctrees', 'html', '.git', '__pycache__', '.idea', '.pytest_cache', '.venv', 'data', 'logs'})"
   ],
   "metadata": {
    "collapsed": false,
    "ExecuteTime": {
     "end_time": "2024-07-12T08:59:26.601750800Z",
     "start_time": "2024-07-12T08:59:26.581148Z"
    }
   },
   "id": "e6cb5129d37dd1ac"
  },
  {
   "cell_type": "code",
   "execution_count": null,
   "outputs": [],
   "source": [],
   "metadata": {
    "collapsed": false
   },
   "id": "3ffea2f8f6726a6b"
  }
 ],
 "metadata": {
  "kernelspec": {
   "display_name": "Python 3",
   "language": "python",
   "name": "python3"
  },
  "language_info": {
   "codemirror_mode": {
    "name": "ipython",
    "version": 2
   },
   "file_extension": ".py",
   "mimetype": "text/x-python",
   "name": "python",
   "nbconvert_exporter": "python",
   "pygments_lexer": "ipython2",
   "version": "2.7.6"
  }
 },
 "nbformat": 4,
 "nbformat_minor": 5
}
