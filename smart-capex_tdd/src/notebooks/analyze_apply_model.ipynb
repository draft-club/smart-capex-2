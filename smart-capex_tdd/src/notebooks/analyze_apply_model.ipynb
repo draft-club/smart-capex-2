{
 "cells": [
  {
   "cell_type": "code",
   "execution_count": 1,
   "id": "initial_id",
   "metadata": {
    "collapsed": true,
    "ExecuteTime": {
     "end_time": "2024-05-22T08:02:07.229634700Z",
     "start_time": "2024-05-22T08:02:06.868952600Z"
    }
   },
   "outputs": [],
   "source": [
    "import pandas as pd\n"
   ]
  },
  {
   "cell_type": "code",
   "execution_count": 3,
   "outputs": [
    {
     "data": {
      "text/plain": "                  site_id  week_of_the_upgrade bands_upgraded  \\\n0     siteDenisfication_1               202426  densification   \n1     siteDenisfication_1               202426  densification   \n2     siteDenisfication_1               202426  densification   \n3     siteDenisfication_1               202426  densification   \n4     siteDenisfication_1               202426  densification   \n...                   ...                  ...            ...   \n9875  siteDenisfication_9               202426  densification   \n9876  siteDenisfication_9               202426  densification   \n9877  siteDenisfication_9               202426  densification   \n9878  siteDenisfication_9               202426  densification   \n9879  siteDenisfication_9               202426  densification   \n\n      n_traffic_before  pred_traffic    pred_prb  trafic_improvement  \\\n0          2928.776764   2892.218609  674.580222          -36.558155   \n1          2928.776764   2892.218609  674.580222          -36.558155   \n2          2928.776764   2892.218609  674.580222          -36.558155   \n3          2928.776764   2892.218609  674.580222          -36.558155   \n4          2928.776764   2892.218609  674.580222          -36.558155   \n...                ...           ...         ...                 ...   \n9875       7338.560924   6659.518937  681.123423         -679.041987   \n9876       7338.560924   6659.518937  681.123423         -679.041987   \n9877       7338.560924   6659.518937  681.123423         -679.041987   \n9878       7338.560924   6659.518937  681.123423         -679.041987   \n9879       7338.560924   6659.518937  681.123423         -679.041987   \n\n            date  week_period  lag_between_the_upgrade  \n0     2024-07-07       202427                        1  \n1     2024-07-14       202428                        2  \n2     2024-07-21       202429                        3  \n3     2024-07-28       202430                        4  \n4     2024-08-04       202431                        5  \n...          ...          ...                      ...  \n9875  2029-05-27       202921                      256  \n9876  2029-06-03       202922                      257  \n9877  2029-06-10       202923                      258  \n9878  2029-06-17       202924                      259  \n9879  2029-06-24       202925                      260  \n\n[9880 rows x 10 columns]",
      "text/html": "<div>\n<style scoped>\n    .dataframe tbody tr th:only-of-type {\n        vertical-align: middle;\n    }\n\n    .dataframe tbody tr th {\n        vertical-align: top;\n    }\n\n    .dataframe thead th {\n        text-align: right;\n    }\n</style>\n<table border=\"1\" class=\"dataframe\">\n  <thead>\n    <tr style=\"text-align: right;\">\n      <th></th>\n      <th>site_id</th>\n      <th>week_of_the_upgrade</th>\n      <th>bands_upgraded</th>\n      <th>n_traffic_before</th>\n      <th>pred_traffic</th>\n      <th>pred_prb</th>\n      <th>trafic_improvement</th>\n      <th>date</th>\n      <th>week_period</th>\n      <th>lag_between_the_upgrade</th>\n    </tr>\n  </thead>\n  <tbody>\n    <tr>\n      <th>0</th>\n      <td>siteDenisfication_1</td>\n      <td>202426</td>\n      <td>densification</td>\n      <td>2928.776764</td>\n      <td>2892.218609</td>\n      <td>674.580222</td>\n      <td>-36.558155</td>\n      <td>2024-07-07</td>\n      <td>202427</td>\n      <td>1</td>\n    </tr>\n    <tr>\n      <th>1</th>\n      <td>siteDenisfication_1</td>\n      <td>202426</td>\n      <td>densification</td>\n      <td>2928.776764</td>\n      <td>2892.218609</td>\n      <td>674.580222</td>\n      <td>-36.558155</td>\n      <td>2024-07-14</td>\n      <td>202428</td>\n      <td>2</td>\n    </tr>\n    <tr>\n      <th>2</th>\n      <td>siteDenisfication_1</td>\n      <td>202426</td>\n      <td>densification</td>\n      <td>2928.776764</td>\n      <td>2892.218609</td>\n      <td>674.580222</td>\n      <td>-36.558155</td>\n      <td>2024-07-21</td>\n      <td>202429</td>\n      <td>3</td>\n    </tr>\n    <tr>\n      <th>3</th>\n      <td>siteDenisfication_1</td>\n      <td>202426</td>\n      <td>densification</td>\n      <td>2928.776764</td>\n      <td>2892.218609</td>\n      <td>674.580222</td>\n      <td>-36.558155</td>\n      <td>2024-07-28</td>\n      <td>202430</td>\n      <td>4</td>\n    </tr>\n    <tr>\n      <th>4</th>\n      <td>siteDenisfication_1</td>\n      <td>202426</td>\n      <td>densification</td>\n      <td>2928.776764</td>\n      <td>2892.218609</td>\n      <td>674.580222</td>\n      <td>-36.558155</td>\n      <td>2024-08-04</td>\n      <td>202431</td>\n      <td>5</td>\n    </tr>\n    <tr>\n      <th>...</th>\n      <td>...</td>\n      <td>...</td>\n      <td>...</td>\n      <td>...</td>\n      <td>...</td>\n      <td>...</td>\n      <td>...</td>\n      <td>...</td>\n      <td>...</td>\n      <td>...</td>\n    </tr>\n    <tr>\n      <th>9875</th>\n      <td>siteDenisfication_9</td>\n      <td>202426</td>\n      <td>densification</td>\n      <td>7338.560924</td>\n      <td>6659.518937</td>\n      <td>681.123423</td>\n      <td>-679.041987</td>\n      <td>2029-05-27</td>\n      <td>202921</td>\n      <td>256</td>\n    </tr>\n    <tr>\n      <th>9876</th>\n      <td>siteDenisfication_9</td>\n      <td>202426</td>\n      <td>densification</td>\n      <td>7338.560924</td>\n      <td>6659.518937</td>\n      <td>681.123423</td>\n      <td>-679.041987</td>\n      <td>2029-06-03</td>\n      <td>202922</td>\n      <td>257</td>\n    </tr>\n    <tr>\n      <th>9877</th>\n      <td>siteDenisfication_9</td>\n      <td>202426</td>\n      <td>densification</td>\n      <td>7338.560924</td>\n      <td>6659.518937</td>\n      <td>681.123423</td>\n      <td>-679.041987</td>\n      <td>2029-06-10</td>\n      <td>202923</td>\n      <td>258</td>\n    </tr>\n    <tr>\n      <th>9878</th>\n      <td>siteDenisfication_9</td>\n      <td>202426</td>\n      <td>densification</td>\n      <td>7338.560924</td>\n      <td>6659.518937</td>\n      <td>681.123423</td>\n      <td>-679.041987</td>\n      <td>2029-06-17</td>\n      <td>202924</td>\n      <td>259</td>\n    </tr>\n    <tr>\n      <th>9879</th>\n      <td>siteDenisfication_9</td>\n      <td>202426</td>\n      <td>densification</td>\n      <td>7338.560924</td>\n      <td>6659.518937</td>\n      <td>681.123423</td>\n      <td>-679.041987</td>\n      <td>2029-06-24</td>\n      <td>202925</td>\n      <td>260</td>\n    </tr>\n  </tbody>\n</table>\n<p>9880 rows × 10 columns</p>\n</div>"
     },
     "execution_count": 3,
     "metadata": {},
     "output_type": "execute_result"
    }
   ],
   "source": [
    "df = pd.read_csv(r'C:\\Users\\hwfj3140\\Documents\\SmartCapex\\TDD\\Resultats\\Result_train_20240521\\df_predicted_increase_in_traffic_by_densifcation.csv', sep='|')\n",
    "df"
   ],
   "metadata": {
    "collapsed": false,
    "ExecuteTime": {
     "end_time": "2024-05-22T08:02:22.666033Z",
     "start_time": "2024-05-22T08:02:22.622339300Z"
    }
   },
   "id": "bb138dda59f3cb59"
  },
  {
   "cell_type": "code",
   "execution_count": 4,
   "outputs": [],
   "source": [
    "df['delta_xgb'] = df.pred_traffic - df.n_traffic_before\n"
   ],
   "metadata": {
    "collapsed": false,
    "ExecuteTime": {
     "end_time": "2024-05-22T08:04:42.233712500Z",
     "start_time": "2024-05-22T08:04:42.198681600Z"
    }
   },
   "id": "5741e870961e66a1"
  },
  {
   "cell_type": "code",
   "execution_count": 6,
   "outputs": [],
   "source": [
    "dfgroupby = df.groupby('site_id').agg({'n_traffic_before': 'mean',\n",
    "                                                     'pred_traffic': 'mean',\n",
    "                                                     'trafic_improvement': 'mean',\n",
    "                                                     'delta_xgb': 'mean'})"
   ],
   "metadata": {
    "collapsed": false,
    "ExecuteTime": {
     "end_time": "2024-05-22T08:05:19.341380200Z",
     "start_time": "2024-05-22T08:05:19.321382500Z"
    }
   },
   "id": "14e70387b8c2fcd"
  },
  {
   "cell_type": "code",
   "execution_count": 7,
   "outputs": [],
   "source": [
    "resume_apply_model = pd.DataFrame(data=[dfgroupby.n_traffic_before.describe(),dfgroupby.pred_traffic.describe(),dfgroupby.delta_xgb.describe()])"
   ],
   "metadata": {
    "collapsed": false,
    "ExecuteTime": {
     "end_time": "2024-05-22T08:06:22.534577500Z",
     "start_time": "2024-05-22T08:06:22.508091600Z"
    }
   },
   "id": "cee862e13e8640bc"
  },
  {
   "cell_type": "code",
   "execution_count": 8,
   "outputs": [
    {
     "data": {
      "text/plain": "                  count         mean          std          min          25%  \\\nn_traffic_before   38.0  5535.703476  2646.070521   786.349473  3632.414853   \npred_traffic       38.0  5095.061899  2233.551491  1052.976343  3124.295594   \ndelta_xgb          38.0  -440.641577   646.300943 -3219.514524  -570.366268   \n\n                          50%          75%           max  \nn_traffic_before  5996.762784  7160.827354  12014.389506  \npred_traffic      5384.812850  6659.518937   8794.874982  \ndelta_xgb         -370.134639   -47.038088    266.626870  ",
      "text/html": "<div>\n<style scoped>\n    .dataframe tbody tr th:only-of-type {\n        vertical-align: middle;\n    }\n\n    .dataframe tbody tr th {\n        vertical-align: top;\n    }\n\n    .dataframe thead th {\n        text-align: right;\n    }\n</style>\n<table border=\"1\" class=\"dataframe\">\n  <thead>\n    <tr style=\"text-align: right;\">\n      <th></th>\n      <th>count</th>\n      <th>mean</th>\n      <th>std</th>\n      <th>min</th>\n      <th>25%</th>\n      <th>50%</th>\n      <th>75%</th>\n      <th>max</th>\n    </tr>\n  </thead>\n  <tbody>\n    <tr>\n      <th>n_traffic_before</th>\n      <td>38.0</td>\n      <td>5535.703476</td>\n      <td>2646.070521</td>\n      <td>786.349473</td>\n      <td>3632.414853</td>\n      <td>5996.762784</td>\n      <td>7160.827354</td>\n      <td>12014.389506</td>\n    </tr>\n    <tr>\n      <th>pred_traffic</th>\n      <td>38.0</td>\n      <td>5095.061899</td>\n      <td>2233.551491</td>\n      <td>1052.976343</td>\n      <td>3124.295594</td>\n      <td>5384.812850</td>\n      <td>6659.518937</td>\n      <td>8794.874982</td>\n    </tr>\n    <tr>\n      <th>delta_xgb</th>\n      <td>38.0</td>\n      <td>-440.641577</td>\n      <td>646.300943</td>\n      <td>-3219.514524</td>\n      <td>-570.366268</td>\n      <td>-370.134639</td>\n      <td>-47.038088</td>\n      <td>266.626870</td>\n    </tr>\n  </tbody>\n</table>\n</div>"
     },
     "execution_count": 8,
     "metadata": {},
     "output_type": "execute_result"
    }
   ],
   "source": [
    "resume_apply_model"
   ],
   "metadata": {
    "collapsed": false,
    "ExecuteTime": {
     "end_time": "2024-05-22T08:06:30.257096200Z",
     "start_time": "2024-05-22T08:06:30.233593400Z"
    }
   },
   "id": "ea61c49605b89f07"
  },
  {
   "cell_type": "code",
   "execution_count": 9,
   "outputs": [
    {
     "data": {
      "text/plain": "       n_traffic_before  pred_traffic    delta_xgb\ncount         38.000000     38.000000    38.000000\nmean        5535.703476   5095.061899  -440.641577\nstd         2646.070521   2233.551491   646.300943\nmin          786.349473   1052.976343 -3219.514524\n25%         3632.414853   3124.295594  -570.366268\n50%         5996.762784   5384.812850  -370.134639\n75%         7160.827354   6659.518937   -47.038088\nmax        12014.389506   8794.874982   266.626870",
      "text/html": "<div>\n<style scoped>\n    .dataframe tbody tr th:only-of-type {\n        vertical-align: middle;\n    }\n\n    .dataframe tbody tr th {\n        vertical-align: top;\n    }\n\n    .dataframe thead th {\n        text-align: right;\n    }\n</style>\n<table border=\"1\" class=\"dataframe\">\n  <thead>\n    <tr style=\"text-align: right;\">\n      <th></th>\n      <th>n_traffic_before</th>\n      <th>pred_traffic</th>\n      <th>delta_xgb</th>\n    </tr>\n  </thead>\n  <tbody>\n    <tr>\n      <th>count</th>\n      <td>38.000000</td>\n      <td>38.000000</td>\n      <td>38.000000</td>\n    </tr>\n    <tr>\n      <th>mean</th>\n      <td>5535.703476</td>\n      <td>5095.061899</td>\n      <td>-440.641577</td>\n    </tr>\n    <tr>\n      <th>std</th>\n      <td>2646.070521</td>\n      <td>2233.551491</td>\n      <td>646.300943</td>\n    </tr>\n    <tr>\n      <th>min</th>\n      <td>786.349473</td>\n      <td>1052.976343</td>\n      <td>-3219.514524</td>\n    </tr>\n    <tr>\n      <th>25%</th>\n      <td>3632.414853</td>\n      <td>3124.295594</td>\n      <td>-570.366268</td>\n    </tr>\n    <tr>\n      <th>50%</th>\n      <td>5996.762784</td>\n      <td>5384.812850</td>\n      <td>-370.134639</td>\n    </tr>\n    <tr>\n      <th>75%</th>\n      <td>7160.827354</td>\n      <td>6659.518937</td>\n      <td>-47.038088</td>\n    </tr>\n    <tr>\n      <th>max</th>\n      <td>12014.389506</td>\n      <td>8794.874982</td>\n      <td>266.626870</td>\n    </tr>\n  </tbody>\n</table>\n</div>"
     },
     "execution_count": 9,
     "metadata": {},
     "output_type": "execute_result"
    }
   ],
   "source": [
    "resume_apply_model.T"
   ],
   "metadata": {
    "collapsed": false,
    "ExecuteTime": {
     "end_time": "2024-05-22T08:06:38.259930700Z",
     "start_time": "2024-05-22T08:06:38.241767400Z"
    }
   },
   "id": "a040937236f97b81"
  },
  {
   "cell_type": "code",
   "execution_count": 10,
   "outputs": [],
   "source": [
    "resume_apply_model.T.to_csv(r'C:\\Users\\hwfj3140\\Documents\\SmartCapex\\TDD\\Resultats\\Result_train_20240521\\statistic_apply.csv', sep='|', index=False)"
   ],
   "metadata": {
    "collapsed": false,
    "ExecuteTime": {
     "end_time": "2024-05-22T08:07:29.663908300Z",
     "start_time": "2024-05-22T08:07:29.638249100Z"
    }
   },
   "id": "80d7d156cf9c6055"
  },
  {
   "cell_type": "code",
   "execution_count": 1,
   "outputs": [],
   "source": [
    "import pandas as pd\n"
   ],
   "metadata": {
    "collapsed": false,
    "ExecuteTime": {
     "end_time": "2024-05-24T09:13:24.232741400Z",
     "start_time": "2024-05-24T09:13:23.899690300Z"
    }
   },
   "id": "8ff20fbc06180cfa"
  },
  {
   "cell_type": "code",
   "execution_count": 2,
   "outputs": [],
   "source": [
    "new_site = pd.read_csv(r'C:\\Users\\hwfj3140\\Documents\\SmartCapex\\TDD\\Resultats\\Run_Pipeline_22052024\\TRAIN\\new_sites.csv', sep='|')"
   ],
   "metadata": {
    "collapsed": false,
    "ExecuteTime": {
     "end_time": "2024-05-24T09:14:29.523683500Z",
     "start_time": "2024-05-24T09:14:29.360578200Z"
    }
   },
   "id": "cc46f9dea3a0e512"
  },
  {
   "cell_type": "code",
   "execution_count": 4,
   "outputs": [
    {
     "name": "stdout",
     "output_type": "stream",
     "text": [
      "Date Site min:  2022-01-03\n",
      "Date Site max:  2023-12-18\n",
      "Date  min:  2019-01-07\n",
      "Date  max:  2023-12-25\n"
     ]
    }
   ],
   "source": [
    "print('Date Site min: ', new_site.date_site.min())\n",
    "print('Date Site max: ', new_site.date_site.max())\n",
    "print('Date  min: ', new_site.date.min())\n",
    "print('Date  max: ', new_site.date.max())"
   ],
   "metadata": {
    "collapsed": false,
    "ExecuteTime": {
     "end_time": "2024-05-24T09:15:45.693230100Z",
     "start_time": "2024-05-24T09:15:45.649028100Z"
    }
   },
   "id": "1e3fa4e8d2ec3344"
  },
  {
   "cell_type": "code",
   "execution_count": null,
   "outputs": [],
   "source": [],
   "metadata": {
    "collapsed": false
   },
   "id": "79b09c257856928c"
  }
 ],
 "metadata": {
  "kernelspec": {
   "display_name": "Python 3",
   "language": "python",
   "name": "python3"
  },
  "language_info": {
   "codemirror_mode": {
    "name": "ipython",
    "version": 2
   },
   "file_extension": ".py",
   "mimetype": "text/x-python",
   "name": "python",
   "nbconvert_exporter": "python",
   "pygments_lexer": "ipython2",
   "version": "2.7.6"
  }
 },
 "nbformat": 4,
 "nbformat_minor": 5
}
