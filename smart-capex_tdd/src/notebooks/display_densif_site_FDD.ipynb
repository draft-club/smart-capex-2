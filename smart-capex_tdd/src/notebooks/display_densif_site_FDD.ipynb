{
 "cells": [
  {
   "cell_type": "code",
   "execution_count": 1,
   "id": "initial_id",
   "metadata": {
    "collapsed": true,
    "ExecuteTime": {
     "end_time": "2024-05-31T08:53:12.072465900Z",
     "start_time": "2024-05-31T08:53:11.438661600Z"
    }
   },
   "outputs": [],
   "source": [
    "import pandas as pd\n",
    "import folium\n",
    "from folium.plugins import MarkerCluster\n",
    "\n",
    "from folium.plugins import MarkerCluster\n"
   ]
  },
  {
   "cell_type": "code",
   "execution_count": 5,
   "outputs": [
    {
     "data": {
      "text/plain": "                     Cells  Congested Cells 3G  \\\n0      siteDenisfication_1                 NaN   \n1      siteDenisfication_1                 NaN   \n2      siteDenisfication_1                 NaN   \n3      siteDenisfication_2                 NaN   \n4      siteDenisfication_2                 NaN   \n..                     ...                 ...   \n300  siteDenisfication_165                 NaN   \n301  siteDenisfication_166                 NaN   \n302  siteDenisfication_167                 NaN   \n303  siteDenisfication_168                 NaN   \n304  siteDenisfication_169                 NaN   \n\n                             Congested Cells 4G  Offloading Carriers 3G  \\\n0    MAR1071_TDD_L1,MAR161_TDD_L1,MAR161_TDD_L4                       0   \n1    MAR1071_TDD_L1,MAR161_TDD_L1,MAR161_TDD_L4                       0   \n2    MAR1071_TDD_L1,MAR161_TDD_L1,MAR161_TDD_L4                       0   \n3                  MAR1071_TDD_L4,MAR161_TDD_L2                       0   \n4                  MAR1071_TDD_L4,MAR161_TDD_L2                       0   \n..                                          ...                     ...   \n300                               CHI908_TDD_L1                       0   \n301                               MEK350_TDD_L1                       0   \n302                               JAD654_TDD_L1                       0   \n303                               MAR086_TDD_L1                       0   \n304                               RAB056_TDD_L1                       0   \n\n     Offloading Sectors 4G  Densification Sites 3G  Densification Sites 4G  \\\n0                        3                       0                       1   \n1                        3                       0                       1   \n2                        3                       0                       1   \n3                        2                       0                       1   \n4                        2                       0                       1   \n..                     ...                     ...                     ...   \n300                      1                       0                       1   \n301                      2                       0                       1   \n302                      1                       0                       1   \n303                      1                       0                       1   \n304                      1                       0                       1   \n\n     latitude  longitude congested_cells  site_id  latitude_congest_cells  \\\n0    31.63078   -8.06118  MAR1071_TDD_L1  MAR1071               31.630000   \n1    31.63078   -8.06118   MAR161_TDD_L1   MAR161               31.631200   \n2    31.63078   -8.06118   MAR161_TDD_L4   MAR161               31.631200   \n3    31.63060   -8.06041  MAR1071_TDD_L4  MAR1071               31.630000   \n4    31.63060   -8.06041   MAR161_TDD_L2   MAR161               31.631200   \n..        ...        ...             ...      ...                     ...   \n300  31.62910   -8.08088   CHI908_TDD_L1   CHI908               31.629100   \n301  33.90132   -5.48539   MEK350_TDD_L1   MEK350               33.901319   \n302  33.23144   -8.52347   JAD654_TDD_L1   JAD654               33.231436   \n303  31.66260   -8.00086   MAR086_TDD_L1   MAR086               31.662600   \n304  33.97800   -6.81625   RAB056_TDD_L1   RAB056               33.978000   \n\n     longitude_congest_cells       cell_name  commune  ville  province  \\\n0                  -8.057944  MAR1071_TDD_L1      436    622        38   \n1                  -8.062900   MAR161_TDD_L1      436    622        38   \n2                  -8.062900   MAR161_TDD_L4      436    622        38   \n3                  -8.057944  MAR1071_TDD_L4      436    622        38   \n4                  -8.062900   MAR161_TDD_L2      436    622        38   \n..                       ...             ...      ...    ...       ...   \n300                -8.080880   CHI908_TDD_L1      857    622        38   \n301                -5.485389   MEK350_TDD_L1      761    633        39   \n302                -8.523475   JAD654_TDD_L1      374    353        17   \n303                -8.000860   MAR086_TDD_L1      436    622        38   \n304                -6.816250   RAB056_TDD_L1      389    791        50   \n\n     region      distance  rank  \n0         7  3.184776e-01   2.0  \n1         7  1.694607e-01   1.0  \n2         7  1.694607e-01   1.0  \n3         7  2.428584e-01   1.0  \n4         7  2.450797e-01   2.0  \n..      ...           ...   ...  \n300       7  0.000000e+00   1.0  \n301       3  1.215192e-04   1.0  \n302       4  6.360731e-04   1.0  \n303       7  1.505575e-13   1.0  \n304       9  0.000000e+00   1.0  \n\n[305 rows x 20 columns]",
      "text/html": "<div>\n<style scoped>\n    .dataframe tbody tr th:only-of-type {\n        vertical-align: middle;\n    }\n\n    .dataframe tbody tr th {\n        vertical-align: top;\n    }\n\n    .dataframe thead th {\n        text-align: right;\n    }\n</style>\n<table border=\"1\" class=\"dataframe\">\n  <thead>\n    <tr style=\"text-align: right;\">\n      <th></th>\n      <th>Cells</th>\n      <th>Congested Cells 3G</th>\n      <th>Congested Cells 4G</th>\n      <th>Offloading Carriers 3G</th>\n      <th>Offloading Sectors 4G</th>\n      <th>Densification Sites 3G</th>\n      <th>Densification Sites 4G</th>\n      <th>latitude</th>\n      <th>longitude</th>\n      <th>congested_cells</th>\n      <th>site_id</th>\n      <th>latitude_congest_cells</th>\n      <th>longitude_congest_cells</th>\n      <th>cell_name</th>\n      <th>commune</th>\n      <th>ville</th>\n      <th>province</th>\n      <th>region</th>\n      <th>distance</th>\n      <th>rank</th>\n    </tr>\n  </thead>\n  <tbody>\n    <tr>\n      <th>0</th>\n      <td>siteDenisfication_1</td>\n      <td>NaN</td>\n      <td>MAR1071_TDD_L1,MAR161_TDD_L1,MAR161_TDD_L4</td>\n      <td>0</td>\n      <td>3</td>\n      <td>0</td>\n      <td>1</td>\n      <td>31.63078</td>\n      <td>-8.06118</td>\n      <td>MAR1071_TDD_L1</td>\n      <td>MAR1071</td>\n      <td>31.630000</td>\n      <td>-8.057944</td>\n      <td>MAR1071_TDD_L1</td>\n      <td>436</td>\n      <td>622</td>\n      <td>38</td>\n      <td>7</td>\n      <td>3.184776e-01</td>\n      <td>2.0</td>\n    </tr>\n    <tr>\n      <th>1</th>\n      <td>siteDenisfication_1</td>\n      <td>NaN</td>\n      <td>MAR1071_TDD_L1,MAR161_TDD_L1,MAR161_TDD_L4</td>\n      <td>0</td>\n      <td>3</td>\n      <td>0</td>\n      <td>1</td>\n      <td>31.63078</td>\n      <td>-8.06118</td>\n      <td>MAR161_TDD_L1</td>\n      <td>MAR161</td>\n      <td>31.631200</td>\n      <td>-8.062900</td>\n      <td>MAR161_TDD_L1</td>\n      <td>436</td>\n      <td>622</td>\n      <td>38</td>\n      <td>7</td>\n      <td>1.694607e-01</td>\n      <td>1.0</td>\n    </tr>\n    <tr>\n      <th>2</th>\n      <td>siteDenisfication_1</td>\n      <td>NaN</td>\n      <td>MAR1071_TDD_L1,MAR161_TDD_L1,MAR161_TDD_L4</td>\n      <td>0</td>\n      <td>3</td>\n      <td>0</td>\n      <td>1</td>\n      <td>31.63078</td>\n      <td>-8.06118</td>\n      <td>MAR161_TDD_L4</td>\n      <td>MAR161</td>\n      <td>31.631200</td>\n      <td>-8.062900</td>\n      <td>MAR161_TDD_L4</td>\n      <td>436</td>\n      <td>622</td>\n      <td>38</td>\n      <td>7</td>\n      <td>1.694607e-01</td>\n      <td>1.0</td>\n    </tr>\n    <tr>\n      <th>3</th>\n      <td>siteDenisfication_2</td>\n      <td>NaN</td>\n      <td>MAR1071_TDD_L4,MAR161_TDD_L2</td>\n      <td>0</td>\n      <td>2</td>\n      <td>0</td>\n      <td>1</td>\n      <td>31.63060</td>\n      <td>-8.06041</td>\n      <td>MAR1071_TDD_L4</td>\n      <td>MAR1071</td>\n      <td>31.630000</td>\n      <td>-8.057944</td>\n      <td>MAR1071_TDD_L4</td>\n      <td>436</td>\n      <td>622</td>\n      <td>38</td>\n      <td>7</td>\n      <td>2.428584e-01</td>\n      <td>1.0</td>\n    </tr>\n    <tr>\n      <th>4</th>\n      <td>siteDenisfication_2</td>\n      <td>NaN</td>\n      <td>MAR1071_TDD_L4,MAR161_TDD_L2</td>\n      <td>0</td>\n      <td>2</td>\n      <td>0</td>\n      <td>1</td>\n      <td>31.63060</td>\n      <td>-8.06041</td>\n      <td>MAR161_TDD_L2</td>\n      <td>MAR161</td>\n      <td>31.631200</td>\n      <td>-8.062900</td>\n      <td>MAR161_TDD_L2</td>\n      <td>436</td>\n      <td>622</td>\n      <td>38</td>\n      <td>7</td>\n      <td>2.450797e-01</td>\n      <td>2.0</td>\n    </tr>\n    <tr>\n      <th>...</th>\n      <td>...</td>\n      <td>...</td>\n      <td>...</td>\n      <td>...</td>\n      <td>...</td>\n      <td>...</td>\n      <td>...</td>\n      <td>...</td>\n      <td>...</td>\n      <td>...</td>\n      <td>...</td>\n      <td>...</td>\n      <td>...</td>\n      <td>...</td>\n      <td>...</td>\n      <td>...</td>\n      <td>...</td>\n      <td>...</td>\n      <td>...</td>\n      <td>...</td>\n    </tr>\n    <tr>\n      <th>300</th>\n      <td>siteDenisfication_165</td>\n      <td>NaN</td>\n      <td>CHI908_TDD_L1</td>\n      <td>0</td>\n      <td>1</td>\n      <td>0</td>\n      <td>1</td>\n      <td>31.62910</td>\n      <td>-8.08088</td>\n      <td>CHI908_TDD_L1</td>\n      <td>CHI908</td>\n      <td>31.629100</td>\n      <td>-8.080880</td>\n      <td>CHI908_TDD_L1</td>\n      <td>857</td>\n      <td>622</td>\n      <td>38</td>\n      <td>7</td>\n      <td>0.000000e+00</td>\n      <td>1.0</td>\n    </tr>\n    <tr>\n      <th>301</th>\n      <td>siteDenisfication_166</td>\n      <td>NaN</td>\n      <td>MEK350_TDD_L1</td>\n      <td>0</td>\n      <td>2</td>\n      <td>0</td>\n      <td>1</td>\n      <td>33.90132</td>\n      <td>-5.48539</td>\n      <td>MEK350_TDD_L1</td>\n      <td>MEK350</td>\n      <td>33.901319</td>\n      <td>-5.485389</td>\n      <td>MEK350_TDD_L1</td>\n      <td>761</td>\n      <td>633</td>\n      <td>39</td>\n      <td>3</td>\n      <td>1.215192e-04</td>\n      <td>1.0</td>\n    </tr>\n    <tr>\n      <th>302</th>\n      <td>siteDenisfication_167</td>\n      <td>NaN</td>\n      <td>JAD654_TDD_L1</td>\n      <td>0</td>\n      <td>1</td>\n      <td>0</td>\n      <td>1</td>\n      <td>33.23144</td>\n      <td>-8.52347</td>\n      <td>JAD654_TDD_L1</td>\n      <td>JAD654</td>\n      <td>33.231436</td>\n      <td>-8.523475</td>\n      <td>JAD654_TDD_L1</td>\n      <td>374</td>\n      <td>353</td>\n      <td>17</td>\n      <td>4</td>\n      <td>6.360731e-04</td>\n      <td>1.0</td>\n    </tr>\n    <tr>\n      <th>303</th>\n      <td>siteDenisfication_168</td>\n      <td>NaN</td>\n      <td>MAR086_TDD_L1</td>\n      <td>0</td>\n      <td>1</td>\n      <td>0</td>\n      <td>1</td>\n      <td>31.66260</td>\n      <td>-8.00086</td>\n      <td>MAR086_TDD_L1</td>\n      <td>MAR086</td>\n      <td>31.662600</td>\n      <td>-8.000860</td>\n      <td>MAR086_TDD_L1</td>\n      <td>436</td>\n      <td>622</td>\n      <td>38</td>\n      <td>7</td>\n      <td>1.505575e-13</td>\n      <td>1.0</td>\n    </tr>\n    <tr>\n      <th>304</th>\n      <td>siteDenisfication_169</td>\n      <td>NaN</td>\n      <td>RAB056_TDD_L1</td>\n      <td>0</td>\n      <td>1</td>\n      <td>0</td>\n      <td>1</td>\n      <td>33.97800</td>\n      <td>-6.81625</td>\n      <td>RAB056_TDD_L1</td>\n      <td>RAB056</td>\n      <td>33.978000</td>\n      <td>-6.816250</td>\n      <td>RAB056_TDD_L1</td>\n      <td>389</td>\n      <td>791</td>\n      <td>50</td>\n      <td>9</td>\n      <td>0.000000e+00</td>\n      <td>1.0</td>\n    </tr>\n  </tbody>\n</table>\n<p>305 rows × 20 columns</p>\n</div>"
     },
     "execution_count": 5,
     "metadata": {},
     "output_type": "execute_result"
    }
   ],
   "source": [
    "df = pd.read_csv(r'C:\\Users\\hwfj3140\\Documents\\SmartCapex\\TDD\\Sample_Data\\randim_file_exploded_merge.csv', sep=';')\n",
    "df = pd.read_csv(r'C:\\Users\\hwfj3140\\Documents\\SmartCapex\\TDD\\Sample_Data\\randim_file_exploded_merge_TDD.csv', sep=';')\n",
    "df"
   ],
   "metadata": {
    "collapsed": false,
    "ExecuteTime": {
     "end_time": "2024-05-31T08:54:19.586921400Z",
     "start_time": "2024-05-31T08:54:19.554834800Z"
    }
   },
   "id": "9b09a7a8b7546830"
  },
  {
   "cell_type": "code",
   "execution_count": 10,
   "outputs": [
    {
     "name": "stdout",
     "output_type": "stream",
     "text": [
      "cells_densif                object\n",
      "latitude_densif            float64\n",
      "longitude_densif           float64\n",
      "site_id                     object\n",
      "latitude_congest_cells     float64\n",
      "longitude_congest_cells    float64\n",
      "dtype: object\n"
     ]
    },
    {
     "data": {
      "text/plain": "              cells_densif  latitude_densif  longitude_densif  site_id  \\\n0      siteDenisfication_1         31.63078          -8.06118  MAR1071   \n1      siteDenisfication_1         31.63078          -8.06118   MAR161   \n3      siteDenisfication_2         31.63060          -8.06041  MAR1071   \n4      siteDenisfication_2         31.63060          -8.06041   MAR161   \n5      siteDenisfication_3         35.74526          -5.83605  TAN9012   \n..                     ...              ...               ...      ...   \n300  siteDenisfication_165         31.62910          -8.08088   CHI908   \n301  siteDenisfication_166         33.90132          -5.48539   MEK350   \n302  siteDenisfication_167         33.23144          -8.52347   JAD654   \n303  siteDenisfication_168         31.66260          -8.00086   MAR086   \n304  siteDenisfication_169         33.97800          -6.81625   RAB056   \n\n     latitude_congest_cells  longitude_congest_cells  \n0                 31.630000                -8.057944  \n1                 31.631200                -8.062900  \n3                 31.630000                -8.057944  \n4                 31.631200                -8.062900  \n5                 35.742167                -5.833389  \n..                      ...                      ...  \n300               31.629100                -8.080880  \n301               33.901319                -5.485389  \n302               33.231436                -8.523475  \n303               31.662600                -8.000860  \n304               33.978000                -6.816250  \n\n[245 rows x 6 columns]",
      "text/html": "<div>\n<style scoped>\n    .dataframe tbody tr th:only-of-type {\n        vertical-align: middle;\n    }\n\n    .dataframe tbody tr th {\n        vertical-align: top;\n    }\n\n    .dataframe thead th {\n        text-align: right;\n    }\n</style>\n<table border=\"1\" class=\"dataframe\">\n  <thead>\n    <tr style=\"text-align: right;\">\n      <th></th>\n      <th>cells_densif</th>\n      <th>latitude_densif</th>\n      <th>longitude_densif</th>\n      <th>site_id</th>\n      <th>latitude_congest_cells</th>\n      <th>longitude_congest_cells</th>\n    </tr>\n  </thead>\n  <tbody>\n    <tr>\n      <th>0</th>\n      <td>siteDenisfication_1</td>\n      <td>31.63078</td>\n      <td>-8.06118</td>\n      <td>MAR1071</td>\n      <td>31.630000</td>\n      <td>-8.057944</td>\n    </tr>\n    <tr>\n      <th>1</th>\n      <td>siteDenisfication_1</td>\n      <td>31.63078</td>\n      <td>-8.06118</td>\n      <td>MAR161</td>\n      <td>31.631200</td>\n      <td>-8.062900</td>\n    </tr>\n    <tr>\n      <th>3</th>\n      <td>siteDenisfication_2</td>\n      <td>31.63060</td>\n      <td>-8.06041</td>\n      <td>MAR1071</td>\n      <td>31.630000</td>\n      <td>-8.057944</td>\n    </tr>\n    <tr>\n      <th>4</th>\n      <td>siteDenisfication_2</td>\n      <td>31.63060</td>\n      <td>-8.06041</td>\n      <td>MAR161</td>\n      <td>31.631200</td>\n      <td>-8.062900</td>\n    </tr>\n    <tr>\n      <th>5</th>\n      <td>siteDenisfication_3</td>\n      <td>35.74526</td>\n      <td>-5.83605</td>\n      <td>TAN9012</td>\n      <td>35.742167</td>\n      <td>-5.833389</td>\n    </tr>\n    <tr>\n      <th>...</th>\n      <td>...</td>\n      <td>...</td>\n      <td>...</td>\n      <td>...</td>\n      <td>...</td>\n      <td>...</td>\n    </tr>\n    <tr>\n      <th>300</th>\n      <td>siteDenisfication_165</td>\n      <td>31.62910</td>\n      <td>-8.08088</td>\n      <td>CHI908</td>\n      <td>31.629100</td>\n      <td>-8.080880</td>\n    </tr>\n    <tr>\n      <th>301</th>\n      <td>siteDenisfication_166</td>\n      <td>33.90132</td>\n      <td>-5.48539</td>\n      <td>MEK350</td>\n      <td>33.901319</td>\n      <td>-5.485389</td>\n    </tr>\n    <tr>\n      <th>302</th>\n      <td>siteDenisfication_167</td>\n      <td>33.23144</td>\n      <td>-8.52347</td>\n      <td>JAD654</td>\n      <td>33.231436</td>\n      <td>-8.523475</td>\n    </tr>\n    <tr>\n      <th>303</th>\n      <td>siteDenisfication_168</td>\n      <td>31.66260</td>\n      <td>-8.00086</td>\n      <td>MAR086</td>\n      <td>31.662600</td>\n      <td>-8.000860</td>\n    </tr>\n    <tr>\n      <th>304</th>\n      <td>siteDenisfication_169</td>\n      <td>33.97800</td>\n      <td>-6.81625</td>\n      <td>RAB056</td>\n      <td>33.978000</td>\n      <td>-6.816250</td>\n    </tr>\n  </tbody>\n</table>\n<p>245 rows × 6 columns</p>\n</div>"
     },
     "execution_count": 10,
     "metadata": {},
     "output_type": "execute_result"
    }
   ],
   "source": [
    "df_new_site = df[['Cells','latitude','longitude','site_id','latitude_congest_cells','longitude_congest_cells']]\n",
    "df_new_site = df_new_site.rename(columns={'latitude' :'latitude_densif',\n",
    "                                  'longitude': 'longitude_densif',\n",
    "                                  'Cells': 'cells_densif'})\n",
    "df_new_site.columns\n",
    "print(df_new_site.dtypes)\n",
    "df_new_site = df_new_site.drop_duplicates()\n",
    "df_new_site"
   ],
   "metadata": {
    "collapsed": false,
    "ExecuteTime": {
     "end_time": "2024-05-31T08:55:50.049724800Z",
     "start_time": "2024-05-31T08:55:50.022269800Z"
    }
   },
   "id": "3c953781a75fbfb5"
  },
  {
   "cell_type": "code",
   "execution_count": 9,
   "outputs": [],
   "source": [
    "\n",
    "map_center = [(df_new_site['latitude_densif'].mean() + df_new_site['latitude_congest_cells'].mean()) / 2, (df_new_site['longitude_densif'].mean() + df_new_site['longitude_congest_cells'].mean()) / 2]\n",
    "mymap = folium.Map(location=map_center, zoom_start=2, control_scale=True)\n",
    "\n",
    "\n",
    "\n",
    "\n",
    "# 4. Ajouter des marqueurs pour chaque site B avec une autre couleur\n",
    "marker_cluster_a = MarkerCluster(name='site_id', spiderfy_on_click=True, show_coverage_on_hover=False).add_to(mymap)\n",
    "for idx, row in df_new_site.iterrows():\n",
    "    folium.Marker(\n",
    "        location=[row['latitude_congest_cells'], row['longitude_congest_cells']],\n",
    "        popup=row['site_id'],\n",
    "        icon=folium.Icon(color='blue')\n",
    "    ).add_to(marker_cluster_a)\n",
    "\n",
    "marker_cluster_b = MarkerCluster(name='cell_densif', spiderfy_on_click=True, show_coverage_on_hover=False).add_to(mymap)\n",
    "for idx_1, row_1 in df_new_site.iterrows():\n",
    "    folium.Marker(\n",
    "        location=[row_1['latitude_densif'], row_1['longitude_densif']],\n",
    "        popup=row_1['cells_densif'],\n",
    "        icon=folium.Icon(color='red')\n",
    "        \n",
    "    ).add_to(marker_cluster_b)\n",
    "folium.LayerControl().add_to(mymap)\n",
    "# 4. Sauvegarder la carte dans un fichier HTML et l'afficher\n",
    "mymap.save(\"map_densif_tdd.html\")"
   ],
   "metadata": {
    "collapsed": false,
    "ExecuteTime": {
     "end_time": "2024-05-31T08:54:44.221099200Z",
     "start_time": "2024-05-31T08:54:43.599782100Z"
    }
   },
   "id": "449ecd6b45ce5040"
  },
  {
   "cell_type": "code",
   "execution_count": null,
   "outputs": [],
   "source": [],
   "metadata": {
    "collapsed": false
   },
   "id": "e90a3b72bd23b6f3"
  }
 ],
 "metadata": {
  "kernelspec": {
   "display_name": "Python 3",
   "language": "python",
   "name": "python3"
  },
  "language_info": {
   "codemirror_mode": {
    "name": "ipython",
    "version": 2
   },
   "file_extension": ".py",
   "mimetype": "text/x-python",
   "name": "python",
   "nbconvert_exporter": "python",
   "pygments_lexer": "ipython2",
   "version": "2.7.6"
  }
 },
 "nbformat": 4,
 "nbformat_minor": 5
}
