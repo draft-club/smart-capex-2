{
 "cells": [
  {
   "cell_type": "code",
   "execution_count": 1,
   "id": "initial_id",
   "metadata": {
    "collapsed": true,
    "ExecuteTime": {
     "end_time": "2024-07-16T11:59:23.384808700Z",
     "start_time": "2024-07-16T11:59:23.205178300Z"
    }
   },
   "outputs": [],
   "source": [
    "from src.d04_randim.call_randim import ApiRandim"
   ]
  },
  {
   "cell_type": "code",
   "execution_count": 2,
   "outputs": [],
   "source": [
    "my_randim_api = ApiRandim()"
   ],
   "metadata": {
    "collapsed": false,
    "ExecuteTime": {
     "end_time": "2024-07-16T11:59:24.669004700Z",
     "start_time": "2024-07-16T11:59:24.652359Z"
    }
   },
   "id": "bf39c320cac435dd"
  },
  {
   "cell_type": "code",
   "execution_count": 3,
   "outputs": [
    {
     "name": "stdout",
     "output_type": "stream",
     "text": [
      "https://randim2.itn.intraorange/randim/2g/defaults\n"
     ]
    },
    {
     "name": "stderr",
     "output_type": "stream",
     "text": [
      "C:\\Users\\hwfj3140\\Documents\\SmartCapex\\TDD\\smart-capex_tdd\\.venv\\lib\\site-packages\\urllib3\\connectionpool.py:1068: InsecureRequestWarning: Unverified HTTPS request is being made to host 'randim2.itn.intraorange'. Adding certificate verification is strongly advised. See: https://urllib3.readthedocs.io/en/1.26.x/advanced-usage.html#ssl-warnings\n",
      "  InsecureRequestWarning,\n"
     ]
    },
    {
     "data": {
      "text/plain": "{'Message': 'Randim API is ready',\n 'Status_code': 200,\n 'content': b'{\"tsBCCH\":1,\"nbOfMcsForGPRS\":4.0,\"voiceBlockingProbability\":2.0,\"tsSPDCH\":1,\"tsDPDCH\":1,\"nbTsHalfRateCall\":0.5,\"maxNbOfTrxPerSite900\":5,\"maxNbOfTrxPerSite1800\":10,\"phalfMax\":70.0,\"nbOfMcsForEDGE\":9.0,\"avgUserThroughput\":10.0,\"tsSDCCH\":1,\"SDCCHBlockingProbability\":2.0,\"bcchCombinedCell\":false,\"nbTsFullRateCall\":1.0}'}"
     },
     "execution_count": 3,
     "metadata": {},
     "output_type": "execute_result"
    }
   ],
   "source": [
    "my_randim_api.api_randim_test()"
   ],
   "metadata": {
    "collapsed": false,
    "ExecuteTime": {
     "end_time": "2024-07-16T11:59:26.645865700Z",
     "start_time": "2024-07-16T11:59:25.191967200Z"
    }
   },
   "id": "eefdccce48db085d"
  },
  {
   "cell_type": "code",
   "execution_count": 4,
   "outputs": [
    {
     "data": {
      "text/plain": "'https://randim2.itn.intraorange/randim/2g/defaults'"
     },
     "execution_count": 4,
     "metadata": {},
     "output_type": "execute_result"
    }
   ],
   "source": [],
   "metadata": {
    "collapsed": false,
    "ExecuteTime": {
     "end_time": "2024-07-16T11:55:55.567517200Z",
     "start_time": "2024-07-16T11:55:55.525537400Z"
    }
   },
   "id": "6b1b90a31d796a68"
  },
  {
   "cell_type": "code",
   "execution_count": null,
   "outputs": [],
   "source": [],
   "metadata": {
    "collapsed": false,
    "ExecuteTime": {
     "start_time": "2024-07-16T09:58:27.872787300Z"
    }
   },
   "id": "39199f745b472790"
  },
  {
   "cell_type": "code",
   "execution_count": null,
   "outputs": [],
   "source": [],
   "metadata": {
    "collapsed": false,
    "ExecuteTime": {
     "start_time": "2024-07-16T09:58:27.873870Z"
    }
   },
   "id": "e49b4e3c99a623dd"
  }
 ],
 "metadata": {
  "kernelspec": {
   "display_name": "Python 3",
   "language": "python",
   "name": "python3"
  },
  "language_info": {
   "codemirror_mode": {
    "name": "ipython",
    "version": 2
   },
   "file_extension": ".py",
   "mimetype": "text/x-python",
   "name": "python",
   "nbconvert_exporter": "python",
   "pygments_lexer": "ipython2",
   "version": "2.7.6"
  }
 },
 "nbformat": 4,
 "nbformat_minor": 5
}
