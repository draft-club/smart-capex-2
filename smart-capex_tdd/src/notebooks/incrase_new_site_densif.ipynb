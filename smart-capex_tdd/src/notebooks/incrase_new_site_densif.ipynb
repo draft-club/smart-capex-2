{
 "cells": [
  {
   "cell_type": "code",
   "execution_count": 1,
   "id": "initial_id",
   "metadata": {
    "collapsed": true,
    "ExecuteTime": {
     "end_time": "2024-06-25T13:13:28.911519300Z",
     "start_time": "2024-06-25T13:13:28.610106200Z"
    }
   },
   "outputs": [],
   "source": [
    "import pandas as pd"
   ]
  },
  {
   "cell_type": "code",
   "execution_count": 9,
   "outputs": [],
   "source": [
    "site_densif = pd.read_excel(r'C:\\Users\\hwfj3140\\Documents\\SmartCapex\\TDD\\smart-capex_tdd\\data\\OMA\\TDD\\01_raw\\sites_MES.xlsx', engine='openpyxl')\n",
    "data = pd.read_csv(r'C:\\Users\\hwfj3140\\Documents\\SmartCapex\\TDD\\smart-capex_tdd\\data\\OMA\\TDD\\05_models_output\\traffic_weekly_kpis_FDD.csv',sep='|')"
   ],
   "metadata": {
    "collapsed": false,
    "ExecuteTime": {
     "end_time": "2024-06-25T13:23:46.924182300Z",
     "start_time": "2024-06-25T13:23:27.246314800Z"
    }
   },
   "id": "357ae845de38459d"
  },
  {
   "cell_type": "code",
   "execution_count": 16,
   "outputs": [
    {
     "data": {
      "text/plain": "      site_id  Year\n0     CAS1668  2023\n1     CAS1774  2023\n2     CAS1787  2023\n3     CAS1789  2023\n4     CAS1820  2023\n...       ...   ...\n1145  TAN9279  2022\n1146   MEK789  2022\n1147  RAB1235  2022\n1148   SAF721  2022\n1149  FES1287  2022\n\n[1150 rows x 2 columns]",
      "text/html": "<div>\n<style scoped>\n    .dataframe tbody tr th:only-of-type {\n        vertical-align: middle;\n    }\n\n    .dataframe tbody tr th {\n        vertical-align: top;\n    }\n\n    .dataframe thead th {\n        text-align: right;\n    }\n</style>\n<table border=\"1\" class=\"dataframe\">\n  <thead>\n    <tr style=\"text-align: right;\">\n      <th></th>\n      <th>site_id</th>\n      <th>Year</th>\n    </tr>\n  </thead>\n  <tbody>\n    <tr>\n      <th>0</th>\n      <td>CAS1668</td>\n      <td>2023</td>\n    </tr>\n    <tr>\n      <th>1</th>\n      <td>CAS1774</td>\n      <td>2023</td>\n    </tr>\n    <tr>\n      <th>2</th>\n      <td>CAS1787</td>\n      <td>2023</td>\n    </tr>\n    <tr>\n      <th>3</th>\n      <td>CAS1789</td>\n      <td>2023</td>\n    </tr>\n    <tr>\n      <th>4</th>\n      <td>CAS1820</td>\n      <td>2023</td>\n    </tr>\n    <tr>\n      <th>...</th>\n      <td>...</td>\n      <td>...</td>\n    </tr>\n    <tr>\n      <th>1145</th>\n      <td>TAN9279</td>\n      <td>2022</td>\n    </tr>\n    <tr>\n      <th>1146</th>\n      <td>MEK789</td>\n      <td>2022</td>\n    </tr>\n    <tr>\n      <th>1147</th>\n      <td>RAB1235</td>\n      <td>2022</td>\n    </tr>\n    <tr>\n      <th>1148</th>\n      <td>SAF721</td>\n      <td>2022</td>\n    </tr>\n    <tr>\n      <th>1149</th>\n      <td>FES1287</td>\n      <td>2022</td>\n    </tr>\n  </tbody>\n</table>\n<p>1150 rows × 2 columns</p>\n</div>"
     },
     "execution_count": 16,
     "metadata": {},
     "output_type": "execute_result"
    }
   ],
   "source": [
    "site_densif\n",
    "site_densif = site_densif.rename(columns={'Site': 'site_id'})\n",
    "site_densif"
   ],
   "metadata": {
    "collapsed": false,
    "ExecuteTime": {
     "end_time": "2024-06-25T13:27:36.482454400Z",
     "start_time": "2024-06-25T13:27:36.463217400Z"
    }
   },
   "id": "98f937c80a7a68eb"
  },
  {
   "cell_type": "code",
   "execution_count": 11,
   "outputs": [
    {
     "data": {
      "text/plain": "   week_period cell_name  total_voice_traffic_kerlangs  \\\n0       202101   BEN001U                      0.096567   \n1       202028   BEN001U                      0.035471   \n2       202052   BEN001U                      0.043477   \n3       202135   BEN001U                      0.109307   \n4       202024   BEN001U                      0.038436   \n\n   total_data_traffic_dl_gb  total_data_traffic_ul_gb  \\\n0                   33.9908                    5.6082   \n1                   10.2814                    2.2016   \n2                   21.3741                    3.2617   \n3                   24.6922                    5.7408   \n4                   14.4161                    3.1865   \n\n   average_throughput_dl_kbps  average_power_load_dl cell_tech  \\\n0                 1554.902429              78.133814        3G   \n1                 2104.550871              23.135686        3G   \n2                 1598.795586              69.549329        3G   \n3                 1504.810986              46.685829        3G   \n4                 1697.174900              40.276086        3G   \n\n   traffic_mobile_gb  traffic_box_gb  ...  average_prb_load_dl  week  year  \\\n0                NaN             NaN  ...                  NaN     1  2021   \n1                NaN             NaN  ...                  NaN    28  2020   \n2                NaN             NaN  ...                  NaN    52  2020   \n3                NaN             NaN  ...                  NaN    35  2021   \n4                NaN             NaN  ...                  NaN    24  2020   \n\n         date month  site_id cell_band    region             ville province  \n0  2021-01-04     1   BEN001     U2100  ORIENTAL  BNI ANSAR (MUN.)    NADOR  \n1  2020-07-13     7   BEN001     U2100  ORIENTAL  BNI ANSAR (MUN.)    NADOR  \n2  2020-12-28    12   BEN001     U2100  ORIENTAL  BNI ANSAR (MUN.)    NADOR  \n3  2021-08-30     8   BEN001     U2100  ORIENTAL  BNI ANSAR (MUN.)    NADOR  \n4  2020-06-15     6   BEN001     U2100  ORIENTAL  BNI ANSAR (MUN.)    NADOR  \n\n[5 rows x 21 columns]",
      "text/html": "<div>\n<style scoped>\n    .dataframe tbody tr th:only-of-type {\n        vertical-align: middle;\n    }\n\n    .dataframe tbody tr th {\n        vertical-align: top;\n    }\n\n    .dataframe thead th {\n        text-align: right;\n    }\n</style>\n<table border=\"1\" class=\"dataframe\">\n  <thead>\n    <tr style=\"text-align: right;\">\n      <th></th>\n      <th>week_period</th>\n      <th>cell_name</th>\n      <th>total_voice_traffic_kerlangs</th>\n      <th>total_data_traffic_dl_gb</th>\n      <th>total_data_traffic_ul_gb</th>\n      <th>average_throughput_dl_kbps</th>\n      <th>average_power_load_dl</th>\n      <th>cell_tech</th>\n      <th>traffic_mobile_gb</th>\n      <th>traffic_box_gb</th>\n      <th>...</th>\n      <th>average_prb_load_dl</th>\n      <th>week</th>\n      <th>year</th>\n      <th>date</th>\n      <th>month</th>\n      <th>site_id</th>\n      <th>cell_band</th>\n      <th>region</th>\n      <th>ville</th>\n      <th>province</th>\n    </tr>\n  </thead>\n  <tbody>\n    <tr>\n      <th>0</th>\n      <td>202101</td>\n      <td>BEN001U</td>\n      <td>0.096567</td>\n      <td>33.9908</td>\n      <td>5.6082</td>\n      <td>1554.902429</td>\n      <td>78.133814</td>\n      <td>3G</td>\n      <td>NaN</td>\n      <td>NaN</td>\n      <td>...</td>\n      <td>NaN</td>\n      <td>1</td>\n      <td>2021</td>\n      <td>2021-01-04</td>\n      <td>1</td>\n      <td>BEN001</td>\n      <td>U2100</td>\n      <td>ORIENTAL</td>\n      <td>BNI ANSAR (MUN.)</td>\n      <td>NADOR</td>\n    </tr>\n    <tr>\n      <th>1</th>\n      <td>202028</td>\n      <td>BEN001U</td>\n      <td>0.035471</td>\n      <td>10.2814</td>\n      <td>2.2016</td>\n      <td>2104.550871</td>\n      <td>23.135686</td>\n      <td>3G</td>\n      <td>NaN</td>\n      <td>NaN</td>\n      <td>...</td>\n      <td>NaN</td>\n      <td>28</td>\n      <td>2020</td>\n      <td>2020-07-13</td>\n      <td>7</td>\n      <td>BEN001</td>\n      <td>U2100</td>\n      <td>ORIENTAL</td>\n      <td>BNI ANSAR (MUN.)</td>\n      <td>NADOR</td>\n    </tr>\n    <tr>\n      <th>2</th>\n      <td>202052</td>\n      <td>BEN001U</td>\n      <td>0.043477</td>\n      <td>21.3741</td>\n      <td>3.2617</td>\n      <td>1598.795586</td>\n      <td>69.549329</td>\n      <td>3G</td>\n      <td>NaN</td>\n      <td>NaN</td>\n      <td>...</td>\n      <td>NaN</td>\n      <td>52</td>\n      <td>2020</td>\n      <td>2020-12-28</td>\n      <td>12</td>\n      <td>BEN001</td>\n      <td>U2100</td>\n      <td>ORIENTAL</td>\n      <td>BNI ANSAR (MUN.)</td>\n      <td>NADOR</td>\n    </tr>\n    <tr>\n      <th>3</th>\n      <td>202135</td>\n      <td>BEN001U</td>\n      <td>0.109307</td>\n      <td>24.6922</td>\n      <td>5.7408</td>\n      <td>1504.810986</td>\n      <td>46.685829</td>\n      <td>3G</td>\n      <td>NaN</td>\n      <td>NaN</td>\n      <td>...</td>\n      <td>NaN</td>\n      <td>35</td>\n      <td>2021</td>\n      <td>2021-08-30</td>\n      <td>8</td>\n      <td>BEN001</td>\n      <td>U2100</td>\n      <td>ORIENTAL</td>\n      <td>BNI ANSAR (MUN.)</td>\n      <td>NADOR</td>\n    </tr>\n    <tr>\n      <th>4</th>\n      <td>202024</td>\n      <td>BEN001U</td>\n      <td>0.038436</td>\n      <td>14.4161</td>\n      <td>3.1865</td>\n      <td>1697.174900</td>\n      <td>40.276086</td>\n      <td>3G</td>\n      <td>NaN</td>\n      <td>NaN</td>\n      <td>...</td>\n      <td>NaN</td>\n      <td>24</td>\n      <td>2020</td>\n      <td>2020-06-15</td>\n      <td>6</td>\n      <td>BEN001</td>\n      <td>U2100</td>\n      <td>ORIENTAL</td>\n      <td>BNI ANSAR (MUN.)</td>\n      <td>NADOR</td>\n    </tr>\n  </tbody>\n</table>\n<p>5 rows × 21 columns</p>\n</div>"
     },
     "execution_count": 11,
     "metadata": {},
     "output_type": "execute_result"
    }
   ],
   "source": [
    "data.head()"
   ],
   "metadata": {
    "collapsed": false,
    "ExecuteTime": {
     "end_time": "2024-06-25T13:23:46.998648700Z",
     "start_time": "2024-06-25T13:23:46.941827100Z"
    }
   },
   "id": "8ca5c14f057a573c"
  },
  {
   "cell_type": "code",
   "execution_count": 13,
   "outputs": [
    {
     "data": {
      "text/plain": "        site_id  Year  week_period   cell_name  total_voice_traffic_kerlangs  \\\n0       CAS1668  2023     202301.0    CAS1668N                      0.488192   \n1       CAS1668  2023     202349.0    CAS1668N                      0.446303   \n2       CAS1668  2023     202345.0    CAS1668N                      0.269969   \n3       CAS1668  2023     202350.0    CAS1668N                      0.455016   \n4       CAS1668  2023     202348.0    CAS1668N                      0.442861   \n...         ...   ...          ...         ...                           ...   \n703022  FES1287  2022     202347.0  FES1287_L9                           NaN   \n703023  FES1287  2022     202306.0  FES1287_L9                           NaN   \n703024  FES1287  2022     202253.0  FES1287_L9                           NaN   \n703025  FES1287  2022     202327.0  FES1287_L9                           NaN   \n703026  FES1287  2022     202302.0  FES1287_L9                           NaN   \n\n        total_data_traffic_dl_gb  total_data_traffic_ul_gb  \\\n0                      47.142100                   12.4787   \n1                      52.616300                   13.9069   \n2                      18.661800                    9.8757   \n3                      59.062800                   14.3924   \n4                      56.597000                   15.1696   \n...                          ...                       ...   \n703022                512.699001                  110.0145   \n703023                463.859001                   62.2777   \n703024                402.123700                   62.9385   \n703025                568.765601                  103.2701   \n703026                421.097901                   95.8408   \n\n        average_throughput_dl_kbps  average_power_load_dl cell_tech  ...  \\\n0                      1610.983471              84.520471        3G  ...   \n1                      1651.807371              92.035714        3G  ...   \n2                      1221.089675             102.296350        3G  ...   \n3                      1853.577443             101.474857        3G  ...   \n4                      1635.665214             116.025429        3G  ...   \n...                            ...                    ...       ...  ...   \n703022                  711.793396                    NaN        4G  ...   \n703023                 1407.530518                    NaN        4G  ...   \n703024                  573.279907                    NaN        4G  ...   \n703025                  806.543884                    NaN        4G  ...   \n703026                  552.903397                    NaN        4G  ...   \n\n        average_active_users  average_prb_load_dl  week    year        date  \\\n0                        NaN                  NaN   1.0  2023.0  2023-01-02   \n1                        NaN                  NaN  49.0  2023.0  2023-12-04   \n2                        NaN                  NaN  45.0  2023.0  2023-11-06   \n3                        NaN                  NaN  50.0  2023.0  2023-12-11   \n4                        NaN                  NaN  48.0  2023.0  2023-11-27   \n...                      ...                  ...   ...     ...         ...   \n703022             14.994700            96.892275  47.0  2023.0  2023-11-20   \n703023              6.510000            95.643826   6.0  2023.0  2023-02-06   \n703024             12.043775            97.591700  53.0  2022.0  2023-01-02   \n703025             16.779600            96.658575  27.0  2023.0  2023-07-03   \n703026             15.314675            96.927649   2.0  2023.0  2023-01-09   \n\n        month cell_band                   region       ville    province  \n0         1.0      U900  GRAND CASABLANCA-SETTAT  GRAND_CASA  CASABLANCA  \n1        12.0      U900  GRAND CASABLANCA-SETTAT  GRAND_CASA  CASABLANCA  \n2        11.0      U900  GRAND CASABLANCA-SETTAT  GRAND_CASA  CASABLANCA  \n3        12.0      U900  GRAND CASABLANCA-SETTAT  GRAND_CASA  CASABLANCA  \n4        11.0      U900  GRAND CASABLANCA-SETTAT  GRAND_CASA  CASABLANCA  \n...       ...       ...                      ...         ...         ...  \n703022   11.0      L800               FÈS-MEKNÈS  OUED JDIDA      MEKNES  \n703023    2.0      L800               FÈS-MEKNÈS  OUED JDIDA      MEKNES  \n703024    1.0      L800               FÈS-MEKNÈS  OUED JDIDA      MEKNES  \n703025    7.0      L800               FÈS-MEKNÈS  OUED JDIDA      MEKNES  \n703026    1.0      L800               FÈS-MEKNÈS  OUED JDIDA      MEKNES  \n\n[703027 rows x 22 columns]",
      "text/html": "<div>\n<style scoped>\n    .dataframe tbody tr th:only-of-type {\n        vertical-align: middle;\n    }\n\n    .dataframe tbody tr th {\n        vertical-align: top;\n    }\n\n    .dataframe thead th {\n        text-align: right;\n    }\n</style>\n<table border=\"1\" class=\"dataframe\">\n  <thead>\n    <tr style=\"text-align: right;\">\n      <th></th>\n      <th>site_id</th>\n      <th>Year</th>\n      <th>week_period</th>\n      <th>cell_name</th>\n      <th>total_voice_traffic_kerlangs</th>\n      <th>total_data_traffic_dl_gb</th>\n      <th>total_data_traffic_ul_gb</th>\n      <th>average_throughput_dl_kbps</th>\n      <th>average_power_load_dl</th>\n      <th>cell_tech</th>\n      <th>...</th>\n      <th>average_active_users</th>\n      <th>average_prb_load_dl</th>\n      <th>week</th>\n      <th>year</th>\n      <th>date</th>\n      <th>month</th>\n      <th>cell_band</th>\n      <th>region</th>\n      <th>ville</th>\n      <th>province</th>\n    </tr>\n  </thead>\n  <tbody>\n    <tr>\n      <th>0</th>\n      <td>CAS1668</td>\n      <td>2023</td>\n      <td>202301.0</td>\n      <td>CAS1668N</td>\n      <td>0.488192</td>\n      <td>47.142100</td>\n      <td>12.4787</td>\n      <td>1610.983471</td>\n      <td>84.520471</td>\n      <td>3G</td>\n      <td>...</td>\n      <td>NaN</td>\n      <td>NaN</td>\n      <td>1.0</td>\n      <td>2023.0</td>\n      <td>2023-01-02</td>\n      <td>1.0</td>\n      <td>U900</td>\n      <td>GRAND CASABLANCA-SETTAT</td>\n      <td>GRAND_CASA</td>\n      <td>CASABLANCA</td>\n    </tr>\n    <tr>\n      <th>1</th>\n      <td>CAS1668</td>\n      <td>2023</td>\n      <td>202349.0</td>\n      <td>CAS1668N</td>\n      <td>0.446303</td>\n      <td>52.616300</td>\n      <td>13.9069</td>\n      <td>1651.807371</td>\n      <td>92.035714</td>\n      <td>3G</td>\n      <td>...</td>\n      <td>NaN</td>\n      <td>NaN</td>\n      <td>49.0</td>\n      <td>2023.0</td>\n      <td>2023-12-04</td>\n      <td>12.0</td>\n      <td>U900</td>\n      <td>GRAND CASABLANCA-SETTAT</td>\n      <td>GRAND_CASA</td>\n      <td>CASABLANCA</td>\n    </tr>\n    <tr>\n      <th>2</th>\n      <td>CAS1668</td>\n      <td>2023</td>\n      <td>202345.0</td>\n      <td>CAS1668N</td>\n      <td>0.269969</td>\n      <td>18.661800</td>\n      <td>9.8757</td>\n      <td>1221.089675</td>\n      <td>102.296350</td>\n      <td>3G</td>\n      <td>...</td>\n      <td>NaN</td>\n      <td>NaN</td>\n      <td>45.0</td>\n      <td>2023.0</td>\n      <td>2023-11-06</td>\n      <td>11.0</td>\n      <td>U900</td>\n      <td>GRAND CASABLANCA-SETTAT</td>\n      <td>GRAND_CASA</td>\n      <td>CASABLANCA</td>\n    </tr>\n    <tr>\n      <th>3</th>\n      <td>CAS1668</td>\n      <td>2023</td>\n      <td>202350.0</td>\n      <td>CAS1668N</td>\n      <td>0.455016</td>\n      <td>59.062800</td>\n      <td>14.3924</td>\n      <td>1853.577443</td>\n      <td>101.474857</td>\n      <td>3G</td>\n      <td>...</td>\n      <td>NaN</td>\n      <td>NaN</td>\n      <td>50.0</td>\n      <td>2023.0</td>\n      <td>2023-12-11</td>\n      <td>12.0</td>\n      <td>U900</td>\n      <td>GRAND CASABLANCA-SETTAT</td>\n      <td>GRAND_CASA</td>\n      <td>CASABLANCA</td>\n    </tr>\n    <tr>\n      <th>4</th>\n      <td>CAS1668</td>\n      <td>2023</td>\n      <td>202348.0</td>\n      <td>CAS1668N</td>\n      <td>0.442861</td>\n      <td>56.597000</td>\n      <td>15.1696</td>\n      <td>1635.665214</td>\n      <td>116.025429</td>\n      <td>3G</td>\n      <td>...</td>\n      <td>NaN</td>\n      <td>NaN</td>\n      <td>48.0</td>\n      <td>2023.0</td>\n      <td>2023-11-27</td>\n      <td>11.0</td>\n      <td>U900</td>\n      <td>GRAND CASABLANCA-SETTAT</td>\n      <td>GRAND_CASA</td>\n      <td>CASABLANCA</td>\n    </tr>\n    <tr>\n      <th>...</th>\n      <td>...</td>\n      <td>...</td>\n      <td>...</td>\n      <td>...</td>\n      <td>...</td>\n      <td>...</td>\n      <td>...</td>\n      <td>...</td>\n      <td>...</td>\n      <td>...</td>\n      <td>...</td>\n      <td>...</td>\n      <td>...</td>\n      <td>...</td>\n      <td>...</td>\n      <td>...</td>\n      <td>...</td>\n      <td>...</td>\n      <td>...</td>\n      <td>...</td>\n      <td>...</td>\n    </tr>\n    <tr>\n      <th>703022</th>\n      <td>FES1287</td>\n      <td>2022</td>\n      <td>202347.0</td>\n      <td>FES1287_L9</td>\n      <td>NaN</td>\n      <td>512.699001</td>\n      <td>110.0145</td>\n      <td>711.793396</td>\n      <td>NaN</td>\n      <td>4G</td>\n      <td>...</td>\n      <td>14.994700</td>\n      <td>96.892275</td>\n      <td>47.0</td>\n      <td>2023.0</td>\n      <td>2023-11-20</td>\n      <td>11.0</td>\n      <td>L800</td>\n      <td>FÈS-MEKNÈS</td>\n      <td>OUED JDIDA</td>\n      <td>MEKNES</td>\n    </tr>\n    <tr>\n      <th>703023</th>\n      <td>FES1287</td>\n      <td>2022</td>\n      <td>202306.0</td>\n      <td>FES1287_L9</td>\n      <td>NaN</td>\n      <td>463.859001</td>\n      <td>62.2777</td>\n      <td>1407.530518</td>\n      <td>NaN</td>\n      <td>4G</td>\n      <td>...</td>\n      <td>6.510000</td>\n      <td>95.643826</td>\n      <td>6.0</td>\n      <td>2023.0</td>\n      <td>2023-02-06</td>\n      <td>2.0</td>\n      <td>L800</td>\n      <td>FÈS-MEKNÈS</td>\n      <td>OUED JDIDA</td>\n      <td>MEKNES</td>\n    </tr>\n    <tr>\n      <th>703024</th>\n      <td>FES1287</td>\n      <td>2022</td>\n      <td>202253.0</td>\n      <td>FES1287_L9</td>\n      <td>NaN</td>\n      <td>402.123700</td>\n      <td>62.9385</td>\n      <td>573.279907</td>\n      <td>NaN</td>\n      <td>4G</td>\n      <td>...</td>\n      <td>12.043775</td>\n      <td>97.591700</td>\n      <td>53.0</td>\n      <td>2022.0</td>\n      <td>2023-01-02</td>\n      <td>1.0</td>\n      <td>L800</td>\n      <td>FÈS-MEKNÈS</td>\n      <td>OUED JDIDA</td>\n      <td>MEKNES</td>\n    </tr>\n    <tr>\n      <th>703025</th>\n      <td>FES1287</td>\n      <td>2022</td>\n      <td>202327.0</td>\n      <td>FES1287_L9</td>\n      <td>NaN</td>\n      <td>568.765601</td>\n      <td>103.2701</td>\n      <td>806.543884</td>\n      <td>NaN</td>\n      <td>4G</td>\n      <td>...</td>\n      <td>16.779600</td>\n      <td>96.658575</td>\n      <td>27.0</td>\n      <td>2023.0</td>\n      <td>2023-07-03</td>\n      <td>7.0</td>\n      <td>L800</td>\n      <td>FÈS-MEKNÈS</td>\n      <td>OUED JDIDA</td>\n      <td>MEKNES</td>\n    </tr>\n    <tr>\n      <th>703026</th>\n      <td>FES1287</td>\n      <td>2022</td>\n      <td>202302.0</td>\n      <td>FES1287_L9</td>\n      <td>NaN</td>\n      <td>421.097901</td>\n      <td>95.8408</td>\n      <td>552.903397</td>\n      <td>NaN</td>\n      <td>4G</td>\n      <td>...</td>\n      <td>15.314675</td>\n      <td>96.927649</td>\n      <td>2.0</td>\n      <td>2023.0</td>\n      <td>2023-01-09</td>\n      <td>1.0</td>\n      <td>L800</td>\n      <td>FÈS-MEKNÈS</td>\n      <td>OUED JDIDA</td>\n      <td>MEKNES</td>\n    </tr>\n  </tbody>\n</table>\n<p>703027 rows × 22 columns</p>\n</div>"
     },
     "execution_count": 13,
     "metadata": {},
     "output_type": "execute_result"
    }
   ],
   "source": [
    "merged = pd.merge(site_densif, data, how='left', on='site_id')\n",
    "merged"
   ],
   "metadata": {
    "collapsed": false,
    "ExecuteTime": {
     "end_time": "2024-06-25T13:25:10.380513900Z",
     "start_time": "2024-06-25T13:25:05.509162700Z"
    }
   },
   "id": "38dccaf42ec7615a"
  },
  {
   "cell_type": "code",
   "execution_count": 14,
   "outputs": [],
   "source": [
    "merged_group_by = merged.groupby(['Year','region']).agg({'total_voice_traffic_kerlangs': 'sum',\n",
    "                                                         'total_data_traffic_dl_gb': 'sum'})"
   ],
   "metadata": {
    "collapsed": false,
    "ExecuteTime": {
     "end_time": "2024-06-25T13:26:53.250250600Z",
     "start_time": "2024-06-25T13:26:53.183868400Z"
    }
   },
   "id": "f645033d0d3ac7bb"
  },
  {
   "cell_type": "code",
   "execution_count": 15,
   "outputs": [
    {
     "data": {
      "text/plain": "                                total_voice_traffic_kerlangs  \\\nYear region                                                    \n2022 BÉNI MELLAL-KHÉNIFRA                        1092.457417   \n     DRÂA-TAFILALET                               792.627387   \n     EDDAKHLA-OUED EDDAHAB                        203.212851   \n     FÈS-MEKNÈS                                  6233.692290   \n     GRAND CASABLANCA-SETTAT                    12833.603569   \n     LAAYOUNE-SAKIA EL HAMRA                      306.547575   \n     MARRAKECH-SAFI                              3479.076045   \n     ORIENTAL                                     807.940116   \n     RABAT-SALÉ-KÉNITRA                          6511.890040   \n     SOUSS-MASSA                                 1792.267727   \n     TANGER-TETOUAN-AL HOCEIMA                   4340.436520   \n2023 BÉNI MELLAL-KHÉNIFRA                         190.138038   \n     DRÂA-TAFILALET                               241.299406   \n     EDDAKHLA-OUED EDDAHAB                        101.509835   \n     FÈS-MEKNÈS                                  1429.219728   \n     GRAND CASABLANCA-SETTAT                     3389.351967   \n     GUELMIM-OUED NOUN                             24.006605   \n     LAAYOUNE-SAKIA EL HAMRA                      111.261794   \n     MARRAKECH-SAFI                              1218.479871   \n     ORIENTAL                                     407.036301   \n     RABAT-SALÉ-KÉNITRA                          1421.036941   \n     SOUSS-MASSA                                  516.359962   \n     TANGER-TETOUAN-AL HOCEIMA                   1579.654638   \n\n                                total_data_traffic_dl_gb  \nYear region                                               \n2022 BÉNI MELLAL-KHÉNIFRA                   4.881974e+06  \n     DRÂA-TAFILALET                         3.182973e+06  \n     EDDAKHLA-OUED EDDAHAB                  1.362339e+06  \n     FÈS-MEKNÈS                             1.440763e+07  \n     GRAND CASABLANCA-SETTAT                3.069469e+07  \n     LAAYOUNE-SAKIA EL HAMRA                2.854692e+06  \n     MARRAKECH-SAFI                         1.331997e+07  \n     ORIENTAL                               4.731422e+06  \n     RABAT-SALÉ-KÉNITRA                     1.784996e+07  \n     SOUSS-MASSA                            8.513446e+06  \n     TANGER-TETOUAN-AL HOCEIMA              1.282867e+07  \n2023 BÉNI MELLAL-KHÉNIFRA                   8.579907e+05  \n     DRÂA-TAFILALET                         1.059564e+06  \n     EDDAKHLA-OUED EDDAHAB                  3.909568e+05  \n     FÈS-MEKNÈS                             4.259504e+06  \n     GRAND CASABLANCA-SETTAT                1.113727e+07  \n     GUELMIM-OUED NOUN                      1.830246e+05  \n     LAAYOUNE-SAKIA EL HAMRA                1.018470e+06  \n     MARRAKECH-SAFI                         5.138235e+06  \n     ORIENTAL                               2.488252e+06  \n     RABAT-SALÉ-KÉNITRA                     4.957540e+06  \n     SOUSS-MASSA                            3.082103e+06  \n     TANGER-TETOUAN-AL HOCEIMA              4.830576e+06  ",
      "text/html": "<div>\n<style scoped>\n    .dataframe tbody tr th:only-of-type {\n        vertical-align: middle;\n    }\n\n    .dataframe tbody tr th {\n        vertical-align: top;\n    }\n\n    .dataframe thead th {\n        text-align: right;\n    }\n</style>\n<table border=\"1\" class=\"dataframe\">\n  <thead>\n    <tr style=\"text-align: right;\">\n      <th></th>\n      <th></th>\n      <th>total_voice_traffic_kerlangs</th>\n      <th>total_data_traffic_dl_gb</th>\n    </tr>\n    <tr>\n      <th>Year</th>\n      <th>region</th>\n      <th></th>\n      <th></th>\n    </tr>\n  </thead>\n  <tbody>\n    <tr>\n      <th rowspan=\"11\" valign=\"top\">2022</th>\n      <th>BÉNI MELLAL-KHÉNIFRA</th>\n      <td>1092.457417</td>\n      <td>4.881974e+06</td>\n    </tr>\n    <tr>\n      <th>DRÂA-TAFILALET</th>\n      <td>792.627387</td>\n      <td>3.182973e+06</td>\n    </tr>\n    <tr>\n      <th>EDDAKHLA-OUED EDDAHAB</th>\n      <td>203.212851</td>\n      <td>1.362339e+06</td>\n    </tr>\n    <tr>\n      <th>FÈS-MEKNÈS</th>\n      <td>6233.692290</td>\n      <td>1.440763e+07</td>\n    </tr>\n    <tr>\n      <th>GRAND CASABLANCA-SETTAT</th>\n      <td>12833.603569</td>\n      <td>3.069469e+07</td>\n    </tr>\n    <tr>\n      <th>LAAYOUNE-SAKIA EL HAMRA</th>\n      <td>306.547575</td>\n      <td>2.854692e+06</td>\n    </tr>\n    <tr>\n      <th>MARRAKECH-SAFI</th>\n      <td>3479.076045</td>\n      <td>1.331997e+07</td>\n    </tr>\n    <tr>\n      <th>ORIENTAL</th>\n      <td>807.940116</td>\n      <td>4.731422e+06</td>\n    </tr>\n    <tr>\n      <th>RABAT-SALÉ-KÉNITRA</th>\n      <td>6511.890040</td>\n      <td>1.784996e+07</td>\n    </tr>\n    <tr>\n      <th>SOUSS-MASSA</th>\n      <td>1792.267727</td>\n      <td>8.513446e+06</td>\n    </tr>\n    <tr>\n      <th>TANGER-TETOUAN-AL HOCEIMA</th>\n      <td>4340.436520</td>\n      <td>1.282867e+07</td>\n    </tr>\n    <tr>\n      <th rowspan=\"12\" valign=\"top\">2023</th>\n      <th>BÉNI MELLAL-KHÉNIFRA</th>\n      <td>190.138038</td>\n      <td>8.579907e+05</td>\n    </tr>\n    <tr>\n      <th>DRÂA-TAFILALET</th>\n      <td>241.299406</td>\n      <td>1.059564e+06</td>\n    </tr>\n    <tr>\n      <th>EDDAKHLA-OUED EDDAHAB</th>\n      <td>101.509835</td>\n      <td>3.909568e+05</td>\n    </tr>\n    <tr>\n      <th>FÈS-MEKNÈS</th>\n      <td>1429.219728</td>\n      <td>4.259504e+06</td>\n    </tr>\n    <tr>\n      <th>GRAND CASABLANCA-SETTAT</th>\n      <td>3389.351967</td>\n      <td>1.113727e+07</td>\n    </tr>\n    <tr>\n      <th>GUELMIM-OUED NOUN</th>\n      <td>24.006605</td>\n      <td>1.830246e+05</td>\n    </tr>\n    <tr>\n      <th>LAAYOUNE-SAKIA EL HAMRA</th>\n      <td>111.261794</td>\n      <td>1.018470e+06</td>\n    </tr>\n    <tr>\n      <th>MARRAKECH-SAFI</th>\n      <td>1218.479871</td>\n      <td>5.138235e+06</td>\n    </tr>\n    <tr>\n      <th>ORIENTAL</th>\n      <td>407.036301</td>\n      <td>2.488252e+06</td>\n    </tr>\n    <tr>\n      <th>RABAT-SALÉ-KÉNITRA</th>\n      <td>1421.036941</td>\n      <td>4.957540e+06</td>\n    </tr>\n    <tr>\n      <th>SOUSS-MASSA</th>\n      <td>516.359962</td>\n      <td>3.082103e+06</td>\n    </tr>\n    <tr>\n      <th>TANGER-TETOUAN-AL HOCEIMA</th>\n      <td>1579.654638</td>\n      <td>4.830576e+06</td>\n    </tr>\n  </tbody>\n</table>\n</div>"
     },
     "execution_count": 15,
     "metadata": {},
     "output_type": "execute_result"
    }
   ],
   "source": [
    "merged_group_by"
   ],
   "metadata": {
    "collapsed": false,
    "ExecuteTime": {
     "end_time": "2024-06-25T13:26:57.654286800Z",
     "start_time": "2024-06-25T13:26:57.646042600Z"
    }
   },
   "id": "4e35a563e2432f9b"
  },
  {
   "cell_type": "code",
   "execution_count": null,
   "outputs": [],
   "source": [],
   "metadata": {
    "collapsed": false
   },
   "id": "c1ba1750f7f96822"
  }
 ],
 "metadata": {
  "kernelspec": {
   "display_name": "Python 3",
   "language": "python",
   "name": "python3"
  },
  "language_info": {
   "codemirror_mode": {
    "name": "ipython",
    "version": 2
   },
   "file_extension": ".py",
   "mimetype": "text/x-python",
   "name": "python",
   "nbconvert_exporter": "python",
   "pygments_lexer": "ipython2",
   "version": "2.7.6"
  }
 },
 "nbformat": 4,
 "nbformat_minor": 5
}
