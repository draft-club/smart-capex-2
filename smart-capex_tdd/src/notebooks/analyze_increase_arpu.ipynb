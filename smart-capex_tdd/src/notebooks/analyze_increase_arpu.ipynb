{
 "cells": [
  {
   "cell_type": "code",
   "execution_count": 1,
   "id": "initial_id",
   "metadata": {
    "collapsed": true,
    "ExecuteTime": {
     "end_time": "2024-05-29T12:46:25.469865200Z",
     "start_time": "2024-05-29T12:46:25.082842500Z"
    }
   },
   "outputs": [],
   "source": [
    "import pandas as pd"
   ]
  },
  {
   "cell_type": "code",
   "execution_count": 2,
   "outputs": [
    {
     "data": {
      "text/plain": "                  site_id bands_upgraded  level_2        date  traffic_before  \\\n0     siteDenisfication_1  densification        0  2024-07-07     2928.776764   \n1     siteDenisfication_1  densification        1  2024-07-14     2928.776764   \n2     siteDenisfication_1  densification        2  2024-07-21     2928.776764   \n3     siteDenisfication_1  densification        3  2024-07-28     2928.776764   \n4     siteDenisfication_1  densification        4  2024-08-04     2928.776764   \n...                   ...            ...      ...         ...             ...   \n9875  siteDenisfication_9  densification      255  2029-05-27     7338.560924   \n9876  siteDenisfication_9  densification      256  2029-06-03     7338.560924   \n9877  siteDenisfication_9  densification      257  2029-06-10     7338.560924   \n9878  siteDenisfication_9  densification      258  2029-06-17     7338.560924   \n9879  siteDenisfication_9  densification      259  2029-06-24     7338.560924   \n\n      increase_of_traffic_after_the_upgrade  \\\n0                               2901.285486   \n1                               2901.285486   \n2                               2901.285486   \n3                               2901.285486   \n4                               2901.285486   \n...                                     ...   \n9875                            1373.182458   \n9876                            1373.182458   \n9877                            1373.182458   \n9878                            1373.182458   \n9879                            1373.182458   \n\n      total_traffic_to_compute_increase  increase  week_of_the_upgrade  year  \\\n0                           5830.062250       0.0               202426  2024   \n1                           5830.062250       0.0               202426  2024   \n2                           5830.062250       0.0               202426  2024   \n3                           5830.062250       0.0               202426  2024   \n4                           5830.062250       0.0               202426  2024   \n...                                 ...       ...                  ...   ...   \n9875                        8711.743382       0.0               202426  2029   \n9876                        8711.743382       0.0               202426  2029   \n9877                        8711.743382       0.0               202426  2029   \n9878                        8711.743382       0.0               202426  2029   \n9879                        8711.743382       0.0               202426  2029   \n\n      ...  month_period  unit_price_data_box  unit_price_data_mobile  \\\n0     ...        202407                  1.5                   2.442   \n1     ...        202407                  1.5                   2.442   \n2     ...        202407                  1.5                   2.442   \n3     ...        202407                  1.5                   2.442   \n4     ...        202408                  1.5                   2.442   \n...   ...           ...                  ...                     ...   \n9875  ...        202905                  0.0                   0.000   \n9876  ...        202906                  0.0                   0.000   \n9877  ...        202906                  0.0                   0.000   \n9878  ...        202906                  0.0                   0.000   \n9879  ...        202906                  0.0                   0.000   \n\n      unit_price_voice_min  unit_price_data_box_with_the_decrease  \\\n0                    0.065                                    1.5   \n1                    0.065                                    1.5   \n2                    0.065                                    1.5   \n3                    0.065                                    1.5   \n4                    0.065                                    1.5   \n...                    ...                                    ...   \n9875                 0.000                                    0.0   \n9876                 0.000                                    0.0   \n9877                 0.000                                    0.0   \n9878                 0.000                                    0.0   \n9879                 0.000                                    0.0   \n\n      unit_price_data_mobile_with_the_decrease  \\\n0                                        2.442   \n1                                        2.442   \n2                                        2.442   \n3                                        2.442   \n4                                        2.442   \n...                                        ...   \n9875                                     0.000   \n9876                                     0.000   \n9877                                     0.000   \n9878                                     0.000   \n9879                                     0.000   \n\n      unit_price_voice_with_the_decrease  \\\n0                                  0.065   \n1                                  0.065   \n2                                  0.065   \n3                                  0.065   \n4                                  0.065   \n...                                  ...   \n9875                               0.000   \n9876                               0.000   \n9877                               0.000   \n9878                               0.000   \n9879                               0.000   \n\n      arpu_increase_due_to_the_upgrade_data_box_xof  \\\n0                                          0.000000   \n1                                          0.000000   \n2                                          0.000000   \n3                                          0.000000   \n4                                       1729.507105   \n...                                             ...   \n9875                                       0.000000   \n9876                                       0.000000   \n9877                                       0.000000   \n9878                                       0.000000   \n9879                                       0.000000   \n\n      arpu_increase_due_to_the_upgrade_data_mobile_xof  \\\n0                                             0.000000   \n1                                             0.000000   \n2                                             0.000000   \n3                                             0.000000   \n4                                          4269.301591   \n...                                                ...   \n9875                                          0.000000   \n9876                                          0.000000   \n9877                                          0.000000   \n9878                                          0.000000   \n9879                                          0.000000   \n\n      arpu_increase_due_to_the_upgrade_data_xof  \n0                                      0.000000  \n1                                      0.000000  \n2                                      0.000000  \n3                                      0.000000  \n4                                   5998.808696  \n...                                         ...  \n9875                                   0.000000  \n9876                                   0.000000  \n9877                                   0.000000  \n9878                                   0.000000  \n9879                                   0.000000  \n\n[9880 rows x 30 columns]",
      "text/html": "<div>\n<style scoped>\n    .dataframe tbody tr th:only-of-type {\n        vertical-align: middle;\n    }\n\n    .dataframe tbody tr th {\n        vertical-align: top;\n    }\n\n    .dataframe thead th {\n        text-align: right;\n    }\n</style>\n<table border=\"1\" class=\"dataframe\">\n  <thead>\n    <tr style=\"text-align: right;\">\n      <th></th>\n      <th>site_id</th>\n      <th>bands_upgraded</th>\n      <th>level_2</th>\n      <th>date</th>\n      <th>traffic_before</th>\n      <th>increase_of_traffic_after_the_upgrade</th>\n      <th>total_traffic_to_compute_increase</th>\n      <th>increase</th>\n      <th>week_of_the_upgrade</th>\n      <th>year</th>\n      <th>...</th>\n      <th>month_period</th>\n      <th>unit_price_data_box</th>\n      <th>unit_price_data_mobile</th>\n      <th>unit_price_voice_min</th>\n      <th>unit_price_data_box_with_the_decrease</th>\n      <th>unit_price_data_mobile_with_the_decrease</th>\n      <th>unit_price_voice_with_the_decrease</th>\n      <th>arpu_increase_due_to_the_upgrade_data_box_xof</th>\n      <th>arpu_increase_due_to_the_upgrade_data_mobile_xof</th>\n      <th>arpu_increase_due_to_the_upgrade_data_xof</th>\n    </tr>\n  </thead>\n  <tbody>\n    <tr>\n      <th>0</th>\n      <td>siteDenisfication_1</td>\n      <td>densification</td>\n      <td>0</td>\n      <td>2024-07-07</td>\n      <td>2928.776764</td>\n      <td>2901.285486</td>\n      <td>5830.062250</td>\n      <td>0.0</td>\n      <td>202426</td>\n      <td>2024</td>\n      <td>...</td>\n      <td>202407</td>\n      <td>1.5</td>\n      <td>2.442</td>\n      <td>0.065</td>\n      <td>1.5</td>\n      <td>2.442</td>\n      <td>0.065</td>\n      <td>0.000000</td>\n      <td>0.000000</td>\n      <td>0.000000</td>\n    </tr>\n    <tr>\n      <th>1</th>\n      <td>siteDenisfication_1</td>\n      <td>densification</td>\n      <td>1</td>\n      <td>2024-07-14</td>\n      <td>2928.776764</td>\n      <td>2901.285486</td>\n      <td>5830.062250</td>\n      <td>0.0</td>\n      <td>202426</td>\n      <td>2024</td>\n      <td>...</td>\n      <td>202407</td>\n      <td>1.5</td>\n      <td>2.442</td>\n      <td>0.065</td>\n      <td>1.5</td>\n      <td>2.442</td>\n      <td>0.065</td>\n      <td>0.000000</td>\n      <td>0.000000</td>\n      <td>0.000000</td>\n    </tr>\n    <tr>\n      <th>2</th>\n      <td>siteDenisfication_1</td>\n      <td>densification</td>\n      <td>2</td>\n      <td>2024-07-21</td>\n      <td>2928.776764</td>\n      <td>2901.285486</td>\n      <td>5830.062250</td>\n      <td>0.0</td>\n      <td>202426</td>\n      <td>2024</td>\n      <td>...</td>\n      <td>202407</td>\n      <td>1.5</td>\n      <td>2.442</td>\n      <td>0.065</td>\n      <td>1.5</td>\n      <td>2.442</td>\n      <td>0.065</td>\n      <td>0.000000</td>\n      <td>0.000000</td>\n      <td>0.000000</td>\n    </tr>\n    <tr>\n      <th>3</th>\n      <td>siteDenisfication_1</td>\n      <td>densification</td>\n      <td>3</td>\n      <td>2024-07-28</td>\n      <td>2928.776764</td>\n      <td>2901.285486</td>\n      <td>5830.062250</td>\n      <td>0.0</td>\n      <td>202426</td>\n      <td>2024</td>\n      <td>...</td>\n      <td>202407</td>\n      <td>1.5</td>\n      <td>2.442</td>\n      <td>0.065</td>\n      <td>1.5</td>\n      <td>2.442</td>\n      <td>0.065</td>\n      <td>0.000000</td>\n      <td>0.000000</td>\n      <td>0.000000</td>\n    </tr>\n    <tr>\n      <th>4</th>\n      <td>siteDenisfication_1</td>\n      <td>densification</td>\n      <td>4</td>\n      <td>2024-08-04</td>\n      <td>2928.776764</td>\n      <td>2901.285486</td>\n      <td>5830.062250</td>\n      <td>0.0</td>\n      <td>202426</td>\n      <td>2024</td>\n      <td>...</td>\n      <td>202408</td>\n      <td>1.5</td>\n      <td>2.442</td>\n      <td>0.065</td>\n      <td>1.5</td>\n      <td>2.442</td>\n      <td>0.065</td>\n      <td>1729.507105</td>\n      <td>4269.301591</td>\n      <td>5998.808696</td>\n    </tr>\n    <tr>\n      <th>...</th>\n      <td>...</td>\n      <td>...</td>\n      <td>...</td>\n      <td>...</td>\n      <td>...</td>\n      <td>...</td>\n      <td>...</td>\n      <td>...</td>\n      <td>...</td>\n      <td>...</td>\n      <td>...</td>\n      <td>...</td>\n      <td>...</td>\n      <td>...</td>\n      <td>...</td>\n      <td>...</td>\n      <td>...</td>\n      <td>...</td>\n      <td>...</td>\n      <td>...</td>\n      <td>...</td>\n    </tr>\n    <tr>\n      <th>9875</th>\n      <td>siteDenisfication_9</td>\n      <td>densification</td>\n      <td>255</td>\n      <td>2029-05-27</td>\n      <td>7338.560924</td>\n      <td>1373.182458</td>\n      <td>8711.743382</td>\n      <td>0.0</td>\n      <td>202426</td>\n      <td>2029</td>\n      <td>...</td>\n      <td>202905</td>\n      <td>0.0</td>\n      <td>0.000</td>\n      <td>0.000</td>\n      <td>0.0</td>\n      <td>0.000</td>\n      <td>0.000</td>\n      <td>0.000000</td>\n      <td>0.000000</td>\n      <td>0.000000</td>\n    </tr>\n    <tr>\n      <th>9876</th>\n      <td>siteDenisfication_9</td>\n      <td>densification</td>\n      <td>256</td>\n      <td>2029-06-03</td>\n      <td>7338.560924</td>\n      <td>1373.182458</td>\n      <td>8711.743382</td>\n      <td>0.0</td>\n      <td>202426</td>\n      <td>2029</td>\n      <td>...</td>\n      <td>202906</td>\n      <td>0.0</td>\n      <td>0.000</td>\n      <td>0.000</td>\n      <td>0.0</td>\n      <td>0.000</td>\n      <td>0.000</td>\n      <td>0.000000</td>\n      <td>0.000000</td>\n      <td>0.000000</td>\n    </tr>\n    <tr>\n      <th>9877</th>\n      <td>siteDenisfication_9</td>\n      <td>densification</td>\n      <td>257</td>\n      <td>2029-06-10</td>\n      <td>7338.560924</td>\n      <td>1373.182458</td>\n      <td>8711.743382</td>\n      <td>0.0</td>\n      <td>202426</td>\n      <td>2029</td>\n      <td>...</td>\n      <td>202906</td>\n      <td>0.0</td>\n      <td>0.000</td>\n      <td>0.000</td>\n      <td>0.0</td>\n      <td>0.000</td>\n      <td>0.000</td>\n      <td>0.000000</td>\n      <td>0.000000</td>\n      <td>0.000000</td>\n    </tr>\n    <tr>\n      <th>9878</th>\n      <td>siteDenisfication_9</td>\n      <td>densification</td>\n      <td>258</td>\n      <td>2029-06-17</td>\n      <td>7338.560924</td>\n      <td>1373.182458</td>\n      <td>8711.743382</td>\n      <td>0.0</td>\n      <td>202426</td>\n      <td>2029</td>\n      <td>...</td>\n      <td>202906</td>\n      <td>0.0</td>\n      <td>0.000</td>\n      <td>0.000</td>\n      <td>0.0</td>\n      <td>0.000</td>\n      <td>0.000</td>\n      <td>0.000000</td>\n      <td>0.000000</td>\n      <td>0.000000</td>\n    </tr>\n    <tr>\n      <th>9879</th>\n      <td>siteDenisfication_9</td>\n      <td>densification</td>\n      <td>259</td>\n      <td>2029-06-24</td>\n      <td>7338.560924</td>\n      <td>1373.182458</td>\n      <td>8711.743382</td>\n      <td>0.0</td>\n      <td>202426</td>\n      <td>2029</td>\n      <td>...</td>\n      <td>202906</td>\n      <td>0.0</td>\n      <td>0.000</td>\n      <td>0.000</td>\n      <td>0.0</td>\n      <td>0.000</td>\n      <td>0.000</td>\n      <td>0.000000</td>\n      <td>0.000000</td>\n      <td>0.000000</td>\n    </tr>\n  </tbody>\n</table>\n<p>9880 rows × 30 columns</p>\n</div>"
     },
     "execution_count": 2,
     "metadata": {},
     "output_type": "execute_result"
    }
   ],
   "source": [
    "arpu = pd.read_csv('data/OMA/TDD/02_intermediate/tech_to_eco/df_increase_arpu_due_to_the_upgrade_FDD_from_capacity.csv', sep='|')\n",
    "arpu"
   ],
   "metadata": {
    "collapsed": false,
    "ExecuteTime": {
     "end_time": "2024-05-29T12:47:22.669942Z",
     "start_time": "2024-05-29T12:47:22.611433100Z"
    }
   },
   "id": "f39b2ac1710e5c86"
  },
  {
   "cell_type": "code",
   "execution_count": 5,
   "outputs": [
    {
     "data": {
      "text/plain": "      traffic_increase_due_to_the_upgrade_data_mobile  \\\nyear                                                    \n2024                                     9.938480e+05   \n2025                                     2.531407e+06   \n2026                                     3.417310e+06   \n2027                                     3.565387e+06   \n2028                                     3.630691e+06   \n2029                                     1.713359e+06   \n\n      traffic_increase_due_to_the_upgrade_data_box  \\\nyear                                                 \n2024                                  6.554504e+05   \n2025                                  1.639415e+06   \n2026                                  2.233411e+06   \n2027                                  2.319610e+06   \n2028                                  2.367479e+06   \n2029                                  1.115966e+06   \n\n      traffic_increase_due_to_the_upgrade  \nyear                                       \n2024                         1.649298e+06  \n2025                         4.170822e+06  \n2026                         5.650721e+06  \n2027                         5.884997e+06  \n2028                         5.998170e+06  \n2029                         2.829325e+06  ",
      "text/html": "<div>\n<style scoped>\n    .dataframe tbody tr th:only-of-type {\n        vertical-align: middle;\n    }\n\n    .dataframe tbody tr th {\n        vertical-align: top;\n    }\n\n    .dataframe thead th {\n        text-align: right;\n    }\n</style>\n<table border=\"1\" class=\"dataframe\">\n  <thead>\n    <tr style=\"text-align: right;\">\n      <th></th>\n      <th>traffic_increase_due_to_the_upgrade_data_mobile</th>\n      <th>traffic_increase_due_to_the_upgrade_data_box</th>\n      <th>traffic_increase_due_to_the_upgrade</th>\n    </tr>\n    <tr>\n      <th>year</th>\n      <th></th>\n      <th></th>\n      <th></th>\n    </tr>\n  </thead>\n  <tbody>\n    <tr>\n      <th>2024</th>\n      <td>9.938480e+05</td>\n      <td>6.554504e+05</td>\n      <td>1.649298e+06</td>\n    </tr>\n    <tr>\n      <th>2025</th>\n      <td>2.531407e+06</td>\n      <td>1.639415e+06</td>\n      <td>4.170822e+06</td>\n    </tr>\n    <tr>\n      <th>2026</th>\n      <td>3.417310e+06</td>\n      <td>2.233411e+06</td>\n      <td>5.650721e+06</td>\n    </tr>\n    <tr>\n      <th>2027</th>\n      <td>3.565387e+06</td>\n      <td>2.319610e+06</td>\n      <td>5.884997e+06</td>\n    </tr>\n    <tr>\n      <th>2028</th>\n      <td>3.630691e+06</td>\n      <td>2.367479e+06</td>\n      <td>5.998170e+06</td>\n    </tr>\n    <tr>\n      <th>2029</th>\n      <td>1.713359e+06</td>\n      <td>1.115966e+06</td>\n      <td>2.829325e+06</td>\n    </tr>\n  </tbody>\n</table>\n</div>"
     },
     "execution_count": 5,
     "metadata": {},
     "output_type": "execute_result"
    }
   ],
   "source": [
    "test = arpu.groupby('year').agg({'traffic_increase_due_to_the_upgrade_data_mobile' :'sum',\n",
    "                                 'traffic_increase_due_to_the_upgrade_data_box' :'sum',\n",
    "                                 'traffic_increase_due_to_the_upgrade' :'sum'})\n",
    "test"
   ],
   "metadata": {
    "collapsed": false,
    "ExecuteTime": {
     "end_time": "2024-05-29T12:51:54.977370200Z",
     "start_time": "2024-05-29T12:51:54.966828800Z"
    }
   },
   "id": "da1bd2c86967034e"
  },
  {
   "cell_type": "code",
   "execution_count": 6,
   "outputs": [
    {
     "data": {
      "text/plain": "      traffic_increase_due_to_the_upgrade_data_mobile  \\\nyear                                                    \n2024                                     9.938480e+05   \n2025                                     2.531407e+06   \n2026                                     3.417310e+06   \n2027                                     3.565387e+06   \n2028                                     3.630691e+06   \n2029                                     1.713359e+06   \n\n      traffic_increase_due_to_the_upgrade_data_box  \\\nyear                                                 \n2024                                  6.554504e+05   \n2025                                  1.639415e+06   \n2026                                  2.233411e+06   \n2027                                  2.319610e+06   \n2028                                  2.367479e+06   \n2029                                  1.115966e+06   \n\n      traffic_increase_due_to_the_upgrade        rate  \nyear                                                   \n2024                         1.649298e+06         NaN  \n2025                         4.170822e+06  152.884615  \n2026                         5.650721e+06   35.482198  \n2027                         5.884997e+06    4.145937  \n2028                         5.998170e+06    1.923077  \n2029                         2.829325e+06  -52.830189  ",
      "text/html": "<div>\n<style scoped>\n    .dataframe tbody tr th:only-of-type {\n        vertical-align: middle;\n    }\n\n    .dataframe tbody tr th {\n        vertical-align: top;\n    }\n\n    .dataframe thead th {\n        text-align: right;\n    }\n</style>\n<table border=\"1\" class=\"dataframe\">\n  <thead>\n    <tr style=\"text-align: right;\">\n      <th></th>\n      <th>traffic_increase_due_to_the_upgrade_data_mobile</th>\n      <th>traffic_increase_due_to_the_upgrade_data_box</th>\n      <th>traffic_increase_due_to_the_upgrade</th>\n      <th>rate</th>\n    </tr>\n    <tr>\n      <th>year</th>\n      <th></th>\n      <th></th>\n      <th></th>\n      <th></th>\n    </tr>\n  </thead>\n  <tbody>\n    <tr>\n      <th>2024</th>\n      <td>9.938480e+05</td>\n      <td>6.554504e+05</td>\n      <td>1.649298e+06</td>\n      <td>NaN</td>\n    </tr>\n    <tr>\n      <th>2025</th>\n      <td>2.531407e+06</td>\n      <td>1.639415e+06</td>\n      <td>4.170822e+06</td>\n      <td>152.884615</td>\n    </tr>\n    <tr>\n      <th>2026</th>\n      <td>3.417310e+06</td>\n      <td>2.233411e+06</td>\n      <td>5.650721e+06</td>\n      <td>35.482198</td>\n    </tr>\n    <tr>\n      <th>2027</th>\n      <td>3.565387e+06</td>\n      <td>2.319610e+06</td>\n      <td>5.884997e+06</td>\n      <td>4.145937</td>\n    </tr>\n    <tr>\n      <th>2028</th>\n      <td>3.630691e+06</td>\n      <td>2.367479e+06</td>\n      <td>5.998170e+06</td>\n      <td>1.923077</td>\n    </tr>\n    <tr>\n      <th>2029</th>\n      <td>1.713359e+06</td>\n      <td>1.115966e+06</td>\n      <td>2.829325e+06</td>\n      <td>-52.830189</td>\n    </tr>\n  </tbody>\n</table>\n</div>"
     },
     "execution_count": 6,
     "metadata": {},
     "output_type": "execute_result"
    }
   ],
   "source": [
    "test['rate'] = test['traffic_increase_due_to_the_upgrade'].pct_change() * 100\n",
    "test"
   ],
   "metadata": {
    "collapsed": false,
    "ExecuteTime": {
     "end_time": "2024-05-29T12:53:01.284624700Z",
     "start_time": "2024-05-29T12:53:01.270785800Z"
    }
   },
   "id": "7b1d8c92d2253f5b"
  },
  {
   "cell_type": "code",
   "execution_count": null,
   "outputs": [],
   "source": [],
   "metadata": {
    "collapsed": false
   },
   "id": "7c804f4f287f6ffd"
  }
 ],
 "metadata": {
  "kernelspec": {
   "display_name": "Python 3",
   "language": "python",
   "name": "python3"
  },
  "language_info": {
   "codemirror_mode": {
    "name": "ipython",
    "version": 2
   },
   "file_extension": ".py",
   "mimetype": "text/x-python",
   "name": "python",
   "nbconvert_exporter": "python",
   "pygments_lexer": "ipython2",
   "version": "2.7.6"
  }
 },
 "nbformat": 4,
 "nbformat_minor": 5
}
