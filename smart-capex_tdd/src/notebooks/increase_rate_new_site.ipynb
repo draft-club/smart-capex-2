{
 "cells": [
  {
   "cell_type": "code",
   "execution_count": 59,
   "id": "initial_id",
   "metadata": {
    "collapsed": true,
    "ExecuteTime": {
     "end_time": "2024-06-28T08:44:43.163039700Z",
     "start_time": "2024-06-28T08:44:43.145738100Z"
    }
   },
   "outputs": [],
   "source": [
    "import pandas as pd\n",
    "import numpy as np"
   ]
  },
  {
   "cell_type": "code",
   "execution_count": 10,
   "outputs": [],
   "source": [
    "rate = pd.read_csv(r'C:\\Users\\hwfj3140\\Documents\\SmartCapex\\TDD\\smart-capex_tdd\\data\\OMA\\TDD\\01_raw\\df_traffic_data_rate_by_year.csv', sep=',')\n",
    "df_to_work = pd.read_csv(r'C:\\Users\\hwfj3140\\Documents\\SmartCapex\\TDD\\smart-capex_tdd\\data\\OMA\\TDD\\tmp\\site_to_increase.csv', sep='|')\n",
    "cluster_key = pd.read_csv(r'C:\\Users\\hwfj3140\\Documents\\SmartCapex\\TDD\\smart-capex_tdd\\data\\OMA\\TDD\\02_intermediate\\df_cluster_keys_FDD_from_capacity.csv', sep='|')\n",
    "df_site = pd.read_csv(r'C:\\Users\\hwfj3140\\Documents\\SmartCapex\\TDD\\smart-capex_tdd\\data\\OMA\\TDD\\01_raw\\df_sites.csv', sep='|')"
   ],
   "metadata": {
    "collapsed": false,
    "ExecuteTime": {
     "end_time": "2024-06-28T07:39:45.866189800Z",
     "start_time": "2024-06-28T07:39:45.717194100Z"
    }
   },
   "id": "1a05e110f3ec3ae3"
  },
  {
   "cell_type": "code",
   "execution_count": 4,
   "outputs": [
    {
     "data": {
      "text/plain": "   Béni Mellal-Khénifra  Drâa-Tafilalet  Eddakhla-Oued Eddahab  Fès-Meknès  \\\n0                  1.00            1.00                    1.0        1.00   \n1                  1.11            1.43                    1.8        1.00   \n2                  1.33            2.02                    1.8        1.06   \n3                  1.33            2.02                    1.8        1.06   \n4                  1.33            2.02                    1.8        1.06   \n\n   Grand Casablanca-Settat  Guelmim-Oued Noun  Laayoune-Sakia El Hamra  \\\n0                     1.00               1.00                     1.00   \n1                     1.12               1.23                     0.83   \n2                     1.23               1.25                     0.83   \n3                     1.23               1.25                     0.83   \n4                     1.23               1.25                     0.83   \n\n   Marrakech-Safi  Oriental  Rabat-Salé-Kénitra  Souss-Massa  \\\n0            1.00      1.00                1.00         1.00   \n1            1.09      1.00                1.16         1.00   \n2            1.20      1.18                1.23         1.29   \n3            1.20      1.18                1.23         1.29   \n4            1.20      1.18                1.23         1.29   \n\n   Tanger-Tetouan-Al Hoceima  \n0                       1.00  \n1                       1.02  \n2                       1.19  \n3                       1.19  \n4                       1.19  ",
      "text/html": "<div>\n<style scoped>\n    .dataframe tbody tr th:only-of-type {\n        vertical-align: middle;\n    }\n\n    .dataframe tbody tr th {\n        vertical-align: top;\n    }\n\n    .dataframe thead th {\n        text-align: right;\n    }\n</style>\n<table border=\"1\" class=\"dataframe\">\n  <thead>\n    <tr style=\"text-align: right;\">\n      <th></th>\n      <th>Béni Mellal-Khénifra</th>\n      <th>Drâa-Tafilalet</th>\n      <th>Eddakhla-Oued Eddahab</th>\n      <th>Fès-Meknès</th>\n      <th>Grand Casablanca-Settat</th>\n      <th>Guelmim-Oued Noun</th>\n      <th>Laayoune-Sakia El Hamra</th>\n      <th>Marrakech-Safi</th>\n      <th>Oriental</th>\n      <th>Rabat-Salé-Kénitra</th>\n      <th>Souss-Massa</th>\n      <th>Tanger-Tetouan-Al Hoceima</th>\n    </tr>\n  </thead>\n  <tbody>\n    <tr>\n      <th>0</th>\n      <td>1.00</td>\n      <td>1.00</td>\n      <td>1.0</td>\n      <td>1.00</td>\n      <td>1.00</td>\n      <td>1.00</td>\n      <td>1.00</td>\n      <td>1.00</td>\n      <td>1.00</td>\n      <td>1.00</td>\n      <td>1.00</td>\n      <td>1.00</td>\n    </tr>\n    <tr>\n      <th>1</th>\n      <td>1.11</td>\n      <td>1.43</td>\n      <td>1.8</td>\n      <td>1.00</td>\n      <td>1.12</td>\n      <td>1.23</td>\n      <td>0.83</td>\n      <td>1.09</td>\n      <td>1.00</td>\n      <td>1.16</td>\n      <td>1.00</td>\n      <td>1.02</td>\n    </tr>\n    <tr>\n      <th>2</th>\n      <td>1.33</td>\n      <td>2.02</td>\n      <td>1.8</td>\n      <td>1.06</td>\n      <td>1.23</td>\n      <td>1.25</td>\n      <td>0.83</td>\n      <td>1.20</td>\n      <td>1.18</td>\n      <td>1.23</td>\n      <td>1.29</td>\n      <td>1.19</td>\n    </tr>\n    <tr>\n      <th>3</th>\n      <td>1.33</td>\n      <td>2.02</td>\n      <td>1.8</td>\n      <td>1.06</td>\n      <td>1.23</td>\n      <td>1.25</td>\n      <td>0.83</td>\n      <td>1.20</td>\n      <td>1.18</td>\n      <td>1.23</td>\n      <td>1.29</td>\n      <td>1.19</td>\n    </tr>\n    <tr>\n      <th>4</th>\n      <td>1.33</td>\n      <td>2.02</td>\n      <td>1.8</td>\n      <td>1.06</td>\n      <td>1.23</td>\n      <td>1.25</td>\n      <td>0.83</td>\n      <td>1.20</td>\n      <td>1.18</td>\n      <td>1.23</td>\n      <td>1.29</td>\n      <td>1.19</td>\n    </tr>\n  </tbody>\n</table>\n</div>"
     },
     "execution_count": 4,
     "metadata": {},
     "output_type": "execute_result"
    }
   ],
   "source": [
    "rate"
   ],
   "metadata": {
    "collapsed": false,
    "ExecuteTime": {
     "end_time": "2024-06-28T07:36:35.273877900Z",
     "start_time": "2024-06-28T07:36:35.255567100Z"
    }
   },
   "id": "49a645f5e2a9fbfd"
  },
  {
   "cell_type": "code",
   "execution_count": 5,
   "outputs": [
    {
     "data": {
      "text/plain": "                   site_id  week_of_the_upgrade bands_upgraded  \\\n0      siteDenisfication_1               202426  densification   \n1      siteDenisfication_1               202426  densification   \n2      siteDenisfication_1               202426  densification   \n3      siteDenisfication_1               202426  densification   \n4      siteDenisfication_1               202426  densification   \n...                    ...                  ...            ...   \n9875  siteDenisfication_38               202426  densification   \n9876  siteDenisfication_38               202426  densification   \n9877  siteDenisfication_38               202426  densification   \n9878  siteDenisfication_38               202426  densification   \n9879  siteDenisfication_38               202426  densification   \n\n      n_traffic_before  predicted_traffic  trafic_improvement        date  \\\n0          2928.776764        3707.563623         3707.563623  2024-07-07   \n1          2928.776764        3707.563623         3707.563623  2024-07-14   \n2          2928.776764        3707.563623         3707.563623  2024-07-21   \n3          2928.776764        3707.563623         3707.563623  2024-07-28   \n4          2928.776764        3707.563623         3707.563623  2024-08-04   \n...                ...                ...                 ...         ...   \n9875       3147.506204        2324.854627         2324.854627  2029-05-27   \n9876       3147.506204        2324.854627         2324.854627  2029-06-03   \n9877       3147.506204        2324.854627         2324.854627  2029-06-10   \n9878       3147.506204        2324.854627         2324.854627  2029-06-17   \n9879       3147.506204        2324.854627         2324.854627  2029-06-24   \n\n      week_period  lag_between_the_upgrade  \n0          202427                        1  \n1          202428                        2  \n2          202429                        3  \n3          202430                        4  \n4          202431                        5  \n...           ...                      ...  \n9875       202921                      256  \n9876       202922                      257  \n9877       202923                      258  \n9878       202924                      259  \n9879       202925                      260  \n\n[9880 rows x 9 columns]",
      "text/html": "<div>\n<style scoped>\n    .dataframe tbody tr th:only-of-type {\n        vertical-align: middle;\n    }\n\n    .dataframe tbody tr th {\n        vertical-align: top;\n    }\n\n    .dataframe thead th {\n        text-align: right;\n    }\n</style>\n<table border=\"1\" class=\"dataframe\">\n  <thead>\n    <tr style=\"text-align: right;\">\n      <th></th>\n      <th>site_id</th>\n      <th>week_of_the_upgrade</th>\n      <th>bands_upgraded</th>\n      <th>n_traffic_before</th>\n      <th>predicted_traffic</th>\n      <th>trafic_improvement</th>\n      <th>date</th>\n      <th>week_period</th>\n      <th>lag_between_the_upgrade</th>\n    </tr>\n  </thead>\n  <tbody>\n    <tr>\n      <th>0</th>\n      <td>siteDenisfication_1</td>\n      <td>202426</td>\n      <td>densification</td>\n      <td>2928.776764</td>\n      <td>3707.563623</td>\n      <td>3707.563623</td>\n      <td>2024-07-07</td>\n      <td>202427</td>\n      <td>1</td>\n    </tr>\n    <tr>\n      <th>1</th>\n      <td>siteDenisfication_1</td>\n      <td>202426</td>\n      <td>densification</td>\n      <td>2928.776764</td>\n      <td>3707.563623</td>\n      <td>3707.563623</td>\n      <td>2024-07-14</td>\n      <td>202428</td>\n      <td>2</td>\n    </tr>\n    <tr>\n      <th>2</th>\n      <td>siteDenisfication_1</td>\n      <td>202426</td>\n      <td>densification</td>\n      <td>2928.776764</td>\n      <td>3707.563623</td>\n      <td>3707.563623</td>\n      <td>2024-07-21</td>\n      <td>202429</td>\n      <td>3</td>\n    </tr>\n    <tr>\n      <th>3</th>\n      <td>siteDenisfication_1</td>\n      <td>202426</td>\n      <td>densification</td>\n      <td>2928.776764</td>\n      <td>3707.563623</td>\n      <td>3707.563623</td>\n      <td>2024-07-28</td>\n      <td>202430</td>\n      <td>4</td>\n    </tr>\n    <tr>\n      <th>4</th>\n      <td>siteDenisfication_1</td>\n      <td>202426</td>\n      <td>densification</td>\n      <td>2928.776764</td>\n      <td>3707.563623</td>\n      <td>3707.563623</td>\n      <td>2024-08-04</td>\n      <td>202431</td>\n      <td>5</td>\n    </tr>\n    <tr>\n      <th>...</th>\n      <td>...</td>\n      <td>...</td>\n      <td>...</td>\n      <td>...</td>\n      <td>...</td>\n      <td>...</td>\n      <td>...</td>\n      <td>...</td>\n      <td>...</td>\n    </tr>\n    <tr>\n      <th>9875</th>\n      <td>siteDenisfication_38</td>\n      <td>202426</td>\n      <td>densification</td>\n      <td>3147.506204</td>\n      <td>2324.854627</td>\n      <td>2324.854627</td>\n      <td>2029-05-27</td>\n      <td>202921</td>\n      <td>256</td>\n    </tr>\n    <tr>\n      <th>9876</th>\n      <td>siteDenisfication_38</td>\n      <td>202426</td>\n      <td>densification</td>\n      <td>3147.506204</td>\n      <td>2324.854627</td>\n      <td>2324.854627</td>\n      <td>2029-06-03</td>\n      <td>202922</td>\n      <td>257</td>\n    </tr>\n    <tr>\n      <th>9877</th>\n      <td>siteDenisfication_38</td>\n      <td>202426</td>\n      <td>densification</td>\n      <td>3147.506204</td>\n      <td>2324.854627</td>\n      <td>2324.854627</td>\n      <td>2029-06-10</td>\n      <td>202923</td>\n      <td>258</td>\n    </tr>\n    <tr>\n      <th>9878</th>\n      <td>siteDenisfication_38</td>\n      <td>202426</td>\n      <td>densification</td>\n      <td>3147.506204</td>\n      <td>2324.854627</td>\n      <td>2324.854627</td>\n      <td>2029-06-17</td>\n      <td>202924</td>\n      <td>259</td>\n    </tr>\n    <tr>\n      <th>9879</th>\n      <td>siteDenisfication_38</td>\n      <td>202426</td>\n      <td>densification</td>\n      <td>3147.506204</td>\n      <td>2324.854627</td>\n      <td>2324.854627</td>\n      <td>2029-06-24</td>\n      <td>202925</td>\n      <td>260</td>\n    </tr>\n  </tbody>\n</table>\n<p>9880 rows × 9 columns</p>\n</div>"
     },
     "execution_count": 5,
     "metadata": {},
     "output_type": "execute_result"
    }
   ],
   "source": [
    "df_to_work"
   ],
   "metadata": {
    "collapsed": false,
    "ExecuteTime": {
     "end_time": "2024-06-28T07:36:38.180170800Z",
     "start_time": "2024-06-28T07:36:38.162712Z"
    }
   },
   "id": "1b566969e59c609d"
  },
  {
   "cell_type": "code",
   "execution_count": 9,
   "outputs": [
    {
     "data": {
      "text/plain": "                 site_id neighbour_1 neighbour_2  \\\n0    siteDenisfication_1      TAN084      TAN188   \n1   siteDenisfication_10     CAS1196         NaN   \n2   siteDenisfication_11     CAS1368         NaN   \n3   siteDenisfication_12       FE019         NaN   \n4   siteDenisfication_13      CAS198         NaN   \n5   siteDenisfication_14     MAR1124         NaN   \n6   siteDenisfication_15      KEN909         NaN   \n7   siteDenisfication_16      CAS135         NaN   \n8   siteDenisfication_17     FES1076         NaN   \n9   siteDenisfication_18      MOH649         NaN   \n10  siteDenisfication_19      TET600         NaN   \n11   siteDenisfication_2     CAS1379         NaN   \n12  siteDenisfication_20      AGA032         NaN   \n13  siteDenisfication_21      KEN004         NaN   \n14  siteDenisfication_22       JA040         NaN   \n15  siteDenisfication_23      GUI152         NaN   \n16  siteDenisfication_24      FES111         NaN   \n17  siteDenisfication_25     TAN9058         NaN   \n18  siteDenisfication_26     TAN9033         NaN   \n19  siteDenisfication_27     TAN9015         NaN   \n20  siteDenisfication_28       KF013         NaN   \n21  siteDenisfication_29      RAB528         NaN   \n22   siteDenisfication_3     CAS1379         NaN   \n23  siteDenisfication_30      CAS604         NaN   \n24  siteDenisfication_31      TEM003         NaN   \n25  siteDenisfication_32     TAN9146         NaN   \n26  siteDenisfication_33      LAA915         NaN   \n27  siteDenisfication_34     TAN9079         NaN   \n28  siteDenisfication_35      TAN008         NaN   \n29  siteDenisfication_36     CAS1285         NaN   \n30  siteDenisfication_37      TAN025         NaN   \n31  siteDenisfication_38     CAS1404         NaN   \n32   siteDenisfication_4     CAS1379         NaN   \n33   siteDenisfication_5      RAB993         NaN   \n34   siteDenisfication_6      OUJ843         NaN   \n35   siteDenisfication_7      TAN073         NaN   \n36   siteDenisfication_8       CA018         NaN   \n37   siteDenisfication_9      TAN705         NaN   \n\n                          cluster_key  \n0   siteDenisfication_1_TAN084_TAN188  \n1        siteDenisfication_10_CAS1196  \n2        siteDenisfication_11_CAS1368  \n3          siteDenisfication_12_FE019  \n4         siteDenisfication_13_CAS198  \n5        siteDenisfication_14_MAR1124  \n6         siteDenisfication_15_KEN909  \n7         siteDenisfication_16_CAS135  \n8        siteDenisfication_17_FES1076  \n9         siteDenisfication_18_MOH649  \n10        siteDenisfication_19_TET600  \n11        siteDenisfication_2_CAS1379  \n12        siteDenisfication_20_AGA032  \n13        siteDenisfication_21_KEN004  \n14         siteDenisfication_22_JA040  \n15        siteDenisfication_23_GUI152  \n16        siteDenisfication_24_FES111  \n17       siteDenisfication_25_TAN9058  \n18       siteDenisfication_26_TAN9033  \n19       siteDenisfication_27_TAN9015  \n20         siteDenisfication_28_KF013  \n21        siteDenisfication_29_RAB528  \n22        siteDenisfication_3_CAS1379  \n23        siteDenisfication_30_CAS604  \n24        siteDenisfication_31_TEM003  \n25       siteDenisfication_32_TAN9146  \n26        siteDenisfication_33_LAA915  \n27       siteDenisfication_34_TAN9079  \n28        siteDenisfication_35_TAN008  \n29       siteDenisfication_36_CAS1285  \n30        siteDenisfication_37_TAN025  \n31       siteDenisfication_38_CAS1404  \n32        siteDenisfication_4_CAS1379  \n33         siteDenisfication_5_RAB993  \n34         siteDenisfication_6_OUJ843  \n35         siteDenisfication_7_TAN073  \n36          siteDenisfication_8_CA018  \n37         siteDenisfication_9_TAN705  ",
      "text/html": "<div>\n<style scoped>\n    .dataframe tbody tr th:only-of-type {\n        vertical-align: middle;\n    }\n\n    .dataframe tbody tr th {\n        vertical-align: top;\n    }\n\n    .dataframe thead th {\n        text-align: right;\n    }\n</style>\n<table border=\"1\" class=\"dataframe\">\n  <thead>\n    <tr style=\"text-align: right;\">\n      <th></th>\n      <th>site_id</th>\n      <th>neighbour_1</th>\n      <th>neighbour_2</th>\n      <th>cluster_key</th>\n    </tr>\n  </thead>\n  <tbody>\n    <tr>\n      <th>0</th>\n      <td>siteDenisfication_1</td>\n      <td>TAN084</td>\n      <td>TAN188</td>\n      <td>siteDenisfication_1_TAN084_TAN188</td>\n    </tr>\n    <tr>\n      <th>1</th>\n      <td>siteDenisfication_10</td>\n      <td>CAS1196</td>\n      <td>NaN</td>\n      <td>siteDenisfication_10_CAS1196</td>\n    </tr>\n    <tr>\n      <th>2</th>\n      <td>siteDenisfication_11</td>\n      <td>CAS1368</td>\n      <td>NaN</td>\n      <td>siteDenisfication_11_CAS1368</td>\n    </tr>\n    <tr>\n      <th>3</th>\n      <td>siteDenisfication_12</td>\n      <td>FE019</td>\n      <td>NaN</td>\n      <td>siteDenisfication_12_FE019</td>\n    </tr>\n    <tr>\n      <th>4</th>\n      <td>siteDenisfication_13</td>\n      <td>CAS198</td>\n      <td>NaN</td>\n      <td>siteDenisfication_13_CAS198</td>\n    </tr>\n    <tr>\n      <th>5</th>\n      <td>siteDenisfication_14</td>\n      <td>MAR1124</td>\n      <td>NaN</td>\n      <td>siteDenisfication_14_MAR1124</td>\n    </tr>\n    <tr>\n      <th>6</th>\n      <td>siteDenisfication_15</td>\n      <td>KEN909</td>\n      <td>NaN</td>\n      <td>siteDenisfication_15_KEN909</td>\n    </tr>\n    <tr>\n      <th>7</th>\n      <td>siteDenisfication_16</td>\n      <td>CAS135</td>\n      <td>NaN</td>\n      <td>siteDenisfication_16_CAS135</td>\n    </tr>\n    <tr>\n      <th>8</th>\n      <td>siteDenisfication_17</td>\n      <td>FES1076</td>\n      <td>NaN</td>\n      <td>siteDenisfication_17_FES1076</td>\n    </tr>\n    <tr>\n      <th>9</th>\n      <td>siteDenisfication_18</td>\n      <td>MOH649</td>\n      <td>NaN</td>\n      <td>siteDenisfication_18_MOH649</td>\n    </tr>\n    <tr>\n      <th>10</th>\n      <td>siteDenisfication_19</td>\n      <td>TET600</td>\n      <td>NaN</td>\n      <td>siteDenisfication_19_TET600</td>\n    </tr>\n    <tr>\n      <th>11</th>\n      <td>siteDenisfication_2</td>\n      <td>CAS1379</td>\n      <td>NaN</td>\n      <td>siteDenisfication_2_CAS1379</td>\n    </tr>\n    <tr>\n      <th>12</th>\n      <td>siteDenisfication_20</td>\n      <td>AGA032</td>\n      <td>NaN</td>\n      <td>siteDenisfication_20_AGA032</td>\n    </tr>\n    <tr>\n      <th>13</th>\n      <td>siteDenisfication_21</td>\n      <td>KEN004</td>\n      <td>NaN</td>\n      <td>siteDenisfication_21_KEN004</td>\n    </tr>\n    <tr>\n      <th>14</th>\n      <td>siteDenisfication_22</td>\n      <td>JA040</td>\n      <td>NaN</td>\n      <td>siteDenisfication_22_JA040</td>\n    </tr>\n    <tr>\n      <th>15</th>\n      <td>siteDenisfication_23</td>\n      <td>GUI152</td>\n      <td>NaN</td>\n      <td>siteDenisfication_23_GUI152</td>\n    </tr>\n    <tr>\n      <th>16</th>\n      <td>siteDenisfication_24</td>\n      <td>FES111</td>\n      <td>NaN</td>\n      <td>siteDenisfication_24_FES111</td>\n    </tr>\n    <tr>\n      <th>17</th>\n      <td>siteDenisfication_25</td>\n      <td>TAN9058</td>\n      <td>NaN</td>\n      <td>siteDenisfication_25_TAN9058</td>\n    </tr>\n    <tr>\n      <th>18</th>\n      <td>siteDenisfication_26</td>\n      <td>TAN9033</td>\n      <td>NaN</td>\n      <td>siteDenisfication_26_TAN9033</td>\n    </tr>\n    <tr>\n      <th>19</th>\n      <td>siteDenisfication_27</td>\n      <td>TAN9015</td>\n      <td>NaN</td>\n      <td>siteDenisfication_27_TAN9015</td>\n    </tr>\n    <tr>\n      <th>20</th>\n      <td>siteDenisfication_28</td>\n      <td>KF013</td>\n      <td>NaN</td>\n      <td>siteDenisfication_28_KF013</td>\n    </tr>\n    <tr>\n      <th>21</th>\n      <td>siteDenisfication_29</td>\n      <td>RAB528</td>\n      <td>NaN</td>\n      <td>siteDenisfication_29_RAB528</td>\n    </tr>\n    <tr>\n      <th>22</th>\n      <td>siteDenisfication_3</td>\n      <td>CAS1379</td>\n      <td>NaN</td>\n      <td>siteDenisfication_3_CAS1379</td>\n    </tr>\n    <tr>\n      <th>23</th>\n      <td>siteDenisfication_30</td>\n      <td>CAS604</td>\n      <td>NaN</td>\n      <td>siteDenisfication_30_CAS604</td>\n    </tr>\n    <tr>\n      <th>24</th>\n      <td>siteDenisfication_31</td>\n      <td>TEM003</td>\n      <td>NaN</td>\n      <td>siteDenisfication_31_TEM003</td>\n    </tr>\n    <tr>\n      <th>25</th>\n      <td>siteDenisfication_32</td>\n      <td>TAN9146</td>\n      <td>NaN</td>\n      <td>siteDenisfication_32_TAN9146</td>\n    </tr>\n    <tr>\n      <th>26</th>\n      <td>siteDenisfication_33</td>\n      <td>LAA915</td>\n      <td>NaN</td>\n      <td>siteDenisfication_33_LAA915</td>\n    </tr>\n    <tr>\n      <th>27</th>\n      <td>siteDenisfication_34</td>\n      <td>TAN9079</td>\n      <td>NaN</td>\n      <td>siteDenisfication_34_TAN9079</td>\n    </tr>\n    <tr>\n      <th>28</th>\n      <td>siteDenisfication_35</td>\n      <td>TAN008</td>\n      <td>NaN</td>\n      <td>siteDenisfication_35_TAN008</td>\n    </tr>\n    <tr>\n      <th>29</th>\n      <td>siteDenisfication_36</td>\n      <td>CAS1285</td>\n      <td>NaN</td>\n      <td>siteDenisfication_36_CAS1285</td>\n    </tr>\n    <tr>\n      <th>30</th>\n      <td>siteDenisfication_37</td>\n      <td>TAN025</td>\n      <td>NaN</td>\n      <td>siteDenisfication_37_TAN025</td>\n    </tr>\n    <tr>\n      <th>31</th>\n      <td>siteDenisfication_38</td>\n      <td>CAS1404</td>\n      <td>NaN</td>\n      <td>siteDenisfication_38_CAS1404</td>\n    </tr>\n    <tr>\n      <th>32</th>\n      <td>siteDenisfication_4</td>\n      <td>CAS1379</td>\n      <td>NaN</td>\n      <td>siteDenisfication_4_CAS1379</td>\n    </tr>\n    <tr>\n      <th>33</th>\n      <td>siteDenisfication_5</td>\n      <td>RAB993</td>\n      <td>NaN</td>\n      <td>siteDenisfication_5_RAB993</td>\n    </tr>\n    <tr>\n      <th>34</th>\n      <td>siteDenisfication_6</td>\n      <td>OUJ843</td>\n      <td>NaN</td>\n      <td>siteDenisfication_6_OUJ843</td>\n    </tr>\n    <tr>\n      <th>35</th>\n      <td>siteDenisfication_7</td>\n      <td>TAN073</td>\n      <td>NaN</td>\n      <td>siteDenisfication_7_TAN073</td>\n    </tr>\n    <tr>\n      <th>36</th>\n      <td>siteDenisfication_8</td>\n      <td>CA018</td>\n      <td>NaN</td>\n      <td>siteDenisfication_8_CA018</td>\n    </tr>\n    <tr>\n      <th>37</th>\n      <td>siteDenisfication_9</td>\n      <td>TAN705</td>\n      <td>NaN</td>\n      <td>siteDenisfication_9_TAN705</td>\n    </tr>\n  </tbody>\n</table>\n</div>"
     },
     "execution_count": 9,
     "metadata": {},
     "output_type": "execute_result"
    }
   ],
   "source": [
    "cluster_key"
   ],
   "metadata": {
    "collapsed": false,
    "ExecuteTime": {
     "end_time": "2024-06-28T07:37:45.139267400Z",
     "start_time": "2024-06-28T07:37:45.120183200Z"
    }
   },
   "id": "37f34baa6e86bf31"
  },
  {
   "cell_type": "code",
   "execution_count": 16,
   "outputs": [],
   "source": [
    "add_region = pd.merge(df_to_work, cluster_key[['site_id','neighbour_1']], on='site_id') "
   ],
   "metadata": {
    "collapsed": false,
    "ExecuteTime": {
     "end_time": "2024-06-28T07:48:12.145486800Z",
     "start_time": "2024-06-28T07:48:12.121055300Z"
    }
   },
   "id": "6c6305b71999b94e"
  },
  {
   "cell_type": "code",
   "execution_count": 17,
   "outputs": [
    {
     "data": {
      "text/plain": "                   site_id  week_of_the_upgrade bands_upgraded  \\\n0      siteDenisfication_1               202426  densification   \n1      siteDenisfication_1               202426  densification   \n2      siteDenisfication_1               202426  densification   \n3      siteDenisfication_1               202426  densification   \n4      siteDenisfication_1               202426  densification   \n...                    ...                  ...            ...   \n9875  siteDenisfication_38               202426  densification   \n9876  siteDenisfication_38               202426  densification   \n9877  siteDenisfication_38               202426  densification   \n9878  siteDenisfication_38               202426  densification   \n9879  siteDenisfication_38               202426  densification   \n\n      n_traffic_before  predicted_traffic  trafic_improvement        date  \\\n0          2928.776764        3707.563623         3707.563623  2024-07-07   \n1          2928.776764        3707.563623         3707.563623  2024-07-14   \n2          2928.776764        3707.563623         3707.563623  2024-07-21   \n3          2928.776764        3707.563623         3707.563623  2024-07-28   \n4          2928.776764        3707.563623         3707.563623  2024-08-04   \n...                ...                ...                 ...         ...   \n9875       3147.506204        2324.854627         2324.854627  2029-05-27   \n9876       3147.506204        2324.854627         2324.854627  2029-06-03   \n9877       3147.506204        2324.854627         2324.854627  2029-06-10   \n9878       3147.506204        2324.854627         2324.854627  2029-06-17   \n9879       3147.506204        2324.854627         2324.854627  2029-06-24   \n\n      week_period  lag_between_the_upgrade neighbour_1  \n0          202427                        1      TAN084  \n1          202428                        2      TAN084  \n2          202429                        3      TAN084  \n3          202430                        4      TAN084  \n4          202431                        5      TAN084  \n...           ...                      ...         ...  \n9875       202921                      256     CAS1404  \n9876       202922                      257     CAS1404  \n9877       202923                      258     CAS1404  \n9878       202924                      259     CAS1404  \n9879       202925                      260     CAS1404  \n\n[9880 rows x 10 columns]",
      "text/html": "<div>\n<style scoped>\n    .dataframe tbody tr th:only-of-type {\n        vertical-align: middle;\n    }\n\n    .dataframe tbody tr th {\n        vertical-align: top;\n    }\n\n    .dataframe thead th {\n        text-align: right;\n    }\n</style>\n<table border=\"1\" class=\"dataframe\">\n  <thead>\n    <tr style=\"text-align: right;\">\n      <th></th>\n      <th>site_id</th>\n      <th>week_of_the_upgrade</th>\n      <th>bands_upgraded</th>\n      <th>n_traffic_before</th>\n      <th>predicted_traffic</th>\n      <th>trafic_improvement</th>\n      <th>date</th>\n      <th>week_period</th>\n      <th>lag_between_the_upgrade</th>\n      <th>neighbour_1</th>\n    </tr>\n  </thead>\n  <tbody>\n    <tr>\n      <th>0</th>\n      <td>siteDenisfication_1</td>\n      <td>202426</td>\n      <td>densification</td>\n      <td>2928.776764</td>\n      <td>3707.563623</td>\n      <td>3707.563623</td>\n      <td>2024-07-07</td>\n      <td>202427</td>\n      <td>1</td>\n      <td>TAN084</td>\n    </tr>\n    <tr>\n      <th>1</th>\n      <td>siteDenisfication_1</td>\n      <td>202426</td>\n      <td>densification</td>\n      <td>2928.776764</td>\n      <td>3707.563623</td>\n      <td>3707.563623</td>\n      <td>2024-07-14</td>\n      <td>202428</td>\n      <td>2</td>\n      <td>TAN084</td>\n    </tr>\n    <tr>\n      <th>2</th>\n      <td>siteDenisfication_1</td>\n      <td>202426</td>\n      <td>densification</td>\n      <td>2928.776764</td>\n      <td>3707.563623</td>\n      <td>3707.563623</td>\n      <td>2024-07-21</td>\n      <td>202429</td>\n      <td>3</td>\n      <td>TAN084</td>\n    </tr>\n    <tr>\n      <th>3</th>\n      <td>siteDenisfication_1</td>\n      <td>202426</td>\n      <td>densification</td>\n      <td>2928.776764</td>\n      <td>3707.563623</td>\n      <td>3707.563623</td>\n      <td>2024-07-28</td>\n      <td>202430</td>\n      <td>4</td>\n      <td>TAN084</td>\n    </tr>\n    <tr>\n      <th>4</th>\n      <td>siteDenisfication_1</td>\n      <td>202426</td>\n      <td>densification</td>\n      <td>2928.776764</td>\n      <td>3707.563623</td>\n      <td>3707.563623</td>\n      <td>2024-08-04</td>\n      <td>202431</td>\n      <td>5</td>\n      <td>TAN084</td>\n    </tr>\n    <tr>\n      <th>...</th>\n      <td>...</td>\n      <td>...</td>\n      <td>...</td>\n      <td>...</td>\n      <td>...</td>\n      <td>...</td>\n      <td>...</td>\n      <td>...</td>\n      <td>...</td>\n      <td>...</td>\n    </tr>\n    <tr>\n      <th>9875</th>\n      <td>siteDenisfication_38</td>\n      <td>202426</td>\n      <td>densification</td>\n      <td>3147.506204</td>\n      <td>2324.854627</td>\n      <td>2324.854627</td>\n      <td>2029-05-27</td>\n      <td>202921</td>\n      <td>256</td>\n      <td>CAS1404</td>\n    </tr>\n    <tr>\n      <th>9876</th>\n      <td>siteDenisfication_38</td>\n      <td>202426</td>\n      <td>densification</td>\n      <td>3147.506204</td>\n      <td>2324.854627</td>\n      <td>2324.854627</td>\n      <td>2029-06-03</td>\n      <td>202922</td>\n      <td>257</td>\n      <td>CAS1404</td>\n    </tr>\n    <tr>\n      <th>9877</th>\n      <td>siteDenisfication_38</td>\n      <td>202426</td>\n      <td>densification</td>\n      <td>3147.506204</td>\n      <td>2324.854627</td>\n      <td>2324.854627</td>\n      <td>2029-06-10</td>\n      <td>202923</td>\n      <td>258</td>\n      <td>CAS1404</td>\n    </tr>\n    <tr>\n      <th>9878</th>\n      <td>siteDenisfication_38</td>\n      <td>202426</td>\n      <td>densification</td>\n      <td>3147.506204</td>\n      <td>2324.854627</td>\n      <td>2324.854627</td>\n      <td>2029-06-17</td>\n      <td>202924</td>\n      <td>259</td>\n      <td>CAS1404</td>\n    </tr>\n    <tr>\n      <th>9879</th>\n      <td>siteDenisfication_38</td>\n      <td>202426</td>\n      <td>densification</td>\n      <td>3147.506204</td>\n      <td>2324.854627</td>\n      <td>2324.854627</td>\n      <td>2029-06-24</td>\n      <td>202925</td>\n      <td>260</td>\n      <td>CAS1404</td>\n    </tr>\n  </tbody>\n</table>\n<p>9880 rows × 10 columns</p>\n</div>"
     },
     "execution_count": 17,
     "metadata": {},
     "output_type": "execute_result"
    }
   ],
   "source": [
    "add_region"
   ],
   "metadata": {
    "collapsed": false,
    "ExecuteTime": {
     "end_time": "2024-06-28T07:48:12.738163Z",
     "start_time": "2024-06-28T07:48:12.696519700Z"
    }
   },
   "id": "3e48ffffb581122"
  },
  {
   "cell_type": "code",
   "execution_count": 18,
   "outputs": [
    {
     "data": {
      "text/plain": "                   site_id_x  week_of_the_upgrade bands_upgraded  \\\n0        siteDenisfication_1               202426  densification   \n1        siteDenisfication_1               202426  densification   \n2        siteDenisfication_1               202426  densification   \n3        siteDenisfication_1               202426  densification   \n4        siteDenisfication_1               202426  densification   \n...                      ...                  ...            ...   \n195775  siteDenisfication_38               202426  densification   \n195776  siteDenisfication_38               202426  densification   \n195777  siteDenisfication_38               202426  densification   \n195778  siteDenisfication_38               202426  densification   \n195779  siteDenisfication_38               202426  densification   \n\n        n_traffic_before  predicted_traffic  trafic_improvement        date  \\\n0            2928.776764        3707.563623         3707.563623  2024-07-07   \n1            2928.776764        3707.563623         3707.563623  2024-07-07   \n2            2928.776764        3707.563623         3707.563623  2024-07-07   \n3            2928.776764        3707.563623         3707.563623  2024-07-07   \n4            2928.776764        3707.563623         3707.563623  2024-07-07   \n...                  ...                ...                 ...         ...   \n195775       3147.506204        2324.854627         2324.854627  2029-06-24   \n195776       3147.506204        2324.854627         2324.854627  2029-06-24   \n195777       3147.506204        2324.854627         2324.854627  2029-06-24   \n195778       3147.506204        2324.854627         2324.854627  2029-06-24   \n195779       3147.506204        2324.854627         2324.854627  2029-06-24   \n\n        week_period  lag_between_the_upgrade neighbour_1 site_id_y  \\\n0            202427                        1      TAN084    TAN084   \n1            202427                        1      TAN084    TAN084   \n2            202427                        1      TAN084    TAN084   \n3            202427                        1      TAN084    TAN084   \n4            202427                        1      TAN084    TAN084   \n...             ...                      ...         ...       ...   \n195775       202925                      260     CAS1404   CAS1404   \n195776       202925                      260     CAS1404   CAS1404   \n195777       202925                      260     CAS1404   CAS1404   \n195778       202925                      260     CAS1404   CAS1404   \n195779       202925                      260     CAS1404   CAS1404   \n\n                           region  \n0       Tanger-Tetouan-Al Hoceima  \n1       Tanger-Tetouan-Al Hoceima  \n2       Tanger-Tetouan-Al Hoceima  \n3       Tanger-Tetouan-Al Hoceima  \n4       Tanger-Tetouan-Al Hoceima  \n...                           ...  \n195775    Grand Casablanca-Settat  \n195776    Grand Casablanca-Settat  \n195777    Grand Casablanca-Settat  \n195778    Grand Casablanca-Settat  \n195779    Grand Casablanca-Settat  \n\n[195780 rows x 12 columns]",
      "text/html": "<div>\n<style scoped>\n    .dataframe tbody tr th:only-of-type {\n        vertical-align: middle;\n    }\n\n    .dataframe tbody tr th {\n        vertical-align: top;\n    }\n\n    .dataframe thead th {\n        text-align: right;\n    }\n</style>\n<table border=\"1\" class=\"dataframe\">\n  <thead>\n    <tr style=\"text-align: right;\">\n      <th></th>\n      <th>site_id_x</th>\n      <th>week_of_the_upgrade</th>\n      <th>bands_upgraded</th>\n      <th>n_traffic_before</th>\n      <th>predicted_traffic</th>\n      <th>trafic_improvement</th>\n      <th>date</th>\n      <th>week_period</th>\n      <th>lag_between_the_upgrade</th>\n      <th>neighbour_1</th>\n      <th>site_id_y</th>\n      <th>region</th>\n    </tr>\n  </thead>\n  <tbody>\n    <tr>\n      <th>0</th>\n      <td>siteDenisfication_1</td>\n      <td>202426</td>\n      <td>densification</td>\n      <td>2928.776764</td>\n      <td>3707.563623</td>\n      <td>3707.563623</td>\n      <td>2024-07-07</td>\n      <td>202427</td>\n      <td>1</td>\n      <td>TAN084</td>\n      <td>TAN084</td>\n      <td>Tanger-Tetouan-Al Hoceima</td>\n    </tr>\n    <tr>\n      <th>1</th>\n      <td>siteDenisfication_1</td>\n      <td>202426</td>\n      <td>densification</td>\n      <td>2928.776764</td>\n      <td>3707.563623</td>\n      <td>3707.563623</td>\n      <td>2024-07-07</td>\n      <td>202427</td>\n      <td>1</td>\n      <td>TAN084</td>\n      <td>TAN084</td>\n      <td>Tanger-Tetouan-Al Hoceima</td>\n    </tr>\n    <tr>\n      <th>2</th>\n      <td>siteDenisfication_1</td>\n      <td>202426</td>\n      <td>densification</td>\n      <td>2928.776764</td>\n      <td>3707.563623</td>\n      <td>3707.563623</td>\n      <td>2024-07-07</td>\n      <td>202427</td>\n      <td>1</td>\n      <td>TAN084</td>\n      <td>TAN084</td>\n      <td>Tanger-Tetouan-Al Hoceima</td>\n    </tr>\n    <tr>\n      <th>3</th>\n      <td>siteDenisfication_1</td>\n      <td>202426</td>\n      <td>densification</td>\n      <td>2928.776764</td>\n      <td>3707.563623</td>\n      <td>3707.563623</td>\n      <td>2024-07-07</td>\n      <td>202427</td>\n      <td>1</td>\n      <td>TAN084</td>\n      <td>TAN084</td>\n      <td>Tanger-Tetouan-Al Hoceima</td>\n    </tr>\n    <tr>\n      <th>4</th>\n      <td>siteDenisfication_1</td>\n      <td>202426</td>\n      <td>densification</td>\n      <td>2928.776764</td>\n      <td>3707.563623</td>\n      <td>3707.563623</td>\n      <td>2024-07-07</td>\n      <td>202427</td>\n      <td>1</td>\n      <td>TAN084</td>\n      <td>TAN084</td>\n      <td>Tanger-Tetouan-Al Hoceima</td>\n    </tr>\n    <tr>\n      <th>...</th>\n      <td>...</td>\n      <td>...</td>\n      <td>...</td>\n      <td>...</td>\n      <td>...</td>\n      <td>...</td>\n      <td>...</td>\n      <td>...</td>\n      <td>...</td>\n      <td>...</td>\n      <td>...</td>\n      <td>...</td>\n    </tr>\n    <tr>\n      <th>195775</th>\n      <td>siteDenisfication_38</td>\n      <td>202426</td>\n      <td>densification</td>\n      <td>3147.506204</td>\n      <td>2324.854627</td>\n      <td>2324.854627</td>\n      <td>2029-06-24</td>\n      <td>202925</td>\n      <td>260</td>\n      <td>CAS1404</td>\n      <td>CAS1404</td>\n      <td>Grand Casablanca-Settat</td>\n    </tr>\n    <tr>\n      <th>195776</th>\n      <td>siteDenisfication_38</td>\n      <td>202426</td>\n      <td>densification</td>\n      <td>3147.506204</td>\n      <td>2324.854627</td>\n      <td>2324.854627</td>\n      <td>2029-06-24</td>\n      <td>202925</td>\n      <td>260</td>\n      <td>CAS1404</td>\n      <td>CAS1404</td>\n      <td>Grand Casablanca-Settat</td>\n    </tr>\n    <tr>\n      <th>195777</th>\n      <td>siteDenisfication_38</td>\n      <td>202426</td>\n      <td>densification</td>\n      <td>3147.506204</td>\n      <td>2324.854627</td>\n      <td>2324.854627</td>\n      <td>2029-06-24</td>\n      <td>202925</td>\n      <td>260</td>\n      <td>CAS1404</td>\n      <td>CAS1404</td>\n      <td>Grand Casablanca-Settat</td>\n    </tr>\n    <tr>\n      <th>195778</th>\n      <td>siteDenisfication_38</td>\n      <td>202426</td>\n      <td>densification</td>\n      <td>3147.506204</td>\n      <td>2324.854627</td>\n      <td>2324.854627</td>\n      <td>2029-06-24</td>\n      <td>202925</td>\n      <td>260</td>\n      <td>CAS1404</td>\n      <td>CAS1404</td>\n      <td>Grand Casablanca-Settat</td>\n    </tr>\n    <tr>\n      <th>195779</th>\n      <td>siteDenisfication_38</td>\n      <td>202426</td>\n      <td>densification</td>\n      <td>3147.506204</td>\n      <td>2324.854627</td>\n      <td>2324.854627</td>\n      <td>2029-06-24</td>\n      <td>202925</td>\n      <td>260</td>\n      <td>CAS1404</td>\n      <td>CAS1404</td>\n      <td>Grand Casablanca-Settat</td>\n    </tr>\n  </tbody>\n</table>\n<p>195780 rows × 12 columns</p>\n</div>"
     },
     "execution_count": 18,
     "metadata": {},
     "output_type": "execute_result"
    }
   ],
   "source": [
    "add_region = pd.merge(add_region,df_site[['site_id','region']], left_on='neighbour_1', right_on='site_id')\n",
    "add_region"
   ],
   "metadata": {
    "collapsed": false,
    "ExecuteTime": {
     "end_time": "2024-06-28T07:48:13.470631500Z",
     "start_time": "2024-06-28T07:48:13.372681900Z"
    }
   },
   "id": "9d997cce1cb2c332"
  },
  {
   "cell_type": "code",
   "execution_count": 22,
   "outputs": [
    {
     "data": {
      "text/plain": "                   site_id_x  week_of_the_upgrade bands_upgraded  \\\n0        siteDenisfication_1               202426  densification   \n1        siteDenisfication_1               202426  densification   \n2        siteDenisfication_1               202426  densification   \n3        siteDenisfication_1               202426  densification   \n4        siteDenisfication_1               202426  densification   \n...                      ...                  ...            ...   \n195775  siteDenisfication_38               202426  densification   \n195776  siteDenisfication_38               202426  densification   \n195777  siteDenisfication_38               202426  densification   \n195778  siteDenisfication_38               202426  densification   \n195779  siteDenisfication_38               202426  densification   \n\n        n_traffic_before  predicted_traffic  trafic_improvement        date  \\\n0            2928.776764        3707.563623         3707.563623  2024-07-07   \n1            2928.776764        3707.563623         3707.563623  2024-07-07   \n2            2928.776764        3707.563623         3707.563623  2024-07-07   \n3            2928.776764        3707.563623         3707.563623  2024-07-07   \n4            2928.776764        3707.563623         3707.563623  2024-07-07   \n...                  ...                ...                 ...         ...   \n195775       3147.506204        2324.854627         2324.854627  2029-06-24   \n195776       3147.506204        2324.854627         2324.854627  2029-06-24   \n195777       3147.506204        2324.854627         2324.854627  2029-06-24   \n195778       3147.506204        2324.854627         2324.854627  2029-06-24   \n195779       3147.506204        2324.854627         2324.854627  2029-06-24   \n\n        week_period  lag_between_the_upgrade neighbour_1 site_id_y  \\\n0            202427                        1      TAN084    TAN084   \n1            202427                        1      TAN084    TAN084   \n2            202427                        1      TAN084    TAN084   \n3            202427                        1      TAN084    TAN084   \n4            202427                        1      TAN084    TAN084   \n...             ...                      ...         ...       ...   \n195775       202925                      260     CAS1404   CAS1404   \n195776       202925                      260     CAS1404   CAS1404   \n195777       202925                      260     CAS1404   CAS1404   \n195778       202925                      260     CAS1404   CAS1404   \n195779       202925                      260     CAS1404   CAS1404   \n\n                           region  date_date  year  \n0       Tanger-Tetouan-Al Hoceima 2024-07-07  2024  \n1       Tanger-Tetouan-Al Hoceima 2024-07-07  2024  \n2       Tanger-Tetouan-Al Hoceima 2024-07-07  2024  \n3       Tanger-Tetouan-Al Hoceima 2024-07-07  2024  \n4       Tanger-Tetouan-Al Hoceima 2024-07-07  2024  \n...                           ...        ...   ...  \n195775    Grand Casablanca-Settat 2029-06-24  2029  \n195776    Grand Casablanca-Settat 2029-06-24  2029  \n195777    Grand Casablanca-Settat 2029-06-24  2029  \n195778    Grand Casablanca-Settat 2029-06-24  2029  \n195779    Grand Casablanca-Settat 2029-06-24  2029  \n\n[195780 rows x 14 columns]",
      "text/html": "<div>\n<style scoped>\n    .dataframe tbody tr th:only-of-type {\n        vertical-align: middle;\n    }\n\n    .dataframe tbody tr th {\n        vertical-align: top;\n    }\n\n    .dataframe thead th {\n        text-align: right;\n    }\n</style>\n<table border=\"1\" class=\"dataframe\">\n  <thead>\n    <tr style=\"text-align: right;\">\n      <th></th>\n      <th>site_id_x</th>\n      <th>week_of_the_upgrade</th>\n      <th>bands_upgraded</th>\n      <th>n_traffic_before</th>\n      <th>predicted_traffic</th>\n      <th>trafic_improvement</th>\n      <th>date</th>\n      <th>week_period</th>\n      <th>lag_between_the_upgrade</th>\n      <th>neighbour_1</th>\n      <th>site_id_y</th>\n      <th>region</th>\n      <th>date_date</th>\n      <th>year</th>\n    </tr>\n  </thead>\n  <tbody>\n    <tr>\n      <th>0</th>\n      <td>siteDenisfication_1</td>\n      <td>202426</td>\n      <td>densification</td>\n      <td>2928.776764</td>\n      <td>3707.563623</td>\n      <td>3707.563623</td>\n      <td>2024-07-07</td>\n      <td>202427</td>\n      <td>1</td>\n      <td>TAN084</td>\n      <td>TAN084</td>\n      <td>Tanger-Tetouan-Al Hoceima</td>\n      <td>2024-07-07</td>\n      <td>2024</td>\n    </tr>\n    <tr>\n      <th>1</th>\n      <td>siteDenisfication_1</td>\n      <td>202426</td>\n      <td>densification</td>\n      <td>2928.776764</td>\n      <td>3707.563623</td>\n      <td>3707.563623</td>\n      <td>2024-07-07</td>\n      <td>202427</td>\n      <td>1</td>\n      <td>TAN084</td>\n      <td>TAN084</td>\n      <td>Tanger-Tetouan-Al Hoceima</td>\n      <td>2024-07-07</td>\n      <td>2024</td>\n    </tr>\n    <tr>\n      <th>2</th>\n      <td>siteDenisfication_1</td>\n      <td>202426</td>\n      <td>densification</td>\n      <td>2928.776764</td>\n      <td>3707.563623</td>\n      <td>3707.563623</td>\n      <td>2024-07-07</td>\n      <td>202427</td>\n      <td>1</td>\n      <td>TAN084</td>\n      <td>TAN084</td>\n      <td>Tanger-Tetouan-Al Hoceima</td>\n      <td>2024-07-07</td>\n      <td>2024</td>\n    </tr>\n    <tr>\n      <th>3</th>\n      <td>siteDenisfication_1</td>\n      <td>202426</td>\n      <td>densification</td>\n      <td>2928.776764</td>\n      <td>3707.563623</td>\n      <td>3707.563623</td>\n      <td>2024-07-07</td>\n      <td>202427</td>\n      <td>1</td>\n      <td>TAN084</td>\n      <td>TAN084</td>\n      <td>Tanger-Tetouan-Al Hoceima</td>\n      <td>2024-07-07</td>\n      <td>2024</td>\n    </tr>\n    <tr>\n      <th>4</th>\n      <td>siteDenisfication_1</td>\n      <td>202426</td>\n      <td>densification</td>\n      <td>2928.776764</td>\n      <td>3707.563623</td>\n      <td>3707.563623</td>\n      <td>2024-07-07</td>\n      <td>202427</td>\n      <td>1</td>\n      <td>TAN084</td>\n      <td>TAN084</td>\n      <td>Tanger-Tetouan-Al Hoceima</td>\n      <td>2024-07-07</td>\n      <td>2024</td>\n    </tr>\n    <tr>\n      <th>...</th>\n      <td>...</td>\n      <td>...</td>\n      <td>...</td>\n      <td>...</td>\n      <td>...</td>\n      <td>...</td>\n      <td>...</td>\n      <td>...</td>\n      <td>...</td>\n      <td>...</td>\n      <td>...</td>\n      <td>...</td>\n      <td>...</td>\n      <td>...</td>\n    </tr>\n    <tr>\n      <th>195775</th>\n      <td>siteDenisfication_38</td>\n      <td>202426</td>\n      <td>densification</td>\n      <td>3147.506204</td>\n      <td>2324.854627</td>\n      <td>2324.854627</td>\n      <td>2029-06-24</td>\n      <td>202925</td>\n      <td>260</td>\n      <td>CAS1404</td>\n      <td>CAS1404</td>\n      <td>Grand Casablanca-Settat</td>\n      <td>2029-06-24</td>\n      <td>2029</td>\n    </tr>\n    <tr>\n      <th>195776</th>\n      <td>siteDenisfication_38</td>\n      <td>202426</td>\n      <td>densification</td>\n      <td>3147.506204</td>\n      <td>2324.854627</td>\n      <td>2324.854627</td>\n      <td>2029-06-24</td>\n      <td>202925</td>\n      <td>260</td>\n      <td>CAS1404</td>\n      <td>CAS1404</td>\n      <td>Grand Casablanca-Settat</td>\n      <td>2029-06-24</td>\n      <td>2029</td>\n    </tr>\n    <tr>\n      <th>195777</th>\n      <td>siteDenisfication_38</td>\n      <td>202426</td>\n      <td>densification</td>\n      <td>3147.506204</td>\n      <td>2324.854627</td>\n      <td>2324.854627</td>\n      <td>2029-06-24</td>\n      <td>202925</td>\n      <td>260</td>\n      <td>CAS1404</td>\n      <td>CAS1404</td>\n      <td>Grand Casablanca-Settat</td>\n      <td>2029-06-24</td>\n      <td>2029</td>\n    </tr>\n    <tr>\n      <th>195778</th>\n      <td>siteDenisfication_38</td>\n      <td>202426</td>\n      <td>densification</td>\n      <td>3147.506204</td>\n      <td>2324.854627</td>\n      <td>2324.854627</td>\n      <td>2029-06-24</td>\n      <td>202925</td>\n      <td>260</td>\n      <td>CAS1404</td>\n      <td>CAS1404</td>\n      <td>Grand Casablanca-Settat</td>\n      <td>2029-06-24</td>\n      <td>2029</td>\n    </tr>\n    <tr>\n      <th>195779</th>\n      <td>siteDenisfication_38</td>\n      <td>202426</td>\n      <td>densification</td>\n      <td>3147.506204</td>\n      <td>2324.854627</td>\n      <td>2324.854627</td>\n      <td>2029-06-24</td>\n      <td>202925</td>\n      <td>260</td>\n      <td>CAS1404</td>\n      <td>CAS1404</td>\n      <td>Grand Casablanca-Settat</td>\n      <td>2029-06-24</td>\n      <td>2029</td>\n    </tr>\n  </tbody>\n</table>\n<p>195780 rows × 14 columns</p>\n</div>"
     },
     "execution_count": 22,
     "metadata": {},
     "output_type": "execute_result"
    }
   ],
   "source": [
    "add_region['date_date'] = pd.to_datetime(add_region['date'])\n",
    "add_region['year'] = add_region['date_date'].dt.year\n",
    "add_region"
   ],
   "metadata": {
    "collapsed": false,
    "ExecuteTime": {
     "end_time": "2024-06-28T08:00:12.810222800Z",
     "start_time": "2024-06-28T08:00:12.768988600Z"
    }
   },
   "id": "c55fa074822a39aa"
  },
  {
   "cell_type": "code",
   "execution_count": 27,
   "outputs": [],
   "source": [
    "add_region_groupby = add_region.groupby(['site_id_x','year']).agg({'trafic_improvement':'sum',\n",
    "                                                                   'region': 'first'})"
   ],
   "metadata": {
    "collapsed": false,
    "ExecuteTime": {
     "end_time": "2024-06-28T08:04:45.675719800Z",
     "start_time": "2024-06-28T08:04:45.646708600Z"
    }
   },
   "id": "7e73d391a7092612"
  },
  {
   "cell_type": "code",
   "execution_count": 28,
   "outputs": [
    {
     "data": {
      "text/plain": "                          trafic_improvement                     region\nsite_id_x           year                                               \nsiteDenisfication_1 2024        2.602710e+06  Tanger-Tetouan-Al Hoceima\n                    2025        5.205419e+06  Tanger-Tetouan-Al Hoceima\n                    2026        5.205419e+06  Tanger-Tetouan-Al Hoceima\n                    2027        5.205419e+06  Tanger-Tetouan-Al Hoceima\n                    2028        5.305524e+06  Tanger-Tetouan-Al Hoceima\n...                                      ...                        ...\nsiteDenisfication_9 2025        4.879192e+06  Tanger-Tetouan-Al Hoceima\n                    2026        4.879192e+06  Tanger-Tetouan-Al Hoceima\n                    2027        4.879192e+06  Tanger-Tetouan-Al Hoceima\n                    2028        4.973022e+06  Tanger-Tetouan-Al Hoceima\n                    2029        2.345765e+06  Tanger-Tetouan-Al Hoceima\n\n[228 rows x 2 columns]",
      "text/html": "<div>\n<style scoped>\n    .dataframe tbody tr th:only-of-type {\n        vertical-align: middle;\n    }\n\n    .dataframe tbody tr th {\n        vertical-align: top;\n    }\n\n    .dataframe thead th {\n        text-align: right;\n    }\n</style>\n<table border=\"1\" class=\"dataframe\">\n  <thead>\n    <tr style=\"text-align: right;\">\n      <th></th>\n      <th></th>\n      <th>trafic_improvement</th>\n      <th>region</th>\n    </tr>\n    <tr>\n      <th>site_id_x</th>\n      <th>year</th>\n      <th></th>\n      <th></th>\n    </tr>\n  </thead>\n  <tbody>\n    <tr>\n      <th rowspan=\"5\" valign=\"top\">siteDenisfication_1</th>\n      <th>2024</th>\n      <td>2.602710e+06</td>\n      <td>Tanger-Tetouan-Al Hoceima</td>\n    </tr>\n    <tr>\n      <th>2025</th>\n      <td>5.205419e+06</td>\n      <td>Tanger-Tetouan-Al Hoceima</td>\n    </tr>\n    <tr>\n      <th>2026</th>\n      <td>5.205419e+06</td>\n      <td>Tanger-Tetouan-Al Hoceima</td>\n    </tr>\n    <tr>\n      <th>2027</th>\n      <td>5.205419e+06</td>\n      <td>Tanger-Tetouan-Al Hoceima</td>\n    </tr>\n    <tr>\n      <th>2028</th>\n      <td>5.305524e+06</td>\n      <td>Tanger-Tetouan-Al Hoceima</td>\n    </tr>\n    <tr>\n      <th>...</th>\n      <th>...</th>\n      <td>...</td>\n      <td>...</td>\n    </tr>\n    <tr>\n      <th rowspan=\"5\" valign=\"top\">siteDenisfication_9</th>\n      <th>2025</th>\n      <td>4.879192e+06</td>\n      <td>Tanger-Tetouan-Al Hoceima</td>\n    </tr>\n    <tr>\n      <th>2026</th>\n      <td>4.879192e+06</td>\n      <td>Tanger-Tetouan-Al Hoceima</td>\n    </tr>\n    <tr>\n      <th>2027</th>\n      <td>4.879192e+06</td>\n      <td>Tanger-Tetouan-Al Hoceima</td>\n    </tr>\n    <tr>\n      <th>2028</th>\n      <td>4.973022e+06</td>\n      <td>Tanger-Tetouan-Al Hoceima</td>\n    </tr>\n    <tr>\n      <th>2029</th>\n      <td>2.345765e+06</td>\n      <td>Tanger-Tetouan-Al Hoceima</td>\n    </tr>\n  </tbody>\n</table>\n<p>228 rows × 2 columns</p>\n</div>"
     },
     "execution_count": 28,
     "metadata": {},
     "output_type": "execute_result"
    }
   ],
   "source": [
    "add_region_groupby"
   ],
   "metadata": {
    "collapsed": false,
    "ExecuteTime": {
     "end_time": "2024-06-28T08:04:46.578600800Z",
     "start_time": "2024-06-28T08:04:46.557956800Z"
    }
   },
   "id": "35a5574d8f3b045a"
  },
  {
   "cell_type": "code",
   "execution_count": 29,
   "outputs": [
    {
     "name": "stdout",
     "output_type": "stream",
     "text": [
      "                          trafic_improvement                     region\n",
      "site_id_x           year                                               \n",
      "siteDenisfication_1 2024        2.602710e+06  Tanger-Tetouan-Al Hoceima\n",
      "                    2025        5.205419e+06  Tanger-Tetouan-Al Hoceima\n",
      "                    2026        5.205419e+06  Tanger-Tetouan-Al Hoceima\n",
      "                    2027        5.205419e+06  Tanger-Tetouan-Al Hoceima\n",
      "                    2028        5.305524e+06  Tanger-Tetouan-Al Hoceima\n",
      "...                                      ...                        ...\n",
      "siteDenisfication_9 2025        4.879192e+06  Tanger-Tetouan-Al Hoceima\n",
      "                    2026        4.879192e+06  Tanger-Tetouan-Al Hoceima\n",
      "                    2027        4.879192e+06  Tanger-Tetouan-Al Hoceima\n",
      "                    2028        4.973022e+06  Tanger-Tetouan-Al Hoceima\n",
      "                    2029        2.345765e+06  Tanger-Tetouan-Al Hoceima\n",
      "\n",
      "[228 rows x 2 columns]\n"
     ]
    }
   ],
   "source": [
    "print(add_region_groupby)"
   ],
   "metadata": {
    "collapsed": false,
    "ExecuteTime": {
     "end_time": "2024-06-28T08:04:58.860248200Z",
     "start_time": "2024-06-28T08:04:58.838776700Z"
    }
   },
   "id": "a6e451e3323e4d35"
  },
  {
   "cell_type": "code",
   "execution_count": 30,
   "outputs": [
    {
     "data": {
      "text/plain": "   Béni Mellal-Khénifra  Drâa-Tafilalet  Eddakhla-Oued Eddahab  Fès-Meknès  \\\n0                  1.00            1.00                    1.0        1.00   \n1                  1.11            1.43                    1.8        1.00   \n2                  1.33            2.02                    1.8        1.06   \n3                  1.33            2.02                    1.8        1.06   \n4                  1.33            2.02                    1.8        1.06   \n\n   Grand Casablanca-Settat  Guelmim-Oued Noun  Laayoune-Sakia El Hamra  \\\n0                     1.00               1.00                     1.00   \n1                     1.12               1.23                     0.83   \n2                     1.23               1.25                     0.83   \n3                     1.23               1.25                     0.83   \n4                     1.23               1.25                     0.83   \n\n   Marrakech-Safi  Oriental  Rabat-Salé-Kénitra  Souss-Massa  \\\n0            1.00      1.00                1.00         1.00   \n1            1.09      1.00                1.16         1.00   \n2            1.20      1.18                1.23         1.29   \n3            1.20      1.18                1.23         1.29   \n4            1.20      1.18                1.23         1.29   \n\n   Tanger-Tetouan-Al Hoceima  \n0                       1.00  \n1                       1.02  \n2                       1.19  \n3                       1.19  \n4                       1.19  ",
      "text/html": "<div>\n<style scoped>\n    .dataframe tbody tr th:only-of-type {\n        vertical-align: middle;\n    }\n\n    .dataframe tbody tr th {\n        vertical-align: top;\n    }\n\n    .dataframe thead th {\n        text-align: right;\n    }\n</style>\n<table border=\"1\" class=\"dataframe\">\n  <thead>\n    <tr style=\"text-align: right;\">\n      <th></th>\n      <th>Béni Mellal-Khénifra</th>\n      <th>Drâa-Tafilalet</th>\n      <th>Eddakhla-Oued Eddahab</th>\n      <th>Fès-Meknès</th>\n      <th>Grand Casablanca-Settat</th>\n      <th>Guelmim-Oued Noun</th>\n      <th>Laayoune-Sakia El Hamra</th>\n      <th>Marrakech-Safi</th>\n      <th>Oriental</th>\n      <th>Rabat-Salé-Kénitra</th>\n      <th>Souss-Massa</th>\n      <th>Tanger-Tetouan-Al Hoceima</th>\n    </tr>\n  </thead>\n  <tbody>\n    <tr>\n      <th>0</th>\n      <td>1.00</td>\n      <td>1.00</td>\n      <td>1.0</td>\n      <td>1.00</td>\n      <td>1.00</td>\n      <td>1.00</td>\n      <td>1.00</td>\n      <td>1.00</td>\n      <td>1.00</td>\n      <td>1.00</td>\n      <td>1.00</td>\n      <td>1.00</td>\n    </tr>\n    <tr>\n      <th>1</th>\n      <td>1.11</td>\n      <td>1.43</td>\n      <td>1.8</td>\n      <td>1.00</td>\n      <td>1.12</td>\n      <td>1.23</td>\n      <td>0.83</td>\n      <td>1.09</td>\n      <td>1.00</td>\n      <td>1.16</td>\n      <td>1.00</td>\n      <td>1.02</td>\n    </tr>\n    <tr>\n      <th>2</th>\n      <td>1.33</td>\n      <td>2.02</td>\n      <td>1.8</td>\n      <td>1.06</td>\n      <td>1.23</td>\n      <td>1.25</td>\n      <td>0.83</td>\n      <td>1.20</td>\n      <td>1.18</td>\n      <td>1.23</td>\n      <td>1.29</td>\n      <td>1.19</td>\n    </tr>\n    <tr>\n      <th>3</th>\n      <td>1.33</td>\n      <td>2.02</td>\n      <td>1.8</td>\n      <td>1.06</td>\n      <td>1.23</td>\n      <td>1.25</td>\n      <td>0.83</td>\n      <td>1.20</td>\n      <td>1.18</td>\n      <td>1.23</td>\n      <td>1.29</td>\n      <td>1.19</td>\n    </tr>\n    <tr>\n      <th>4</th>\n      <td>1.33</td>\n      <td>2.02</td>\n      <td>1.8</td>\n      <td>1.06</td>\n      <td>1.23</td>\n      <td>1.25</td>\n      <td>0.83</td>\n      <td>1.20</td>\n      <td>1.18</td>\n      <td>1.23</td>\n      <td>1.29</td>\n      <td>1.19</td>\n    </tr>\n  </tbody>\n</table>\n</div>"
     },
     "execution_count": 30,
     "metadata": {},
     "output_type": "execute_result"
    }
   ],
   "source": [
    "rate"
   ],
   "metadata": {
    "collapsed": false,
    "ExecuteTime": {
     "end_time": "2024-06-28T08:05:26.043042100Z",
     "start_time": "2024-06-28T08:05:26.026975Z"
    }
   },
   "id": "adb638504bb505e4"
  },
  {
   "cell_type": "code",
   "execution_count": 31,
   "outputs": [
    {
     "data": {
      "text/plain": "   Béni Mellal-Khénifra  Drâa-Tafilalet  Eddakhla-Oued Eddahab  Fès-Meknès  \\\n0                  1.00            1.00                    1.0        1.00   \n1                  1.11            1.43                    1.8        1.00   \n2                  1.33            2.02                    1.8        1.06   \n3                  1.33            2.02                    1.8        1.06   \n4                  1.33            2.02                    1.8        1.06   \n\n   Grand Casablanca-Settat  Guelmim-Oued Noun  Laayoune-Sakia El Hamra  \\\n0                     1.00               1.00                     1.00   \n1                     1.12               1.23                     0.83   \n2                     1.23               1.25                     0.83   \n3                     1.23               1.25                     0.83   \n4                     1.23               1.25                     0.83   \n\n   Marrakech-Safi  Oriental  Rabat-Salé-Kénitra  Souss-Massa  \\\n0            1.00      1.00                1.00         1.00   \n1            1.09      1.00                1.16         1.00   \n2            1.20      1.18                1.23         1.29   \n3            1.20      1.18                1.23         1.29   \n4            1.20      1.18                1.23         1.29   \n\n   Tanger-Tetouan-Al Hoceima  year  \n0                       1.00  2024  \n1                       1.02  2025  \n2                       1.19  2026  \n3                       1.19  2027  \n4                       1.19  2028  ",
      "text/html": "<div>\n<style scoped>\n    .dataframe tbody tr th:only-of-type {\n        vertical-align: middle;\n    }\n\n    .dataframe tbody tr th {\n        vertical-align: top;\n    }\n\n    .dataframe thead th {\n        text-align: right;\n    }\n</style>\n<table border=\"1\" class=\"dataframe\">\n  <thead>\n    <tr style=\"text-align: right;\">\n      <th></th>\n      <th>Béni Mellal-Khénifra</th>\n      <th>Drâa-Tafilalet</th>\n      <th>Eddakhla-Oued Eddahab</th>\n      <th>Fès-Meknès</th>\n      <th>Grand Casablanca-Settat</th>\n      <th>Guelmim-Oued Noun</th>\n      <th>Laayoune-Sakia El Hamra</th>\n      <th>Marrakech-Safi</th>\n      <th>Oriental</th>\n      <th>Rabat-Salé-Kénitra</th>\n      <th>Souss-Massa</th>\n      <th>Tanger-Tetouan-Al Hoceima</th>\n      <th>year</th>\n    </tr>\n  </thead>\n  <tbody>\n    <tr>\n      <th>0</th>\n      <td>1.00</td>\n      <td>1.00</td>\n      <td>1.0</td>\n      <td>1.00</td>\n      <td>1.00</td>\n      <td>1.00</td>\n      <td>1.00</td>\n      <td>1.00</td>\n      <td>1.00</td>\n      <td>1.00</td>\n      <td>1.00</td>\n      <td>1.00</td>\n      <td>2024</td>\n    </tr>\n    <tr>\n      <th>1</th>\n      <td>1.11</td>\n      <td>1.43</td>\n      <td>1.8</td>\n      <td>1.00</td>\n      <td>1.12</td>\n      <td>1.23</td>\n      <td>0.83</td>\n      <td>1.09</td>\n      <td>1.00</td>\n      <td>1.16</td>\n      <td>1.00</td>\n      <td>1.02</td>\n      <td>2025</td>\n    </tr>\n    <tr>\n      <th>2</th>\n      <td>1.33</td>\n      <td>2.02</td>\n      <td>1.8</td>\n      <td>1.06</td>\n      <td>1.23</td>\n      <td>1.25</td>\n      <td>0.83</td>\n      <td>1.20</td>\n      <td>1.18</td>\n      <td>1.23</td>\n      <td>1.29</td>\n      <td>1.19</td>\n      <td>2026</td>\n    </tr>\n    <tr>\n      <th>3</th>\n      <td>1.33</td>\n      <td>2.02</td>\n      <td>1.8</td>\n      <td>1.06</td>\n      <td>1.23</td>\n      <td>1.25</td>\n      <td>0.83</td>\n      <td>1.20</td>\n      <td>1.18</td>\n      <td>1.23</td>\n      <td>1.29</td>\n      <td>1.19</td>\n      <td>2027</td>\n    </tr>\n    <tr>\n      <th>4</th>\n      <td>1.33</td>\n      <td>2.02</td>\n      <td>1.8</td>\n      <td>1.06</td>\n      <td>1.23</td>\n      <td>1.25</td>\n      <td>0.83</td>\n      <td>1.20</td>\n      <td>1.18</td>\n      <td>1.23</td>\n      <td>1.29</td>\n      <td>1.19</td>\n      <td>2028</td>\n    </tr>\n  </tbody>\n</table>\n</div>"
     },
     "execution_count": 31,
     "metadata": {},
     "output_type": "execute_result"
    }
   ],
   "source": [
    "years = [2024, 2025, 2026, 2027, 2028]\n",
    "rate['year'] = years[:len(rate)]\n",
    "rate"
   ],
   "metadata": {
    "collapsed": false,
    "ExecuteTime": {
     "end_time": "2024-06-28T08:08:17.254259100Z",
     "start_time": "2024-06-28T08:08:17.225530800Z"
    }
   },
   "id": "7f082301d4719a9a"
  },
  {
   "cell_type": "code",
   "execution_count": 39,
   "outputs": [
    {
     "name": "stdout",
     "output_type": "stream",
     "text": [
      "   Béni Mellal-Khénifra  Drâa-Tafilalet  Eddakhla-Oued Eddahab  Fès-Meknès  \\\n",
      "0                  1.00            1.00                    1.0        1.00   \n",
      "1                  1.11            1.43                    1.8        1.00   \n",
      "2                  1.33            2.02                    1.8        1.06   \n",
      "3                  1.33            2.02                    1.8        1.06   \n",
      "4                  1.33            2.02                    1.8        1.06   \n",
      "\n",
      "   Grand Casablanca-Settat  Guelmim-Oued Noun  Laayoune-Sakia El Hamra  \\\n",
      "0                     1.00               1.00                     1.00   \n",
      "1                     1.12               1.23                     0.83   \n",
      "2                     1.23               1.25                     0.83   \n",
      "3                     1.23               1.25                     0.83   \n",
      "4                     1.23               1.25                     0.83   \n",
      "\n",
      "   Marrakech-Safi  Oriental  Rabat-Salé-Kénitra  Souss-Massa  \\\n",
      "0            1.00      1.00                1.00         1.00   \n",
      "1            1.09      1.00                1.16         1.00   \n",
      "2            1.20      1.18                1.23         1.29   \n",
      "3            1.20      1.18                1.23         1.29   \n",
      "4            1.20      1.18                1.23         1.29   \n",
      "\n",
      "   Tanger-Tetouan-Al Hoceima  year  \n",
      "0                       1.00  2024  \n",
      "1                       1.02  2025  \n",
      "2                       1.19  2026  \n",
      "3                       1.19  2027  \n",
      "4                       1.19  2028  \n"
     ]
    }
   ],
   "source": [
    "print(rate)"
   ],
   "metadata": {
    "collapsed": false,
    "ExecuteTime": {
     "end_time": "2024-06-28T08:17:53.384361500Z",
     "start_time": "2024-06-28T08:17:53.380011800Z"
    }
   },
   "id": "9c723e75915bbb63"
  },
  {
   "cell_type": "code",
   "execution_count": 42,
   "outputs": [
    {
     "data": {
      "text/plain": "    year                     region  rate\n0   2024       Béni Mellal-Khénifra  1.00\n1   2025       Béni Mellal-Khénifra  1.11\n2   2026       Béni Mellal-Khénifra  1.33\n3   2027       Béni Mellal-Khénifra  1.33\n4   2028       Béni Mellal-Khénifra  1.33\n5   2024             Drâa-Tafilalet  1.00\n6   2025             Drâa-Tafilalet  1.43\n7   2026             Drâa-Tafilalet  2.02\n8   2027             Drâa-Tafilalet  2.02\n9   2028             Drâa-Tafilalet  2.02\n10  2024      Eddakhla-Oued Eddahab  1.00\n11  2025      Eddakhla-Oued Eddahab  1.80\n12  2026      Eddakhla-Oued Eddahab  1.80\n13  2027      Eddakhla-Oued Eddahab  1.80\n14  2028      Eddakhla-Oued Eddahab  1.80\n15  2024                 Fès-Meknès  1.00\n16  2025                 Fès-Meknès  1.00\n17  2026                 Fès-Meknès  1.06\n18  2027                 Fès-Meknès  1.06\n19  2028                 Fès-Meknès  1.06\n20  2024    Grand Casablanca-Settat  1.00\n21  2025    Grand Casablanca-Settat  1.12\n22  2026    Grand Casablanca-Settat  1.23\n23  2027    Grand Casablanca-Settat  1.23\n24  2028    Grand Casablanca-Settat  1.23\n25  2024          Guelmim-Oued Noun  1.00\n26  2025          Guelmim-Oued Noun  1.23\n27  2026          Guelmim-Oued Noun  1.25\n28  2027          Guelmim-Oued Noun  1.25\n29  2028          Guelmim-Oued Noun  1.25\n30  2024    Laayoune-Sakia El Hamra  1.00\n31  2025    Laayoune-Sakia El Hamra  0.83\n32  2026    Laayoune-Sakia El Hamra  0.83\n33  2027    Laayoune-Sakia El Hamra  0.83\n34  2028    Laayoune-Sakia El Hamra  0.83\n35  2024             Marrakech-Safi  1.00\n36  2025             Marrakech-Safi  1.09\n37  2026             Marrakech-Safi  1.20\n38  2027             Marrakech-Safi  1.20\n39  2028             Marrakech-Safi  1.20\n40  2024                   Oriental  1.00\n41  2025                   Oriental  1.00\n42  2026                   Oriental  1.18\n43  2027                   Oriental  1.18\n44  2028                   Oriental  1.18\n45  2024         Rabat-Salé-Kénitra  1.00\n46  2025         Rabat-Salé-Kénitra  1.16\n47  2026         Rabat-Salé-Kénitra  1.23\n48  2027         Rabat-Salé-Kénitra  1.23\n49  2028         Rabat-Salé-Kénitra  1.23\n50  2024                Souss-Massa  1.00\n51  2025                Souss-Massa  1.00\n52  2026                Souss-Massa  1.29\n53  2027                Souss-Massa  1.29\n54  2028                Souss-Massa  1.29\n55  2024  Tanger-Tetouan-Al Hoceima  1.00\n56  2025  Tanger-Tetouan-Al Hoceima  1.02\n57  2026  Tanger-Tetouan-Al Hoceima  1.19\n58  2027  Tanger-Tetouan-Al Hoceima  1.19\n59  2028  Tanger-Tetouan-Al Hoceima  1.19",
      "text/html": "<div>\n<style scoped>\n    .dataframe tbody tr th:only-of-type {\n        vertical-align: middle;\n    }\n\n    .dataframe tbody tr th {\n        vertical-align: top;\n    }\n\n    .dataframe thead th {\n        text-align: right;\n    }\n</style>\n<table border=\"1\" class=\"dataframe\">\n  <thead>\n    <tr style=\"text-align: right;\">\n      <th></th>\n      <th>year</th>\n      <th>region</th>\n      <th>rate</th>\n    </tr>\n  </thead>\n  <tbody>\n    <tr>\n      <th>0</th>\n      <td>2024</td>\n      <td>Béni Mellal-Khénifra</td>\n      <td>1.00</td>\n    </tr>\n    <tr>\n      <th>1</th>\n      <td>2025</td>\n      <td>Béni Mellal-Khénifra</td>\n      <td>1.11</td>\n    </tr>\n    <tr>\n      <th>2</th>\n      <td>2026</td>\n      <td>Béni Mellal-Khénifra</td>\n      <td>1.33</td>\n    </tr>\n    <tr>\n      <th>3</th>\n      <td>2027</td>\n      <td>Béni Mellal-Khénifra</td>\n      <td>1.33</td>\n    </tr>\n    <tr>\n      <th>4</th>\n      <td>2028</td>\n      <td>Béni Mellal-Khénifra</td>\n      <td>1.33</td>\n    </tr>\n    <tr>\n      <th>5</th>\n      <td>2024</td>\n      <td>Drâa-Tafilalet</td>\n      <td>1.00</td>\n    </tr>\n    <tr>\n      <th>6</th>\n      <td>2025</td>\n      <td>Drâa-Tafilalet</td>\n      <td>1.43</td>\n    </tr>\n    <tr>\n      <th>7</th>\n      <td>2026</td>\n      <td>Drâa-Tafilalet</td>\n      <td>2.02</td>\n    </tr>\n    <tr>\n      <th>8</th>\n      <td>2027</td>\n      <td>Drâa-Tafilalet</td>\n      <td>2.02</td>\n    </tr>\n    <tr>\n      <th>9</th>\n      <td>2028</td>\n      <td>Drâa-Tafilalet</td>\n      <td>2.02</td>\n    </tr>\n    <tr>\n      <th>10</th>\n      <td>2024</td>\n      <td>Eddakhla-Oued Eddahab</td>\n      <td>1.00</td>\n    </tr>\n    <tr>\n      <th>11</th>\n      <td>2025</td>\n      <td>Eddakhla-Oued Eddahab</td>\n      <td>1.80</td>\n    </tr>\n    <tr>\n      <th>12</th>\n      <td>2026</td>\n      <td>Eddakhla-Oued Eddahab</td>\n      <td>1.80</td>\n    </tr>\n    <tr>\n      <th>13</th>\n      <td>2027</td>\n      <td>Eddakhla-Oued Eddahab</td>\n      <td>1.80</td>\n    </tr>\n    <tr>\n      <th>14</th>\n      <td>2028</td>\n      <td>Eddakhla-Oued Eddahab</td>\n      <td>1.80</td>\n    </tr>\n    <tr>\n      <th>15</th>\n      <td>2024</td>\n      <td>Fès-Meknès</td>\n      <td>1.00</td>\n    </tr>\n    <tr>\n      <th>16</th>\n      <td>2025</td>\n      <td>Fès-Meknès</td>\n      <td>1.00</td>\n    </tr>\n    <tr>\n      <th>17</th>\n      <td>2026</td>\n      <td>Fès-Meknès</td>\n      <td>1.06</td>\n    </tr>\n    <tr>\n      <th>18</th>\n      <td>2027</td>\n      <td>Fès-Meknès</td>\n      <td>1.06</td>\n    </tr>\n    <tr>\n      <th>19</th>\n      <td>2028</td>\n      <td>Fès-Meknès</td>\n      <td>1.06</td>\n    </tr>\n    <tr>\n      <th>20</th>\n      <td>2024</td>\n      <td>Grand Casablanca-Settat</td>\n      <td>1.00</td>\n    </tr>\n    <tr>\n      <th>21</th>\n      <td>2025</td>\n      <td>Grand Casablanca-Settat</td>\n      <td>1.12</td>\n    </tr>\n    <tr>\n      <th>22</th>\n      <td>2026</td>\n      <td>Grand Casablanca-Settat</td>\n      <td>1.23</td>\n    </tr>\n    <tr>\n      <th>23</th>\n      <td>2027</td>\n      <td>Grand Casablanca-Settat</td>\n      <td>1.23</td>\n    </tr>\n    <tr>\n      <th>24</th>\n      <td>2028</td>\n      <td>Grand Casablanca-Settat</td>\n      <td>1.23</td>\n    </tr>\n    <tr>\n      <th>25</th>\n      <td>2024</td>\n      <td>Guelmim-Oued Noun</td>\n      <td>1.00</td>\n    </tr>\n    <tr>\n      <th>26</th>\n      <td>2025</td>\n      <td>Guelmim-Oued Noun</td>\n      <td>1.23</td>\n    </tr>\n    <tr>\n      <th>27</th>\n      <td>2026</td>\n      <td>Guelmim-Oued Noun</td>\n      <td>1.25</td>\n    </tr>\n    <tr>\n      <th>28</th>\n      <td>2027</td>\n      <td>Guelmim-Oued Noun</td>\n      <td>1.25</td>\n    </tr>\n    <tr>\n      <th>29</th>\n      <td>2028</td>\n      <td>Guelmim-Oued Noun</td>\n      <td>1.25</td>\n    </tr>\n    <tr>\n      <th>30</th>\n      <td>2024</td>\n      <td>Laayoune-Sakia El Hamra</td>\n      <td>1.00</td>\n    </tr>\n    <tr>\n      <th>31</th>\n      <td>2025</td>\n      <td>Laayoune-Sakia El Hamra</td>\n      <td>0.83</td>\n    </tr>\n    <tr>\n      <th>32</th>\n      <td>2026</td>\n      <td>Laayoune-Sakia El Hamra</td>\n      <td>0.83</td>\n    </tr>\n    <tr>\n      <th>33</th>\n      <td>2027</td>\n      <td>Laayoune-Sakia El Hamra</td>\n      <td>0.83</td>\n    </tr>\n    <tr>\n      <th>34</th>\n      <td>2028</td>\n      <td>Laayoune-Sakia El Hamra</td>\n      <td>0.83</td>\n    </tr>\n    <tr>\n      <th>35</th>\n      <td>2024</td>\n      <td>Marrakech-Safi</td>\n      <td>1.00</td>\n    </tr>\n    <tr>\n      <th>36</th>\n      <td>2025</td>\n      <td>Marrakech-Safi</td>\n      <td>1.09</td>\n    </tr>\n    <tr>\n      <th>37</th>\n      <td>2026</td>\n      <td>Marrakech-Safi</td>\n      <td>1.20</td>\n    </tr>\n    <tr>\n      <th>38</th>\n      <td>2027</td>\n      <td>Marrakech-Safi</td>\n      <td>1.20</td>\n    </tr>\n    <tr>\n      <th>39</th>\n      <td>2028</td>\n      <td>Marrakech-Safi</td>\n      <td>1.20</td>\n    </tr>\n    <tr>\n      <th>40</th>\n      <td>2024</td>\n      <td>Oriental</td>\n      <td>1.00</td>\n    </tr>\n    <tr>\n      <th>41</th>\n      <td>2025</td>\n      <td>Oriental</td>\n      <td>1.00</td>\n    </tr>\n    <tr>\n      <th>42</th>\n      <td>2026</td>\n      <td>Oriental</td>\n      <td>1.18</td>\n    </tr>\n    <tr>\n      <th>43</th>\n      <td>2027</td>\n      <td>Oriental</td>\n      <td>1.18</td>\n    </tr>\n    <tr>\n      <th>44</th>\n      <td>2028</td>\n      <td>Oriental</td>\n      <td>1.18</td>\n    </tr>\n    <tr>\n      <th>45</th>\n      <td>2024</td>\n      <td>Rabat-Salé-Kénitra</td>\n      <td>1.00</td>\n    </tr>\n    <tr>\n      <th>46</th>\n      <td>2025</td>\n      <td>Rabat-Salé-Kénitra</td>\n      <td>1.16</td>\n    </tr>\n    <tr>\n      <th>47</th>\n      <td>2026</td>\n      <td>Rabat-Salé-Kénitra</td>\n      <td>1.23</td>\n    </tr>\n    <tr>\n      <th>48</th>\n      <td>2027</td>\n      <td>Rabat-Salé-Kénitra</td>\n      <td>1.23</td>\n    </tr>\n    <tr>\n      <th>49</th>\n      <td>2028</td>\n      <td>Rabat-Salé-Kénitra</td>\n      <td>1.23</td>\n    </tr>\n    <tr>\n      <th>50</th>\n      <td>2024</td>\n      <td>Souss-Massa</td>\n      <td>1.00</td>\n    </tr>\n    <tr>\n      <th>51</th>\n      <td>2025</td>\n      <td>Souss-Massa</td>\n      <td>1.00</td>\n    </tr>\n    <tr>\n      <th>52</th>\n      <td>2026</td>\n      <td>Souss-Massa</td>\n      <td>1.29</td>\n    </tr>\n    <tr>\n      <th>53</th>\n      <td>2027</td>\n      <td>Souss-Massa</td>\n      <td>1.29</td>\n    </tr>\n    <tr>\n      <th>54</th>\n      <td>2028</td>\n      <td>Souss-Massa</td>\n      <td>1.29</td>\n    </tr>\n    <tr>\n      <th>55</th>\n      <td>2024</td>\n      <td>Tanger-Tetouan-Al Hoceima</td>\n      <td>1.00</td>\n    </tr>\n    <tr>\n      <th>56</th>\n      <td>2025</td>\n      <td>Tanger-Tetouan-Al Hoceima</td>\n      <td>1.02</td>\n    </tr>\n    <tr>\n      <th>57</th>\n      <td>2026</td>\n      <td>Tanger-Tetouan-Al Hoceima</td>\n      <td>1.19</td>\n    </tr>\n    <tr>\n      <th>58</th>\n      <td>2027</td>\n      <td>Tanger-Tetouan-Al Hoceima</td>\n      <td>1.19</td>\n    </tr>\n    <tr>\n      <th>59</th>\n      <td>2028</td>\n      <td>Tanger-Tetouan-Al Hoceima</td>\n      <td>1.19</td>\n    </tr>\n  </tbody>\n</table>\n</div>"
     },
     "execution_count": 42,
     "metadata": {},
     "output_type": "execute_result"
    }
   ],
   "source": [
    "rate_long_df = rate.melt(id_vars='year', var_name='region', value_name='rate')\n",
    "rate_long_df"
   ],
   "metadata": {
    "collapsed": false,
    "ExecuteTime": {
     "end_time": "2024-06-28T08:19:21.805498300Z",
     "start_time": "2024-06-28T08:19:21.787772Z"
    }
   },
   "id": "18589596f738df5a"
  },
  {
   "cell_type": "code",
   "execution_count": 54,
   "outputs": [
    {
     "data": {
      "text/plain": "                  site_id  year  trafic_improvement  \\\n0     siteDenisfication_1  2024        2.602710e+06   \n1    siteDenisfication_19  2024        1.110468e+06   \n2    siteDenisfication_25  2024        3.322660e+06   \n3    siteDenisfication_26  2024        5.538908e+05   \n4    siteDenisfication_27  2024        3.552527e+06   \n..                    ...   ...                 ...   \n185   siteDenisfication_6  2024        1.059662e+06   \n186   siteDenisfication_6  2025        2.119324e+06   \n187   siteDenisfication_6  2026        2.119324e+06   \n188   siteDenisfication_6  2027        2.119324e+06   \n189   siteDenisfication_6  2028        2.160080e+06   \n\n                        region  rate  trafic_improvement_with_rate  \n0    Tanger-Tetouan-Al Hoceima  1.00                  2.602710e+06  \n1    Tanger-Tetouan-Al Hoceima  1.00                  1.110468e+06  \n2    Tanger-Tetouan-Al Hoceima  1.00                  3.322660e+06  \n3    Tanger-Tetouan-Al Hoceima  1.00                  5.538908e+05  \n4    Tanger-Tetouan-Al Hoceima  1.00                  3.552527e+06  \n..                         ...   ...                           ...  \n185                   Oriental  1.00                  1.059662e+06  \n186                   Oriental  1.00                  2.119324e+06  \n187                   Oriental  1.18                  2.500802e+06  \n188                   Oriental  1.18                  2.500802e+06  \n189                   Oriental  1.18                  2.548895e+06  \n\n[190 rows x 6 columns]",
      "text/html": "<div>\n<style scoped>\n    .dataframe tbody tr th:only-of-type {\n        vertical-align: middle;\n    }\n\n    .dataframe tbody tr th {\n        vertical-align: top;\n    }\n\n    .dataframe thead th {\n        text-align: right;\n    }\n</style>\n<table border=\"1\" class=\"dataframe\">\n  <thead>\n    <tr style=\"text-align: right;\">\n      <th></th>\n      <th>site_id</th>\n      <th>year</th>\n      <th>trafic_improvement</th>\n      <th>region</th>\n      <th>rate</th>\n      <th>trafic_improvement_with_rate</th>\n    </tr>\n  </thead>\n  <tbody>\n    <tr>\n      <th>0</th>\n      <td>siteDenisfication_1</td>\n      <td>2024</td>\n      <td>2.602710e+06</td>\n      <td>Tanger-Tetouan-Al Hoceima</td>\n      <td>1.00</td>\n      <td>2.602710e+06</td>\n    </tr>\n    <tr>\n      <th>1</th>\n      <td>siteDenisfication_19</td>\n      <td>2024</td>\n      <td>1.110468e+06</td>\n      <td>Tanger-Tetouan-Al Hoceima</td>\n      <td>1.00</td>\n      <td>1.110468e+06</td>\n    </tr>\n    <tr>\n      <th>2</th>\n      <td>siteDenisfication_25</td>\n      <td>2024</td>\n      <td>3.322660e+06</td>\n      <td>Tanger-Tetouan-Al Hoceima</td>\n      <td>1.00</td>\n      <td>3.322660e+06</td>\n    </tr>\n    <tr>\n      <th>3</th>\n      <td>siteDenisfication_26</td>\n      <td>2024</td>\n      <td>5.538908e+05</td>\n      <td>Tanger-Tetouan-Al Hoceima</td>\n      <td>1.00</td>\n      <td>5.538908e+05</td>\n    </tr>\n    <tr>\n      <th>4</th>\n      <td>siteDenisfication_27</td>\n      <td>2024</td>\n      <td>3.552527e+06</td>\n      <td>Tanger-Tetouan-Al Hoceima</td>\n      <td>1.00</td>\n      <td>3.552527e+06</td>\n    </tr>\n    <tr>\n      <th>...</th>\n      <td>...</td>\n      <td>...</td>\n      <td>...</td>\n      <td>...</td>\n      <td>...</td>\n      <td>...</td>\n    </tr>\n    <tr>\n      <th>185</th>\n      <td>siteDenisfication_6</td>\n      <td>2024</td>\n      <td>1.059662e+06</td>\n      <td>Oriental</td>\n      <td>1.00</td>\n      <td>1.059662e+06</td>\n    </tr>\n    <tr>\n      <th>186</th>\n      <td>siteDenisfication_6</td>\n      <td>2025</td>\n      <td>2.119324e+06</td>\n      <td>Oriental</td>\n      <td>1.00</td>\n      <td>2.119324e+06</td>\n    </tr>\n    <tr>\n      <th>187</th>\n      <td>siteDenisfication_6</td>\n      <td>2026</td>\n      <td>2.119324e+06</td>\n      <td>Oriental</td>\n      <td>1.18</td>\n      <td>2.500802e+06</td>\n    </tr>\n    <tr>\n      <th>188</th>\n      <td>siteDenisfication_6</td>\n      <td>2027</td>\n      <td>2.119324e+06</td>\n      <td>Oriental</td>\n      <td>1.18</td>\n      <td>2.500802e+06</td>\n    </tr>\n    <tr>\n      <th>189</th>\n      <td>siteDenisfication_6</td>\n      <td>2028</td>\n      <td>2.160080e+06</td>\n      <td>Oriental</td>\n      <td>1.18</td>\n      <td>2.548895e+06</td>\n    </tr>\n  </tbody>\n</table>\n<p>190 rows × 6 columns</p>\n</div>"
     },
     "execution_count": 54,
     "metadata": {},
     "output_type": "execute_result"
    }
   ],
   "source": [
    "merged_rate = add_region_groupby.reset_index().merge(rate_long_df, on=['region', 'year'])\n",
    "merged_rate.rename(columns={'site_id_x': 'site_id'}, inplace=True)\n",
    "\n",
    "merged_rate['trafic_improvement_with_rate'] = merged_rate['rate'] * merged_rate['trafic_improvement']\n",
    "merged_rate"
   ],
   "metadata": {
    "collapsed": false,
    "ExecuteTime": {
     "end_time": "2024-06-28T08:40:06.186241600Z",
     "start_time": "2024-06-28T08:40:06.137927100Z"
    }
   },
   "id": "98b84b8c0a58dea2"
  },
  {
   "cell_type": "code",
   "execution_count": 51,
   "outputs": [
    {
     "data": {
      "text/plain": "                   site_id  week_of_the_upgrade bands_upgraded  \\\n0      siteDenisfication_1               202426  densification   \n1      siteDenisfication_1               202426  densification   \n2      siteDenisfication_1               202426  densification   \n3      siteDenisfication_1               202426  densification   \n4      siteDenisfication_1               202426  densification   \n...                    ...                  ...            ...   \n9875  siteDenisfication_38               202426  densification   \n9876  siteDenisfication_38               202426  densification   \n9877  siteDenisfication_38               202426  densification   \n9878  siteDenisfication_38               202426  densification   \n9879  siteDenisfication_38               202426  densification   \n\n      n_traffic_before  predicted_traffic  trafic_improvement        date  \\\n0          2928.776764        3707.563623         3707.563623  2024-07-07   \n1          2928.776764        3707.563623         3707.563623  2024-07-14   \n2          2928.776764        3707.563623         3707.563623  2024-07-21   \n3          2928.776764        3707.563623         3707.563623  2024-07-28   \n4          2928.776764        3707.563623         3707.563623  2024-08-04   \n...                ...                ...                 ...         ...   \n9875       3147.506204        2324.854627         2324.854627  2029-05-27   \n9876       3147.506204        2324.854627         2324.854627  2029-06-03   \n9877       3147.506204        2324.854627         2324.854627  2029-06-10   \n9878       3147.506204        2324.854627         2324.854627  2029-06-17   \n9879       3147.506204        2324.854627         2324.854627  2029-06-24   \n\n      week_period  lag_between_the_upgrade  date_date  year  \n0          202427                        1 2024-07-07  2024  \n1          202428                        2 2024-07-14  2024  \n2          202429                        3 2024-07-21  2024  \n3          202430                        4 2024-07-28  2024  \n4          202431                        5 2024-08-04  2024  \n...           ...                      ...        ...   ...  \n9875       202921                      256 2029-05-27  2029  \n9876       202922                      257 2029-06-03  2029  \n9877       202923                      258 2029-06-10  2029  \n9878       202924                      259 2029-06-17  2029  \n9879       202925                      260 2029-06-24  2029  \n\n[9880 rows x 11 columns]",
      "text/html": "<div>\n<style scoped>\n    .dataframe tbody tr th:only-of-type {\n        vertical-align: middle;\n    }\n\n    .dataframe tbody tr th {\n        vertical-align: top;\n    }\n\n    .dataframe thead th {\n        text-align: right;\n    }\n</style>\n<table border=\"1\" class=\"dataframe\">\n  <thead>\n    <tr style=\"text-align: right;\">\n      <th></th>\n      <th>site_id</th>\n      <th>week_of_the_upgrade</th>\n      <th>bands_upgraded</th>\n      <th>n_traffic_before</th>\n      <th>predicted_traffic</th>\n      <th>trafic_improvement</th>\n      <th>date</th>\n      <th>week_period</th>\n      <th>lag_between_the_upgrade</th>\n      <th>date_date</th>\n      <th>year</th>\n    </tr>\n  </thead>\n  <tbody>\n    <tr>\n      <th>0</th>\n      <td>siteDenisfication_1</td>\n      <td>202426</td>\n      <td>densification</td>\n      <td>2928.776764</td>\n      <td>3707.563623</td>\n      <td>3707.563623</td>\n      <td>2024-07-07</td>\n      <td>202427</td>\n      <td>1</td>\n      <td>2024-07-07</td>\n      <td>2024</td>\n    </tr>\n    <tr>\n      <th>1</th>\n      <td>siteDenisfication_1</td>\n      <td>202426</td>\n      <td>densification</td>\n      <td>2928.776764</td>\n      <td>3707.563623</td>\n      <td>3707.563623</td>\n      <td>2024-07-14</td>\n      <td>202428</td>\n      <td>2</td>\n      <td>2024-07-14</td>\n      <td>2024</td>\n    </tr>\n    <tr>\n      <th>2</th>\n      <td>siteDenisfication_1</td>\n      <td>202426</td>\n      <td>densification</td>\n      <td>2928.776764</td>\n      <td>3707.563623</td>\n      <td>3707.563623</td>\n      <td>2024-07-21</td>\n      <td>202429</td>\n      <td>3</td>\n      <td>2024-07-21</td>\n      <td>2024</td>\n    </tr>\n    <tr>\n      <th>3</th>\n      <td>siteDenisfication_1</td>\n      <td>202426</td>\n      <td>densification</td>\n      <td>2928.776764</td>\n      <td>3707.563623</td>\n      <td>3707.563623</td>\n      <td>2024-07-28</td>\n      <td>202430</td>\n      <td>4</td>\n      <td>2024-07-28</td>\n      <td>2024</td>\n    </tr>\n    <tr>\n      <th>4</th>\n      <td>siteDenisfication_1</td>\n      <td>202426</td>\n      <td>densification</td>\n      <td>2928.776764</td>\n      <td>3707.563623</td>\n      <td>3707.563623</td>\n      <td>2024-08-04</td>\n      <td>202431</td>\n      <td>5</td>\n      <td>2024-08-04</td>\n      <td>2024</td>\n    </tr>\n    <tr>\n      <th>...</th>\n      <td>...</td>\n      <td>...</td>\n      <td>...</td>\n      <td>...</td>\n      <td>...</td>\n      <td>...</td>\n      <td>...</td>\n      <td>...</td>\n      <td>...</td>\n      <td>...</td>\n      <td>...</td>\n    </tr>\n    <tr>\n      <th>9875</th>\n      <td>siteDenisfication_38</td>\n      <td>202426</td>\n      <td>densification</td>\n      <td>3147.506204</td>\n      <td>2324.854627</td>\n      <td>2324.854627</td>\n      <td>2029-05-27</td>\n      <td>202921</td>\n      <td>256</td>\n      <td>2029-05-27</td>\n      <td>2029</td>\n    </tr>\n    <tr>\n      <th>9876</th>\n      <td>siteDenisfication_38</td>\n      <td>202426</td>\n      <td>densification</td>\n      <td>3147.506204</td>\n      <td>2324.854627</td>\n      <td>2324.854627</td>\n      <td>2029-06-03</td>\n      <td>202922</td>\n      <td>257</td>\n      <td>2029-06-03</td>\n      <td>2029</td>\n    </tr>\n    <tr>\n      <th>9877</th>\n      <td>siteDenisfication_38</td>\n      <td>202426</td>\n      <td>densification</td>\n      <td>3147.506204</td>\n      <td>2324.854627</td>\n      <td>2324.854627</td>\n      <td>2029-06-10</td>\n      <td>202923</td>\n      <td>258</td>\n      <td>2029-06-10</td>\n      <td>2029</td>\n    </tr>\n    <tr>\n      <th>9878</th>\n      <td>siteDenisfication_38</td>\n      <td>202426</td>\n      <td>densification</td>\n      <td>3147.506204</td>\n      <td>2324.854627</td>\n      <td>2324.854627</td>\n      <td>2029-06-17</td>\n      <td>202924</td>\n      <td>259</td>\n      <td>2029-06-17</td>\n      <td>2029</td>\n    </tr>\n    <tr>\n      <th>9879</th>\n      <td>siteDenisfication_38</td>\n      <td>202426</td>\n      <td>densification</td>\n      <td>3147.506204</td>\n      <td>2324.854627</td>\n      <td>2324.854627</td>\n      <td>2029-06-24</td>\n      <td>202925</td>\n      <td>260</td>\n      <td>2029-06-24</td>\n      <td>2029</td>\n    </tr>\n  </tbody>\n</table>\n<p>9880 rows × 11 columns</p>\n</div>"
     },
     "execution_count": 51,
     "metadata": {},
     "output_type": "execute_result"
    }
   ],
   "source": [
    "df_to_work"
   ],
   "metadata": {
    "collapsed": false,
    "ExecuteTime": {
     "end_time": "2024-06-28T08:38:47.389786700Z",
     "start_time": "2024-06-28T08:38:47.365112700Z"
    }
   },
   "id": "49561688a277446"
  },
  {
   "cell_type": "code",
   "execution_count": 56,
   "outputs": [
    {
     "data": {
      "text/plain": "                   site_id  week_of_the_upgrade bands_upgraded  \\\n0      siteDenisfication_1               202426  densification   \n1      siteDenisfication_1               202426  densification   \n2      siteDenisfication_1               202426  densification   \n3      siteDenisfication_1               202426  densification   \n4      siteDenisfication_1               202426  densification   \n...                    ...                  ...            ...   \n8925  siteDenisfication_38               202426  densification   \n8926  siteDenisfication_38               202426  densification   \n8927  siteDenisfication_38               202426  densification   \n8928  siteDenisfication_38               202426  densification   \n8929  siteDenisfication_38               202426  densification   \n\n      n_traffic_before  predicted_traffic  trafic_improvement        date  \\\n0          2928.776764        3707.563623         3707.563623  2024-07-07   \n1          2928.776764        3707.563623         3707.563623  2024-07-14   \n2          2928.776764        3707.563623         3707.563623  2024-07-21   \n3          2928.776764        3707.563623         3707.563623  2024-07-28   \n4          2928.776764        3707.563623         3707.563623  2024-08-04   \n...                ...                ...                 ...         ...   \n8925       3147.506204        2324.854627         2324.854627  2028-12-03   \n8926       3147.506204        2324.854627         2324.854627  2028-12-10   \n8927       3147.506204        2324.854627         2324.854627  2028-12-17   \n8928       3147.506204        2324.854627         2324.854627  2028-12-24   \n8929       3147.506204        2324.854627         2324.854627  2028-12-31   \n\n      week_period  lag_between_the_upgrade  date_date  year  rate  \\\n0          202427                        1 2024-07-07  2024  1.00   \n1          202428                        2 2024-07-14  2024  1.00   \n2          202429                        3 2024-07-21  2024  1.00   \n3          202430                        4 2024-07-28  2024  1.00   \n4          202431                        5 2024-08-04  2024  1.00   \n...           ...                      ...        ...   ...   ...   \n8925       202849                      231 2028-12-03  2028  1.23   \n8926       202850                      232 2028-12-10  2028  1.23   \n8927       202851                      233 2028-12-17  2028  1.23   \n8928       202852                      234 2028-12-24  2028  1.23   \n8929       202853                      235 2028-12-31  2028  1.23   \n\n      trafic_improvement_with_rate  \n0                     2.602710e+06  \n1                     2.602710e+06  \n2                     2.602710e+06  \n3                     2.602710e+06  \n4                     2.602710e+06  \n...                            ...  \n8925                  3.182703e+06  \n8926                  3.182703e+06  \n8927                  3.182703e+06  \n8928                  3.182703e+06  \n8929                  3.182703e+06  \n\n[8930 rows x 13 columns]",
      "text/html": "<div>\n<style scoped>\n    .dataframe tbody tr th:only-of-type {\n        vertical-align: middle;\n    }\n\n    .dataframe tbody tr th {\n        vertical-align: top;\n    }\n\n    .dataframe thead th {\n        text-align: right;\n    }\n</style>\n<table border=\"1\" class=\"dataframe\">\n  <thead>\n    <tr style=\"text-align: right;\">\n      <th></th>\n      <th>site_id</th>\n      <th>week_of_the_upgrade</th>\n      <th>bands_upgraded</th>\n      <th>n_traffic_before</th>\n      <th>predicted_traffic</th>\n      <th>trafic_improvement</th>\n      <th>date</th>\n      <th>week_period</th>\n      <th>lag_between_the_upgrade</th>\n      <th>date_date</th>\n      <th>year</th>\n      <th>rate</th>\n      <th>trafic_improvement_with_rate</th>\n    </tr>\n  </thead>\n  <tbody>\n    <tr>\n      <th>0</th>\n      <td>siteDenisfication_1</td>\n      <td>202426</td>\n      <td>densification</td>\n      <td>2928.776764</td>\n      <td>3707.563623</td>\n      <td>3707.563623</td>\n      <td>2024-07-07</td>\n      <td>202427</td>\n      <td>1</td>\n      <td>2024-07-07</td>\n      <td>2024</td>\n      <td>1.00</td>\n      <td>2.602710e+06</td>\n    </tr>\n    <tr>\n      <th>1</th>\n      <td>siteDenisfication_1</td>\n      <td>202426</td>\n      <td>densification</td>\n      <td>2928.776764</td>\n      <td>3707.563623</td>\n      <td>3707.563623</td>\n      <td>2024-07-14</td>\n      <td>202428</td>\n      <td>2</td>\n      <td>2024-07-14</td>\n      <td>2024</td>\n      <td>1.00</td>\n      <td>2.602710e+06</td>\n    </tr>\n    <tr>\n      <th>2</th>\n      <td>siteDenisfication_1</td>\n      <td>202426</td>\n      <td>densification</td>\n      <td>2928.776764</td>\n      <td>3707.563623</td>\n      <td>3707.563623</td>\n      <td>2024-07-21</td>\n      <td>202429</td>\n      <td>3</td>\n      <td>2024-07-21</td>\n      <td>2024</td>\n      <td>1.00</td>\n      <td>2.602710e+06</td>\n    </tr>\n    <tr>\n      <th>3</th>\n      <td>siteDenisfication_1</td>\n      <td>202426</td>\n      <td>densification</td>\n      <td>2928.776764</td>\n      <td>3707.563623</td>\n      <td>3707.563623</td>\n      <td>2024-07-28</td>\n      <td>202430</td>\n      <td>4</td>\n      <td>2024-07-28</td>\n      <td>2024</td>\n      <td>1.00</td>\n      <td>2.602710e+06</td>\n    </tr>\n    <tr>\n      <th>4</th>\n      <td>siteDenisfication_1</td>\n      <td>202426</td>\n      <td>densification</td>\n      <td>2928.776764</td>\n      <td>3707.563623</td>\n      <td>3707.563623</td>\n      <td>2024-08-04</td>\n      <td>202431</td>\n      <td>5</td>\n      <td>2024-08-04</td>\n      <td>2024</td>\n      <td>1.00</td>\n      <td>2.602710e+06</td>\n    </tr>\n    <tr>\n      <th>...</th>\n      <td>...</td>\n      <td>...</td>\n      <td>...</td>\n      <td>...</td>\n      <td>...</td>\n      <td>...</td>\n      <td>...</td>\n      <td>...</td>\n      <td>...</td>\n      <td>...</td>\n      <td>...</td>\n      <td>...</td>\n      <td>...</td>\n    </tr>\n    <tr>\n      <th>8925</th>\n      <td>siteDenisfication_38</td>\n      <td>202426</td>\n      <td>densification</td>\n      <td>3147.506204</td>\n      <td>2324.854627</td>\n      <td>2324.854627</td>\n      <td>2028-12-03</td>\n      <td>202849</td>\n      <td>231</td>\n      <td>2028-12-03</td>\n      <td>2028</td>\n      <td>1.23</td>\n      <td>3.182703e+06</td>\n    </tr>\n    <tr>\n      <th>8926</th>\n      <td>siteDenisfication_38</td>\n      <td>202426</td>\n      <td>densification</td>\n      <td>3147.506204</td>\n      <td>2324.854627</td>\n      <td>2324.854627</td>\n      <td>2028-12-10</td>\n      <td>202850</td>\n      <td>232</td>\n      <td>2028-12-10</td>\n      <td>2028</td>\n      <td>1.23</td>\n      <td>3.182703e+06</td>\n    </tr>\n    <tr>\n      <th>8927</th>\n      <td>siteDenisfication_38</td>\n      <td>202426</td>\n      <td>densification</td>\n      <td>3147.506204</td>\n      <td>2324.854627</td>\n      <td>2324.854627</td>\n      <td>2028-12-17</td>\n      <td>202851</td>\n      <td>233</td>\n      <td>2028-12-17</td>\n      <td>2028</td>\n      <td>1.23</td>\n      <td>3.182703e+06</td>\n    </tr>\n    <tr>\n      <th>8928</th>\n      <td>siteDenisfication_38</td>\n      <td>202426</td>\n      <td>densification</td>\n      <td>3147.506204</td>\n      <td>2324.854627</td>\n      <td>2324.854627</td>\n      <td>2028-12-24</td>\n      <td>202852</td>\n      <td>234</td>\n      <td>2028-12-24</td>\n      <td>2028</td>\n      <td>1.23</td>\n      <td>3.182703e+06</td>\n    </tr>\n    <tr>\n      <th>8929</th>\n      <td>siteDenisfication_38</td>\n      <td>202426</td>\n      <td>densification</td>\n      <td>3147.506204</td>\n      <td>2324.854627</td>\n      <td>2324.854627</td>\n      <td>2028-12-31</td>\n      <td>202853</td>\n      <td>235</td>\n      <td>2028-12-31</td>\n      <td>2028</td>\n      <td>1.23</td>\n      <td>3.182703e+06</td>\n    </tr>\n  </tbody>\n</table>\n<p>8930 rows × 13 columns</p>\n</div>"
     },
     "execution_count": 56,
     "metadata": {},
     "output_type": "execute_result"
    }
   ],
   "source": [
    "df_to_work['date_date'] = pd.to_datetime(df_to_work['date'])\n",
    "df_to_work['year'] = df_to_work['date_date'].dt.year\n",
    "result = df_to_work.merge(merged_rate[['site_id','rate','year','trafic_improvement_with_rate']],on=['site_id','year'])\n",
    "result"
   ],
   "metadata": {
    "collapsed": false,
    "ExecuteTime": {
     "end_time": "2024-06-28T08:40:32.407903100Z",
     "start_time": "2024-06-28T08:40:32.368045300Z"
    }
   },
   "id": "1b80eeb9375a676d"
  },
  {
   "cell_type": "code",
   "execution_count": 71,
   "outputs": [],
   "source": [
    "def apply_rate_for_new_site(rate, df, cluster_key, site):\n",
    "    add_region = pd.merge(df, cluster_key[['site_id','neighbour_1']], on='site_id')\n",
    "    add_region = pd.merge(add_region,site[['site_id','region']], left_on='neighbour_1', right_on='site_id')\n",
    "    add_region['date_date'] = pd.to_datetime(add_region['date'])\n",
    "    add_region['year'] = add_region['date_date'].dt.year\n",
    "    add_region_groupby = add_region.groupby(['site_id_x','year']).agg({'trafic_improvement':'sum',\n",
    "                                                                   'region': 'first'})\n",
    "    years = [2024, 2025, 2026, 2027, 2028]\n",
    "    rate['year'] = years[:len(rate)]\n",
    "    rate_long_df = rate.melt(id_vars='year', var_name='region', value_name='rate')\n",
    "    merged_rate = add_region_groupby.reset_index().merge(rate_long_df, on=['region', 'year'])\n",
    "    merged_rate.rename(columns={'site_id_x': 'site_id'}, inplace=True)\n",
    "    merged_rate['trafic_improvement_with_rate'] = merged_rate['rate'] * merged_rate['trafic_improvement']\n",
    "    df['date_date'] = pd.to_datetime(df['date'])\n",
    "    df['year'] = df['date_date'].dt.year\n",
    "    result = df.merge(merged_rate[['site_id','rate','year','trafic_improvement_with_rate']],on=['site_id','year'])\n",
    "    return result\n",
    "\n",
    "    "
   ],
   "metadata": {
    "collapsed": false,
    "ExecuteTime": {
     "end_time": "2024-06-28T09:11:54.897329100Z",
     "start_time": "2024-06-28T09:11:54.876205Z"
    }
   },
   "id": "2a5046df622d50d3"
  },
  {
   "cell_type": "code",
   "execution_count": 72,
   "outputs": [
    {
     "data": {
      "text/plain": "                   site_id  week_of_the_upgrade bands_upgraded  \\\n0      siteDenisfication_1               202426  densification   \n1      siteDenisfication_1               202426  densification   \n2      siteDenisfication_1               202426  densification   \n3      siteDenisfication_1               202426  densification   \n4      siteDenisfication_1               202426  densification   \n...                    ...                  ...            ...   \n8925  siteDenisfication_38               202426  densification   \n8926  siteDenisfication_38               202426  densification   \n8927  siteDenisfication_38               202426  densification   \n8928  siteDenisfication_38               202426  densification   \n8929  siteDenisfication_38               202426  densification   \n\n      n_traffic_before  predicted_traffic  trafic_improvement        date  \\\n0          2928.776764        3707.563623         3707.563623  2024-07-07   \n1          2928.776764        3707.563623         3707.563623  2024-07-14   \n2          2928.776764        3707.563623         3707.563623  2024-07-21   \n3          2928.776764        3707.563623         3707.563623  2024-07-28   \n4          2928.776764        3707.563623         3707.563623  2024-08-04   \n...                ...                ...                 ...         ...   \n8925       3147.506204        2324.854627         2324.854627  2028-12-03   \n8926       3147.506204        2324.854627         2324.854627  2028-12-10   \n8927       3147.506204        2324.854627         2324.854627  2028-12-17   \n8928       3147.506204        2324.854627         2324.854627  2028-12-24   \n8929       3147.506204        2324.854627         2324.854627  2028-12-31   \n\n      week_period  lag_between_the_upgrade  date_date  year  rate  \\\n0          202427                        1 2024-07-07  2024  1.00   \n1          202428                        2 2024-07-14  2024  1.00   \n2          202429                        3 2024-07-21  2024  1.00   \n3          202430                        4 2024-07-28  2024  1.00   \n4          202431                        5 2024-08-04  2024  1.00   \n...           ...                      ...        ...   ...   ...   \n8925       202849                      231 2028-12-03  2028  1.23   \n8926       202850                      232 2028-12-10  2028  1.23   \n8927       202851                      233 2028-12-17  2028  1.23   \n8928       202852                      234 2028-12-24  2028  1.23   \n8929       202853                      235 2028-12-31  2028  1.23   \n\n      trafic_improvement_with_rate  \n0                     2.602710e+06  \n1                     2.602710e+06  \n2                     2.602710e+06  \n3                     2.602710e+06  \n4                     2.602710e+06  \n...                            ...  \n8925                  3.182703e+06  \n8926                  3.182703e+06  \n8927                  3.182703e+06  \n8928                  3.182703e+06  \n8929                  3.182703e+06  \n\n[8930 rows x 13 columns]",
      "text/html": "<div>\n<style scoped>\n    .dataframe tbody tr th:only-of-type {\n        vertical-align: middle;\n    }\n\n    .dataframe tbody tr th {\n        vertical-align: top;\n    }\n\n    .dataframe thead th {\n        text-align: right;\n    }\n</style>\n<table border=\"1\" class=\"dataframe\">\n  <thead>\n    <tr style=\"text-align: right;\">\n      <th></th>\n      <th>site_id</th>\n      <th>week_of_the_upgrade</th>\n      <th>bands_upgraded</th>\n      <th>n_traffic_before</th>\n      <th>predicted_traffic</th>\n      <th>trafic_improvement</th>\n      <th>date</th>\n      <th>week_period</th>\n      <th>lag_between_the_upgrade</th>\n      <th>date_date</th>\n      <th>year</th>\n      <th>rate</th>\n      <th>trafic_improvement_with_rate</th>\n    </tr>\n  </thead>\n  <tbody>\n    <tr>\n      <th>0</th>\n      <td>siteDenisfication_1</td>\n      <td>202426</td>\n      <td>densification</td>\n      <td>2928.776764</td>\n      <td>3707.563623</td>\n      <td>3707.563623</td>\n      <td>2024-07-07</td>\n      <td>202427</td>\n      <td>1</td>\n      <td>2024-07-07</td>\n      <td>2024</td>\n      <td>1.00</td>\n      <td>2.602710e+06</td>\n    </tr>\n    <tr>\n      <th>1</th>\n      <td>siteDenisfication_1</td>\n      <td>202426</td>\n      <td>densification</td>\n      <td>2928.776764</td>\n      <td>3707.563623</td>\n      <td>3707.563623</td>\n      <td>2024-07-14</td>\n      <td>202428</td>\n      <td>2</td>\n      <td>2024-07-14</td>\n      <td>2024</td>\n      <td>1.00</td>\n      <td>2.602710e+06</td>\n    </tr>\n    <tr>\n      <th>2</th>\n      <td>siteDenisfication_1</td>\n      <td>202426</td>\n      <td>densification</td>\n      <td>2928.776764</td>\n      <td>3707.563623</td>\n      <td>3707.563623</td>\n      <td>2024-07-21</td>\n      <td>202429</td>\n      <td>3</td>\n      <td>2024-07-21</td>\n      <td>2024</td>\n      <td>1.00</td>\n      <td>2.602710e+06</td>\n    </tr>\n    <tr>\n      <th>3</th>\n      <td>siteDenisfication_1</td>\n      <td>202426</td>\n      <td>densification</td>\n      <td>2928.776764</td>\n      <td>3707.563623</td>\n      <td>3707.563623</td>\n      <td>2024-07-28</td>\n      <td>202430</td>\n      <td>4</td>\n      <td>2024-07-28</td>\n      <td>2024</td>\n      <td>1.00</td>\n      <td>2.602710e+06</td>\n    </tr>\n    <tr>\n      <th>4</th>\n      <td>siteDenisfication_1</td>\n      <td>202426</td>\n      <td>densification</td>\n      <td>2928.776764</td>\n      <td>3707.563623</td>\n      <td>3707.563623</td>\n      <td>2024-08-04</td>\n      <td>202431</td>\n      <td>5</td>\n      <td>2024-08-04</td>\n      <td>2024</td>\n      <td>1.00</td>\n      <td>2.602710e+06</td>\n    </tr>\n    <tr>\n      <th>...</th>\n      <td>...</td>\n      <td>...</td>\n      <td>...</td>\n      <td>...</td>\n      <td>...</td>\n      <td>...</td>\n      <td>...</td>\n      <td>...</td>\n      <td>...</td>\n      <td>...</td>\n      <td>...</td>\n      <td>...</td>\n      <td>...</td>\n    </tr>\n    <tr>\n      <th>8925</th>\n      <td>siteDenisfication_38</td>\n      <td>202426</td>\n      <td>densification</td>\n      <td>3147.506204</td>\n      <td>2324.854627</td>\n      <td>2324.854627</td>\n      <td>2028-12-03</td>\n      <td>202849</td>\n      <td>231</td>\n      <td>2028-12-03</td>\n      <td>2028</td>\n      <td>1.23</td>\n      <td>3.182703e+06</td>\n    </tr>\n    <tr>\n      <th>8926</th>\n      <td>siteDenisfication_38</td>\n      <td>202426</td>\n      <td>densification</td>\n      <td>3147.506204</td>\n      <td>2324.854627</td>\n      <td>2324.854627</td>\n      <td>2028-12-10</td>\n      <td>202850</td>\n      <td>232</td>\n      <td>2028-12-10</td>\n      <td>2028</td>\n      <td>1.23</td>\n      <td>3.182703e+06</td>\n    </tr>\n    <tr>\n      <th>8927</th>\n      <td>siteDenisfication_38</td>\n      <td>202426</td>\n      <td>densification</td>\n      <td>3147.506204</td>\n      <td>2324.854627</td>\n      <td>2324.854627</td>\n      <td>2028-12-17</td>\n      <td>202851</td>\n      <td>233</td>\n      <td>2028-12-17</td>\n      <td>2028</td>\n      <td>1.23</td>\n      <td>3.182703e+06</td>\n    </tr>\n    <tr>\n      <th>8928</th>\n      <td>siteDenisfication_38</td>\n      <td>202426</td>\n      <td>densification</td>\n      <td>3147.506204</td>\n      <td>2324.854627</td>\n      <td>2324.854627</td>\n      <td>2028-12-24</td>\n      <td>202852</td>\n      <td>234</td>\n      <td>2028-12-24</td>\n      <td>2028</td>\n      <td>1.23</td>\n      <td>3.182703e+06</td>\n    </tr>\n    <tr>\n      <th>8929</th>\n      <td>siteDenisfication_38</td>\n      <td>202426</td>\n      <td>densification</td>\n      <td>3147.506204</td>\n      <td>2324.854627</td>\n      <td>2324.854627</td>\n      <td>2028-12-31</td>\n      <td>202853</td>\n      <td>235</td>\n      <td>2028-12-31</td>\n      <td>2028</td>\n      <td>1.23</td>\n      <td>3.182703e+06</td>\n    </tr>\n  </tbody>\n</table>\n<p>8930 rows × 13 columns</p>\n</div>"
     },
     "execution_count": 72,
     "metadata": {},
     "output_type": "execute_result"
    }
   ],
   "source": [
    "new_result = apply_rate_for_new_site(rate,df_to_work,cluster_key,df_site)\n",
    "new_result"
   ],
   "metadata": {
    "collapsed": false,
    "ExecuteTime": {
     "end_time": "2024-06-28T09:11:55.549818300Z",
     "start_time": "2024-06-28T09:11:55.421885400Z"
    }
   },
   "id": "d15556cb48567975"
  },
  {
   "cell_type": "code",
   "execution_count": 68,
   "outputs": [],
   "source": [
    "result[\"increase_of_traffic_after_the_upgrade\"] = result['trafic_improvement']\n",
    "result[\"total_traffic_to_compute_increase\"] = result['n_traffic_before'] + result['increase_of_traffic_after_the_upgrade']\n",
    "result['increase'] = result['trafic_improvement_with_rate']\n",
    "result[\"total_increase\"] = np.cumsum(result[\"increase\"])"
   ],
   "metadata": {
    "collapsed": false,
    "ExecuteTime": {
     "end_time": "2024-06-28T09:10:05.075754800Z",
     "start_time": "2024-06-28T09:10:05.059274200Z"
    }
   },
   "id": "696730e986f60a07"
  },
  {
   "cell_type": "code",
   "execution_count": 61,
   "outputs": [
    {
     "data": {
      "text/plain": "                   site_id  week_of_the_upgrade bands_upgraded  \\\n0      siteDenisfication_1               202426  densification   \n1      siteDenisfication_1               202426  densification   \n2      siteDenisfication_1               202426  densification   \n3      siteDenisfication_1               202426  densification   \n4      siteDenisfication_1               202426  densification   \n...                    ...                  ...            ...   \n8925  siteDenisfication_38               202426  densification   \n8926  siteDenisfication_38               202426  densification   \n8927  siteDenisfication_38               202426  densification   \n8928  siteDenisfication_38               202426  densification   \n8929  siteDenisfication_38               202426  densification   \n\n      n_traffic_before  predicted_traffic  trafic_improvement        date  \\\n0          2928.776764        3707.563623         3707.563623  2024-07-07   \n1          2928.776764        3707.563623         3707.563623  2024-07-14   \n2          2928.776764        3707.563623         3707.563623  2024-07-21   \n3          2928.776764        3707.563623         3707.563623  2024-07-28   \n4          2928.776764        3707.563623         3707.563623  2024-08-04   \n...                ...                ...                 ...         ...   \n8925       3147.506204        2324.854627         2324.854627  2028-12-03   \n8926       3147.506204        2324.854627         2324.854627  2028-12-10   \n8927       3147.506204        2324.854627         2324.854627  2028-12-17   \n8928       3147.506204        2324.854627         2324.854627  2028-12-24   \n8929       3147.506204        2324.854627         2324.854627  2028-12-31   \n\n      week_period  lag_between_the_upgrade  date_date  year  rate  \\\n0          202427                        1 2024-07-07  2024  1.00   \n1          202428                        2 2024-07-14  2024  1.00   \n2          202429                        3 2024-07-21  2024  1.00   \n3          202430                        4 2024-07-28  2024  1.00   \n4          202431                        5 2024-08-04  2024  1.00   \n...           ...                      ...        ...   ...   ...   \n8925       202849                      231 2028-12-03  2028  1.23   \n8926       202850                      232 2028-12-10  2028  1.23   \n8927       202851                      233 2028-12-17  2028  1.23   \n8928       202852                      234 2028-12-24  2028  1.23   \n8929       202853                      235 2028-12-31  2028  1.23   \n\n      trafic_improvement_with_rate  increase_of_traffic_after_the_upgrade  \\\n0                     2.602710e+06                            3707.563623   \n1                     2.602710e+06                            3707.563623   \n2                     2.602710e+06                            3707.563623   \n3                     2.602710e+06                            3707.563623   \n4                     2.602710e+06                            3707.563623   \n...                            ...                                    ...   \n8925                  3.182703e+06                            2324.854627   \n8926                  3.182703e+06                            2324.854627   \n8927                  3.182703e+06                            2324.854627   \n8928                  3.182703e+06                            2324.854627   \n8929                  3.182703e+06                            2324.854627   \n\n      total_traffic_to_compute_increase      increase  total_increase  \n0                           6636.340387  2.602710e+06    2.602710e+06  \n1                           6636.340387  2.602710e+06    5.205419e+06  \n2                           6636.340387  2.602710e+06    7.808129e+06  \n3                           6636.340387  2.602710e+06    1.041084e+07  \n4                           6636.340387  2.602710e+06    1.301355e+07  \n...                                 ...           ...             ...  \n8925                        5472.360831  3.182703e+06    3.725307e+10  \n8926                        5472.360831  3.182703e+06    3.725625e+10  \n8927                        5472.360831  3.182703e+06    3.725944e+10  \n8928                        5472.360831  3.182703e+06    3.726262e+10  \n8929                        5472.360831  3.182703e+06    3.726580e+10  \n\n[8930 rows x 17 columns]",
      "text/html": "<div>\n<style scoped>\n    .dataframe tbody tr th:only-of-type {\n        vertical-align: middle;\n    }\n\n    .dataframe tbody tr th {\n        vertical-align: top;\n    }\n\n    .dataframe thead th {\n        text-align: right;\n    }\n</style>\n<table border=\"1\" class=\"dataframe\">\n  <thead>\n    <tr style=\"text-align: right;\">\n      <th></th>\n      <th>site_id</th>\n      <th>week_of_the_upgrade</th>\n      <th>bands_upgraded</th>\n      <th>n_traffic_before</th>\n      <th>predicted_traffic</th>\n      <th>trafic_improvement</th>\n      <th>date</th>\n      <th>week_period</th>\n      <th>lag_between_the_upgrade</th>\n      <th>date_date</th>\n      <th>year</th>\n      <th>rate</th>\n      <th>trafic_improvement_with_rate</th>\n      <th>increase_of_traffic_after_the_upgrade</th>\n      <th>total_traffic_to_compute_increase</th>\n      <th>increase</th>\n      <th>total_increase</th>\n    </tr>\n  </thead>\n  <tbody>\n    <tr>\n      <th>0</th>\n      <td>siteDenisfication_1</td>\n      <td>202426</td>\n      <td>densification</td>\n      <td>2928.776764</td>\n      <td>3707.563623</td>\n      <td>3707.563623</td>\n      <td>2024-07-07</td>\n      <td>202427</td>\n      <td>1</td>\n      <td>2024-07-07</td>\n      <td>2024</td>\n      <td>1.00</td>\n      <td>2.602710e+06</td>\n      <td>3707.563623</td>\n      <td>6636.340387</td>\n      <td>2.602710e+06</td>\n      <td>2.602710e+06</td>\n    </tr>\n    <tr>\n      <th>1</th>\n      <td>siteDenisfication_1</td>\n      <td>202426</td>\n      <td>densification</td>\n      <td>2928.776764</td>\n      <td>3707.563623</td>\n      <td>3707.563623</td>\n      <td>2024-07-14</td>\n      <td>202428</td>\n      <td>2</td>\n      <td>2024-07-14</td>\n      <td>2024</td>\n      <td>1.00</td>\n      <td>2.602710e+06</td>\n      <td>3707.563623</td>\n      <td>6636.340387</td>\n      <td>2.602710e+06</td>\n      <td>5.205419e+06</td>\n    </tr>\n    <tr>\n      <th>2</th>\n      <td>siteDenisfication_1</td>\n      <td>202426</td>\n      <td>densification</td>\n      <td>2928.776764</td>\n      <td>3707.563623</td>\n      <td>3707.563623</td>\n      <td>2024-07-21</td>\n      <td>202429</td>\n      <td>3</td>\n      <td>2024-07-21</td>\n      <td>2024</td>\n      <td>1.00</td>\n      <td>2.602710e+06</td>\n      <td>3707.563623</td>\n      <td>6636.340387</td>\n      <td>2.602710e+06</td>\n      <td>7.808129e+06</td>\n    </tr>\n    <tr>\n      <th>3</th>\n      <td>siteDenisfication_1</td>\n      <td>202426</td>\n      <td>densification</td>\n      <td>2928.776764</td>\n      <td>3707.563623</td>\n      <td>3707.563623</td>\n      <td>2024-07-28</td>\n      <td>202430</td>\n      <td>4</td>\n      <td>2024-07-28</td>\n      <td>2024</td>\n      <td>1.00</td>\n      <td>2.602710e+06</td>\n      <td>3707.563623</td>\n      <td>6636.340387</td>\n      <td>2.602710e+06</td>\n      <td>1.041084e+07</td>\n    </tr>\n    <tr>\n      <th>4</th>\n      <td>siteDenisfication_1</td>\n      <td>202426</td>\n      <td>densification</td>\n      <td>2928.776764</td>\n      <td>3707.563623</td>\n      <td>3707.563623</td>\n      <td>2024-08-04</td>\n      <td>202431</td>\n      <td>5</td>\n      <td>2024-08-04</td>\n      <td>2024</td>\n      <td>1.00</td>\n      <td>2.602710e+06</td>\n      <td>3707.563623</td>\n      <td>6636.340387</td>\n      <td>2.602710e+06</td>\n      <td>1.301355e+07</td>\n    </tr>\n    <tr>\n      <th>...</th>\n      <td>...</td>\n      <td>...</td>\n      <td>...</td>\n      <td>...</td>\n      <td>...</td>\n      <td>...</td>\n      <td>...</td>\n      <td>...</td>\n      <td>...</td>\n      <td>...</td>\n      <td>...</td>\n      <td>...</td>\n      <td>...</td>\n      <td>...</td>\n      <td>...</td>\n      <td>...</td>\n      <td>...</td>\n    </tr>\n    <tr>\n      <th>8925</th>\n      <td>siteDenisfication_38</td>\n      <td>202426</td>\n      <td>densification</td>\n      <td>3147.506204</td>\n      <td>2324.854627</td>\n      <td>2324.854627</td>\n      <td>2028-12-03</td>\n      <td>202849</td>\n      <td>231</td>\n      <td>2028-12-03</td>\n      <td>2028</td>\n      <td>1.23</td>\n      <td>3.182703e+06</td>\n      <td>2324.854627</td>\n      <td>5472.360831</td>\n      <td>3.182703e+06</td>\n      <td>3.725307e+10</td>\n    </tr>\n    <tr>\n      <th>8926</th>\n      <td>siteDenisfication_38</td>\n      <td>202426</td>\n      <td>densification</td>\n      <td>3147.506204</td>\n      <td>2324.854627</td>\n      <td>2324.854627</td>\n      <td>2028-12-10</td>\n      <td>202850</td>\n      <td>232</td>\n      <td>2028-12-10</td>\n      <td>2028</td>\n      <td>1.23</td>\n      <td>3.182703e+06</td>\n      <td>2324.854627</td>\n      <td>5472.360831</td>\n      <td>3.182703e+06</td>\n      <td>3.725625e+10</td>\n    </tr>\n    <tr>\n      <th>8927</th>\n      <td>siteDenisfication_38</td>\n      <td>202426</td>\n      <td>densification</td>\n      <td>3147.506204</td>\n      <td>2324.854627</td>\n      <td>2324.854627</td>\n      <td>2028-12-17</td>\n      <td>202851</td>\n      <td>233</td>\n      <td>2028-12-17</td>\n      <td>2028</td>\n      <td>1.23</td>\n      <td>3.182703e+06</td>\n      <td>2324.854627</td>\n      <td>5472.360831</td>\n      <td>3.182703e+06</td>\n      <td>3.725944e+10</td>\n    </tr>\n    <tr>\n      <th>8928</th>\n      <td>siteDenisfication_38</td>\n      <td>202426</td>\n      <td>densification</td>\n      <td>3147.506204</td>\n      <td>2324.854627</td>\n      <td>2324.854627</td>\n      <td>2028-12-24</td>\n      <td>202852</td>\n      <td>234</td>\n      <td>2028-12-24</td>\n      <td>2028</td>\n      <td>1.23</td>\n      <td>3.182703e+06</td>\n      <td>2324.854627</td>\n      <td>5472.360831</td>\n      <td>3.182703e+06</td>\n      <td>3.726262e+10</td>\n    </tr>\n    <tr>\n      <th>8929</th>\n      <td>siteDenisfication_38</td>\n      <td>202426</td>\n      <td>densification</td>\n      <td>3147.506204</td>\n      <td>2324.854627</td>\n      <td>2324.854627</td>\n      <td>2028-12-31</td>\n      <td>202853</td>\n      <td>235</td>\n      <td>2028-12-31</td>\n      <td>2028</td>\n      <td>1.23</td>\n      <td>3.182703e+06</td>\n      <td>2324.854627</td>\n      <td>5472.360831</td>\n      <td>3.182703e+06</td>\n      <td>3.726580e+10</td>\n    </tr>\n  </tbody>\n</table>\n<p>8930 rows × 17 columns</p>\n</div>"
     },
     "execution_count": 61,
     "metadata": {},
     "output_type": "execute_result"
    }
   ],
   "source": [
    "result"
   ],
   "metadata": {
    "collapsed": false,
    "ExecuteTime": {
     "end_time": "2024-06-28T08:44:50.035351800Z",
     "start_time": "2024-06-28T08:44:50.014092400Z"
    }
   },
   "id": "bdbc958b24c0ad39"
  },
  {
   "cell_type": "code",
   "execution_count": null,
   "outputs": [],
   "source": [],
   "metadata": {
    "collapsed": false
   },
   "id": "54273b28ba0bc202"
  }
 ],
 "metadata": {
  "kernelspec": {
   "display_name": "Python 3",
   "language": "python",
   "name": "python3"
  },
  "language_info": {
   "codemirror_mode": {
    "name": "ipython",
    "version": 2
   },
   "file_extension": ".py",
   "mimetype": "text/x-python",
   "name": "python",
   "nbconvert_exporter": "python",
   "pygments_lexer": "ipython2",
   "version": "2.7.6"
  }
 },
 "nbformat": 4,
 "nbformat_minor": 5
}
