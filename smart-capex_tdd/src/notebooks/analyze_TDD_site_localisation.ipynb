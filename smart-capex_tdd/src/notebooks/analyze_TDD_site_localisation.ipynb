{
 "cells": [
  {
   "cell_type": "code",
   "execution_count": 39,
   "id": "initial_id",
   "metadata": {
    "collapsed": true,
    "ExecuteTime": {
     "end_time": "2024-05-30T09:41:18.703402500Z",
     "start_time": "2024-05-30T09:41:18.675228400Z"
    }
   },
   "outputs": [
    {
     "ename": "ImportError",
     "evalue": "cannot import name 'ScalerBar'",
     "output_type": "error",
     "traceback": [
      "\u001B[1;31m---------------------------------------------------------------------------\u001B[0m",
      "\u001B[1;31mImportError\u001B[0m                               Traceback (most recent call last)",
      "\u001B[1;32m<ipython-input-39-bc8e3f28780e>\u001B[0m in \u001B[0;36m<module>\u001B[1;34m\u001B[0m\n\u001B[0;32m      2\u001B[0m \u001B[1;32mimport\u001B[0m \u001B[0mfolium\u001B[0m\u001B[1;33m\u001B[0m\u001B[1;33m\u001B[0m\u001B[0m\n\u001B[0;32m      3\u001B[0m \u001B[1;32mimport\u001B[0m \u001B[0mfolium\u001B[0m\u001B[1;33m.\u001B[0m\u001B[0mplugins\u001B[0m \u001B[1;32mas\u001B[0m \u001B[0mplugins\u001B[0m\u001B[1;33m\u001B[0m\u001B[1;33m\u001B[0m\u001B[0m\n\u001B[1;32m----> 4\u001B[1;33m \u001B[1;32mfrom\u001B[0m \u001B[0mfolium\u001B[0m\u001B[1;33m.\u001B[0m\u001B[0mplugins\u001B[0m \u001B[1;32mimport\u001B[0m \u001B[0mScalerBar\u001B[0m\u001B[1;33m\u001B[0m\u001B[1;33m\u001B[0m\u001B[0m\n\u001B[0m\u001B[0;32m      5\u001B[0m \u001B[1;32mimport\u001B[0m \u001B[0mnumpy\u001B[0m \u001B[1;32mas\u001B[0m \u001B[0mnp\u001B[0m\u001B[1;33m\u001B[0m\u001B[1;33m\u001B[0m\u001B[0m\n\u001B[0;32m      6\u001B[0m \u001B[1;32mfrom\u001B[0m \u001B[0mmath\u001B[0m \u001B[1;32mimport\u001B[0m \u001B[0mradians\u001B[0m\u001B[1;33m,\u001B[0m \u001B[0mcos\u001B[0m\u001B[1;33m,\u001B[0m \u001B[0msin\u001B[0m\u001B[1;33m,\u001B[0m \u001B[0msqrt\u001B[0m\u001B[1;33m,\u001B[0m \u001B[0matan2\u001B[0m\u001B[1;33m\u001B[0m\u001B[1;33m\u001B[0m\u001B[0m\n",
      "\u001B[1;31mImportError\u001B[0m: cannot import name 'ScalerBar'"
     ]
    }
   ],
   "source": [
    "import pandas as pd\n",
    "import folium\n",
    "import folium.plugins as plugins\n",
    "from folium.plugins import S\n",
    "import numpy as np\n",
    "from math import radians, cos, sin, sqrt, atan2"
   ]
  },
  {
   "cell_type": "code",
   "execution_count": 15,
   "outputs": [
    {
     "data": {
      "text/plain": "      site_id  latitude  longitude  commune    ville province  \\\n0      AFO001  32.20720   -6.54033  Afourar  Afourar   Azilal   \n1      AFO001  32.20720   -6.54033  Afourar  Afourar   Azilal   \n2      AFO001  32.20720   -6.54033  Afourar  Afourar   Azilal   \n3      AFO001  32.20720   -6.54033  Afourar  Afourar   Azilal   \n4      AFO001  32.20720   -6.54033  Afourar  Afourar   Azilal   \n...       ...       ...        ...      ...      ...      ...   \n89750  ZAI126  34.94875   -2.74344      NaN      NaN      NaN   \n89751  ZAI126  34.94875   -2.74344      NaN      NaN      NaN   \n89752  ZAI126  34.94875   -2.74344      NaN      NaN      NaN   \n89753  ZAI126  34.94875   -2.74344      NaN      NaN      NaN   \n89754  ZAI126  34.94875   -2.74344      NaN      NaN      NaN   \n\n                     region site_name sector  cell_name     cell_id  cell_lac  \\\n0      Béni Mellal-Khénifra    AFO001      R    AFO001R     30016.0   50700.0   \n1      Béni Mellal-Khénifra    AFO001      S    AFO001S     30017.0   50700.0   \n2      Béni Mellal-Khénifra    AFO001      T    AFO001T     30018.0   50700.0   \n3      Béni Mellal-Khénifra    AFO001      U    AFO001U     30010.0   50700.0   \n4      Béni Mellal-Khénifra    AFO001      V    AFO001V     30011.0   50700.0   \n...                     ...       ...    ...        ...         ...       ...   \n89750                   NaN    ZAI126    NaN  ZAI126_L2  25632258.0       NaN   \n89751                   NaN    ZAI126    NaN  ZAI126_L3  25632259.0       NaN   \n89752                   NaN    ZAI126    NaN  ZAI126_L7  25632263.0       NaN   \n89753                   NaN    ZAI126    NaN  ZAI126_L8  25632264.0       NaN   \n89754                   NaN    ZAI126    NaN  ZAI126_L9  25632265.0       NaN   \n\n      cell_tech  azimuth  horizantal_beam_width  vertical_beam_width  \\\n0            3G     60.0                   65.0                  7.0   \n1            3G    180.0                   65.0                  7.0   \n2            3G    300.0                   65.0                  7.0   \n3            3G     60.0                   65.0                  7.0   \n4            3G    180.0                   65.0                  7.0   \n...         ...      ...                    ...                  ...   \n89750       NaN    120.0                    NaN                  NaN   \n89751       NaN    200.0                    NaN                  NaN   \n89752       NaN     60.0                    NaN                  NaN   \n89753       NaN    120.0                    NaN                  NaN   \n89754       NaN    200.0                    NaN                  NaN   \n\n       downtilt cell_band  \n0           2.0  U2100-F3  \n1           2.0  U2100-F3  \n2           2.0  U2100-F3  \n3           2.0  U2100-F1  \n4           2.0  U2100-F1  \n...         ...       ...  \n89750       NaN     L1800  \n89751       NaN     L1800  \n89752       NaN      L800  \n89753       NaN      L800  \n89754       NaN      L800  \n\n[89755 rows x 18 columns]",
      "text/html": "<div>\n<style scoped>\n    .dataframe tbody tr th:only-of-type {\n        vertical-align: middle;\n    }\n\n    .dataframe tbody tr th {\n        vertical-align: top;\n    }\n\n    .dataframe thead th {\n        text-align: right;\n    }\n</style>\n<table border=\"1\" class=\"dataframe\">\n  <thead>\n    <tr style=\"text-align: right;\">\n      <th></th>\n      <th>site_id</th>\n      <th>latitude</th>\n      <th>longitude</th>\n      <th>commune</th>\n      <th>ville</th>\n      <th>province</th>\n      <th>region</th>\n      <th>site_name</th>\n      <th>sector</th>\n      <th>cell_name</th>\n      <th>cell_id</th>\n      <th>cell_lac</th>\n      <th>cell_tech</th>\n      <th>azimuth</th>\n      <th>horizantal_beam_width</th>\n      <th>vertical_beam_width</th>\n      <th>downtilt</th>\n      <th>cell_band</th>\n    </tr>\n  </thead>\n  <tbody>\n    <tr>\n      <th>0</th>\n      <td>AFO001</td>\n      <td>32.20720</td>\n      <td>-6.54033</td>\n      <td>Afourar</td>\n      <td>Afourar</td>\n      <td>Azilal</td>\n      <td>Béni Mellal-Khénifra</td>\n      <td>AFO001</td>\n      <td>R</td>\n      <td>AFO001R</td>\n      <td>30016.0</td>\n      <td>50700.0</td>\n      <td>3G</td>\n      <td>60.0</td>\n      <td>65.0</td>\n      <td>7.0</td>\n      <td>2.0</td>\n      <td>U2100-F3</td>\n    </tr>\n    <tr>\n      <th>1</th>\n      <td>AFO001</td>\n      <td>32.20720</td>\n      <td>-6.54033</td>\n      <td>Afourar</td>\n      <td>Afourar</td>\n      <td>Azilal</td>\n      <td>Béni Mellal-Khénifra</td>\n      <td>AFO001</td>\n      <td>S</td>\n      <td>AFO001S</td>\n      <td>30017.0</td>\n      <td>50700.0</td>\n      <td>3G</td>\n      <td>180.0</td>\n      <td>65.0</td>\n      <td>7.0</td>\n      <td>2.0</td>\n      <td>U2100-F3</td>\n    </tr>\n    <tr>\n      <th>2</th>\n      <td>AFO001</td>\n      <td>32.20720</td>\n      <td>-6.54033</td>\n      <td>Afourar</td>\n      <td>Afourar</td>\n      <td>Azilal</td>\n      <td>Béni Mellal-Khénifra</td>\n      <td>AFO001</td>\n      <td>T</td>\n      <td>AFO001T</td>\n      <td>30018.0</td>\n      <td>50700.0</td>\n      <td>3G</td>\n      <td>300.0</td>\n      <td>65.0</td>\n      <td>7.0</td>\n      <td>2.0</td>\n      <td>U2100-F3</td>\n    </tr>\n    <tr>\n      <th>3</th>\n      <td>AFO001</td>\n      <td>32.20720</td>\n      <td>-6.54033</td>\n      <td>Afourar</td>\n      <td>Afourar</td>\n      <td>Azilal</td>\n      <td>Béni Mellal-Khénifra</td>\n      <td>AFO001</td>\n      <td>U</td>\n      <td>AFO001U</td>\n      <td>30010.0</td>\n      <td>50700.0</td>\n      <td>3G</td>\n      <td>60.0</td>\n      <td>65.0</td>\n      <td>7.0</td>\n      <td>2.0</td>\n      <td>U2100-F1</td>\n    </tr>\n    <tr>\n      <th>4</th>\n      <td>AFO001</td>\n      <td>32.20720</td>\n      <td>-6.54033</td>\n      <td>Afourar</td>\n      <td>Afourar</td>\n      <td>Azilal</td>\n      <td>Béni Mellal-Khénifra</td>\n      <td>AFO001</td>\n      <td>V</td>\n      <td>AFO001V</td>\n      <td>30011.0</td>\n      <td>50700.0</td>\n      <td>3G</td>\n      <td>180.0</td>\n      <td>65.0</td>\n      <td>7.0</td>\n      <td>2.0</td>\n      <td>U2100-F1</td>\n    </tr>\n    <tr>\n      <th>...</th>\n      <td>...</td>\n      <td>...</td>\n      <td>...</td>\n      <td>...</td>\n      <td>...</td>\n      <td>...</td>\n      <td>...</td>\n      <td>...</td>\n      <td>...</td>\n      <td>...</td>\n      <td>...</td>\n      <td>...</td>\n      <td>...</td>\n      <td>...</td>\n      <td>...</td>\n      <td>...</td>\n      <td>...</td>\n      <td>...</td>\n    </tr>\n    <tr>\n      <th>89750</th>\n      <td>ZAI126</td>\n      <td>34.94875</td>\n      <td>-2.74344</td>\n      <td>NaN</td>\n      <td>NaN</td>\n      <td>NaN</td>\n      <td>NaN</td>\n      <td>ZAI126</td>\n      <td>NaN</td>\n      <td>ZAI126_L2</td>\n      <td>25632258.0</td>\n      <td>NaN</td>\n      <td>NaN</td>\n      <td>120.0</td>\n      <td>NaN</td>\n      <td>NaN</td>\n      <td>NaN</td>\n      <td>L1800</td>\n    </tr>\n    <tr>\n      <th>89751</th>\n      <td>ZAI126</td>\n      <td>34.94875</td>\n      <td>-2.74344</td>\n      <td>NaN</td>\n      <td>NaN</td>\n      <td>NaN</td>\n      <td>NaN</td>\n      <td>ZAI126</td>\n      <td>NaN</td>\n      <td>ZAI126_L3</td>\n      <td>25632259.0</td>\n      <td>NaN</td>\n      <td>NaN</td>\n      <td>200.0</td>\n      <td>NaN</td>\n      <td>NaN</td>\n      <td>NaN</td>\n      <td>L1800</td>\n    </tr>\n    <tr>\n      <th>89752</th>\n      <td>ZAI126</td>\n      <td>34.94875</td>\n      <td>-2.74344</td>\n      <td>NaN</td>\n      <td>NaN</td>\n      <td>NaN</td>\n      <td>NaN</td>\n      <td>ZAI126</td>\n      <td>NaN</td>\n      <td>ZAI126_L7</td>\n      <td>25632263.0</td>\n      <td>NaN</td>\n      <td>NaN</td>\n      <td>60.0</td>\n      <td>NaN</td>\n      <td>NaN</td>\n      <td>NaN</td>\n      <td>L800</td>\n    </tr>\n    <tr>\n      <th>89753</th>\n      <td>ZAI126</td>\n      <td>34.94875</td>\n      <td>-2.74344</td>\n      <td>NaN</td>\n      <td>NaN</td>\n      <td>NaN</td>\n      <td>NaN</td>\n      <td>ZAI126</td>\n      <td>NaN</td>\n      <td>ZAI126_L8</td>\n      <td>25632264.0</td>\n      <td>NaN</td>\n      <td>NaN</td>\n      <td>120.0</td>\n      <td>NaN</td>\n      <td>NaN</td>\n      <td>NaN</td>\n      <td>L800</td>\n    </tr>\n    <tr>\n      <th>89754</th>\n      <td>ZAI126</td>\n      <td>34.94875</td>\n      <td>-2.74344</td>\n      <td>NaN</td>\n      <td>NaN</td>\n      <td>NaN</td>\n      <td>NaN</td>\n      <td>ZAI126</td>\n      <td>NaN</td>\n      <td>ZAI126_L9</td>\n      <td>25632265.0</td>\n      <td>NaN</td>\n      <td>NaN</td>\n      <td>200.0</td>\n      <td>NaN</td>\n      <td>NaN</td>\n      <td>NaN</td>\n      <td>L800</td>\n    </tr>\n  </tbody>\n</table>\n<p>89755 rows × 18 columns</p>\n</div>"
     },
     "execution_count": 15,
     "metadata": {},
     "output_type": "execute_result"
    }
   ],
   "source": [
    "df = pd.read_csv('data/OMA/TDD/02_intermediate/processed_oss_tdd.csv', sep='|')\n",
    "sites = pd.read_csv('data/OMA/TDD/01_raw/df_sites.csv', sep='|')\n",
    "sites"
   ],
   "metadata": {
    "collapsed": false,
    "ExecuteTime": {
     "end_time": "2024-05-30T09:10:15.410390700Z",
     "start_time": "2024-05-30T09:10:14.387398700Z"
    }
   },
   "id": "47911f9af2d22ff7"
  },
  {
   "cell_type": "code",
   "execution_count": 25,
   "outputs": [
    {
     "name": "stdout",
     "output_type": "stream",
     "text": [
      "<class 'pandas.core.frame.DataFrame'>\n"
     ]
    },
    {
     "data": {
      "text/plain": "        site_id\n0         CA043\n52       MEK642\n154      MOH600\n262      MEK064\n365     CAS1002\n...         ...\n624908  AGA1095\n625595   AGA072\n626779  AGA1153\n626841  MAR1072\n627675  AGA1125\n\n[885 rows x 1 columns]",
      "text/html": "<div>\n<style scoped>\n    .dataframe tbody tr th:only-of-type {\n        vertical-align: middle;\n    }\n\n    .dataframe tbody tr th {\n        vertical-align: top;\n    }\n\n    .dataframe thead th {\n        text-align: right;\n    }\n</style>\n<table border=\"1\" class=\"dataframe\">\n  <thead>\n    <tr style=\"text-align: right;\">\n      <th></th>\n      <th>site_id</th>\n    </tr>\n  </thead>\n  <tbody>\n    <tr>\n      <th>0</th>\n      <td>CA043</td>\n    </tr>\n    <tr>\n      <th>52</th>\n      <td>MEK642</td>\n    </tr>\n    <tr>\n      <th>154</th>\n      <td>MOH600</td>\n    </tr>\n    <tr>\n      <th>262</th>\n      <td>MEK064</td>\n    </tr>\n    <tr>\n      <th>365</th>\n      <td>CAS1002</td>\n    </tr>\n    <tr>\n      <th>...</th>\n      <td>...</td>\n    </tr>\n    <tr>\n      <th>624908</th>\n      <td>AGA1095</td>\n    </tr>\n    <tr>\n      <th>625595</th>\n      <td>AGA072</td>\n    </tr>\n    <tr>\n      <th>626779</th>\n      <td>AGA1153</td>\n    </tr>\n    <tr>\n      <th>626841</th>\n      <td>MAR1072</td>\n    </tr>\n    <tr>\n      <th>627675</th>\n      <td>AGA1125</td>\n    </tr>\n  </tbody>\n</table>\n<p>885 rows × 1 columns</p>\n</div>"
     },
     "execution_count": 25,
     "metadata": {},
     "output_type": "execute_result"
    }
   ],
   "source": [
    "site_localisation = df['site_id']\n",
    "site_localisation = site_localisation.drop_duplicates()\n",
    "site_localisation = site_localisation.to_frame()\n",
    "print(type(site_localisation))\n",
    "site_localisation"
   ],
   "metadata": {
    "collapsed": false,
    "ExecuteTime": {
     "end_time": "2024-05-30T09:11:51.698999800Z",
     "start_time": "2024-05-30T09:11:51.661223300Z"
    }
   },
   "id": "982c47d06cac582c"
  },
  {
   "cell_type": "code",
   "execution_count": 26,
   "outputs": [],
   "source": [
    "site_localisation = site_localisation.merge(sites[['site_id','latitude','longitude']], on='site_id', how='inner')"
   ],
   "metadata": {
    "collapsed": false,
    "ExecuteTime": {
     "end_time": "2024-05-30T09:11:54.776247400Z",
     "start_time": "2024-05-30T09:11:54.739645400Z"
    }
   },
   "id": "1f338a6064eb108d"
  },
  {
   "cell_type": "code",
   "execution_count": 28,
   "outputs": [
    {
     "data": {
      "text/plain": "       site_id   latitude  longitude\n0        CA043  33.568500  -7.627650\n27      MEK642  33.900525  -5.582839\n54      MOH600  33.716300  -7.343750\n81      MEK064  33.880600  -5.565680\n108    CAS1002  33.473900  -7.609900\n...        ...        ...        ...\n21420  AGA1095  30.399194  -9.550614\n21438   AGA072  30.350392  -9.534279\n21465  AGA1153  30.395978  -9.549614\n21480  MAR1072  31.624778  -8.058861\n21504  AGA1125  30.376528  -9.495694\n\n[885 rows x 3 columns]",
      "text/html": "<div>\n<style scoped>\n    .dataframe tbody tr th:only-of-type {\n        vertical-align: middle;\n    }\n\n    .dataframe tbody tr th {\n        vertical-align: top;\n    }\n\n    .dataframe thead th {\n        text-align: right;\n    }\n</style>\n<table border=\"1\" class=\"dataframe\">\n  <thead>\n    <tr style=\"text-align: right;\">\n      <th></th>\n      <th>site_id</th>\n      <th>latitude</th>\n      <th>longitude</th>\n    </tr>\n  </thead>\n  <tbody>\n    <tr>\n      <th>0</th>\n      <td>CA043</td>\n      <td>33.568500</td>\n      <td>-7.627650</td>\n    </tr>\n    <tr>\n      <th>27</th>\n      <td>MEK642</td>\n      <td>33.900525</td>\n      <td>-5.582839</td>\n    </tr>\n    <tr>\n      <th>54</th>\n      <td>MOH600</td>\n      <td>33.716300</td>\n      <td>-7.343750</td>\n    </tr>\n    <tr>\n      <th>81</th>\n      <td>MEK064</td>\n      <td>33.880600</td>\n      <td>-5.565680</td>\n    </tr>\n    <tr>\n      <th>108</th>\n      <td>CAS1002</td>\n      <td>33.473900</td>\n      <td>-7.609900</td>\n    </tr>\n    <tr>\n      <th>...</th>\n      <td>...</td>\n      <td>...</td>\n      <td>...</td>\n    </tr>\n    <tr>\n      <th>21420</th>\n      <td>AGA1095</td>\n      <td>30.399194</td>\n      <td>-9.550614</td>\n    </tr>\n    <tr>\n      <th>21438</th>\n      <td>AGA072</td>\n      <td>30.350392</td>\n      <td>-9.534279</td>\n    </tr>\n    <tr>\n      <th>21465</th>\n      <td>AGA1153</td>\n      <td>30.395978</td>\n      <td>-9.549614</td>\n    </tr>\n    <tr>\n      <th>21480</th>\n      <td>MAR1072</td>\n      <td>31.624778</td>\n      <td>-8.058861</td>\n    </tr>\n    <tr>\n      <th>21504</th>\n      <td>AGA1125</td>\n      <td>30.376528</td>\n      <td>-9.495694</td>\n    </tr>\n  </tbody>\n</table>\n<p>885 rows × 3 columns</p>\n</div>"
     },
     "execution_count": 28,
     "metadata": {},
     "output_type": "execute_result"
    }
   ],
   "source": [
    "site_localisation = site_localisation.drop_duplicates()\n",
    "site_localisation"
   ],
   "metadata": {
    "collapsed": false,
    "ExecuteTime": {
     "end_time": "2024-05-30T09:12:11.346075400Z",
     "start_time": "2024-05-30T09:12:11.323848100Z"
    }
   },
   "id": "c30a7ae8d0acf68f"
  },
  {
   "cell_type": "code",
   "execution_count": 41,
   "outputs": [],
   "source": [
    "map_center = [site_localisation['latitude'].mean(), site_localisation['longitude'].mean()]\n",
    "mymap = folium.Map(location=map_center, zoom_start=2, control_scale=True)\n",
    "\n",
    "# 3. Ajouter des marqueurs pour chaque site sur la carte\n",
    "for idx, row in site_localisation.iterrows():\n",
    "    folium.Marker(\n",
    "        location=[row['latitude'], row['longitude']],\n",
    "        popup=row['site_id'],\n",
    "    ).add_to(mymap)\n",
    "    \n",
    "#mymap.add_child(folium.ScaleBar())\n",
    "\n",
    "# 4. Sauvegarder la carte dans un fichier HTML et l'afficher\n",
    "mymap.save(\"map.html\")"
   ],
   "metadata": {
    "collapsed": false,
    "ExecuteTime": {
     "end_time": "2024-05-30T09:45:06.448353600Z",
     "start_time": "2024-05-30T09:45:05.660573200Z"
    }
   },
   "id": "9eb64ca0532a1df7"
  },
  {
   "cell_type": "code",
   "execution_count": 32,
   "outputs": [],
   "source": [
    "\n",
    "def haversine(lat1, lon1, lat2, lon2):\n",
    "    # Convertir les coordonnées en radians\n",
    "    lat1, lon1, lat2, lon2 = map(radians, [lat1, lon1, lat2, lon2])\n",
    "    # Calculer les différences\n",
    "    dlat = lat2 - lat1\n",
    "    dlon = lon2 - lon1\n",
    "    # Calculer la formule haversine\n",
    "    a = sin(dlat / 2)**2 + cos(lat1) * cos(lat2) * sin(dlon / 2)**2\n",
    "    c = 2 * atan2(sqrt(a), sqrt(1 - a))\n",
    "    # Rayon de la Terre en kilomètres (environ 6371 km)\n",
    "    distance = 6371 * c\n",
    "    return distance"
   ],
   "metadata": {
    "collapsed": false,
    "ExecuteTime": {
     "end_time": "2024-05-30T09:19:32.397486Z",
     "start_time": "2024-05-30T09:19:32.392023700Z"
    }
   },
   "id": "435e312ab6fb5fb5"
  },
  {
   "cell_type": "code",
   "execution_count": 33,
   "outputs": [
    {
     "name": "stdout",
     "output_type": "stream",
     "text": [
      "La distance moyenne entre les sites est de 207.63 km\n"
     ]
    }
   ],
   "source": [
    "distances = []\n",
    "num_sites = len(site_localisation)\n",
    "for i in range(num_sites):\n",
    "    for j in range(i + 1, num_sites):\n",
    "        dist = haversine(site_localisation.iloc[i]['latitude'], site_localisation.iloc[i]['longitude'],\n",
    "                         site_localisation.iloc[j]['latitude'], site_localisation.iloc[j]['longitude'])\n",
    "        distances.append(dist)\n",
    "\n",
    "# 4. Calculer la distance moyenne\n",
    "average_distance = np.mean(distances)\n",
    "\n",
    "print(f\"La distance moyenne entre les sites est de {average_distance:.2f} km\")"
   ],
   "metadata": {
    "collapsed": false,
    "ExecuteTime": {
     "end_time": "2024-05-30T09:22:09.315522500Z",
     "start_time": "2024-05-30T09:19:59.700656600Z"
    }
   },
   "id": "e83060422b051e51"
  },
  {
   "cell_type": "code",
   "execution_count": null,
   "outputs": [],
   "source": [],
   "metadata": {
    "collapsed": false
   },
   "id": "8be3d23cf9446f38"
  }
 ],
 "metadata": {
  "kernelspec": {
   "display_name": "Python 3",
   "language": "python",
   "name": "python3"
  },
  "language_info": {
   "codemirror_mode": {
    "name": "ipython",
    "version": 2
   },
   "file_extension": ".py",
   "mimetype": "text/x-python",
   "name": "python",
   "nbconvert_exporter": "python",
   "pygments_lexer": "ipython2",
   "version": "2.7.6"
  }
 },
 "nbformat": 4,
 "nbformat_minor": 5
}
